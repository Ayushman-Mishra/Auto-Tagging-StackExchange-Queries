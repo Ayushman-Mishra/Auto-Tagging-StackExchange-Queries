{
  "nbformat": 4,
  "nbformat_minor": 0,
  "metadata": {
    "colab": {
      "name": "Auto_Tagging_RNN.ipynb",
      "provenance": [],
      "collapsed_sections": []
    },
    "kernelspec": {
      "name": "python3",
      "display_name": "Python 3"
    }
  },
  "cells": [
    {
      "cell_type": "code",
      "metadata": {
        "id": "axOx8jDnrXty",
        "colab_type": "code",
        "colab": {
          "base_uri": "https://localhost:8080/",
          "height": 122
        },
        "outputId": "4d852d63-2bab-46f2-e01e-108f80fc5cce"
      },
      "source": [
        "from google.colab import drive\n",
        "drive.mount('/content/drive')"
      ],
      "execution_count": 1,
      "outputs": [
        {
          "output_type": "stream",
          "text": [
            "Go to this URL in a browser: https://accounts.google.com/o/oauth2/auth?client_id=947318989803-6bn6qk8qdgf4n4g3pfee6491hc0brc4i.apps.googleusercontent.com&redirect_uri=urn%3aietf%3awg%3aoauth%3a2.0%3aoob&response_type=code&scope=email%20https%3a%2f%2fwww.googleapis.com%2fauth%2fdocs.test%20https%3a%2f%2fwww.googleapis.com%2fauth%2fdrive%20https%3a%2f%2fwww.googleapis.com%2fauth%2fdrive.photos.readonly%20https%3a%2f%2fwww.googleapis.com%2fauth%2fpeopleapi.readonly\n",
            "\n",
            "Enter your authorization code:\n",
            "··········\n",
            "Mounted at /content/drive\n"
          ],
          "name": "stdout"
        }
      ]
    },
    {
      "cell_type": "markdown",
      "metadata": {
        "id": "blGRibR3sIc3",
        "colab_type": "text"
      },
      "source": [
        "# Load Data and Import Libraries"
      ]
    },
    {
      "cell_type": "code",
      "metadata": {
        "id": "PoomKXkrsGzb",
        "colab_type": "code",
        "colab": {}
      },
      "source": [
        "import re\n",
        "import pandas as pd\n",
        "from bs4 import BeautifulSoup\n",
        "import matplotlib.pyplot as plt\n"
      ],
      "execution_count": 3,
      "outputs": []
    },
    {
      "cell_type": "code",
      "metadata": {
        "id": "Zy7WThV-sant",
        "colab_type": "code",
        "colab": {
          "base_uri": "https://localhost:8080/",
          "height": 51
        },
        "outputId": "a32f58b3-8b42-47fc-8f34-fd49c99a2b4b"
      },
      "source": [
        "!unzip /content/drive/My\\ Drive/Questions.zip\n"
      ],
      "execution_count": 5,
      "outputs": [
        {
          "output_type": "stream",
          "text": [
            "Archive:  /content/drive/My Drive/Questions.zip\n",
            "  inflating: Questions.csv           \n"
          ],
          "name": "stdout"
        }
      ]
    },
    {
      "cell_type": "code",
      "metadata": {
        "id": "34Iq5FsWtyTb",
        "colab_type": "code",
        "colab": {
          "base_uri": "https://localhost:8080/",
          "height": 51
        },
        "outputId": "dc7baf0c-1e33-4fb4-ed4b-2aae3971cf2b"
      },
      "source": [
        "!unzip /content/drive/My\\ Drive/Tags.zip"
      ],
      "execution_count": 6,
      "outputs": [
        {
          "output_type": "stream",
          "text": [
            "Archive:  /content/drive/My Drive/Tags.zip\n",
            "  inflating: Tags.csv                \n"
          ],
          "name": "stdout"
        }
      ]
    },
    {
      "cell_type": "code",
      "metadata": {
        "id": "wwcAbScBtJu3",
        "colab_type": "code",
        "colab": {}
      },
      "source": [
        "question_df = pd.read_csv('Questions.csv', encoding='latin-1')\n",
        "tags_df = pd.read_csv('Tags.csv')"
      ],
      "execution_count": 8,
      "outputs": []
    },
    {
      "cell_type": "code",
      "metadata": {
        "id": "jFq3G84ewFbB",
        "colab_type": "code",
        "colab": {}
      },
      "source": [
        "pd.set_option('display.max_colwidth',200)"
      ],
      "execution_count": 17,
      "outputs": []
    },
    {
      "cell_type": "code",
      "metadata": {
        "id": "wx2ZVs-5t-Sl",
        "colab_type": "code",
        "colab": {
          "base_uri": "https://localhost:8080/",
          "height": 663
        },
        "outputId": "73388cbc-819b-4008-d588-59333e69ba5f"
      },
      "source": [
        "\n",
        "question_df.head()"
      ],
      "execution_count": 13,
      "outputs": [
        {
          "output_type": "execute_result",
          "data": {
            "text/html": [
              "<div>\n",
              "<style scoped>\n",
              "    .dataframe tbody tr th:only-of-type {\n",
              "        vertical-align: middle;\n",
              "    }\n",
              "\n",
              "    .dataframe tbody tr th {\n",
              "        vertical-align: top;\n",
              "    }\n",
              "\n",
              "    .dataframe thead th {\n",
              "        text-align: right;\n",
              "    }\n",
              "</style>\n",
              "<table border=\"1\" class=\"dataframe\">\n",
              "  <thead>\n",
              "    <tr style=\"text-align: right;\">\n",
              "      <th></th>\n",
              "      <th>Id</th>\n",
              "      <th>OwnerUserId</th>\n",
              "      <th>CreationDate</th>\n",
              "      <th>Score</th>\n",
              "      <th>Title</th>\n",
              "      <th>Body</th>\n",
              "    </tr>\n",
              "  </thead>\n",
              "  <tbody>\n",
              "    <tr>\n",
              "      <th>0</th>\n",
              "      <td>6</td>\n",
              "      <td>5.0</td>\n",
              "      <td>2010-07-19T19:14:44Z</td>\n",
              "      <td>272</td>\n",
              "      <td>The Two Cultures: statistics vs. machine learning?</td>\n",
              "      <td>&lt;p&gt;Last year, I read a blog post from &lt;a href=\"http://anyall.org/\"&gt;Brendan O'Connor&lt;/a&gt; entitled &lt;a href=\"http://anyall.org/blog/2008/12/statistics-vs-machine-learning-fight/\"&gt;\"Statistics vs. Machine Learning, fight!\"&lt;/a&gt; that discussed some of the differences between the two fields.  &lt;a href=\"http://andrewgelman.com/2008/12/machine_learnin/\"&gt;Andrew Gelman responded favorably to this&lt;/a&gt;:&lt;/p&gt;\\n\\n&lt;p&gt;Simon Blomberg: &lt;/p&gt;\\n\\n&lt;blockquote&gt;\\n  &lt;p&gt;From R's fortunes\\n  package: To paraphrase provoca...</td>\n",
              "    </tr>\n",
              "    <tr>\n",
              "      <th>1</th>\n",
              "      <td>21</td>\n",
              "      <td>59.0</td>\n",
              "      <td>2010-07-19T19:24:36Z</td>\n",
              "      <td>4</td>\n",
              "      <td>Forecasting demographic census</td>\n",
              "      <td>&lt;p&gt;What are some of the ways to forecast demographic census with some validation and calibration techniques?&lt;/p&gt;\\n\\n&lt;p&gt;Some of the concerns:&lt;/p&gt;\\n\\n&lt;ul&gt;\\n&lt;li&gt;Census blocks vary in sizes as rural\\nareas are a lot larger than condensed\\nurban areas. Is there a need to account for the area size difference?&lt;/li&gt;\\n&lt;li&gt;if let's say I have census data\\ndating back to 4 - 5 census periods,\\nhow far can i forecast it into the\\nfuture?&lt;/li&gt;\\n&lt;li&gt;if some of the census zone change\\nlightly in boundaries...</td>\n",
              "    </tr>\n",
              "    <tr>\n",
              "      <th>2</th>\n",
              "      <td>22</td>\n",
              "      <td>66.0</td>\n",
              "      <td>2010-07-19T19:25:39Z</td>\n",
              "      <td>208</td>\n",
              "      <td>Bayesian and frequentist reasoning in plain English</td>\n",
              "      <td>&lt;p&gt;How would you describe in plain English the characteristics that distinguish Bayesian from Frequentist reasoning?&lt;/p&gt;\\n</td>\n",
              "    </tr>\n",
              "    <tr>\n",
              "      <th>3</th>\n",
              "      <td>31</td>\n",
              "      <td>13.0</td>\n",
              "      <td>2010-07-19T19:28:44Z</td>\n",
              "      <td>138</td>\n",
              "      <td>What is the meaning of p values and t values in statistical tests?</td>\n",
              "      <td>&lt;p&gt;After taking a statistics course and then trying to help fellow students, I noticed one subject that inspires much head-desk banging is interpreting the results of statistical hypothesis tests.  It seems that students easily learn how to perform the calculations required by a given test but get hung up on interpreting the results.  Many computerized tools report test results in terms of \"p values\" or \"t values\".&lt;/p&gt;\\n\\n&lt;p&gt;How would you explain the following points to college students taki...</td>\n",
              "    </tr>\n",
              "    <tr>\n",
              "      <th>4</th>\n",
              "      <td>36</td>\n",
              "      <td>8.0</td>\n",
              "      <td>2010-07-19T19:31:47Z</td>\n",
              "      <td>58</td>\n",
              "      <td>Examples for teaching: Correlation does not mean causation</td>\n",
              "      <td>&lt;p&gt;There is an old saying: \"Correlation does not mean causation\". When I teach, I tend to use the following standard examples to illustrate this point:&lt;/p&gt;\\n\\n&lt;ol&gt;\\n&lt;li&gt;number of storks and birth rate in Denmark;&lt;/li&gt;\\n&lt;li&gt;number of priests in America and alcoholism;&lt;/li&gt;\\n&lt;li&gt;in the start of the 20th century it was noted that there was a strong correlation between 'Number of radios' and 'Number of people in Insane Asylums'&lt;/li&gt;\\n&lt;li&gt;and my favorite: &lt;a href=\"http://en.wikipedia.org/wiki/Fil...</td>\n",
              "    </tr>\n",
              "  </tbody>\n",
              "</table>\n",
              "</div>"
            ],
            "text/plain": [
              "   Id  ...                                                                                                                                                                                                                                                                                                                                                                                                                                                                                                                 Body\n",
              "0   6  ...  <p>Last year, I read a blog post from <a href=\"http://anyall.org/\">Brendan O'Connor</a> entitled <a href=\"http://anyall.org/blog/2008/12/statistics-vs-machine-learning-fight/\">\"Statistics vs. Machine Learning, fight!\"</a> that discussed some of the differences between the two fields.  <a href=\"http://andrewgelman.com/2008/12/machine_learnin/\">Andrew Gelman responded favorably to this</a>:</p>\\n\\n<p>Simon Blomberg: </p>\\n\\n<blockquote>\\n  <p>From R's fortunes\\n  package: To paraphrase provoca...\n",
              "1  21  ...  <p>What are some of the ways to forecast demographic census with some validation and calibration techniques?</p>\\n\\n<p>Some of the concerns:</p>\\n\\n<ul>\\n<li>Census blocks vary in sizes as rural\\nareas are a lot larger than condensed\\nurban areas. Is there a need to account for the area size difference?</li>\\n<li>if let's say I have census data\\ndating back to 4 - 5 census periods,\\nhow far can i forecast it into the\\nfuture?</li>\\n<li>if some of the census zone change\\nlightly in boundaries...\n",
              "2  22  ...                                                                                                                                                                                                                                                                                                                                                                                           <p>How would you describe in plain English the characteristics that distinguish Bayesian from Frequentist reasoning?</p>\\n\n",
              "3  31  ...  <p>After taking a statistics course and then trying to help fellow students, I noticed one subject that inspires much head-desk banging is interpreting the results of statistical hypothesis tests.  It seems that students easily learn how to perform the calculations required by a given test but get hung up on interpreting the results.  Many computerized tools report test results in terms of \"p values\" or \"t values\".</p>\\n\\n<p>How would you explain the following points to college students taki...\n",
              "4  36  ...  <p>There is an old saying: \"Correlation does not mean causation\". When I teach, I tend to use the following standard examples to illustrate this point:</p>\\n\\n<ol>\\n<li>number of storks and birth rate in Denmark;</li>\\n<li>number of priests in America and alcoholism;</li>\\n<li>in the start of the 20th century it was noted that there was a strong correlation between 'Number of radios' and 'Number of people in Insane Asylums'</li>\\n<li>and my favorite: <a href=\"http://en.wikipedia.org/wiki/Fil...\n",
              "\n",
              "[5 rows x 6 columns]"
            ]
          },
          "metadata": {
            "tags": []
          },
          "execution_count": 13
        }
      ]
    },
    {
      "cell_type": "markdown",
      "metadata": {
        "id": "7HLuFt2Aud30",
        "colab_type": "text"
      },
      "source": [
        "# Text Cleaning"
      ]
    },
    {
      "cell_type": "code",
      "metadata": {
        "id": "mCnFTEQYuFI2",
        "colab_type": "code",
        "colab": {}
      },
      "source": [
        "def cleaner(text):\n",
        "  # take off html tags\n",
        "  text = BeautifulSoup(text).get_text()\n",
        "\n",
        "  # fetch alphanumeric characters\n",
        "  text = re.sub(\"[^a-zA-Z]\", \" \",text)\n",
        "\n",
        "  #convert text to lower case\n",
        "  text = text.lower()\n",
        "\n",
        "  #split text into tokens to remove whitespaces\n",
        "  tokens = text.split()\n",
        "\n",
        "  return \" \".join(tokens)"
      ],
      "execution_count": 14,
      "outputs": []
    },
    {
      "cell_type": "code",
      "metadata": {
        "id": "s1NpNre-vNA9",
        "colab_type": "code",
        "colab": {}
      },
      "source": [
        "question_df['cleaned_text'] = question_df['Body'].apply(cleaner)"
      ],
      "execution_count": 15,
      "outputs": []
    },
    {
      "cell_type": "code",
      "metadata": {
        "id": "T6cTHAJGv0EV",
        "colab_type": "code",
        "colab": {
          "base_uri": "https://localhost:8080/",
          "height": 612
        },
        "outputId": "c7d8cfab-363b-4c1b-cf8f-dc0661b09351"
      },
      "source": [
        "question_df.head()"
      ],
      "execution_count": 18,
      "outputs": [
        {
          "output_type": "execute_result",
          "data": {
            "text/html": [
              "<div>\n",
              "<style scoped>\n",
              "    .dataframe tbody tr th:only-of-type {\n",
              "        vertical-align: middle;\n",
              "    }\n",
              "\n",
              "    .dataframe tbody tr th {\n",
              "        vertical-align: top;\n",
              "    }\n",
              "\n",
              "    .dataframe thead th {\n",
              "        text-align: right;\n",
              "    }\n",
              "</style>\n",
              "<table border=\"1\" class=\"dataframe\">\n",
              "  <thead>\n",
              "    <tr style=\"text-align: right;\">\n",
              "      <th></th>\n",
              "      <th>Id</th>\n",
              "      <th>OwnerUserId</th>\n",
              "      <th>CreationDate</th>\n",
              "      <th>Score</th>\n",
              "      <th>Title</th>\n",
              "      <th>Body</th>\n",
              "      <th>cleaned_text</th>\n",
              "    </tr>\n",
              "  </thead>\n",
              "  <tbody>\n",
              "    <tr>\n",
              "      <th>0</th>\n",
              "      <td>6</td>\n",
              "      <td>5.0</td>\n",
              "      <td>2010-07-19T19:14:44Z</td>\n",
              "      <td>272</td>\n",
              "      <td>The Two Cultures: statistics vs. machine learning?</td>\n",
              "      <td>&lt;p&gt;Last year, I read a blog post from &lt;a href=\"http://anyall.org/\"&gt;Brendan O'Connor&lt;/a&gt; entitled &lt;a href=\"http://anyall.org/blog/2008/12/statistics-vs-machine-learning-fight/\"&gt;\"Statistics vs. Mach...</td>\n",
              "      <td>last year i read a blog post from brendan o connor entitled statistics vs machine learning fight that discussed some of the differences between the two fields andrew gelman responded favorably to ...</td>\n",
              "    </tr>\n",
              "    <tr>\n",
              "      <th>1</th>\n",
              "      <td>21</td>\n",
              "      <td>59.0</td>\n",
              "      <td>2010-07-19T19:24:36Z</td>\n",
              "      <td>4</td>\n",
              "      <td>Forecasting demographic census</td>\n",
              "      <td>&lt;p&gt;What are some of the ways to forecast demographic census with some validation and calibration techniques?&lt;/p&gt;\\n\\n&lt;p&gt;Some of the concerns:&lt;/p&gt;\\n\\n&lt;ul&gt;\\n&lt;li&gt;Census blocks vary in sizes as rural\\n...</td>\n",
              "      <td>what are some of the ways to forecast demographic census with some validation and calibration techniques some of the concerns census blocks vary in sizes as rural areas are a lot larger than conde...</td>\n",
              "    </tr>\n",
              "    <tr>\n",
              "      <th>2</th>\n",
              "      <td>22</td>\n",
              "      <td>66.0</td>\n",
              "      <td>2010-07-19T19:25:39Z</td>\n",
              "      <td>208</td>\n",
              "      <td>Bayesian and frequentist reasoning in plain English</td>\n",
              "      <td>&lt;p&gt;How would you describe in plain English the characteristics that distinguish Bayesian from Frequentist reasoning?&lt;/p&gt;\\n</td>\n",
              "      <td>how would you describe in plain english the characteristics that distinguish bayesian from frequentist reasoning</td>\n",
              "    </tr>\n",
              "    <tr>\n",
              "      <th>3</th>\n",
              "      <td>31</td>\n",
              "      <td>13.0</td>\n",
              "      <td>2010-07-19T19:28:44Z</td>\n",
              "      <td>138</td>\n",
              "      <td>What is the meaning of p values and t values in statistical tests?</td>\n",
              "      <td>&lt;p&gt;After taking a statistics course and then trying to help fellow students, I noticed one subject that inspires much head-desk banging is interpreting the results of statistical hypothesis tests....</td>\n",
              "      <td>after taking a statistics course and then trying to help fellow students i noticed one subject that inspires much head desk banging is interpreting the results of statistical hypothesis tests it s...</td>\n",
              "    </tr>\n",
              "    <tr>\n",
              "      <th>4</th>\n",
              "      <td>36</td>\n",
              "      <td>8.0</td>\n",
              "      <td>2010-07-19T19:31:47Z</td>\n",
              "      <td>58</td>\n",
              "      <td>Examples for teaching: Correlation does not mean causation</td>\n",
              "      <td>&lt;p&gt;There is an old saying: \"Correlation does not mean causation\". When I teach, I tend to use the following standard examples to illustrate this point:&lt;/p&gt;\\n\\n&lt;ol&gt;\\n&lt;li&gt;number of storks and birth ...</td>\n",
              "      <td>there is an old saying correlation does not mean causation when i teach i tend to use the following standard examples to illustrate this point number of storks and birth rate in denmark number of ...</td>\n",
              "    </tr>\n",
              "  </tbody>\n",
              "</table>\n",
              "</div>"
            ],
            "text/plain": [
              "   Id  ...                                                                                                                                                                                             cleaned_text\n",
              "0   6  ...  last year i read a blog post from brendan o connor entitled statistics vs machine learning fight that discussed some of the differences between the two fields andrew gelman responded favorably to ...\n",
              "1  21  ...  what are some of the ways to forecast demographic census with some validation and calibration techniques some of the concerns census blocks vary in sizes as rural areas are a lot larger than conde...\n",
              "2  22  ...                                                                                         how would you describe in plain english the characteristics that distinguish bayesian from frequentist reasoning\n",
              "3  31  ...  after taking a statistics course and then trying to help fellow students i noticed one subject that inspires much head desk banging is interpreting the results of statistical hypothesis tests it s...\n",
              "4  36  ...  there is an old saying correlation does not mean causation when i teach i tend to use the following standard examples to illustrate this point number of storks and birth rate in denmark number of ...\n",
              "\n",
              "[5 rows x 7 columns]"
            ]
          },
          "metadata": {
            "tags": []
          },
          "execution_count": 18
        }
      ]
    },
    {
      "cell_type": "markdown",
      "metadata": {
        "id": "gJSV9EV5wSof",
        "colab_type": "text"
      },
      "source": [
        "# Merge Tags with Questions"
      ]
    },
    {
      "cell_type": "code",
      "metadata": {
        "id": "Kt3mUrNbv9LZ",
        "colab_type": "code",
        "colab": {
          "base_uri": "https://localhost:8080/",
          "height": 204
        },
        "outputId": "eb60da1d-4ef5-49fb-db3b-cbe7136b10c1"
      },
      "source": [
        "tags_df.head()"
      ],
      "execution_count": 19,
      "outputs": [
        {
          "output_type": "execute_result",
          "data": {
            "text/html": [
              "<div>\n",
              "<style scoped>\n",
              "    .dataframe tbody tr th:only-of-type {\n",
              "        vertical-align: middle;\n",
              "    }\n",
              "\n",
              "    .dataframe tbody tr th {\n",
              "        vertical-align: top;\n",
              "    }\n",
              "\n",
              "    .dataframe thead th {\n",
              "        text-align: right;\n",
              "    }\n",
              "</style>\n",
              "<table border=\"1\" class=\"dataframe\">\n",
              "  <thead>\n",
              "    <tr style=\"text-align: right;\">\n",
              "      <th></th>\n",
              "      <th>Id</th>\n",
              "      <th>Tag</th>\n",
              "    </tr>\n",
              "  </thead>\n",
              "  <tbody>\n",
              "    <tr>\n",
              "      <th>0</th>\n",
              "      <td>1</td>\n",
              "      <td>bayesian</td>\n",
              "    </tr>\n",
              "    <tr>\n",
              "      <th>1</th>\n",
              "      <td>1</td>\n",
              "      <td>prior</td>\n",
              "    </tr>\n",
              "    <tr>\n",
              "      <th>2</th>\n",
              "      <td>1</td>\n",
              "      <td>elicitation</td>\n",
              "    </tr>\n",
              "    <tr>\n",
              "      <th>3</th>\n",
              "      <td>2</td>\n",
              "      <td>distributions</td>\n",
              "    </tr>\n",
              "    <tr>\n",
              "      <th>4</th>\n",
              "      <td>2</td>\n",
              "      <td>normality</td>\n",
              "    </tr>\n",
              "  </tbody>\n",
              "</table>\n",
              "</div>"
            ],
            "text/plain": [
              "   Id            Tag\n",
              "0   1       bayesian\n",
              "1   1          prior\n",
              "2   1    elicitation\n",
              "3   2  distributions\n",
              "4   2      normality"
            ]
          },
          "metadata": {
            "tags": []
          },
          "execution_count": 19
        }
      ]
    },
    {
      "cell_type": "code",
      "metadata": {
        "id": "bh854dmcwX6u",
        "colab_type": "code",
        "colab": {
          "base_uri": "https://localhost:8080/",
          "height": 34
        },
        "outputId": "e45b9137-1d54-4faf-b920-857f0455b349"
      },
      "source": [
        "#count of unique tags\n",
        "len(tags_df['Tag'].unique())"
      ],
      "execution_count": 21,
      "outputs": [
        {
          "output_type": "execute_result",
          "data": {
            "text/plain": [
              "1315"
            ]
          },
          "metadata": {
            "tags": []
          },
          "execution_count": 21
        }
      ]
    },
    {
      "cell_type": "code",
      "metadata": {
        "id": "_tWG2XpSwim-",
        "colab_type": "code",
        "colab": {
          "base_uri": "https://localhost:8080/",
          "height": 221
        },
        "outputId": "5ec70f7d-bed2-4c42-b3d7-e32b0eb14149"
      },
      "source": [
        "tags_df['Tag'].value_counts()"
      ],
      "execution_count": 22,
      "outputs": [
        {
          "output_type": "execute_result",
          "data": {
            "text/plain": [
              "r                       13236\n",
              "regression              10959\n",
              "machine-learning         6089\n",
              "time-series              5559\n",
              "probability              4217\n",
              "                        ...  \n",
              "bayesian-anova              1\n",
              "propensity                  1\n",
              "netflix-prize               1\n",
              "hierarchical-softmax        1\n",
              "gmm                         1\n",
              "Name: Tag, Length: 1315, dtype: int64"
            ]
          },
          "metadata": {
            "tags": []
          },
          "execution_count": 22
        }
      ]
    },
    {
      "cell_type": "code",
      "metadata": {
        "id": "p3gDhDykwy0N",
        "colab_type": "code",
        "colab": {}
      },
      "source": [
        "# remove \"-\" from the tags\n",
        "tags_df.Tag = tags_df['Tag'].apply(lambda x:re.sub(\"-\",\" \",x))"
      ],
      "execution_count": 23,
      "outputs": []
    },
    {
      "cell_type": "code",
      "metadata": {
        "id": "DHnR3elHxrsk",
        "colab_type": "code",
        "colab": {
          "base_uri": "https://localhost:8080/",
          "height": 51
        },
        "outputId": "aa242e32-3035-4e73-cd5e-8617ffb97b3d"
      },
      "source": [
        "tags_df['Tag'].values"
      ],
      "execution_count": 28,
      "outputs": [
        {
          "output_type": "execute_result",
          "data": {
            "text/plain": [
              "array(['bayesian', 'prior', 'elicitation', ..., 'normal distribution',\n",
              "       'estimation', 'median'], dtype=object)"
            ]
          },
          "metadata": {
            "tags": []
          },
          "execution_count": 28
        }
      ]
    },
    {
      "cell_type": "code",
      "metadata": {
        "id": "W68S--dWxIr9",
        "colab_type": "code",
        "colab": {}
      },
      "source": [
        "# group tags by Id wise\n",
        "tags_df = tags_df.groupby('Id').apply(lambda x:x['Tag'].values).reset_index(name='tags')"
      ],
      "execution_count": 32,
      "outputs": []
    },
    {
      "cell_type": "code",
      "metadata": {
        "id": "I-PBo3E9yH9n",
        "colab_type": "code",
        "colab": {
          "base_uri": "https://localhost:8080/",
          "height": 204
        },
        "outputId": "3992b616-9d26-4cad-b16d-25a09c1ed425"
      },
      "source": [
        "tags_df.head()"
      ],
      "execution_count": 33,
      "outputs": [
        {
          "output_type": "execute_result",
          "data": {
            "text/html": [
              "<div>\n",
              "<style scoped>\n",
              "    .dataframe tbody tr th:only-of-type {\n",
              "        vertical-align: middle;\n",
              "    }\n",
              "\n",
              "    .dataframe tbody tr th {\n",
              "        vertical-align: top;\n",
              "    }\n",
              "\n",
              "    .dataframe thead th {\n",
              "        text-align: right;\n",
              "    }\n",
              "</style>\n",
              "<table border=\"1\" class=\"dataframe\">\n",
              "  <thead>\n",
              "    <tr style=\"text-align: right;\">\n",
              "      <th></th>\n",
              "      <th>Id</th>\n",
              "      <th>tags</th>\n",
              "    </tr>\n",
              "  </thead>\n",
              "  <tbody>\n",
              "    <tr>\n",
              "      <th>0</th>\n",
              "      <td>1</td>\n",
              "      <td>[bayesian, prior, elicitation]</td>\n",
              "    </tr>\n",
              "    <tr>\n",
              "      <th>1</th>\n",
              "      <td>2</td>\n",
              "      <td>[distributions, normality]</td>\n",
              "    </tr>\n",
              "    <tr>\n",
              "      <th>2</th>\n",
              "      <td>3</td>\n",
              "      <td>[software, open source]</td>\n",
              "    </tr>\n",
              "    <tr>\n",
              "      <th>3</th>\n",
              "      <td>4</td>\n",
              "      <td>[distributions, statistical significance]</td>\n",
              "    </tr>\n",
              "    <tr>\n",
              "      <th>4</th>\n",
              "      <td>6</td>\n",
              "      <td>[machine learning]</td>\n",
              "    </tr>\n",
              "  </tbody>\n",
              "</table>\n",
              "</div>"
            ],
            "text/plain": [
              "   Id                                       tags\n",
              "0   1             [bayesian, prior, elicitation]\n",
              "1   2                 [distributions, normality]\n",
              "2   3                    [software, open source]\n",
              "3   4  [distributions, statistical significance]\n",
              "4   6                         [machine learning]"
            ]
          },
          "metadata": {
            "tags": []
          },
          "execution_count": 33
        }
      ]
    },
    {
      "cell_type": "code",
      "metadata": {
        "id": "krxHydwmzeR3",
        "colab_type": "code",
        "colab": {}
      },
      "source": [
        "df = pd.merge(question_df,tags_df,how='inner',on='Id')"
      ],
      "execution_count": 34,
      "outputs": []
    },
    {
      "cell_type": "code",
      "metadata": {
        "id": "tlmiPAjZ0Chu",
        "colab_type": "code",
        "colab": {
          "base_uri": "https://localhost:8080/",
          "height": 1000
        },
        "outputId": "ca3298af-5c62-48a2-fd46-aea3fdde3741"
      },
      "source": [
        "df.head()"
      ],
      "execution_count": 35,
      "outputs": [
        {
          "output_type": "execute_result",
          "data": {
            "text/html": [
              "<div>\n",
              "<style scoped>\n",
              "    .dataframe tbody tr th:only-of-type {\n",
              "        vertical-align: middle;\n",
              "    }\n",
              "\n",
              "    .dataframe tbody tr th {\n",
              "        vertical-align: top;\n",
              "    }\n",
              "\n",
              "    .dataframe thead th {\n",
              "        text-align: right;\n",
              "    }\n",
              "</style>\n",
              "<table border=\"1\" class=\"dataframe\">\n",
              "  <thead>\n",
              "    <tr style=\"text-align: right;\">\n",
              "      <th></th>\n",
              "      <th>Id</th>\n",
              "      <th>OwnerUserId</th>\n",
              "      <th>CreationDate</th>\n",
              "      <th>Score</th>\n",
              "      <th>Title</th>\n",
              "      <th>Body</th>\n",
              "      <th>cleaned_text</th>\n",
              "      <th>tags</th>\n",
              "    </tr>\n",
              "  </thead>\n",
              "  <tbody>\n",
              "    <tr>\n",
              "      <th>0</th>\n",
              "      <td>6</td>\n",
              "      <td>5.0</td>\n",
              "      <td>2010-07-19T19:14:44Z</td>\n",
              "      <td>272</td>\n",
              "      <td>The Two Cultures: statistics vs. machine learning?</td>\n",
              "      <td>&lt;p&gt;Last year, I read a blog post from &lt;a href=\"http://anyall.org/\"&gt;Brendan O'Connor&lt;/a&gt; entitled &lt;a href=\"http://anyall.org/blog/2008/12/statistics-vs-machine-learning-fight/\"&gt;\"Statistics vs. Mach...</td>\n",
              "      <td>last year i read a blog post from brendan o connor entitled statistics vs machine learning fight that discussed some of the differences between the two fields andrew gelman responded favorably to ...</td>\n",
              "      <td>[machine learning]</td>\n",
              "    </tr>\n",
              "    <tr>\n",
              "      <th>1</th>\n",
              "      <td>21</td>\n",
              "      <td>59.0</td>\n",
              "      <td>2010-07-19T19:24:36Z</td>\n",
              "      <td>4</td>\n",
              "      <td>Forecasting demographic census</td>\n",
              "      <td>&lt;p&gt;What are some of the ways to forecast demographic census with some validation and calibration techniques?&lt;/p&gt;\\n\\n&lt;p&gt;Some of the concerns:&lt;/p&gt;\\n\\n&lt;ul&gt;\\n&lt;li&gt;Census blocks vary in sizes as rural\\n...</td>\n",
              "      <td>what are some of the ways to forecast demographic census with some validation and calibration techniques some of the concerns census blocks vary in sizes as rural areas are a lot larger than conde...</td>\n",
              "      <td>[forecasting, population, census]</td>\n",
              "    </tr>\n",
              "    <tr>\n",
              "      <th>2</th>\n",
              "      <td>22</td>\n",
              "      <td>66.0</td>\n",
              "      <td>2010-07-19T19:25:39Z</td>\n",
              "      <td>208</td>\n",
              "      <td>Bayesian and frequentist reasoning in plain English</td>\n",
              "      <td>&lt;p&gt;How would you describe in plain English the characteristics that distinguish Bayesian from Frequentist reasoning?&lt;/p&gt;\\n</td>\n",
              "      <td>how would you describe in plain english the characteristics that distinguish bayesian from frequentist reasoning</td>\n",
              "      <td>[bayesian, frequentist]</td>\n",
              "    </tr>\n",
              "    <tr>\n",
              "      <th>3</th>\n",
              "      <td>31</td>\n",
              "      <td>13.0</td>\n",
              "      <td>2010-07-19T19:28:44Z</td>\n",
              "      <td>138</td>\n",
              "      <td>What is the meaning of p values and t values in statistical tests?</td>\n",
              "      <td>&lt;p&gt;After taking a statistics course and then trying to help fellow students, I noticed one subject that inspires much head-desk banging is interpreting the results of statistical hypothesis tests....</td>\n",
              "      <td>after taking a statistics course and then trying to help fellow students i noticed one subject that inspires much head desk banging is interpreting the results of statistical hypothesis tests it s...</td>\n",
              "      <td>[hypothesis testing, t test, p value, interpretation, intuition]</td>\n",
              "    </tr>\n",
              "    <tr>\n",
              "      <th>4</th>\n",
              "      <td>36</td>\n",
              "      <td>8.0</td>\n",
              "      <td>2010-07-19T19:31:47Z</td>\n",
              "      <td>58</td>\n",
              "      <td>Examples for teaching: Correlation does not mean causation</td>\n",
              "      <td>&lt;p&gt;There is an old saying: \"Correlation does not mean causation\". When I teach, I tend to use the following standard examples to illustrate this point:&lt;/p&gt;\\n\\n&lt;ol&gt;\\n&lt;li&gt;number of storks and birth ...</td>\n",
              "      <td>there is an old saying correlation does not mean causation when i teach i tend to use the following standard examples to illustrate this point number of storks and birth rate in denmark number of ...</td>\n",
              "      <td>[correlation, teaching]</td>\n",
              "    </tr>\n",
              "  </tbody>\n",
              "</table>\n",
              "</div>"
            ],
            "text/plain": [
              "   Id  ...                                                              tags\n",
              "0   6  ...                                                [machine learning]\n",
              "1  21  ...                                 [forecasting, population, census]\n",
              "2  22  ...                                           [bayesian, frequentist]\n",
              "3  31  ...  [hypothesis testing, t test, p value, interpretation, intuition]\n",
              "4  36  ...                                           [correlation, teaching]\n",
              "\n",
              "[5 rows x 8 columns]"
            ]
          },
          "metadata": {
            "tags": []
          },
          "execution_count": 35
        }
      ]
    },
    {
      "cell_type": "code",
      "metadata": {
        "id": "OdkOY3-J0IoQ",
        "colab_type": "code",
        "colab": {
          "base_uri": "https://localhost:8080/",
          "height": 459
        },
        "outputId": "6c1d35b6-36f1-4660-ff65-3fc749924670"
      },
      "source": [
        "df = df[['Id','Body','cleaned_text','tags']]\n",
        "df.head()"
      ],
      "execution_count": 36,
      "outputs": [
        {
          "output_type": "execute_result",
          "data": {
            "text/html": [
              "<div>\n",
              "<style scoped>\n",
              "    .dataframe tbody tr th:only-of-type {\n",
              "        vertical-align: middle;\n",
              "    }\n",
              "\n",
              "    .dataframe tbody tr th {\n",
              "        vertical-align: top;\n",
              "    }\n",
              "\n",
              "    .dataframe thead th {\n",
              "        text-align: right;\n",
              "    }\n",
              "</style>\n",
              "<table border=\"1\" class=\"dataframe\">\n",
              "  <thead>\n",
              "    <tr style=\"text-align: right;\">\n",
              "      <th></th>\n",
              "      <th>Id</th>\n",
              "      <th>Body</th>\n",
              "      <th>cleaned_text</th>\n",
              "      <th>tags</th>\n",
              "    </tr>\n",
              "  </thead>\n",
              "  <tbody>\n",
              "    <tr>\n",
              "      <th>0</th>\n",
              "      <td>6</td>\n",
              "      <td>&lt;p&gt;Last year, I read a blog post from &lt;a href=\"http://anyall.org/\"&gt;Brendan O'Connor&lt;/a&gt; entitled &lt;a href=\"http://anyall.org/blog/2008/12/statistics-vs-machine-learning-fight/\"&gt;\"Statistics vs. Mach...</td>\n",
              "      <td>last year i read a blog post from brendan o connor entitled statistics vs machine learning fight that discussed some of the differences between the two fields andrew gelman responded favorably to ...</td>\n",
              "      <td>[machine learning]</td>\n",
              "    </tr>\n",
              "    <tr>\n",
              "      <th>1</th>\n",
              "      <td>21</td>\n",
              "      <td>&lt;p&gt;What are some of the ways to forecast demographic census with some validation and calibration techniques?&lt;/p&gt;\\n\\n&lt;p&gt;Some of the concerns:&lt;/p&gt;\\n\\n&lt;ul&gt;\\n&lt;li&gt;Census blocks vary in sizes as rural\\n...</td>\n",
              "      <td>what are some of the ways to forecast demographic census with some validation and calibration techniques some of the concerns census blocks vary in sizes as rural areas are a lot larger than conde...</td>\n",
              "      <td>[forecasting, population, census]</td>\n",
              "    </tr>\n",
              "    <tr>\n",
              "      <th>2</th>\n",
              "      <td>22</td>\n",
              "      <td>&lt;p&gt;How would you describe in plain English the characteristics that distinguish Bayesian from Frequentist reasoning?&lt;/p&gt;\\n</td>\n",
              "      <td>how would you describe in plain english the characteristics that distinguish bayesian from frequentist reasoning</td>\n",
              "      <td>[bayesian, frequentist]</td>\n",
              "    </tr>\n",
              "    <tr>\n",
              "      <th>3</th>\n",
              "      <td>31</td>\n",
              "      <td>&lt;p&gt;After taking a statistics course and then trying to help fellow students, I noticed one subject that inspires much head-desk banging is interpreting the results of statistical hypothesis tests....</td>\n",
              "      <td>after taking a statistics course and then trying to help fellow students i noticed one subject that inspires much head desk banging is interpreting the results of statistical hypothesis tests it s...</td>\n",
              "      <td>[hypothesis testing, t test, p value, interpretation, intuition]</td>\n",
              "    </tr>\n",
              "    <tr>\n",
              "      <th>4</th>\n",
              "      <td>36</td>\n",
              "      <td>&lt;p&gt;There is an old saying: \"Correlation does not mean causation\". When I teach, I tend to use the following standard examples to illustrate this point:&lt;/p&gt;\\n\\n&lt;ol&gt;\\n&lt;li&gt;number of storks and birth ...</td>\n",
              "      <td>there is an old saying correlation does not mean causation when i teach i tend to use the following standard examples to illustrate this point number of storks and birth rate in denmark number of ...</td>\n",
              "      <td>[correlation, teaching]</td>\n",
              "    </tr>\n",
              "  </tbody>\n",
              "</table>\n",
              "</div>"
            ],
            "text/plain": [
              "   Id  ...                                                              tags\n",
              "0   6  ...                                                [machine learning]\n",
              "1  21  ...                                 [forecasting, population, census]\n",
              "2  22  ...                                           [bayesian, frequentist]\n",
              "3  31  ...  [hypothesis testing, t test, p value, interpretation, intuition]\n",
              "4  36  ...                                           [correlation, teaching]\n",
              "\n",
              "[5 rows x 4 columns]"
            ]
          },
          "metadata": {
            "tags": []
          },
          "execution_count": 36
        }
      ]
    },
    {
      "cell_type": "code",
      "metadata": {
        "id": "qZqdvL0I1Dqc",
        "colab_type": "code",
        "colab": {
          "base_uri": "https://localhost:8080/",
          "height": 34
        },
        "outputId": "d7f4ee8c-1046-4bd9-f0b7-8f6cf8182dd2"
      },
      "source": [
        "df.shape"
      ],
      "execution_count": 37,
      "outputs": [
        {
          "output_type": "execute_result",
          "data": {
            "text/plain": [
              "(85085, 4)"
            ]
          },
          "metadata": {
            "tags": []
          },
          "execution_count": 37
        }
      ]
    },
    {
      "cell_type": "markdown",
      "metadata": {
        "id": "KuLE3FYv1JJK",
        "colab_type": "text"
      },
      "source": [
        "# Dataset Preparation"
      ]
    },
    {
      "cell_type": "code",
      "metadata": {
        "id": "bQQVklvS1HJG",
        "colab_type": "code",
        "colab": {}
      },
      "source": [
        "freq = {}\n",
        "for i in df['tags']:\n",
        "  for j in i:\n",
        "    if j in freq.keys():\n",
        "      freq[j] = freq[j]+1\n",
        "    else:\n",
        "      freq[j] = 1\n"
      ],
      "execution_count": 51,
      "outputs": []
    },
    {
      "cell_type": "code",
      "metadata": {
        "id": "GCoJn8Uy1Zam",
        "colab_type": "code",
        "colab": {}
      },
      "source": [
        "# sort the dictionary in descending order\n",
        "freq = dict(sorted(freq.items(), key=lambda x:x[1],reverse=True))  "
      ],
      "execution_count": 52,
      "outputs": []
    },
    {
      "cell_type": "code",
      "metadata": {
        "id": "cidVQqsX_avX",
        "colab_type": "code",
        "colab": {
          "base_uri": "https://localhost:8080/",
          "height": 54
        },
        "outputId": "a890eee8-ac64-49b2-a9a7-c9c87f3b98a9"
      },
      "source": [
        "freq.items()"
      ],
      "execution_count": 53,
      "outputs": [
        {
          "output_type": "execute_result",
          "data": {
            "text/plain": [
              "dict_items([('r', 13236), ('regression', 10959), ('machine learning', 6089), ('time series', 5559), ('probability', 4217), ('hypothesis testing', 3869), ('self study', 3732), ('distributions', 3501), ('logistic', 3316), ('classification', 2881), ('correlation', 2871), ('statistical significance', 2666), ('bayesian', 2656), ('anova', 2505), ('normal distribution', 2181), ('multiple regression', 2054), ('mixed model', 1998), ('clustering', 1952), ('neural networks', 1897), ('mathematical statistics', 1888), ('confidence interval', 1776), ('categorical data', 1703), ('generalized linear model', 1614), ('variance', 1576), ('data visualization', 1549), ('estimation', 1533), ('forecasting', 1422), ('t test', 1418), ('pca', 1395), ('sampling', 1363), ('cross validation', 1344), ('repeated measures', 1335), ('spss', 1296), ('svm', 1283), ('chi squared', 1261), ('maximum likelihood', 1209), ('predictive models', 1189), ('multivariate analysis', 1116), ('survival', 1081), ('references', 1076), ('data transformation', 1057), ('modeling', 1055), ('p value', 1040), ('feature selection', 997), ('econometrics', 989), ('panel data', 966), ('python', 955), ('data mining', 950), ('interaction', 946), ('matlab', 941), ('linear model', 937), ('binomial', 935), ('random forest', 935), ('nonparametric', 922), ('arima', 917), ('least squares', 898), ('optimization', 898), ('model selection', 876), ('standard deviation', 866), ('poisson', 865), ('interpretation', 860), ('sample size', 847), ('mean', 842), ('stata', 842), ('dataset', 840), ('conditional probability', 837), ('prediction', 832), ('multiple comparisons', 825), ('bootstrap', 814), ('experiment design', 780), ('random variable', 745), ('autocorrelation', 678), ('simulation', 676), ('covariance', 666), ('multilevel analysis', 663), ('pdf', 654), ('missing data', 652), ('expected value', 645), ('regression coefficients', 643), ('factor analysis', 642), ('mcmc', 635), ('outliers', 629), ('standard error', 629), ('inference', 625), ('ordinal', 624), ('survey', 617), ('deep learning', 600), ('cart', 593), ('residuals', 582), ('binary data', 570), ('random effects model', 569), ('goodness of fit', 567), ('model', 567), ('terminology', 551), ('stochastic processes', 530), ('nonlinear regression', 514), ('cox model', 510), ('monte carlo', 504), ('proportion', 503), ('algorithms', 500), ('sas', 496), ('lasso', 490), ('normalization', 484), ('heteroscedasticity', 483), ('error', 481), ('independence', 480), ('meta analysis', 480), ('multinomial', 480), ('k means', 465), ('lmer', 463), ('sample', 450), ('markov process', 445), ('scikit learn', 440), ('multicollinearity', 438), ('text mining', 432), ('aic', 431), ('descriptive statistics', 430), ('spatial', 429), ('assumptions', 418), ('matrix', 413), ('likelihood', 407), ('dimensionality reduction', 407), ('sem', 405), ('bias', 396), ('fixed effects model', 391), ('effect size', 375), ('logit', 374), ('r squared', 372), ('normality', 371), ('lme4', 371), ('convergence', 370), ('likert', 366), ('power analysis', 365), ('glmm', 359), ('negative binomial', 358), ('roc', 358), ('fitting', 357), ('computational statistics', 348), ('count data', 347), ('random generation', 345), ('prior', 340), ('summary statistics', 338), ('ranking', 338), ('stationarity', 337), ('natural language', 335), ('covariance matrix', 332), ('skewness', 325), ('kernel trick', 321), ('gamma distribution', 319), ('naive bayes', 318), ('continuous data', 317), ('regularization', 317), ('hidden markov model', 314), ('reliability', 314), ('power', 312), ('gaussian process', 310), ('group differences', 309), ('autoregressive', 307), ('biostatistics', 306), ('distance', 304), ('garch', 302), ('ancova', 300), ('causality', 300), ('standardization', 300), ('validation', 296), ('small sample', 295), ('exponential', 295), ('quantiles', 293), ('posterior', 291), ('var', 289), ('curve fitting', 288), ('post hoc', 284), ('kernel smoothing', 284), ('robust', 282), ('average', 277), ('gradient descent', 277), ('odds ratio', 275), ('lognormal', 275), ('median', 273), ('bayes', 273), ('seasonality', 270), ('expectation maximization', 270), ('uniform', 268), ('cointegration', 268), ('large data', 266), ('kolmogorov smirnov', 266), ('wilcoxon', 266), ('discrete data', 266), ('conv neural network', 264), ('gaussian mixture', 261), ('histogram', 260), ('non independent', 259), ('entropy', 259), ('pearson', 258), ('excel', 257), ('trend', 256), ('linear', 256), ('arma', 255), ('contingency tables', 253), ('joint distribution', 253), ('pattern recognition', 253), ('manova', 252), ('cdf', 250), ('scales', 248), ('unbalanced classes', 247), ('conditional expectation', 245), ('unbiased estimator', 245), ('mixture', 244), ('measurement error', 243), ('mann whitney u test', 242), ('boosting', 240), ('likelihood ratio', 238), ('data imputation', 238), ('hierarchical bayesian', 237), ('k nearest neighbour', 236), ('central limit theorem', 236), ('asymptotics', 236), ('discriminant analysis', 234), ('caret', 233), ('poisson regression', 233), ('unsupervised learning', 232), ('paired comparisons', 232), ('accuracy', 231), ('permutation', 231), ('graphical model', 231), ('psychometrics', 228), ('ridge regression', 228), ('instrumental variables', 227), ('image processing', 227), ('probit', 226), ('basic concepts', 226), ('similarities', 225), ('multiple imputation', 223), ('distance functions', 222), ('population', 219), ('overfitting', 217), ('predictor', 215), ('gibbs', 215), ('information theory', 212), ('recommender system', 206), ('feature construction', 206), ('estimators', 205), ('degrees of freedom', 205), ('glmnet', 202), ('jags', 201), ('finance', 200), ('gam', 199), ('epidemiology', 198), ('beta distribution', 198), ('proof', 198), ('moments', 198), ('notation', 196), ('linear algebra', 193), ('model comparison', 193), ('bayesian network', 192), ('nonlinear', 191), ('smoothing', 191), ('supervised learning', 191), ('approximation', 187), ('prediction interval', 185), ('cross correlation', 185), ('lme', 183), ('nested', 183), ('svd', 182), ('kalman filter', 180), ('fishers exact', 180), ('bernoulli distribution', 179), ('precision recall', 178), ('libsvm', 177), ('gee', 177), ('measurement', 177), ('latent variable', 177), ('loss functions', 176), ('contrasts', 176), ('zero inflation', 174), ('frequency', 174), ('splines', 173), ('logarithm', 172), ('t distribution', 172), ('auc', 172), ('censoring', 172), ('unit root', 172), ('resampling', 171), ('kruskal wallis', 170), ('intuition', 168), ('uncertainty', 165), ('order statistics', 165), ('hazard', 162), ('regression strategies', 162), ('mediation', 162), ('f test', 162), ('weka', 162), ('graph theory', 160), ('ensemble', 159), ('confirmatory factor', 157), ('definition', 156), ('glmer', 156), ('parametric', 155), ('copula', 155), ('combinatorics', 155), ('polynomial', 154), ('lm', 153), ('performance', 153), ('marginal', 153), ('software', 151), ('signal processing', 151), ('mutual information', 150), ('weighted regression', 150), ('propensity scores', 148), ('bonferroni', 148), ('multi class', 148), ('matching', 147), ('reinforcement learning', 145), ('diagnostic', 145), ('frequentist', 144), ('non stationary', 144), ('methodology', 142), ('genetics', 141), ('pymc', 141), ('dirichlet distribution', 140), ('bic', 139), ('stepwise regression', 139), ('metropolis hastings', 138), ('gbm', 138), ('analysis', 138), ('theory', 137), ('kullback leibler', 137), ('eigenvalues', 136), ('intraclass correlation', 135), ('inter rater', 134), ('paired data', 134), ('difference in difference', 133), ('metric', 132), ('hierarchical', 132), ('error propagation', 131), ('scatterplot', 131), ('multivariate regression', 131), ('interpolation', 130), ('quantile regression', 130), ('multidimensional scaling', 130), ('aggregation', 128), ('mse', 128), ('reporting', 128), ('hierarchical clustering', 128), ('weibull', 128), ('qq plot', 127), ('multivariate normal', 127), ('parameterization', 126), ('train', 126), ('change point', 125), ('irt', 124), ('matrix decomposition', 123), ('sparse', 123), ('topic models', 123), ('bioinformatics', 123), ('bivariate', 122), ('decision theory', 121), ('exponential smoothing', 121), ('lags', 120), ('backpropagation', 120), ('kurtosis', 120), ('poisson process', 119), ('state space models', 119), ('percentage', 119), ('randomization', 119), ('endogeneity', 118), ('ratio', 117), ('weighted mean', 116), ('z test', 116), ('eda', 116), ('spearman', 116), ('exponential family', 115), ('confidence', 115), ('nlme', 114), ('statistical learning', 114), ('probability inequalities', 114), ('false discovery rate', 113), ('networks', 112), ('convolution', 112), ('markov chain', 111), ('extreme value', 111), ('clinical trials', 110), ('autoencoders', 110), ('generalized least squares', 110), ('pls', 109), ('ecology', 109), ('boxplot', 109), ('hyperparameter', 109), ('sums of squares', 109), ('stratification', 109), ('learning', 108), ('teaching', 107), ('ab test', 107), ('conjugate prior', 106), ('sufficient statistics', 106), ('confounding', 106), ('consistency', 106), ('treatment effect', 105), ('ggplot2', 105), ('covariate', 104), ('bugs', 102), ('computer vision', 102), ('online', 100), ('coefficient', 99), ('randomness', 99), ('games', 98), ('granger causality', 98), ('weighted sampling', 98), ('kaplan meier', 97), ('high dimensional', 97), ('elastic net', 97), ('threshold', 96), ('sample mean', 94), ('lstm', 94), ('augmented dickey fuller', 94), ('fisher information', 94), ('rms', 93), ('pooling', 92), ('time varying covariate', 92), ('rpart', 92), ('spearman rho', 92), ('vecm', 92), ('hypergeometric', 92), ('moving average', 92), ('bounds', 92), ('maximum', 91), ('scores', 91), ('fourier transform', 90), ('integral', 90), ('overdispersion', 90), ('scipy', 90), ('type i errors', 90), ('power law', 89), ('residual analysis', 89), ('mathematics', 88), ('deviance', 88), ('binning', 88), ('interval', 87), ('psychology', 87), ('tukey hsd', 87), ('calibration', 87), ('rank correlation', 87), ('nominal', 86), ('intercept', 86), ('model evaluation', 86), ('information retrieval', 85), ('cross section', 85), ('partial correlation', 84), ('dice', 84), ('lme4 nlme', 84), ('z score', 84), ('genetic algorithms', 82), ('truncation', 81), ('partitioning', 81), ('weighted data', 81), ('quality control', 81), ('kappa', 81), ('importance', 80), ('log linear', 79), ('empirical', 79), ('function', 79), ('parameter optimization', 78), ('data preprocessing', 78), ('generalized moments', 77), ('association rules', 77), ('rnn', 77), ('social network', 77), ('sensitivity', 76), ('point estimation', 76), ('bagging', 76), ('matrix inverse', 76), ('java', 75), ('cohens d', 75), ('spectral analysis', 75), ('risk', 75), ('odds', 75), ('out of sample', 74), ('history', 74), ('association measure', 74), ('quadratic form', 74), ('random walk', 74), ('sequence analysis', 74), ('rbm', 74), ('filter', 74), ('centering', 73), ('control', 73), ('clustered standard errors', 73), ('link function', 73), ('maximum entropy', 73), ('deep belief networks', 72), ('artificial intelligence', 72), ('dirichlet process', 72), ('rare events', 72), ('validity', 71), ('mode', 71), ('confusion matrix', 71), ('meta regression', 71), ('pareto distribution', 70), ('winbugs', 70), ('observational study', 70), ('point process', 70), ('method comparison', 69), ('cluster sample', 68), ('circular statistics', 68), ('case control study', 68), ('segmentation', 68), ('shrinkage', 68), ('sequential analysis', 67), ('mcnemar test', 67), ('scoring', 67), ('kendall tau', 67), ('intervention analysis', 67), ('2sls', 66), ('fisher', 65), ('tobit regression', 65), ('loess', 65), ('volatility forecasting', 64), ('mgcv', 64), ('ranks', 64), ('beta binomial', 63), ('dynamic regression', 63), ('inferential statistics', 63), ('stan', 63), ('mice', 62), ('delta method', 62), ('rating', 62), ('iid', 61), ('moderation', 61), ('correspondence analysis', 61), ('anomaly detection', 61), ('method of moments', 61), ('equivalence', 61), ('relative risk', 61), ('hausman', 60), ('euclidean', 60), ('marketing', 60), ('noise', 60), ('minimum', 60), ('efficiency', 60), ('ordered logit', 60), ('numerical integration', 60), ('beta regression', 59), ('identifiability', 59), ('structural change', 59), ('geostatistics', 58), ('vif', 58), ('signal detection', 58), ('derivative', 58), ('traminer', 57), ('variational bayes', 57), ('tensorflow', 57), ('growth model', 57), ('coefficient of variation', 57), ('subset', 56), ('canonical correlation', 56), ('offset', 56), ('latent class', 56), ('spatio temporal', 55), ('multilabel', 55), ('adjustment', 55), ('cronbachs alpha', 55), ('white noise', 54), ('queueing', 54), ('credible interval', 54), ('composite', 53), ('philosophical', 53), ('statsmodels', 52), ('perceptron', 52), ('variogram', 52), ('statistical', 51), ('importance sampling', 51), ('variability', 51), ('mgf', 51), ('nls', 50), ('penalized', 50), ('numerics', 50), ('self organizing maps', 50), ('weights', 50), ('word2vec', 50), ('lsa', 49), ('finite population', 49), ('particle filter', 49), ('amos', 49), ('nonparametric bayes', 49), ('sensitivity analysis', 48), ('specificity', 48), ('education', 48), ('wishart', 48), ('levenes test', 48), ('gradient', 48), ('geometric distribution', 47), ('eviews', 47), ('lsmeans', 47), ('fuzzy', 47), ('density estimation', 46), ('minitab', 46), ('type ii errors', 46), ('robust standard error', 46), ('agreement statistics', 46), ('path model', 46), ('multivariable', 45), ('combining p values', 45), ('model based clustering', 45), ('programming', 45), ('arithmetic', 45), ('word embeddings', 44), ('geometry', 44), ('replication', 44), ('split plot', 44), ('gini', 44), ('microarray', 44), ('blocking', 44), ('rejection sampling', 43), ('macroeconomics', 43), ('constrained regression', 43), ('log likelihood', 43), ('multiarmed bandit', 42), ('code', 42), ('change scores', 42), ('imbalanced', 42), ('brownian', 42), ('clogit', 42), ('conjoint analysis', 42), ('univariate', 42), ('mixed design', 42), ('arch', 41), ('lavaan', 41), ('application', 41), ('jmp', 41), ('conditioning', 41), ('communication', 40), ('z statistic', 40), ('barplot', 40), ('semi supervised', 40), ('measure theory', 40), ('summations', 40), ('data cleaning', 40), ('tables', 39), ('impulse response', 39), ('demography', 39), ('generative models', 39), ('f distribution', 39), ('functional data analysis', 38), ('dlm', 38), ('sentiment analysis', 38), ('curves', 38), ('reproducible research', 38), ('c++', 38), ('back transformation', 38), ('logrank', 37), ('fat tails', 37), ('survey weights', 37), ('umvue', 37), ('mlogit', 37), ('package', 37), ('friedman test', 37), ('plm', 37), ('wavelet', 37), ('fractional factorial', 37), ('uninformative prior', 35), ('cauchy', 35), ('law of large numbers', 35), ('kriging', 35), ('marginal effect', 35), ('signed rank test', 34), ('lars', 34), ('bias correction', 34), ('mathematica', 34), ('formula', 34), ('ica', 34), ('valuation', 33), ('discontinuity', 33), ('projection', 33), ('multiple seasonalities', 33), ('hauck donner effect', 33), ('cosine similarity', 33), ('rotation', 33), ('census', 32), ('heterogeneity', 32), ('dendrogram', 32), ('biplot', 32), ('cholesky', 32), ('radial basis', 32), ('interval censoring', 32), ('error message', 31), ('careers', 31), ('crossover study', 31), ('numpy', 31), ('softmax', 31), ('rule of thumb', 31), ('real time', 31), ('f statistic', 31), ('mplus', 31), ('two way', 31), ('factor rotation', 31), ('anderson darling', 31), ('ecdf', 31), ('web', 31), ('parallel computing', 30), ('piecewise linear', 30), ('igraph', 30), ('oversampling', 30), ('range', 30), ('adaboost', 30), ('dataframe', 30), ('test for trend', 30), ('random matrix', 30), ('dispersion', 30), ('inverse gamma', 29), ('laplace distribution', 29), ('jaccard similarity', 29), ('e1071', 29), ('effects', 29), ('computing', 29), ('business intelligence', 29), ('incidence rate ratio', 29), ('bayes factors', 29), ('heavy tailed', 29), ('errors in variables', 29), ('heckman', 28), ('neyman pearson lemma', 28), ('transition matrix', 28), ('quasi likelihood', 28), ('discriminant', 28), ('model averaging', 28), ('frailty', 28), ('sphericity', 28), ('chemometrics', 28), ('statistical control', 28), ('constraint', 28), ('scale invariance', 28), ('stacking', 27), ('optimal scaling', 27), ('vc dimension', 27), ('social science', 27), ('k medoids', 27), ('moving window', 27), ('indicator variables', 27), ('tolerance interval', 26), ('poisson binomial', 26), ('conditional random field', 26), ('non response', 26), ('correlated predictors', 26), ('nnet', 26), ('apriori', 26), ('spark mllib', 26), ('tbats', 26), ('chow test', 26), ('segmented regression', 26), ('coding', 25), ('total least squares', 25), ('profile likelihood', 25), ('theano', 25), ('interaction variable', 25), ('control chart', 25), ('truncated normal', 25), ('mad', 25), ('cosine distance', 25), ('information', 24), ('big data', 24), ('partial', 24), ('concordance', 24), ('jackknife', 24), ('dropout', 24), ('rapidminer', 24), ('units', 24), ('churn', 24), ('qualitative', 24), ('survey sampling', 24), ('precision', 24), ('trimmed mean', 24), ('time complexity', 23), ('correlation matrix', 23), ('probabilistic programming', 23), ('ecm', 23), ('repeatability', 23), ('leverage', 23), ('subsampling', 23), ('funnel plot', 23), ('convex', 23), ('dunn test', 23), ('jeffreys prior', 23), ('kde', 23), ('sql', 23), ('gumbel', 23), ('characteristic function', 23), ('age', 23), ('representative', 23), ('bimodal', 22), ('skew normal', 22), ('compositional data', 22), ('presentation', 22), ('neuroscience', 22), ('pandas', 22), ('interactive visualization', 22), ('neweywest', 22), ('integration', 22), ('causalimpact', 21), ('finite mixture model', 21), ('non central', 21), ('synthetic data', 21), ('paradox', 21), ('ergodic', 21), ('zero inflated', 21), ('capture mark recapture', 21), ('events', 21), ('sequential pattern mining', 21), ('two step estimation', 21), ('choice', 21), ('geometric mean', 21), ('neuroimaging', 21), ('martingale', 20), ('symmetry', 20), ('c#', 20), ('deming regression', 20), ('optimal stopping', 20), ('publication bias', 20), ('familywise error', 20), ('simpsons paradox', 20), ('interarrival time', 20), ('multivariate distribution', 20), ('taylor series', 20), ('hotelling', 20), ('failure', 20), ('average precision', 20), ('cost maximization', 20), ('determinant', 20), ('project management', 20), ('mancova', 20), ('polling', 19), ('nonparametric regression', 19), ('language models', 19), ('matplotlib', 19), ('compression', 19), ('coverage probability', 19), ('abc', 19), ('competing risks', 19), ('singular', 19), ('bernoulli process', 19), ('fraud', 19), ('box jenkins', 19), ('nnmf', 19), ('decomposition', 19), ('xgboost', 19), ('standard', 19), ('cross entropy', 19), ('elasticity', 19), ('database', 18), ('operations research', 18), ('variance decomposition', 18), ('phylogeny', 18), ('scoring rules', 18), ('hessian', 18), ('differences', 18), ('tsne', 18), ('zipf', 18), ('pivot', 17), ('non nested', 17), ('data association', 17), ('cfa', 17), ('directional statistics', 17), ('overlapping data', 17), ('steins phenomenon', 17), ('recurrent events', 17), ('sign test', 17), ('heatmap', 17), ('planned comparisons test', 17), ('fisher transform', 17), ('academia', 17), ('dbscan', 17), ('tost', 17), ('proportional hazards', 16), ('underdispersion', 16), ('open bugs', 16), ('manifold learning', 16), ('fuzzy set', 16), ('one class', 16), ('linearity', 16), ('coupon collector problem', 16), ('sandwich', 16), ('mape', 16), ('cramers v', 16), ('reml', 16), ('index decomposition', 15), ('gis', 15), ('inequality', 15), ('rbf network', 15), ('heuristic', 15), ('gamm4', 15), ('lrt', 15), ('matrix calculus', 15), ('dependence', 15), ('climate', 15), ('extrapolation', 15), ('rasch', 15), ('dag', 15), ('fractal', 15), ('exact test', 15), ('mortality', 15), ('differential equations', 15), ('transform', 14), ('data generating process', 14), ('bland altman plot', 14), ('stochastic approximation', 14), ('elections', 14), ('collaborative', 14), ('homogeneity', 14), ('suppressor', 14), ('sgd', 14), ('recursive model', 14), ('interquartile', 14), ('geography', 14), ('gwas', 14), ('rayleigh', 14), ('relative distribution', 14), ('viterbi algorithm', 14), ('pie chart', 14), ('birthday paradox', 13), ('semiparametric', 13), ('nonlinearity', 13), ('breusch pagan', 13), ('discussion', 13), ('jacobian', 13), ('benchmark', 13), ('latent semantic indexing', 13), ('underdetermined', 13), ('explanatory', 13), ('skellam', 13), ('pcoa', 13), ('game theory', 13), ('quasi binomial', 13), ('distance covariance', 13), ('cochran mantel haenszel', 13), ('open source', 12), ('q learning', 12), ('nonparametric density', 12), ('statistical bias', 12), ('markov random field', 12), ('library', 12), ('invariance', 12), ('journals', 12), ('gamlss', 12), ('order', 12), ('inverse gaussian distrib', 12), ('cochran q', 12), ('two sample', 12), ('case cohort', 12), ('error in variables', 12), ('novelty detection', 12), ('mean shift', 12), ('growth mixture model', 12), ('checking', 12), ('quasi monte carlo', 11), ('search theory', 11), ('information geometry', 11), ('latex', 11), ('partial plot', 11), ('regression to the mean', 11), ('mars', 11), ('automatic algorithms', 11), ('l moments', 11), ('nltk', 11), ('vector fields', 11), ('labeling', 11), ('linear dynamical system', 11), ('dependent', 11), ('systematic', 11), ('mase', 11), ('spurious correlation', 11), ('network meta analysis', 11), ('environmental data', 11), ('latin hypercube', 11), ('point mass at zero', 11), ('medicine', 11), ('mae', 10), ('disease', 10), ('optimal', 10), ('discrete time', 10), ('twin', 10), ('politics', 10), ('blue', 10), ('yates correction', 10), ('bradley terry model', 10), ('contrast', 10), ('baum welch', 10), ('expectation', 10), ('condition number', 10), ('modularity', 10), ('irls', 10), ('minimax', 10), ('counterbalancing', 10), ('dyadic data', 10), ('topologies', 10), ('javascript', 10), ('armax', 10), ('local statistics', 10), ('tweedie distribution', 10), ('bayesian optimization', 10), ('sur', 10), ('pre training', 10), ('gambling', 10), ('minimum variance', 10), ('torch', 10), ('gretl', 10), ('rao blackwell', 10), ('science', 9), ('life expectancy', 9), ('csv file', 9), ('vowpal wabbit', 9), ('belief propagation', 9), ('puzzle', 9), ('rocr', 9), ('scale construction', 9), ('approximate inference', 9), ('car', 9), ('poker', 9), ('sweave', 9), ('ordered probit', 9), ('starting values', 9), ('variance stabilizing', 9), ('scale estimator', 9), ('scalability', 9), ('glmmlasso', 9), ('party', 9), ('elo', 9), ('down sample', 9), ('active learning', 9), ('ward', 9), ('multitask learning', 9), ('population average', 9), ('linear programming', 9), ('schoenfeld residuals', 9), ('products', 9), ('crostons method', 9), ('separability', 9), ('pareto', 9), ('permutation test', 8), ('elicitation', 8), ('randomized', 8), ('moment', 8), ('julia', 8), ('absolute risk', 8), ('item analysis', 8), ('score function', 8), ('tf idf', 8), ('parallel analysis', 8), ('knowledge discovery', 8), ('spatial interaction model', 8), ('shape', 8), ('ruby', 8), ('explanatory models', 8), ('multinomial logit', 8), ('fallacy', 8), ('partykit', 8), ('probability calculus', 8), ('sigma algebra', 8), ('in sample', 8), ('marginal model', 8), ('statistics in media', 8), ('nlmer', 8), ('latin square', 8), ('internet', 8), ('logic', 8), ('mfcc', 8), ('prediction limit', 8), ('numerical models', 8), ('diffusion', 8), ('inverse cdf', 8), ('pmml', 8), ('pivot table', 7), ('treatment', 7), ('enrichment', 7), ('batch normalization', 7), ('saddlepoint approximation', 7), ('non inferiority', 7), ('probability generating fn', 7), ('contextual bandit', 7), ('max margin', 7), ('hac', 7), ('visual summary', 7), ('reduced rank regression', 7), ('lifetable', 7), ('chemistry', 7), ('runs', 7), ('identification', 7), ('lilliefors', 7), ('polr', 7), ('replicate', 7), ('courses', 7), ('gllamm', 7), ('combinatorial', 7), ('etymology', 7), ('hosmer lemeshow test', 7), ('musical data analysis', 6), ('mixed distribution', 6), ('lorenz curve', 6), ('likelihood ratio test', 6), ('astronomy', 6), ('isotonic', 6), ('phd', 6), ('ellipse', 6), ('restrictions', 6), ('missing value', 6), ('untagged', 6), ('stochastic ordering', 6), ('simultaneous equation', 6), ('fiducial', 6), ('population ecology', 6), ('blup', 6), ('gpower', 6), ('bayes optimal classifier', 6), ('structured svm', 6), ('value of information', 6), ('community wiki', 6), ('adagrad', 6), ('php', 6), ('coda', 6), ('gnuplot', 6), ('admissibility', 6), ('pruning', 6), ('bayesian score', 5), ('derived distributions', 5), ('regression testing', 5), ('engineering statistics', 5), ('voting system', 5), ('hotelling t2', 5), ('normalizing constant', 5), ('exchangeability', 5), ('spss modeler', 5), ('domain adaptation', 5), ('rlm', 5), ('information extraction', 5), ('circular', 5), ('diagnosis', 5), ('deterministic', 5), ('gamboost', 5), ('normal approximation', 5), ('bessels correction', 5), ('reproducibility', 5), ('google spreadsheet', 5), ('extremal dependence', 5), ('m estimation', 5), ('casella berger', 5), ('absolute deviation', 5), ('cv.glm', 5), ('cumulants', 5), ('fisher scoring', 5), ('monitoring', 4), ('logarithmic series', 4), ('combining estimates', 4), ('transportation', 4), ('design based inference', 4), ('forecastability', 4), ('conferences', 4), ('polychoric', 4), ('smallareaestimation', 4), ('forward backward', 4), ('disaggregation', 4), ('d prime', 4), ('splus', 4), ('gui', 4), ('named entity recognition', 4), ('gru', 4), ('pybrain', 4), ('differential privacy', 4), ('double blind', 4), ('improper prior', 4), ('structured prediction', 4), ('abbreviation', 4), ('calc', 4), ('combining predictions', 4), ('orthogonal', 4), ('anosim', 4), ('ronald fisher', 4), ('general additive model', 4), ('dropconnect', 4), ('multiple membership', 4), ('tensor', 4), ('hmc', 4), ('quotation', 4), ('bias node', 4), ('consulting', 4), ('compartmental models', 4), ('algebraic statistics', 3), ('auxiliary variable', 3), ('multicore', 3), ('unit information prior', 3), ('dplyr', 3), ('cooccurrence', 3), ('slutsky theorem', 3), ('infinite variance', 3), ('gpu', 3), ('frequency severity', 3), ('rademacher complexity', 3), ('perl', 3), ('clara', 3), ('subject specific', 3), ('sigmoid', 3), ('example', 3), ('multinomial probit', 3), ('nnt', 3), ('empirical likelihood', 3), ('log loss', 3), ('rounding', 3), ('collecting data', 3), ('chi distribution', 3), ('complete statistics', 3), ('dunnett', 3), ('kolmogorov axioms', 3), ('np', 3), ('generalized eta squared', 3), ('ancillary statistics', 3), ('intractable likelihood', 3), ('optunity', 3), ('fortran', 3), ('systematic review', 3), ('reversible jump', 3), ('timelines', 3), ('nadaraya watson', 3), ('crossover', 3), ('humor', 2), ('concavity', 2), ('geomarketing', 2), ('plyr', 2), ('regularity', 2), ('referee', 2), ('generator', 2), ('rough sets', 2), ('rhadoop', 2), ('add one smoothing', 2), ('theta method', 2), ('factorisation theorem', 2), ('xorshift', 2), ('legal', 2), ('risk difference', 2), ('oracle', 2), ('automatic differentiation', 2), ('ipf', 2), ('model checking', 2), ('lyapunov exponent', 2), ('tweedie', 2), ('wald estimator', 2), ('toeplitz', 2), ('qr', 2), ('cubic', 2), ('duan smearing', 2), ('dic', 2), ('pitch game', 2), ('shortest half', 2), ('transfer learning', 2), ('statistical theory', 2), ('volatility', 2), ('potts model', 2), ('calculus', 2), ('als', 2), ('bag of words', 2), ('approximate randomization', 2), ('drug', 2), ('therapy', 2), ('evolutionary algorithms', 2), ('rmr', 2), ('variance test', 2), ('test equating', 2), ('characterization', 2), ('2d', 1), ('protovis', 1), ('pspp', 1), ('qsar', 1), ('netflix prize', 1), ('bnlearn', 1), ('bayesian anova', 1), ('inliers', 1), ('auxiliary particle filter', 1), ('hierarchical softmax', 1), ('law of total expectation', 1), ('langevin diffusion', 1), ('quartile', 1), ('segmented', 1), ('svmlibsm', 1), ('fused lasso', 1), ('gmm', 1), ('american community survey', 1), ('mechanism design', 1), ('representation learning', 1), ('propensity', 1), ('mcar', 1), ('combining models', 1), ('leave one out', 1), ('gmmboost', 1), ('dimensions', 1), ('fda', 1), ('corpus linguistics', 1), ('pit', 1), ('mboost', 1), ('memm', 1), ('fmincon', 1), ('capability certification', 1), ('mean deviation', 1), ('mean absolute deviation', 1), ('doc2vec', 1), ('network layout', 1), ('shapley value', 1), ('adversarial boosting', 1), ('sympy', 1), ('matconvnet', 1), ('negative results', 1), ('hawkes', 1), ('retrospective', 1), ('ram', 1), ('replicability', 1), ('efficacy', 1), ('bands', 1), ('concept drift', 1), ('clumping', 1), ('markov logic network', 1)])"
            ]
          },
          "metadata": {
            "tags": []
          },
          "execution_count": 53
        }
      ]
    },
    {
      "cell_type": "code",
      "metadata": {
        "id": "ncqyCG5HAFeJ",
        "colab_type": "code",
        "colab": {
          "base_uri": "https://localhost:8080/",
          "height": 187
        },
        "outputId": "90b41330-c61f-4b0f-baae-a5e98407afb6"
      },
      "source": [
        "# Top 10 most frequent tags\n",
        "common_tags = list(freq.keys())[:10]\n",
        "common_tags"
      ],
      "execution_count": 55,
      "outputs": [
        {
          "output_type": "execute_result",
          "data": {
            "text/plain": [
              "['r',\n",
              " 'regression',\n",
              " 'machine learning',\n",
              " 'time series',\n",
              " 'probability',\n",
              " 'hypothesis testing',\n",
              " 'self study',\n",
              " 'distributions',\n",
              " 'logistic',\n",
              " 'classification']"
            ]
          },
          "metadata": {
            "tags": []
          },
          "execution_count": 55
        }
      ]
    },
    {
      "cell_type": "code",
      "metadata": {
        "id": "0ZZ9O_RnAxxf",
        "colab_type": "code",
        "colab": {}
      },
      "source": [
        "x=[]\n",
        "y=[]\n",
        "\n",
        "for i in range(len(df['tags'])):\n",
        "\n",
        "  temp=[]\n",
        "  for j in df['tags'][i]:\n",
        "    if j in common_tags:\n",
        "      temp.append(j)\n",
        "  if(len(temp)>1):\n",
        "    x.append(df['cleaned_text'][i])\n",
        "    y.append(temp)"
      ],
      "execution_count": 58,
      "outputs": []
    },
    {
      "cell_type": "code",
      "metadata": {
        "id": "MVM2KFpIDSay",
        "colab_type": "code",
        "colab": {
          "base_uri": "https://localhost:8080/",
          "height": 34
        },
        "outputId": "a3b8b1ed-cb66-4509-e0ba-9b787f4b0919"
      },
      "source": [
        "len(x)"
      ],
      "execution_count": 59,
      "outputs": [
        {
          "output_type": "execute_result",
          "data": {
            "text/plain": [
              "11106"
            ]
          },
          "metadata": {
            "tags": []
          },
          "execution_count": 59
        }
      ]
    },
    {
      "cell_type": "code",
      "metadata": {
        "id": "xv2xUxdNE0bo",
        "colab_type": "code",
        "colab": {
          "base_uri": "https://localhost:8080/",
          "height": 187
        },
        "outputId": "18dfc951-83ef-434e-d6ce-9c521a926346"
      },
      "source": [
        "y[:10]"
      ],
      "execution_count": 61,
      "outputs": [
        {
          "output_type": "execute_result",
          "data": {
            "text/plain": [
              "[['r', 'time series'],\n",
              " ['regression', 'distributions'],\n",
              " ['distributions', 'probability', 'hypothesis testing'],\n",
              " ['hypothesis testing', 'self study'],\n",
              " ['r', 'regression', 'time series'],\n",
              " ['r', 'time series', 'self study'],\n",
              " ['probability', 'hypothesis testing'],\n",
              " ['r', 'regression'],\n",
              " ['r', 'regression'],\n",
              " ['regression', 'logistic']]"
            ]
          },
          "metadata": {
            "tags": []
          },
          "execution_count": 61
        }
      ]
    },
    {
      "cell_type": "code",
      "metadata": {
        "id": "CbzApqvmE23g",
        "colab_type": "code",
        "colab": {
          "base_uri": "https://localhost:8080/",
          "height": 34
        },
        "outputId": "1c18af70-ce2c-46b6-ff4d-213114b48b66"
      },
      "source": [
        "from sklearn.preprocessing import MultiLabelBinarizer\n",
        "mlb = MultiLabelBinarizer()\n",
        "\n",
        "y = mlb.fit_transform(y)\n",
        "y.shape"
      ],
      "execution_count": 62,
      "outputs": [
        {
          "output_type": "execute_result",
          "data": {
            "text/plain": [
              "(11106, 10)"
            ]
          },
          "metadata": {
            "tags": []
          },
          "execution_count": 62
        }
      ]
    },
    {
      "cell_type": "code",
      "metadata": {
        "id": "SkUxbUHsFOv0",
        "colab_type": "code",
        "colab": {
          "base_uri": "https://localhost:8080/",
          "height": 34
        },
        "outputId": "c3b2cad6-f976-4204-a750-4c5e01127a73"
      },
      "source": [
        "y[0,:]"
      ],
      "execution_count": 63,
      "outputs": [
        {
          "output_type": "execute_result",
          "data": {
            "text/plain": [
              "array([0, 0, 0, 0, 0, 0, 1, 0, 0, 1])"
            ]
          },
          "metadata": {
            "tags": []
          },
          "execution_count": 63
        }
      ]
    },
    {
      "cell_type": "code",
      "metadata": {
        "id": "liv1y_LgFSb4",
        "colab_type": "code",
        "colab": {
          "base_uri": "https://localhost:8080/",
          "height": 68
        },
        "outputId": "40b11635-366f-4be2-b81d-d34ec9bae5fa"
      },
      "source": [
        "mlb.classes_"
      ],
      "execution_count": 64,
      "outputs": [
        {
          "output_type": "execute_result",
          "data": {
            "text/plain": [
              "array(['classification', 'distributions', 'hypothesis testing',\n",
              "       'logistic', 'machine learning', 'probability', 'r', 'regression',\n",
              "       'self study', 'time series'], dtype=object)"
            ]
          },
          "metadata": {
            "tags": []
          },
          "execution_count": 64
        }
      ]
    },
    {
      "cell_type": "code",
      "metadata": {
        "id": "RLRRhAClFVEC",
        "colab_type": "code",
        "colab": {}
      },
      "source": [
        "# splitting the data\n",
        "from sklearn.model_selection import train_test_split\n",
        "x_train, x_valid, y_train, y_valid = train_test_split(x,y,test_size=0.2,random_state=0,shuffle=True)"
      ],
      "execution_count": 65,
      "outputs": []
    },
    {
      "cell_type": "markdown",
      "metadata": {
        "id": "u_JH8BkDF_YE",
        "colab_type": "text"
      },
      "source": [
        "# Text Representation"
      ]
    },
    {
      "cell_type": "code",
      "metadata": {
        "id": "Hs2ubRqZF-t9",
        "colab_type": "code",
        "colab": {}
      },
      "source": [
        "from keras.preprocessing.text import Tokenizer\n",
        "from keras.preprocessing.sequence import pad_sequences\n",
        "\n",
        "x_tokenizer = Tokenizer()\n",
        "x_tokenizer.fit_on_texts(x_train)"
      ],
      "execution_count": 66,
      "outputs": []
    },
    {
      "cell_type": "code",
      "metadata": {
        "id": "F49RRS5jFqZe",
        "colab_type": "code",
        "colab": {
          "base_uri": "https://localhost:8080/",
          "height": 1000
        },
        "outputId": "e5610613-a2d6-4bf6-8d77-5a64f084fa1c"
      },
      "source": [
        "x_tokenizer.word_index"
      ],
      "execution_count": 67,
      "outputs": [
        {
          "output_type": "execute_result",
          "data": {
            "text/plain": [
              "{'the': 1,\n",
              " 'i': 2,\n",
              " 'to': 3,\n",
              " 'a': 4,\n",
              " 'of': 5,\n",
              " 'is': 6,\n",
              " 'and': 7,\n",
              " 'in': 8,\n",
              " 'l': 9,\n",
              " 'x': 10,\n",
              " 'for': 11,\n",
              " 'that': 12,\n",
              " 'data': 13,\n",
              " 'this': 14,\n",
              " 't': 15,\n",
              " 'have': 16,\n",
              " 'y': 17,\n",
              " 'with': 18,\n",
              " 'model': 19,\n",
              " 'it': 20,\n",
              " 'are': 21,\n",
              " 'be': 22,\n",
              " 'my': 23,\n",
              " 'as': 24,\n",
              " 'on': 25,\n",
              " 'e': 26,\n",
              " 'p': 27,\n",
              " 'if': 28,\n",
              " 'can': 29,\n",
              " 'n': 30,\n",
              " 'but': 31,\n",
              " 'not': 32,\n",
              " 'm': 33,\n",
              " 'or': 34,\n",
              " 'r': 35,\n",
              " 'how': 36,\n",
              " 'regression': 37,\n",
              " 'c': 38,\n",
              " 'am': 39,\n",
              " 's': 40,\n",
              " 'from': 41,\n",
              " 'test': 42,\n",
              " 'what': 43,\n",
              " 'would': 44,\n",
              " 'b': 45,\n",
              " 'so': 46,\n",
              " 'time': 47,\n",
              " 'there': 48,\n",
              " 'using': 49,\n",
              " 'which': 50,\n",
              " 'an': 51,\n",
              " 'do': 52,\n",
              " 'one': 53,\n",
              " 'each': 54,\n",
              " 'value': 55,\n",
              " 'use': 56,\n",
              " 'by': 57,\n",
              " 'some': 58,\n",
              " 'variables': 59,\n",
              " 'like': 60,\n",
              " 'variable': 61,\n",
              " 'we': 62,\n",
              " 'at': 63,\n",
              " 'na': 64,\n",
              " 'any': 65,\n",
              " 'f': 66,\n",
              " 'distribution': 67,\n",
              " 'two': 68,\n",
              " 'values': 69,\n",
              " 'set': 70,\n",
              " 'you': 71,\n",
              " 'all': 72,\n",
              " 'function': 73,\n",
              " 'fit': 74,\n",
              " 'd': 75,\n",
              " 'beta': 76,\n",
              " 'question': 77,\n",
              " 'then': 78,\n",
              " 'mean': 79,\n",
              " 'me': 80,\n",
              " 'know': 81,\n",
              " 'where': 82,\n",
              " 'when': 83,\n",
              " 'should': 84,\n",
              " 'different': 85,\n",
              " 'want': 86,\n",
              " 'series': 87,\n",
              " 'probability': 88,\n",
              " 'error': 89,\n",
              " 'number': 90,\n",
              " 'logistic': 91,\n",
              " 'problem': 92,\n",
              " 'about': 93,\n",
              " 'z': 94,\n",
              " 'here': 95,\n",
              " 'k': 96,\n",
              " 'get': 97,\n",
              " 'was': 98,\n",
              " 'linear': 99,\n",
              " 'other': 100,\n",
              " 'more': 101,\n",
              " 'will': 102,\n",
              " 'sample': 103,\n",
              " 'between': 104,\n",
              " 'also': 105,\n",
              " 'these': 106,\n",
              " 'has': 107,\n",
              " 'example': 108,\n",
              " 'frac': 109,\n",
              " 'way': 110,\n",
              " 'same': 111,\n",
              " 'sum': 112,\n",
              " 'out': 113,\n",
              " 'right': 114,\n",
              " 'only': 115,\n",
              " 'h': 116,\n",
              " 'following': 117,\n",
              " 'could': 118,\n",
              " 'does': 119,\n",
              " 'random': 120,\n",
              " 'than': 121,\n",
              " 'log': 122,\n",
              " 'first': 123,\n",
              " 'given': 124,\n",
              " 'find': 125,\n",
              " 'used': 126,\n",
              " 'however': 127,\n",
              " 'models': 128,\n",
              " 'they': 129,\n",
              " 'no': 130,\n",
              " 'theta': 131,\n",
              " 'class': 132,\n",
              " 'just': 133,\n",
              " 'predict': 134,\n",
              " 'df': 135,\n",
              " 'results': 136,\n",
              " 'q': 137,\n",
              " 'w': 138,\n",
              " 'trying': 139,\n",
              " 'now': 140,\n",
              " 'training': 141,\n",
              " 'coefficients': 142,\n",
              " 'need': 143,\n",
              " 'plot': 144,\n",
              " 'v': 145,\n",
              " 'g': 146,\n",
              " 'method': 147,\n",
              " 'j': 148,\n",
              " 'case': 149,\n",
              " 'dataset': 150,\n",
              " 'very': 151,\n",
              " 'help': 152,\n",
              " 'true': 153,\n",
              " 'lm': 154,\n",
              " 'estimate': 155,\n",
              " 'sigma': 156,\n",
              " 'into': 157,\n",
              " 'see': 158,\n",
              " 'alpha': 159,\n",
              " 'don': 160,\n",
              " 've': 161,\n",
              " 'say': 162,\n",
              " 'matrix': 163,\n",
              " 'package': 164,\n",
              " 'such': 165,\n",
              " 'classification': 166,\n",
              " 'code': 167,\n",
              " 'factor': 168,\n",
              " 'analysis': 169,\n",
              " 'because': 170,\n",
              " 'understand': 171,\n",
              " 'left': 172,\n",
              " 'why': 173,\n",
              " 'hat': 174,\n",
              " 'thanks': 175,\n",
              " 'independent': 176,\n",
              " 'intercept': 177,\n",
              " 'new': 178,\n",
              " 'based': 179,\n",
              " 'type': 180,\n",
              " 'group': 181,\n",
              " 'glm': 182,\n",
              " 'correct': 183,\n",
              " 'best': 184,\n",
              " 'order': 185,\n",
              " 'make': 186,\n",
              " 'let': 187,\n",
              " 'standard': 188,\n",
              " 'u': 189,\n",
              " 'both': 190,\n",
              " 'output': 191,\n",
              " 'mu': 192,\n",
              " 'good': 193,\n",
              " 'possible': 194,\n",
              " 'over': 195,\n",
              " 'arima': 196,\n",
              " 'them': 197,\n",
              " 'text': 198,\n",
              " 'approach': 199,\n",
              " 'binomial': 200,\n",
              " 'age': 201,\n",
              " 'features': 202,\n",
              " 'response': 203,\n",
              " 'year': 204,\n",
              " 'point': 205,\n",
              " 'something': 206,\n",
              " 'significant': 207,\n",
              " 'whether': 208,\n",
              " 'better': 209,\n",
              " 'points': 210,\n",
              " 'up': 211,\n",
              " 'think': 212,\n",
              " 'been': 213,\n",
              " 'parameters': 214,\n",
              " 'residuals': 215,\n",
              " 'observations': 216,\n",
              " 'formula': 217,\n",
              " 'sure': 218,\n",
              " 'calculate': 219,\n",
              " 'train': 220,\n",
              " 'since': 221,\n",
              " 'binary': 222,\n",
              " 'run': 223,\n",
              " 'size': 224,\n",
              " 'summary': 225,\n",
              " 'variance': 226,\n",
              " 'non': 227,\n",
              " 'hypothesis': 228,\n",
              " 'var': 229,\n",
              " 'above': 230,\n",
              " 'below': 231,\n",
              " 'end': 232,\n",
              " 'after': 233,\n",
              " 'length': 234,\n",
              " 'learning': 235,\n",
              " 'normal': 236,\n",
              " 'lambda': 237,\n",
              " 'level': 238,\n",
              " 'result': 239,\n",
              " 'dependent': 240,\n",
              " 'difference': 241,\n",
              " 'family': 242,\n",
              " 'seems': 243,\n",
              " 'tried': 244,\n",
              " 'forecast': 245,\n",
              " 'null': 246,\n",
              " 'times': 247,\n",
              " 'many': 248,\n",
              " 'prediction': 249,\n",
              " 'doing': 250,\n",
              " 'questions': 251,\n",
              " 'much': 252,\n",
              " 'max': 253,\n",
              " 'effect': 254,\n",
              " 'answer': 255,\n",
              " 'looking': 256,\n",
              " 'well': 257,\n",
              " 'pr': 258,\n",
              " 'classifier': 259,\n",
              " 'parameter': 260,\n",
              " 'vector': 261,\n",
              " 'continuous': 262,\n",
              " 'multiple': 263,\n",
              " 'were': 264,\n",
              " 'found': 265,\n",
              " 'please': 266,\n",
              " 'may': 267,\n",
              " 'squared': 268,\n",
              " 'library': 269,\n",
              " 'their': 270,\n",
              " 'samples': 271,\n",
              " 'most': 272,\n",
              " 'simple': 273,\n",
              " 'predictor': 274,\n",
              " 'frame': 275,\n",
              " 'likelihood': 276,\n",
              " 'etc': 277,\n",
              " 'second': 278,\n",
              " 'correlation': 279,\n",
              " 'predictors': 280,\n",
              " 'being': 281,\n",
              " 'give': 282,\n",
              " 'change': 283,\n",
              " 'list': 284,\n",
              " 'score': 285,\n",
              " 'accuracy': 286,\n",
              " 'feature': 287,\n",
              " 'outcome': 288,\n",
              " 'might': 289,\n",
              " 'really': 290,\n",
              " 'its': 291,\n",
              " 'day': 292,\n",
              " 'information': 293,\n",
              " 'even': 294,\n",
              " 'similar': 295,\n",
              " 'means': 296,\n",
              " 'epsilon': 297,\n",
              " 'categorical': 298,\n",
              " 'equation': 299,\n",
              " 'take': 300,\n",
              " 'false': 301,\n",
              " 'min': 302,\n",
              " 'work': 303,\n",
              " 'those': 304,\n",
              " 'input': 305,\n",
              " 'anyone': 306,\n",
              " 'std': 307,\n",
              " 'look': 308,\n",
              " 'another': 309,\n",
              " 'exp': 310,\n",
              " 'suppose': 311,\n",
              " 'zero': 312,\n",
              " 'average': 313,\n",
              " 'read': 314,\n",
              " 'total': 315,\n",
              " 'mathbf': 316,\n",
              " 'before': 317,\n",
              " 'logit': 318,\n",
              " 'terms': 319,\n",
              " 'effects': 320,\n",
              " 'three': 321,\n",
              " 'algorithm': 322,\n",
              " 'compare': 323,\n",
              " 'ts': 324,\n",
              " 'interval': 325,\n",
              " 'gamma': 326,\n",
              " 'still': 327,\n",
              " 'show': 328,\n",
              " 'negative': 329,\n",
              " 'working': 330,\n",
              " 'probabilities': 331,\n",
              " 'high': 332,\n",
              " 'machine': 333,\n",
              " 'table': 334,\n",
              " 'having': 335,\n",
              " 'cross': 336,\n",
              " 'confidence': 337,\n",
              " 'start': 338,\n",
              " 'testing': 339,\n",
              " 'predicted': 340,\n",
              " 'statistical': 341,\n",
              " 'while': 342,\n",
              " 'did': 343,\n",
              " 'your': 344,\n",
              " 'rate': 345,\n",
              " 'levels': 346,\n",
              " 'wrong': 347,\n",
              " 'groups': 348,\n",
              " 'large': 349,\n",
              " 'assume': 350,\n",
              " 'scale': 351,\n",
              " 'coefficient': 352,\n",
              " 'bar': 353,\n",
              " 'line': 354,\n",
              " 'residual': 355,\n",
              " 'statistics': 356,\n",
              " 'days': 357,\n",
              " 'positive': 358,\n",
              " 'call': 359,\n",
              " 'methods': 360,\n",
              " 'distributions': 361,\n",
              " 'phi': 362,\n",
              " 'someone': 363,\n",
              " 'term': 364,\n",
              " 'edit': 365,\n",
              " 'cases': 366,\n",
              " 'every': 367,\n",
              " 'far': 368,\n",
              " 'able': 369,\n",
              " 'process': 370,\n",
              " 'statistic': 371,\n",
              " 'people': 372,\n",
              " 'determine': 373,\n",
              " 'fitted': 374,\n",
              " 'gives': 375,\n",
              " 'step': 376,\n",
              " 'validation': 377,\n",
              " 'lag': 378,\n",
              " 'deviance': 379,\n",
              " 'appreciated': 380,\n",
              " 'part': 381,\n",
              " 'sqrt': 382,\n",
              " 'ratio': 383,\n",
              " 'thank': 384,\n",
              " 'form': 385,\n",
              " 'tests': 386,\n",
              " 'classes': 387,\n",
              " 'without': 388,\n",
              " 'degrees': 389,\n",
              " 'freedom': 390,\n",
              " 'idea': 391,\n",
              " 'try': 392,\n",
              " 'rep': 393,\n",
              " 'aic': 394,\n",
              " 'within': 395,\n",
              " 'least': 396,\n",
              " 'measure': 397,\n",
              " 'around': 398,\n",
              " 'got': 399,\n",
              " 'perform': 400,\n",
              " 'sim': 401,\n",
              " 'done': 402,\n",
              " 'per': 403,\n",
              " 'doesn': 404,\n",
              " 'had': 405,\n",
              " 'create': 406,\n",
              " 'sense': 407,\n",
              " 'link': 408,\n",
              " 'real': 409,\n",
              " 'rnorm': 410,\n",
              " 'interaction': 411,\n",
              " 'price': 412,\n",
              " 'median': 413,\n",
              " 'explain': 414,\n",
              " 'trend': 415,\n",
              " 'month': 416,\n",
              " 'vs': 417,\n",
              " 'follows': 418,\n",
              " 'specific': 419,\n",
              " 'chi': 420,\n",
              " 'years': 421,\n",
              " 'weight': 422,\n",
              " 'yes': 423,\n",
              " 'begin': 424,\n",
              " 'population': 425,\n",
              " 'looks': 426,\n",
              " 'particular': 427,\n",
              " 'id': 428,\n",
              " 'kind': 429,\n",
              " 'state': 430,\n",
              " 'missing': 431,\n",
              " 'event': 432,\n",
              " 'control': 433,\n",
              " 'less': 434,\n",
              " 'go': 435,\n",
              " 'expected': 436,\n",
              " 'equal': 437,\n",
              " 'small': 438,\n",
              " 'sd': 439,\n",
              " 'wondering': 440,\n",
              " 'compute': 441,\n",
              " 'performance': 442,\n",
              " 'errors': 443,\n",
              " 'too': 444,\n",
              " 'actually': 445,\n",
              " 'single': 446,\n",
              " 'distributed': 447,\n",
              " 'several': 448,\n",
              " 'apply': 449,\n",
              " 'svm': 450,\n",
              " 'seem': 451,\n",
              " 'treatment': 452,\n",
              " 'observation': 453,\n",
              " 'estimates': 454,\n",
              " 'weights': 455,\n",
              " 'either': 456,\n",
              " 'consider': 457,\n",
              " 'frequency': 458,\n",
              " 'density': 459,\n",
              " 'instead': 460,\n",
              " 'cannot': 461,\n",
              " 'thought': 462,\n",
              " 'check': 463,\n",
              " 'int': 464,\n",
              " 'sets': 465,\n",
              " 'estimated': 466,\n",
              " 'solution': 467,\n",
              " 'interested': 468,\n",
              " 'certain': 469,\n",
              " 'range': 470,\n",
              " 'general': 471,\n",
              " 'power': 472,\n",
              " 'date': 473,\n",
              " 'sales': 474,\n",
              " 'low': 475,\n",
              " 'quite': 476,\n",
              " 'appropriate': 477,\n",
              " 'choose': 478,\n",
              " 'solve': 479,\n",
              " 'poisson': 480,\n",
              " 'our': 481,\n",
              " 'through': 482,\n",
              " 'col': 483,\n",
              " 'few': 484,\n",
              " 'odds': 485,\n",
              " 'anova': 486,\n",
              " 'pi': 487,\n",
              " 'next': 488,\n",
              " 'dummy': 489,\n",
              " 'numeric': 490,\n",
              " 'period': 491,\n",
              " 'http': 492,\n",
              " 'individual': 493,\n",
              " 'fixed': 494,\n",
              " 'last': 495,\n",
              " 'figure': 496,\n",
              " 'factors': 497,\n",
              " 'add': 498,\n",
              " 'original': 499,\n",
              " 'build': 500,\n",
              " 'subject': 501,\n",
              " 'pred': 502,\n",
              " 'significance': 503,\n",
              " 'mod': 504,\n",
              " 'getting': 505,\n",
              " 'higher': 506,\n",
              " 'fitting': 507,\n",
              " 'include': 508,\n",
              " 'note': 509,\n",
              " 'across': 510,\n",
              " 'delta': 511,\n",
              " 'running': 512,\n",
              " 'calculated': 513,\n",
              " 'examples': 514,\n",
              " 'predictions': 515,\n",
              " 'ar': 516,\n",
              " 'paper': 517,\n",
              " 'lower': 518,\n",
              " 'advance': 519,\n",
              " 'actual': 520,\n",
              " 'relationship': 521,\n",
              " 'return': 522,\n",
              " 'count': 523,\n",
              " 'structure': 524,\n",
              " 'lot': 525,\n",
              " 'who': 526,\n",
              " 'infty': 527,\n",
              " 'functions': 528,\n",
              " 'red': 529,\n",
              " 'related': 530,\n",
              " 'product': 531,\n",
              " 'observed': 532,\n",
              " 'selection': 533,\n",
              " 'interpret': 534,\n",
              " 'codes': 535,\n",
              " 'dat': 536,\n",
              " 'generate': 537,\n",
              " 'under': 538,\n",
              " 'though': 539,\n",
              " 'currently': 540,\n",
              " 'category': 541,\n",
              " 'square': 542,\n",
              " 'label': 543,\n",
              " 'rather': 544,\n",
              " 'understanding': 545,\n",
              " 'numbers': 546,\n",
              " 'cost': 547,\n",
              " 'course': 548,\n",
              " 'target': 549,\n",
              " 'made': 550,\n",
              " 'distance': 551,\n",
              " 'exactly': 552,\n",
              " 'space': 553,\n",
              " 'previous': 554,\n",
              " 'coef': 555,\n",
              " 'constant': 556,\n",
              " 'main': 557,\n",
              " 'thinking': 558,\n",
              " 'curve': 559,\n",
              " 'problems': 560,\n",
              " 'scores': 561,\n",
              " 'bit': 562,\n",
              " 'gaussian': 563,\n",
              " 'thus': 564,\n",
              " 'mathbb': 565,\n",
              " 'simply': 566,\n",
              " 'prior': 567,\n",
              " 'always': 568,\n",
              " 'therefore': 569,\n",
              " 'final': 570,\n",
              " 'alternative': 571,\n",
              " 'going': 572,\n",
              " 'likely': 573,\n",
              " 'network': 574,\n",
              " 'maybe': 575,\n",
              " 'tree': 576,\n",
              " 'book': 577,\n",
              " 'lines': 578,\n",
              " 'sex': 579,\n",
              " 'leq': 580,\n",
              " 'object': 581,\n",
              " 'seasonal': 582,\n",
              " 'study': 583,\n",
              " 'row': 584,\n",
              " 'long': 585,\n",
              " 'big': 586,\n",
              " 'auto': 587,\n",
              " 'known': 588,\n",
              " 'fact': 589,\n",
              " 'slope': 590,\n",
              " 'column': 591,\n",
              " 'account': 592,\n",
              " 'come': 593,\n",
              " 'user': 594,\n",
              " 'signif': 595,\n",
              " 'important': 596,\n",
              " 'differences': 597,\n",
              " 'rows': 598,\n",
              " 'events': 599,\n",
              " 'due': 600,\n",
              " 'words': 601,\n",
              " 'neural': 602,\n",
              " 'daily': 603,\n",
              " 'se': 604,\n",
              " 'names': 605,\n",
              " 'post': 606,\n",
              " 'full': 607,\n",
              " 'procedure': 608,\n",
              " 'tell': 609,\n",
              " 'already': 610,\n",
              " 'mydata': 611,\n",
              " 'adjusted': 612,\n",
              " 'gender': 613,\n",
              " 'forest': 614,\n",
              " 'makes': 615,\n",
              " 're': 616,\n",
              " 'seed': 617,\n",
              " 'decision': 618,\n",
              " 'appreciate': 619,\n",
              " 'he': 620,\n",
              " 'pdf': 621,\n",
              " 'maximum': 622,\n",
              " 'index': 623,\n",
              " 'print': 624,\n",
              " 'current': 625,\n",
              " 'algorithms': 626,\n",
              " 'deviation': 627,\n",
              " 'shape': 628,\n",
              " 'reading': 629,\n",
              " 'issue': 630,\n",
              " 'system': 631,\n",
              " 'seasonality': 632,\n",
              " 'provide': 633,\n",
              " 'reason': 634,\n",
              " 'increase': 635,\n",
              " 'enough': 636,\n",
              " 'ols': 637,\n",
              " 'again': 638,\n",
              " 'intervals': 639,\n",
              " 'shows': 640,\n",
              " 'confused': 641,\n",
              " 'amount': 642,\n",
              " 'csv': 643,\n",
              " 'conditional': 644,\n",
              " 'cdot': 645,\n",
              " 'proportion': 646,\n",
              " 'com': 647,\n",
              " 'labels': 648,\n",
              " 'guess': 649,\n",
              " 'taken': 650,\n",
              " 'significantly': 651,\n",
              " 'graph': 652,\n",
              " 'taking': 653,\n",
              " 'diff': 654,\n",
              " 'rank': 655,\n",
              " 'learn': 656,\n",
              " 'according': 657,\n",
              " 'stationary': 658,\n",
              " 'acf': 659,\n",
              " 'page': 660,\n",
              " 'noise': 661,\n",
              " 'categories': 662,\n",
              " 'obtain': 663,\n",
              " 'update': 664,\n",
              " 'datasets': 665,\n",
              " 'success': 666,\n",
              " 'correctly': 667,\n",
              " 'person': 668,\n",
              " 'down': 669,\n",
              " 'against': 670,\n",
              " 'bad': 671,\n",
              " 'classify': 672,\n",
              " 'must': 673,\n",
              " 'threshold': 674,\n",
              " 'sampling': 675,\n",
              " 'instance': 676,\n",
              " 'assumption': 677,\n",
              " 'close': 678,\n",
              " 'suggestions': 679,\n",
              " 'columns': 680,\n",
              " 'student': 681,\n",
              " 'defined': 682,\n",
              " 'cbind': 683,\n",
              " 'partial': 684,\n",
              " 'condition': 685,\n",
              " 'name': 686,\n",
              " 'temperature': 687,\n",
              " 'greater': 688,\n",
              " 'else': 689,\n",
              " 'things': 690,\n",
              " 'anything': 691,\n",
              " 'loss': 692,\n",
              " 'seen': 693,\n",
              " 'believe': 694,\n",
              " 'little': 695,\n",
              " 'blue': 696,\n",
              " 'assuming': 697,\n",
              " 'male': 698,\n",
              " 'correlated': 699,\n",
              " 'statistically': 700,\n",
              " 'suggest': 701,\n",
              " 'direction': 702,\n",
              " 'support': 703,\n",
              " 'experiment': 704,\n",
              " 'goal': 705,\n",
              " 'area': 706,\n",
              " 'predictive': 707,\n",
              " 'week': 708,\n",
              " 'vectors': 709,\n",
              " 'basic': 710,\n",
              " 'cv': 711,\n",
              " 'classifiers': 712,\n",
              " 'available': 713,\n",
              " 'iv': 714,\n",
              " 'region': 715,\n",
              " 'subset': 716,\n",
              " 'ldots': 717,\n",
              " 'explanatory': 718,\n",
              " 'discrete': 719,\n",
              " 'off': 720,\n",
              " 'chance': 721,\n",
              " 'select': 722,\n",
              " 'reference': 723,\n",
              " 'split': 724,\n",
              " 'works': 725,\n",
              " 'us': 726,\n",
              " 'ones': 727,\n",
              " 'ways': 728,\n",
              " 'shown': 729,\n",
              " 'task': 730,\n",
              " 'transformation': 731,\n",
              " 'clear': 732,\n",
              " 'seq': 733,\n",
              " 'multivariate': 734,\n",
              " 'obtained': 735,\n",
              " 'trees': 736,\n",
              " 'rm': 737,\n",
              " 'unit': 738,\n",
              " 'thing': 739,\n",
              " 'during': 740,\n",
              " 'estimation': 741,\n",
              " 'ab': 742,\n",
              " 'contains': 743,\n",
              " 'basically': 744,\n",
              " 'st': 745,\n",
              " 'align': 746,\n",
              " 'months': 747,\n",
              " 'normally': 748,\n",
              " 'follow': 749,\n",
              " 'future': 750,\n",
              " 'array': 751,\n",
              " 'female': 752,\n",
              " 'advice': 753,\n",
              " 'mathcal': 754,\n",
              " 'measures': 755,\n",
              " 'roc': 756,\n",
              " 'vec': 757,\n",
              " 'income': 758,\n",
              " 'others': 759,\n",
              " 'isn': 760,\n",
              " 'forecasting': 761,\n",
              " 'default': 762,\n",
              " 'packages': 763,\n",
              " 'further': 764,\n",
              " 'pattern': 765,\n",
              " 'returns': 766,\n",
              " 'changes': 767,\n",
              " 'covariates': 768,\n",
              " 'write': 769,\n",
              " 'asked': 770,\n",
              " 'squares': 771,\n",
              " 'randomly': 772,\n",
              " 'bayes': 773,\n",
              " 'prob': 774,\n",
              " 'temp': 775,\n",
              " 'finding': 776,\n",
              " 'overall': 777,\n",
              " 'corresponding': 778,\n",
              " 'initial': 779,\n",
              " 'multinomial': 780,\n",
              " 'bayesian': 781,\n",
              " 'res': 782,\n",
              " 'exponential': 783,\n",
              " 'useful': 784,\n",
              " 'iterations': 785,\n",
              " 'ran': 786,\n",
              " 'measured': 787,\n",
              " 'four': 788,\n",
              " 'stats': 789,\n",
              " 'predicting': 790,\n",
              " 'exact': 791,\n",
              " 'generated': 792,\n",
              " 'situation': 793,\n",
              " 'sort': 794,\n",
              " 'monthly': 795,\n",
              " 'pretty': 796,\n",
              " 'probably': 797,\n",
              " 'll': 798,\n",
              " 'students': 799,\n",
              " 'research': 800,\n",
              " 'including': 801,\n",
              " 'naive': 802,\n",
              " 'rho': 803,\n",
              " 'represent': 804,\n",
              " 'glmnet': 805,\n",
              " 'plots': 806,\n",
              " 'sequence': 807,\n",
              " 'image': 808,\n",
              " 'measurements': 809,\n",
              " 'once': 810,\n",
              " 'put': 811,\n",
              " 'ln': 812,\n",
              " 'cluster': 813,\n",
              " 'uses': 814,\n",
              " 'ml': 815,\n",
              " 'th': 816,\n",
              " 'implement': 817,\n",
              " 'past': 818,\n",
              " 'mixed': 819,\n",
              " 'types': 820,\n",
              " 'ordinal': 821,\n",
              " 'compared': 822,\n",
              " 'hidden': 823,\n",
              " 'season': 824,\n",
              " 'combination': 825,\n",
              " 'covariance': 826,\n",
              " 'ask': 827,\n",
              " 'although': 828,\n",
              " 'uniform': 829,\n",
              " 'steps': 830,\n",
              " 'risk': 831,\n",
              " 'np': 832,\n",
              " 'answers': 833,\n",
              " 'cov': 834,\n",
              " 'says': 835,\n",
              " 'applied': 836,\n",
              " 'project': 837,\n",
              " 'created': 838,\n",
              " 'choice': 839,\n",
              " 'relative': 840,\n",
              " 'hand': 841,\n",
              " 'raw': 842,\n",
              " 'valid': 843,\n",
              " 'head': 844,\n",
              " 'species': 845,\n",
              " 'gradient': 846,\n",
              " 'called': 847,\n",
              " 'num': 848,\n",
              " 'whole': 849,\n",
              " 'easy': 850,\n",
              " 'associated': 851,\n",
              " 'selected': 852,\n",
              " 'larger': 853,\n",
              " 'perhaps': 854,\n",
              " 'match': 855,\n",
              " 'site': 856,\n",
              " 'dots': 857,\n",
              " 'tau': 858,\n",
              " 'o': 859,\n",
              " 'obs': 860,\n",
              " 'among': 861,\n",
              " 'techniques': 862,\n",
              " 'expect': 863,\n",
              " 'nrow': 864,\n",
              " 'back': 865,\n",
              " 'top': 866,\n",
              " 'transform': 867,\n",
              " 'common': 868,\n",
              " 'comes': 869,\n",
              " 'file': 870,\n",
              " 'omega': 871,\n",
              " 'dv': 872,\n",
              " 'adding': 873,\n",
              " 'regarding': 874,\n",
              " 'auc': 875,\n",
              " 'wanted': 876,\n",
              " 'optimal': 877,\n",
              " 'scaled': 878,\n",
              " 'survival': 879,\n",
              " 'comparing': 880,\n",
              " 'modeling': 881,\n",
              " 'regressions': 882,\n",
              " 'define': 883,\n",
              " 'quad': 884,\n",
              " 'knowledge': 885,\n",
              " 'building': 886,\n",
              " 'importance': 887,\n",
              " 'context': 888,\n",
              " 'fold': 889,\n",
              " 'approaches': 890,\n",
              " 'game': 891,\n",
              " 'weighted': 892,\n",
              " 'outliers': 893,\n",
              " 'reject': 894,\n",
              " 'obviously': 895,\n",
              " 'hope': 896,\n",
              " 'various': 897,\n",
              " 'status': 898,\n",
              " 'present': 899,\n",
              " 'additional': 900,\n",
              " 'customer': 901,\n",
              " 'estimator': 902,\n",
              " 'background': 903,\n",
              " 'takes': 904,\n",
              " 'added': 905,\n",
              " 'specifically': 906,\n",
              " 'www': 907,\n",
              " 'box': 908,\n",
              " 'own': 909,\n",
              " 'individuals': 910,\n",
              " 'otherwise': 911,\n",
              " 'component': 912,\n",
              " 'keep': 913,\n",
              " 'self': 914,\n",
              " 'assumptions': 915,\n",
              " 'interest': 916,\n",
              " 'ma': 917,\n",
              " 'components': 918,\n",
              " 'subjects': 919,\n",
              " 'require': 920,\n",
              " 'attributes': 921,\n",
              " 'highly': 922,\n",
              " 'suggested': 923,\n",
              " 'root': 924,\n",
              " 'greatly': 925,\n",
              " 'interpretation': 926,\n",
              " 'axis': 927,\n",
              " 'states': 928,\n",
              " 'included': 929,\n",
              " 'often': 930,\n",
              " 'implementation': 931,\n",
              " 'hence': 932,\n",
              " 'remove': 933,\n",
              " 'option': 934,\n",
              " 'patients': 935,\n",
              " 'separate': 936,\n",
              " 'fisher': 937,\n",
              " 'python': 938,\n",
              " 'theory': 939,\n",
              " 'considered': 940,\n",
              " 'explanation': 941,\n",
              " 'white': 942,\n",
              " 'identify': 943,\n",
              " 'trained': 944,\n",
              " 'window': 945,\n",
              " 'location': 946,\n",
              " 'almost': 947,\n",
              " 'kernel': 948,\n",
              " 'prices': 949,\n",
              " 'simulation': 950,\n",
              " 'unknown': 951,\n",
              " 'inputs': 952,\n",
              " 'great': 953,\n",
              " 'polynomial': 954,\n",
              " 'qu': 955,\n",
              " 'deal': 956,\n",
              " 'percentage': 957,\n",
              " 'autocorrelation': 958,\n",
              " 'balls': 959,\n",
              " 'overline': 960,\n",
              " 'outputs': 961,\n",
              " 'bootstrap': 962,\n",
              " 'improve': 963,\n",
              " 'wt': 964,\n",
              " 'none': 965,\n",
              " 'bias': 966,\n",
              " 'calculating': 967,\n",
              " 'reasonable': 968,\n",
              " 'limits': 969,\n",
              " 'evaluate': 970,\n",
              " 'usually': 971,\n",
              " 'posterior': 972,\n",
              " 'came': 973,\n",
              " 'upper': 974,\n",
              " 'pca': 975,\n",
              " 'relevant': 976,\n",
              " 'ideas': 977,\n",
              " 'fits': 978,\n",
              " 'users': 979,\n",
              " 'together': 980,\n",
              " 'items': 981,\n",
              " 'ci': 982,\n",
              " 'outcomes': 983,\n",
              " 'prove': 984,\n",
              " 'runif': 985,\n",
              " 'along': 986,\n",
              " 'unfortunately': 987,\n",
              " 'hour': 988,\n",
              " 'trials': 989,\n",
              " 'conditions': 990,\n",
              " 'randomforest': 991,\n",
              " 'message': 992,\n",
              " 'making': 993,\n",
              " 'lasso': 994,\n",
              " 'sub': 995,\n",
              " 'stat': 996,\n",
              " 'feel': 997,\n",
              " 'command': 998,\n",
              " 'le': 999,\n",
              " 'instances': 1000,\n",
              " ...}"
            ]
          },
          "metadata": {
            "tags": []
          },
          "execution_count": 67
        }
      ]
    },
    {
      "cell_type": "code",
      "metadata": {
        "id": "sff_sBq5GZkL",
        "colab_type": "code",
        "colab": {
          "base_uri": "https://localhost:8080/",
          "height": 34
        },
        "outputId": "01b486c0-e3ad-44cd-87ac-3178c3667abc"
      },
      "source": [
        "len(x_tokenizer.word_index)"
      ],
      "execution_count": 68,
      "outputs": [
        {
          "output_type": "execute_result",
          "data": {
            "text/plain": [
              "25312"
            ]
          },
          "metadata": {
            "tags": []
          },
          "execution_count": 68
        }
      ]
    },
    {
      "cell_type": "code",
      "metadata": {
        "id": "aMhG5nmJGkUM",
        "colab_type": "code",
        "colab": {
          "base_uri": "https://localhost:8080/",
          "height": 34
        },
        "outputId": "9f0cd808-c58c-4ab8-dc3b-fdc64e24fd45"
      },
      "source": [
        "thresh = 3\n",
        "\n",
        "count = 0\n",
        "\n",
        "for key,value in x_tokenizer.word_counts.items():\n",
        "  if value>=thresh:\n",
        "    count = count+1\n",
        "\n",
        "print(count)\n"
      ],
      "execution_count": 70,
      "outputs": [
        {
          "output_type": "stream",
          "text": [
            "12574\n"
          ],
          "name": "stdout"
        }
      ]
    },
    {
      "cell_type": "code",
      "metadata": {
        "id": "Of5j3DB9HAkY",
        "colab_type": "code",
        "colab": {
          "base_uri": "https://localhost:8080/",
          "height": 54
        },
        "outputId": "aaf795c5-362f-4410-84f2-9944bc580c74"
      },
      "source": [
        "x_tokenizer.word_counts.items()"
      ],
      "execution_count": 71,
      "outputs": [
        {
          "output_type": "execute_result",
          "data": {
            "text/plain": [
              "odict_items([('i', 53875), ('am', 5963), ('testing', 603), ('for', 17220), ('cointegration', 77), ('using', 4846), ('the', 73528), ('johansen', 22), ('test', 5402), ('have', 10623), ('seen', 259), ('questions', 859), ('like', 3751), ('how', 6118), ('to', 35727), ('interpret', 361), ('results', 1645), ('but', 6858), ('when', 2631), ('interpreting', 85), ('mine', 43), ('some', 3885), ('doubts', 37), ('in', 20636), ('my', 8504), ('r', 6220), ('since', 996), ('so', 4973), ('cannot', 438), ('form', 537), ('a', 35715), ('stationary', 277), ('series', 2567), ('it', 9629), ('is', 28025), ('same', 2034), ('and', 26017), ('there', 4937), ('combination', 209), ('implies', 65), ('that', 15891), ('are', 9001), ('zero', 648), ('cointegrating', 14), ('vectors', 251), ('does', 1925), ('mean', 2741), ('data', 13524), ('not', 6785), ('cointegrated', 28), ('therefore', 337), ('build', 399), ('vecm', 32), ('please', 791), ('find', 1782), ('below', 947), ('ca', 58), ('jo', 19), ('canada', 3), ('type', 1199), ('trace', 64), ('ecdet', 10), ('trend', 497), ('spec', 60), ('transitory', 2), ('summary', 976), ('procedure', 312), ('statistic', 559), ('with', 9981), ('linear', 2273), ('eigenvalues', 21), ('lambda', 926), ('e', 7951), ('values', 3199), ('of', 32838), ('teststatistic', 7), ('critical', 134), ('pct', 73), ('eigenvectors', 17), ('normalised', 11), ('first', 1804), ('column', 319), ('these', 2214), ('relations', 19), ('l', 18481), ('prod', 116), ('rw', 8), ('u', 1122), ('weights', 442), ('w', 1625), ('this', 13331), ('loading', 15), ('matrix', 1312), ('d', 2907), ('here', 2405), ('context', 192), ('interested', 430), ('determining', 60), ('two', 3212), ('environmental', 24), ('variables', 3757), ('temperature', 260), ('nutrient', 19), ('levels', 598), ('impact', 157), ('value', 4080), ('response', 1045), ('variable', 3748), ('over', 1100), ('year', 1045), ('period', 406), ('within', 527), ('each', 4215), ('from', 5574), ('k', 2356), ('locations', 77), ('goal', 252), ('determine', 553), ('whether', 1037), ('has', 2212), ('responded', 9), ('changes', 229), ('g', 1536), ('warmer', 3), ('more', 2249), ('nutrients', 2), ('would', 5267), ('greater', 260), ('unfortunately', 165), ('without', 536), ('looking', 832), ('at', 3614), ('just', 1661), ('regular', 78), ('inter', 24), ('annual', 76), ('variation', 155), ('will', 2249), ('swamp', 2), ('signal', 119), ('regression', 6045), ('be', 8939), ('points', 1023), ('per', 519), ('explanatory', 248), ('me', 2676), ('even', 687), ('positive', 582), ('hard', 139), ('consider', 441), ('as', 8278), ('meaningful', 73), ('given', 1802), ('dataset', 1474), ('small', 468), ('meet', 28), ('nominal', 60), ('unless', 43), ('relationship', 378), ('super', 16), ('strong', 124), ('right', 1962), ('make', 1141), ('assumption', 263), ('can', 7119), ('anyone', 661), ('offer', 51), ('any', 3305), ('other', 2266), ('thoughts', 138), ('perspectives', 3), ('may', 791), ('missing', 480), ('thanks', 1235), ('ps', 128), ('caveats', 5), ('no', 1728), ('way', 2096), ('get', 2333), ('waiting', 23), ('additional', 187), ('years', 490), ('available', 250), ('what', 5297), ('we', 3717), ('really', 697), ('work', 667), ('working', 618), ('on', 8221), ('proportion', 283), ('ranging', 34), ('between', 2228), ('learnt', 17), ('beta', 2889), ('probably', 219), ('best', 1153), ('choice', 205), ('model', 9711), ('such', 1293), ('suitable', 126), ('alternative', 336), ('glm', 1181), ('or', 6221), ('ols', 288), ('where', 2640), ('boundary', 72), ('rather', 354), ('than', 1820), ('negative', 619), ('infinity', 38), ('wish', 108), ('time', 4972), ('volatility', 58), ('clustering', 161), ('conditional', 284), ('heteroskedasticity', 32), ('far', 564), ('used', 1770), ('acf', 277), ('squared', 784), ('absolute', 109), ('returns', 230), ('well', 831), ('ljung', 37), ('box', 186), ('mcleod', 8), ('li', 17), ('recent', 79), ('paper', 382), ('http', 405), ('papers', 133), ('ssrn', 3), ('com', 283), ('sol', 20), ('cfm', 3), ('abstract', 16), ('id', 481), ('reported', 59), ('page', 276), ('co', 131), ('authored', 4), ('by', 3912), ('known', 322), ('researcher', 22), ('they', 1733), ('employed', 21), ('white', 177), ('ideas', 169), ('repec', 2), ('org', 110), ('ecm', 14), ('emetrp', 1), ('v', 1537), ('y', 10036), ('p', 7198), ('html', 68), ('directly', 147), ('tried', 889), ('approach', 1073), ('however', 1742), ('was', 2276), ('unable', 85), ('do', 4534), ('understanding', 354), ('needs', 121), ('residual', 583), ('variance', 972), ('usually', 170), ('an', 4708), ('input', 663), ('now', 1574), ('question', 2875), ('did', 600), ('researchers', 20), ('perform', 523), ('understand', 1268), ('which', 4767), ('inputs', 174), ('their', 772), ('while', 601), ('searching', 75), ('solutions', 96), ('found', 796), ('sandwich', 20), ('package', 1300), ('uses', 213), ('vcovhc', 4), ('vcovhac', 4), ('functions', 367), ('estimate', 1446), ('consistent', 93), ('covariance', 209), ('also', 2222), ('fitted', 551), ('project', 206), ('trying', 1599), ('predict', 1659), ('prices', 175), ('commodities', 7), ('oil', 34), ('aluminium', 1), ('tin', 1), ('etc', 739), ('next', 410), ('months', 236), ('apr', 49), ('should', 2616), ('go', 473), ('about', 2420), ('prediction', 867), ('done', 520), ('following', 1947), ('imported', 5), ('timeseries', 83), ('all', 3086), ('s', 5888), ('seasonality', 292), ('tends', 31), ('vary', 110), ('going', 336), ('multiplicative', 19), ('took', 98), ('log', 1810), ('convert', 92), ('into', 1424), ('additive', 53), ('decomposed', 11), ('stl', 93), ('planning', 45), ('use', 3969), ('holt', 29), ('winters', 22), ('exponential', 224), ('smoothing', 106), ('arima', 1100), ('neural', 314), ('net', 112), ('forecast', 886), ('split', 246), ('training', 1570), ('choose', 421), ('less', 475), ('mae', 78), ('mpe', 27), ('mape', 56), ('mase', 45), ('doing', 865), ('one', 4218), ('had', 516), ('before', 639), ('passing', 34), ('smooth', 112), ('if', 7147), ('yes', 487), ('shows', 285), ('both', 1122), ('edit', 565), ('attaching', 7), ('plot', 1550), ('c', 6002), ('month', 497), ('coil', 5), ('frame', 741), ('you', 3088), ('tell', 312), ('give', 718), ('tips', 38), ('identify', 177), ('them', 1091), ('manufacturer', 17), ('bulbs', 9), ('claim', 79), ('lifetime', 16), ('burning', 3), ('hours', 156), ('sample', 2241), ('tubes', 1), ('were', 800), ('taken', 282), ('random', 1924), ('tested', 158), ('life', 72), ('sd', 467), ('manufacturers', 2), ('accepted', 51), ('significance', 397), ('level', 922), ('only', 1953), ('think', 1020), ('distribution', 3215), ('idea', 533), ('hypothesis', 963), ('solved', 58), ('appreicated', 1), ('thank', 540), ('implemented', 124), ('own', 185), ('chi', 492), ('square', 355), ('ranker', 2), ('example', 2211), ('internet', 53), ('ranks', 29), ('attribute', 97), ('its', 695), ('class', 1693), ('weka', 62), ('generates', 38), ('attributes', 182), ('single', 454), ('shouldn', 83), ('t', 10688), ('generate', 359), ('lists', 22), ('m', 6528), ('set', 3123), ('times', 884), ('certain', 430), ('event', 480), ('then', 2813), ('parameters', 1018), ('ditribution', 2), ('function', 3059), ('fit', 2947), ('similar', 687), ('easyfit', 4), ('fairly', 127), ('new', 1224), ('statistics', 583), ('general', 428), ('having', 610), ('getting', 394), ('off', 247), ('ground', 53), ('attempting', 90), ('fitdistr', 50), ('figure', 401), ('out', 1981), ('supports', 22), ('fatigue', 13), ('another', 652), ('might', 698), ('serve', 23), ('better', 1032), ('help', 1467), ('provide', 291), ('greatly', 181), ('appreciated', 543), ('nick', 3), ('occurrence', 56), ('disease', 160), ('represented', 81), ('binary', 988), ('dependent', 910), ('dv', 196), ('independent', 1232), ('ivs', 87), ('different', 2591), ('need', 1562), ('create', 514), ('multi', 161), ('treatment', 449), ('placed', 25), ('lower', 382), ('order', 1149), ('demographics', 16), ('higher', 394), ('familiar', 95), ('multilevel', 54), ('logistic', 2440), ('names', 313), ('necessary', 113), ('analyses', 72), ('hints', 79), ('useful', 223), ('wonder', 118), ('gee', 33), ('generalized', 141), ('estimating', 126), ('equation', 675), ('answer', 837), ('because', 1275), ('correlations', 92), ('fixed', 402), ('effects', 636), ('again', 286), ('paired', 95), ('among', 199), ('else', 260), ('sources', 62), ('currently', 357), ('multiple', 805), ('frames', 7), ('generally', 124), ('look', 653), ('something', 1043), ('timestamp', 46), ('ms', 65), ('detail', 60), ('converted', 46), ('strptime', 4), ('field', 140), ('cases', 565), ('stamps', 2), ('irregular', 17), ('fields', 39), ('either', 442), ('character', 41), ('int', 434), ('three', 634), ('types', 210), ('able', 564), ('term', 566), ('loosely', 7), ('sometimes', 104), ('source', 146), ('numeric', 407), ('categorical', 676), ('string', 46), ('sure', 1001), ('proper', 96), ('b', 5052), ('numbers', 354), ('likely', 336), ('end', 947), ('discover', 10), ('realize', 64), ('pretty', 220), ('vague', 16), ('big', 323), ('area', 252), ('mostly', 92), ('basic', 251), ('examples', 384), ('point', 1044), ('direction', 253), ('transform', 198), ('format', 141), ('let', 1136), ('things', 260), ('simulated', 92), ('ma', 183), ('process', 561), ('seed', 304), ('rnorm', 507), ('running', 388), ('auto', 323), ('gives', 550), ('coefficients', 1564), ('sigma', 1432), ('estimated', 432), ('likelihood', 741), ('aic', 528), ('aicc', 97), ('bic', 150), ('fitting', 394), ('call', 580), ('x', 18037), ('intercept', 1230), ('thought', 438), ('selected', 201), ('based', 1209), ('reviewing', 12), ('knowledge', 193), ('document', 101), ('commonly', 31), ('tests', 537), ('augmented', 40), ('dickey', 64), ('fuller', 67), ('pacf', 91), ('wikipedia', 125), ('common', 197), ('statistical', 602), ('list', 712), ('specific', 493), ('analysis', 1277), ('en', 66), ('wiki', 56), ('bit', 343), ('analytics', 19), ('survey', 110), ('trustworthy', 3), ('proactive', 2), ('provides', 99), ('quality', 137), ('service', 56), ('exceptional', 2), ('recommend', 72), ('us', 245), ('others', 233), ('want', 2584), ('iv', 250), ('previously', 82), ('language', 100), ('binomial', 1069), ('outcomes', 168), ('continuous', 809), ('scenario', 135), ('consists', 112), ('entirely', 48), ('ordinal', 210), ('regress', 92), ('share', 93), ('your', 600), ('techniques', 199), ('solve', 419), ('apart', 44), ('method', 1520), ('logsitic', 1), ('perfect', 91), ('show', 622), ('sufficiently', 22), ('high', 614), ('vif', 69), ('size', 980), ('ignore', 59), ('multicollinearity', 85), ('propose', 23), ('produce', 161), ('predictions', 384), ('changing', 84), ('say', 1320), ('increase', 289), ('units', 148), ('increased', 52), ('unit', 239), ('makes', 306), ('total', 642), ('purpose', 141), ('error', 2506), ('predicted', 603), ('accordingly', 24), ('see', 1414), ('above', 948), ('separately', 106), ('course', 353), ('intercepts', 81), ('highly', 182), ('significant', 1041), ('main', 345), ('objective', 121), ('numerical', 132), ('separate', 179), ('output', 1122), ('utility', 18), ('final', 337), ('differs', 41), ('produced', 95), ('emphasis', 8), ('increases', 144), ('up', 1022), ('joint', 142), ('density', 439), ('f', 3284), ('pdf', 299), ('weighted', 190), ('sum', 1986), ('z', 2415), ('ax', 71), ('advance', 379), ('advice', 235), ('references', 127), ('aim', 79), ('study', 328), ('covariate', 133), ('observations', 1016), ('similarly', 72), ('note', 391), ('complete', 161), ('separation', 57), ('anomalous', 13), ('entries', 60), ('rows', 315), ('correspond', 52), ('expect', 199), ('diverge', 8), ('reaches', 22), ('maximum', 299), ('ray', 6), ('rightarrow', 101), ('infty', 369), ('iteration', 127), ('std', 655), ('pr', 830), ('dispersion', 146), ('parameter', 815), ('family', 900), ('null', 886), ('deviance', 544), ('degrees', 534), ('freedom', 534), ('number', 2466), ('fisher', 179), ('scoring', 152), ('iterations', 223), ('message', 164), ('algorithm', 630), ('converge', 100), ('moreover', 76), ('default', 232), ('warning', 155), ('contradiction', 8), ('presence', 116), ('finite', 88), ('explicitly', 41), ('computed', 130), ('inverse', 117), ('hessian', 39), ('disappears', 7), ('still', 623), ('situation', 221), ('possible', 1104), ('stops', 13), ('automatically', 88), ('after', 943), ('avitus', 2), ('derive', 120), ('posterior', 170), ('precision', 155), ('wishart', 3), ('could', 1936), ('wishartwishart', 1), ('wishartmulti', 1), ('normal', 933), ('read', 643), ('posts', 42), ('problem', 2433), ('resolved', 4), ('answers', 207), ('simple', 744), ('bite', 1), ('incidence', 19), ('related', 366), ('district', 26), ('zone', 31), ('vacc', 1), ('control', 479), ('districts', 11), ('rorya', 4), ('na', 3435), ('defined', 262), ('singularities', 23), ('seems', 899), ('linearity', 68), ('factors', 401), ('solution', 431), ('add', 401), ('removes', 5), ('nas', 34), ('change', 713), ('suddenly', 12), ('becomes', 103), ('neither', 61), ('good', 1109), ('coefficent', 1), ('wondering', 467), ('know', 2652), ('why', 1240), ('happening', 67), ('reproducible', 35), ('df', 1652), ('structure', 372), ('label', 355), ('bunda', 1), ('maswa', 1), ('musoma', 1), ('serengeti', 1), ('tarime', 1), ('factor', 1279), ('bites', 3), ('deaths', 27), ('row', 325), ('code', 1286), ('attach', 40), ('lm', 1455), ('sessioninfo', 5), ('version', 159), ('platform', 14), ('apple', 40), ('darwin', 1), ('locale', 5), ('gb', 32), ('utf', 15), ('attached', 73), ('base', 148), ('packages', 232), ('grid', 125), ('stats', 222), ('graphics', 14), ('grdevices', 5), ('utils', 9), ('datasets', 271), ('methods', 577), ('ggplot', 153), ('loaded', 23), ('via', 151), ('namespace', 6), ('colorspace', 4), ('digest', 4), ('gtable', 4), ('mass', 137), ('munsell', 4), ('plyr', 13), ('proto', 3), ('rcpp', 4), ('reshape', 19), ('scales', 44), ('stringr', 4), ('tools', 85), ('predictive', 252), ('attrition', 12), ('desk', 2), ('center', 80), ('daily', 314), ('qtm', 1), ('calls', 47), ('attendance', 8), ('customer', 187), ('feedback', 42), ('q', 1631), ('agents', 22), ('who', 370), ('left', 1250), ('job', 115), ('ones', 245), ('duration', 89), ('tendency', 15), ('probability', 2537), ('staying', 7), ('leaving', 32), ('his', 130), ('her', 42), ('performance', 463), ('train', 997), ('trained', 177), ('avg', 103), ('metrics', 111), ('advise', 45), ('attempt', 145), ('making', 164), ('gone', 23), ('thru', 3), ('various', 188), ('case', 1478), ('studies', 59), ('models', 1736), ('titanic', 20), ('survival', 194), ('wisconsin', 1), ('dews', 1), ('decided', 97), ('weekly', 134), ('aggregates', 5), ('populations', 68), ('attrites', 10), ('non', 967), ('approx', 125), ('aw', 1), ('week', 252), ('naw', 1), ('post', 313), ('ran', 223), ('kept', 25), ('aside', 26), ('contained', 33), ('accurate', 161), ('correct', 1158), ('wrong', 598), ('meaning', 134), ('im', 54), ('signifies', 1), ('googled', 12), ('little', 258), ('regarding', 195), ('issue', 294), ('came', 170), ('across', 390), ('stackoveflow', 1), ('suggested', 182), ('bayesglm', 14), ('instead', 439), ('being', 727), ('newbie', 32), ('guide', 47), ('respect', 99), ('fluke', 1), ('gradient', 203), ('descent', 107), ('newton', 33), ('minimizing', 29), ('cost', 354), ('calculate', 1001), ('second', 739), ('derivative', 66), ('too', 458), ('minimize', 88), ('means', 687), ('zeroes', 26), ('frac', 2166), ('j', 1504), ('h', 1951), ('minimum', 126), ('thus', 340), ('avoiding', 7), ('calculation', 123), ('estimator', 187), ('mathcal', 235), ('n', 7064), ('theta', 1705), ('differently', 60), ('don', 1324), ('normally', 236), ('thinking', 345), ('bf', 90), ('min', 669), ('leq', 331), ('supposed', 114), ('check', 437), ('centered', 35), ('told', 87), ('place', 148), ('ask', 209), ('wrote', 55), ('appears', 146), ('generating', 101), ('betas', 104), ('labels', 283), ('everything', 147), ('very', 1471), ('close', 263), ('true', 1465), ('fails', 66), ('library', 780), ('initialize', 12), ('rep', 530), ('group', 1192), ('index', 299), ('gi', 8), ('vector', 811), ('mode', 100), ('ncol', 138), ('exp', 652), ('max', 845), ('cl', 48), ('clogit', 31), ('strata', 32), ('several', 452), ('threads', 12), ('outputs', 172), ('people', 559), ('network', 335), ('neuralnet', 15), ('posted', 59), ('normalize', 60), ('scale', 588), ('feel', 163), ('confused', 285), ('inconsistence', 1), ('normalized', 108), ('thing', 239), ('normalizing', 17), ('result', 919), ('correctness', 11), ('concern', 58), ('developed', 39), ('detect', 120), ('micro', 3), ('events', 315), ('sleep', 8), ('couple', 90), ('seconds', 65), ('subject', 399), ('around', 524), ('full', 313), ('night', 55), ('gold', 23), ('standard', 1133), ('manual', 53), ('humans', 7), ('incredibly', 13), ('poor', 82), ('difficult', 83), ('outcome', 700), ('expert', 74), ('twice', 46), ('luckily', 3), ('possession', 8), ('patient', 156), ('been', 1020), ('scored', 26), ('experts', 35), ('rare', 84), ('sort', 221), ('validation', 546), ('compare', 629), ('epoch', 62), ('indicates', 89), ('many', 879), ('voters', 11), ('bias', 171), ('towards', 75), ('natural', 85), ('kind', 481), ('average', 645), ('comparison', 145), ('amount', 285), ('averages', 43), ('fact', 322), ('compared', 210), ('background', 187), ('believe', 259), ('finding', 226), ('put', 214), ('lot', 371), ('bad', 267), ('ruin', 3), ('party', 44), ('few', 416), ('track', 67), ('probabilistic', 75), ('manner', 31), ('taking', 281), ('apriori', 4), ('toward', 18), ('account', 319), ('guess', 283), ('absence', 52), ('deviation', 295), ('distributions', 577), ('applying', 130), ('gaussian', 343), ('gpr', 7), ('assuming', 257), ('covseiso', 3), ('rbf', 19), ('made', 352), ('identical', 116), ('gpml', 17), ('runs', 89), ('problems', 344), ('cholesky', 10), ('decomposition', 70), ('noise', 276), ('matern', 1), ('run', 982), ('smoothly', 6), ('grp', 9), ('begin', 487), ('decide', 132), ('weather', 84), ('learn', 278), ('deal', 173), ('removing', 81), ('hassle', 2), ('imo', 3), ('search', 133), ('injury', 21), ('computer', 51), ('majority', 53), ('hour', 165), ('range', 430), ('peaked', 3), ('noticed', 92), ('exhibit', 17), ('shape', 295), ('outliers', 190), ('treat', 157), ('suggestions', 263), ('comments', 121), ('typical', 69), ('supervised', 96), ('learning', 939), ('observe', 101), ('confront', 1), ('hidden', 210), ('observed', 364), ('covariates', 229), ('lie', 25), ('hyperplanes', 4), ('wedge', 11), ('adapt', 19), ('svm', 450), ('lecture', 51), ('andrew', 40), ('ng', 43), ('coursea', 1), ('machine', 614), ('he', 301), ('gave', 100), ('minimises', 6), ('squares', 228), ('comes', 197), ('performed', 161), ('cancel', 12), ('half', 113), ('come', 319), ('simply', 339), ('minimise', 6), ('residuals', 1018), ('stochastic', 102), ('epsilon', 677), ('sim', 522), ('wn', 12), ('text', 1085), ('var', 962), ('constants', 23), ('least', 526), ('tz', 16), ('partial', 261), ('tx', 95), ('leftrightarrow', 12), ('hat', 1239), ('qquad', 42), ('forall', 63), ('cov', 207), ('mistake', 63), ('sgd', 35), ('feature', 701), ('ok', 135), ('mix', 38), ('real', 509), ('features', 1058), ('anything', 260), ('scaling', 81), ('normalization', 47), ('leave', 94), ('constant', 346), ('coefficient', 588), ('manually', 132), ('calculator', 10), ('alpha', 1370), ('performing', 135), ('success', 271), ('rate', 600), ('looks', 483), ('started', 131), ('xgboost', 28), ('boosting', 55), ('reg', 131), ('eval', 29), ('metric', 150), ('auc', 195), ('under', 359), ('curve', 345), ('evaluation', 73), ('measure', 525), ('improvement', 45), ('target', 353), ('failure', 103), ('matter', 122), ('choosing', 88), ('classification', 1290), ('records', 124), ('labeled', 120), ('modeled', 69), ('explain', 500), ('ml', 213), ('part', 541), ('follows', 494), ('shapiro', 68), ('wilk', 40), ('precisionh', 1), ('got', 524), ('assume', 589), ('larger', 201), ('reject', 190), ('allow', 115), ('carrying', 8), ('leads', 99), ('interpretation', 181), ('remaining', 102), ('relative', 205), ('effect', 844), ('precisely', 36), ('equivalent', 145), ('scores', 344), ('wildly', 8), ('mwe', 6), ('car', 142), ('fscore', 4), ('partner', 15), ('status', 188), ('conformity', 2), ('fcategory', 2), ('moore', 3), ('nint', 4), ('o', 200), ('remotely', 7), ('essentially', 132), ('comparision', 2), ('corresponds', 53), ('respectively', 144), ('large', 594), ('represent', 216), ('distance', 352), ('rmsd', 6), ('proteins', 2), ('building', 193), ('forest', 307), ('matches', 52), ('short', 143), ('distances', 80), ('biased', 89), ('care', 90), ('accurately', 38), ('isn', 233), ('sampling', 265), ('guarantee', 15), ('much', 848), ('stratify', 10), ('world', 63), ('validate', 62), ('represents', 160), ('glmnet', 216), ('report', 133), ('percentage', 173), ('accuracy', 702), ('returned', 74), ('decimals', 4), ('threshold', 266), ('confusion', 146), ('comparing', 194), ('actual', 379), ('pasted', 13), ('reporting', 17), ('predicting', 222), ('csv', 285), ('datafile', 3), ('header', 75), ('mat', 100), ('cv', 251), ('nrow', 199), ('integer', 100), ('testx', 4), ('yactual', 2), ('ftable', 3), ('diag', 61), ('length', 940), ('combine', 144), ('five', 123), ('networks', 131), ('softmax', 50), ('layer', 147), ('classes', 537), ('shown', 242), ('axis', 181), ('stamp', 17), ('financial', 79), ('blue', 258), ('line', 584), ('buy', 92), ('red', 367), ('sell', 37), ('yellow', 20), ('nothing', 99), ('layers', 41), ('considered', 178), ('global', 47), ('perhaps', 201), ('straight', 77), ('forward', 132), ('takes', 187), ('calculated', 388), ('moving', 96), ('window', 177), ('underlying', 121), ('although', 209), ('nn', 128), ('assumptions', 184), ('targets', 56), ('differ', 113), ('obviously', 190), ('unsurprisingly', 3), ('correlation', 735), ('due', 315), ('correlated', 256), ('dividing', 38), ('distinct', 68), ('gut', 9), ('doesn', 519), ('seem', 450), ('information', 688), ('sixth', 7), ('whose', 102), ('attaches', 1), ('suggests', 97), ('bayesian', 225), ('updating', 30), ('tree', 333), ('knn', 75), ('bench', 2), ('marking', 1), ('simulate', 132), ('classifier', 824), ('significantly', 282), ('chance', 247), ('repeated', 156), ('cross', 610), ('fold', 192), ('stratified', 18), ('monte', 49), ('carlo', 49), ('exactly', 352), ('though', 359), ('boostrap', 3), ('bootstrap', 172), ('randomly', 228), ('select', 247), ('classify', 267), ('classifications', 29), ('overall', 226), ('individual', 403), ('accuracies', 29), ('reasons', 83), ('important', 317), ('usual', 86), ('quite', 425), ('frankharrel', 1), ('discontinuous', 2), ('improper', 12), ('rule', 129), ('particular', 483), ('fine', 124), ('optimizing', 14), ('already', 310), ('naively', 9), ('mathrm', 157), ('binom', 101), ('upper', 170), ('percentile', 43), ('shuffling', 9), ('shuffle', 13), ('whole', 202), ('folds', 60), ('shuffled', 11), ('repeat', 68), ('obtain', 272), ('looked', 159), ('closer', 56), ('inside', 65), ('expected', 473), ('shuffles', 4), ('causes', 55), ('contrast', 75), ('truly', 26), ('built', 153), ('according', 278), ('nicely', 24), ('empirical', 110), ('difference', 910), ('somehow', 149), ('approximate', 93), ('actually', 456), ('ages', 16), ('update', 272), ('third', 124), ('mind', 117), ('confidence', 610), ('interval', 624), ('excludes', 3), ('upon', 72), ('huge', 77), ('samples', 764), ('assumed', 142), ('take', 675), ('anymore', 24), ('hand', 205), ('divide', 96), ('root', 182), ('effective', 52), ('decompose', 54), ('univariate', 98), ('seasonal', 330), ('components', 183), ('valid', 204), ('those', 667), ('original', 400), ('timer', 3), ('tsdata', 19), ('jan', 104), ('feb', 71), ('mar', 59), ('jun', 47), ('jul', 42), ('aug', 47), ('sep', 112), ('oct', 47), ('nov', 41), ('dec', 88), ('periodic', 26), ('remainder', 33), ('wanted', 195), ('sense', 510), ('considering', 157), ('season', 210), ('concerned', 59), ('violating', 9), ('major', 51), ('rules', 75), ('controlling', 35), ('element', 106), ('hopefully', 48), ('reducing', 29), ('condition', 261), ('measured', 223), ('individuals', 185), ('population', 484), ('whereas', 95), ('yields', 77), ('apply', 452), ('percentages', 38), ('wide', 64), ('enough', 289), ('conclude', 106), ('dealing', 102), ('beyond', 43), ('proportions', 99), ('plug', 36), ('analyze', 159), ('options', 132), ('stuck', 143), ('str', 49), ('dat', 360), ('obs', 200), ('neg', 50), ('pos', 77), ('countdf', 1), ('freq', 90), ('clearly', 125), ('tending', 3), ('positives', 109), ('false', 675), ('try', 531), ('statistically', 256), ('implying', 8), ('awful', 4), ('detecting', 27), ('possibly', 113), ('flags', 6), ('subjects', 183), ('completeness', 8), ('table', 611), ('count', 374), ('equality', 36), ('continuity', 25), ('correction', 82), ('sided', 77), ('percent', 107), ('estimates', 443), ('prop', 82), ('lead', 122), ('thread', 28), ('discussion', 53), ('vis', 3), ('agresti', 9), ('matched', 34), ('frequencies', 63), ('independence', 105), ('went', 53), ('step', 549), ('further', 232), ('treating', 36), ('methodologically', 2), ('stretch', 1), ('poisson', 419), ('byrow', 14), ('dimnames', 28), ('require', 183), ('vcd', 5), ('gnm', 5), ('tab', 33), ('counts', 161), ('gl', 24), ('symm', 14), ('formula', 1009), ('scorespos', 2), ('negpos', 3), ('pospos', 3), ('follow', 236), ('appropriate', 424), ('score', 706), ('fits', 169), ('last', 402), ('conclusion', 83), ('twitter', 23), ('sentiment', 43), ('curios', 1), ('textual', 6), ('words', 315), ('bag', 62), ('ve', 1323), ('tweets', 32), ('state', 481), ('art', 41), ('responses', 150), ('direct', 57), ('mail', 15), ('marketing', 57), ('campaign', 29), ('future', 236), ('campaigns', 14), ('day', 695), ('historical', 117), ('wk', 8), ('forecasting', 233), ('ll', 219), ('most', 757), ('happen', 113), ('respond', 16), ('approaching', 16), ('love', 29), ('hear', 27), ('days', 583), ('install', 17), ('weibull', 100), ('respondants', 1), ('simulation', 175), ('rweibull', 9), ('generation', 24), ('round', 132), ('frequency', 441), ('notice', 53), ('extends', 8), ('our', 418), ('limit', 103), ('modeling', 194), ('dweibull', 6), ('users', 169), ('posting', 33), ('behavior', 121), ('during', 239), ('bunch', 72), ('user', 319), ('tweet', 24), ('behaviors', 12), ('curious', 72), ('pose', 11), ('literature', 149), ('saw', 86), ('peak', 77), ('mixture', 101), ('complex', 98), ('task', 242), ('worth', 64), ('contains', 237), ('author', 70), ('activity', 77), ('terms', 637), ('pm', 104), ('appreciate', 302), ('pa', 25), ('ny', 28), ('nj', 4), ('combined', 73), ('states', 181), ('appear', 96), ('infrequently', 5), ('category', 357), ('equally', 49), ('populated', 5), ('million', 85), ('cell', 98), ('issues', 101), ('bin', 118), ('zip', 81), ('occupation', 17), ('binning', 16), ('together', 169), ('homework', 99), ('assignment', 75), ('asking', 148), ('tasks', 45), ('gamma', 624), ('descriptive', 15), ('drawn', 140), ('coding', 89), ('asks', 40), ('agreement', 15), ('central', 45), ('theorem', 96), ('clt', 14), ('fully', 67), ('connect', 6), ('cash', 14), ('credit', 74), ('card', 59), ('debit', 3), ('purchase', 80), ('became', 18), ('fail', 121), ('include', 393), ('interaction', 507), ('exists', 121), ('included', 181), ('relays', 2), ('construction', 25), ('electric', 6), ('circuits', 2), ('properly', 83), ('operate', 12), ('independently', 63), ('current', 298), ('flow', 70), ('activated', 4), ('flowing', 3), ('switches', 4), ('functioning', 4), ('denote', 79), ('switch', 23), ('works', 246), ('subscript', 11), ('system', 293), ('neq', 87), ('easy', 202), ('jw', 3), ('kw', 7), ('jf', 5), ('kf', 8), ('back', 199), ('pages', 36), ('book', 333), ('confirms', 5), ('combinations', 120), ('classical', 49), ('bayes', 228), ('says', 207), ('must', 267), ('exercises', 16), ('incorrect', 100), ('edited', 29), ('misunderstand', 5), ('suspect', 81), ('elastic', 30), ('regularisation', 16), ('selection', 364), ('shrink', 7), ('toghether', 1), ('prevent', 19), ('overfitting', 79), ('pca', 170), ('linnearly', 1), ('uncorrelated', 42), ('orthonal', 1), ('optimazation', 1), ('simmular', 1), ('prefer', 86), ('reduce', 134), ('rest', 132), ('pcs', 15), ('manageble', 1), ('interesed', 1), ('developing', 34), ('regards', 89), ('suppose', 651), ('somewhere', 70), ('lets', 111), ('python', 179), ('sklearn', 82), ('someone', 569), ('relevance', 24), ('combining', 47), ('theoretically', 44), ('practically', 14), ('edition', 31), ('introduction', 71), ('section', 109), ('dose', 45), ('reproduce', 48), ('copied', 14), ('trial', 92), ('mle', 147), ('beet', 7), ('cbind', 262), ('logit', 639), ('derives', 6), ('closely', 30), ('beetles', 2), ('killed', 8), ('undefined', 16), ('agrees', 3), ('mathematical', 70), ('reasoning', 59), ('computing', 96), ('didn', 149), ('agree', 47), ('great', 174), ('explanation', 178), ('through', 418), ('replace', 136), ('inf', 120), ('nan', 103), ('operation', 26), ('regularly', 13), ('inspect', 21), ('failures', 55), ('custom', 34), ('products', 102), ('batches', 10), ('every', 565), ('product', 365), ('stating', 20), ('desired', 64), ('needed', 130), ('confident', 53), ('hitting', 9), ('aware', 123), ('precise', 39), ('situations', 45), ('hypergeometric', 20), ('struggling', 91), ('fewer', 53), ('reason', 290), ('math', 122), ('processing', 57), ('latex', 6), ('progress', 33), ('commands', 44), ('qhyper', 1), ('away', 110), ('worse', 99), ('admittedly', 8), ('intuition', 118), ('giving', 128), ('pause', 3), ('specimens', 7), ('declaring', 1), ('fill', 65), ('gap', 26), ('textbook', 67), ('patterns', 96), ('recognition', 48), ('cristopher', 1), ('bishop', 24), ('shall', 35), ('corresponding', 226), ('equal', 469), ('polynomial', 174), ('straightforward', 69), ('intuitive', 69), ('helpful', 146), ('opinion', 62), ('key', 71), ('depicts', 2), ('seeing', 67), ('feasible', 32), ('ie', 83), ('tumor', 14), ('color', 133), ('darkness', 2), ('lethal', 1), ('benign', 4), ('growing', 17), ('describes', 31), ('growth', 112), ('discrete', 248), ('uniform', 209), ('four', 223), ('integers', 49), ('ith', 12), ('digit', 20), ('pairwise', 39), ('totally', 66), ('generalize', 26), ('exercise', 147), ('social', 25), ('facotrs', 1), ('motivates', 1), ('write', 229), ('simplified', 38), ('member', 53), ('entry', 30), ('previous', 348), ('comment', 90), ('dropped', 28), ('stay', 34), ('drop', 126), ('dopped', 1), ('mathbb', 340), ('compact', 7), ('support', 253), ('region', 250), ('entropy', 118), ('explains', 55), ('integral', 54), ('dx', 116), ('monograph', 2), ('theory', 179), ('combinatorial', 5), ('optimization', 102), ('steele', 2), ('quantity', 53), ('describe', 132), ('shortest', 11), ('path', 100), ('operations', 26), ('experience', 143), ('asked', 229), ('algorithms', 298), ('addition', 151), ('preprocessing', 26), ('applied', 207), ('property', 115), ('except', 100), ('miss', 29), ('saying', 76), ('improve', 172), ('chose', 62), ('justified', 13), ('sensitivity', 92), ('forests', 92), ('bnlearn', 8), ('jenkins', 11), ('begins', 10), ('autocorrelation', 173), ('plots', 216), ('suggest', 254), ('arma', 153), ('continues', 18), ('criteria', 95), ('parsimonious', 12), ('steps', 208), ('visual', 38), ('inspection', 26), ('criterion', 75), ('errors', 459), ('procedures', 37), ('sectional', 34), ('domain', 77), ('downward', 10), ('selecting', 72), ('lags', 155), ('analogous', 20), ('lastly', 22), ('down', 268), ('entire', 127), ('eliminate', 27), ('concerns', 24), ('textbooks', 19), ('focused', 11), ('uncertainty', 111), ('exact', 222), ('accounts', 40), ('observation', 445), ('associated', 202), ('easily', 123), ('intervals', 286), ('pair', 126), ('allows', 83), ('generated', 222), ('questionable', 5), ('basically', 237), ('lwr', 42), ('upr', 32), ('graph', 282), ('solid', 17), ('dashed', 20), ('lines', 333), ('collected', 149), ('pairs', 155), ('extract', 120), ('tails', 67), ('scheme', 34), ('counting', 25), ('sorting', 5), ('competing', 11), ('haven', 158), ('figured', 51), ('fix', 110), ('numpoi', 16), ('mea', 10), ('sta', 12), ('cumsum', 39), ('noimea', 2), ('noista', 2), ('datfra', 2), ('mod', 395), ('onetai', 3), ('tail', 105), ('later', 96), ('datfraa', 2), ('modprea', 6), ('newdata', 157), ('datfrab', 2), ('modpreb', 6), ('ylim', 77), ('lwd', 68), ('col', 418), ('lty', 68), ('green', 122), ('lies', 45), ('numtri', 5), ('modprecfit', 4), ('hold', 82), ('modpreclwr', 4), ('modprecupr', 4), ('matricies', 2), ('dataframe', 87), ('datfrac', 2), ('modprec', 4), ('store', 87), ('ft', 13), ('processed', 16), ('quantile', 128), ('modprecfitfin', 2), ('modpreclwrfin', 3), ('modprecuprfin', 3), ('sent', 31), ('flag', 59), ('past', 211), ('differences', 317), ('shed', 35), ('light', 64), ('proportional', 63), ('portfolio', 30), ('riskiness', 2), ('aspects', 17), ('constantly', 12), ('managed', 38), ('always', 338), ('investing', 4), ('strategy', 86), ('said', 154), ('risk', 208), ('fluctuate', 8), ('gets', 140), ('re', 306), ('balanced', 66), ('positively', 29), ('roughly', 99), ('negatively', 21), ('deviations', 59), ('examined', 16), ('stated', 54), ('earlier', 45), ('magnitude', 59), ('assign', 76), ('proposed', 51), ('firstly', 35), ('dev', 78), ('sqrt', 541), ('dfrac', 136), ('bar', 586), ('especially', 119), ('speaking', 24), ('deltas', 22), ('gathered', 20), ('distributed', 453), ('measuring', 50), ('regardless', 25), ('folded', 4), ('nobody', 10), ('hope', 190), ('clarify', 61), ('originally', 37), ('recommended', 53), ('treated', 85), ('coming', 94), ('regressions', 194), ('manipulating', 5), ('cox', 89), ('transformation', 242), ('families', 30), ('belongs', 109), ('ordering', 29), ('possibility', 43), ('achieve', 121), ('start', 609), ('inventing', 2), ('invented', 3), ('measures', 235), ('research', 218), ('interesting', 128), ('rank', 280), ('experimental', 85), ('shortly', 3), ('variations', 36), ('regard', 43), ('misunderstood', 10), ('focus', 61), ('calibration', 36), ('ranking', 41), ('interest', 184), ('ideally', 92), ('formulated', 16), ('optimize', 64), ('against', 268), ('optional', 10), ('concentrating', 2), ('highest', 144), ('rated', 12), ('ratings', 35), ('worried', 27), ('penalization', 12), ('whatever', 48), ('predictor', 743), ('globally', 3), ('long', 324), ('resp', 34), ('subset', 249), ('pred', 398), ('kolmogorov', 75), ('smirnow', 1), ('checking', 66), ('qqplot', 25), ('nor', 64), ('homoscedasticity', 14), ('respected', 2), ('peter', 9), ('flom', 4), ('polr', 44), ('him', 26), ('initial', 226), ('vmin', 1), ('notification', 3), ('probabilities', 618), ('numerically', 30), ('occurred', 44), ('contributions', 13), ('welcome', 95), ('detailed', 42), ('utilities', 9), ('company', 120), ('details', 97), ('bill', 12), ('date', 426), ('billed', 4), ('paid', 27), ('payment', 21), ('today', 53), ('broken', 26), ('mill', 4), ('perspective', 33), ('consideration', 27), ('speed', 96), ('payments', 11), ('historically', 6), ('tackle', 42), ('potentially', 54), ('modelling', 116), ('technique', 151), ('derived', 81), ('clarification', 26), ('skewed', 107), ('bell', 13), ('calculating', 171), ('includes', 116), ('ex', 112), ('dice', 45), ('roll', 41), ('coin', 142), ('flip', 28), ('resources', 72), ('mention', 59), ('loss', 260), ('brier', 21), ('spherical', 5), ('often', 181), ('guidance', 61), ('picking', 32), ('maximizes', 9), ('logarithmic', 24), ('argument', 128), ('justifications', 2), ('lasso', 164), ('finds', 26), ('sweet', 11), ('spot', 33), ('trade', 9), ('linearly', 49), ('sqaure', 2), ('relationships', 60), ('assessing', 24), ('dynamically', 5), ('pass', 135), ('plan', 77), ('action', 121), ('covering', 12), ('interactions', 131), ('xn', 66), ('adds', 17), ('plus', 72), ('atleast', 6), ('strangely', 5), ('beats', 16), ('push', 11), ('face', 39), ('dilemma', 9), ('draw', 140), ('lose', 45), ('capability', 8), ('logical', 21), ('performs', 72), ('including', 217), ('define', 194), ('mapsto', 2), ('pi', 415), ('moment', 102), ('prove', 168), ('increasing', 148), ('tedious', 4), ('expectation', 95), ('sets', 434), ('unlabeled', 39), ('maybe', 334), ('semisupervised', 1), ('shift', 79), ('arxiv', 5), ('abs', 141), ('wont', 8), ('choise', 2), ('appropiate', 1), ('strugeling', 1), ('missclassification', 4), ('ideal', 51), ('processes', 83), ('gp', 54), ('matlab', 146), ('hyper', 48), ('maximizing', 16), ('approximately', 106), ('marginalizing', 4), ('remain', 37), ('relatively', 106), ('fast', 55), ('analytical', 24), ('pseudo', 56), ('requires', 69), ('handful', 6), ('evaluations', 10), ('mcmc', 33), ('projects', 15), ('slice', 15), ('slow', 44), ('careful', 5), ('tuning', 69), ('middle', 53), ('marginalization', 2), ('laplace', 27), ('approximation', 109), ('importance', 193), ('maximize', 72), ('compute', 466), ('analytically', 19), ('multivariate', 241), ('quickly', 43), ('space', 351), ('inverting', 8), ('normality', 141), ('foresee', 1), ('alternatively', 48), ('almost', 176), ('required', 130), ('weight', 490), ('specified', 119), ('trials', 165), ('parametrized', 5), ('textrm', 49), ('arg', 27), ('iy', 10), ('ic', 33), ('affect', 122), ('file', 197), ('prior', 339), ('successes', 79), ('codes', 361), ('return', 378), ('multiply', 55), ('moderate', 23), ('worst', 22), ('classier', 2), ('learns', 7), ('badly', 15), ('practical', 77), ('elements', 153), ('ed', 48), ('typically', 68), ('dimension', 107), ('coordinates', 59), ('ratio', 541), ('bigl', 7), ('smallmatrix', 6), ('bigr', 5), ('mu', 1116), ('hypotheses', 69), ('le', 162), ('gt', 31), ('definitely', 57), ('clear', 242), ('wigan', 13), ('city', 82), ('mins', 5), ('match', 201), ('minutes', 120), ('home', 131), ('pre', 140), ('odds', 416), ('win', 112), ('proceed', 148), ('exam', 74), ('reading', 295), ('pls', 51), ('game', 191), ('goals', 33), ('manu', 10), ('possion', 1), ('quote', 21), ('poss', 2), ('possm', 1), ('possw', 1), ('decimal', 25), ('favorite', 4), ('history', 83), ('supplier', 16), ('specification', 51), ('alloy', 1), ('shipments', 2), ('specifications', 12), ('snap', 2), ('dimensions', 81), ('columns', 263), ('standardized', 97), ('employee', 52), ('pchisq', 32), ('turns', 64), ('deficiency', 9), ('predictors', 729), ('invest', 8), ('dropping', 14), ('itself', 115), ('revisiting', 2), ('worked', 75), ('extreme', 60), ('dummy', 410), ('obtained', 240), ('gss', 1), ('sexm', 5), ('meant', 38), ('bear', 24), ('ts', 626), ('garch', 128), ('forecasted', 48), ('totals', 11), ('wanting', 14), ('fall', 101), ('yearly', 46), ('trends', 99), ('called', 203), ('along', 167), ('robjhyndman', 13), ('hyndsight', 12), ('dailydata', 1), ('myts', 17), ('msts', 23), ('periods', 138), ('tbats', 95), ('fc', 73), ('spans', 13), ('bats', 20), ('damping', 3), ('ar', 383), ('rmse', 136), ('forecasts', 158), ('lo', 47), ('hi', 72), ('yielding', 15), ('ranges', 89), ('pushing', 2), ('magnitudes', 10), ('needless', 4), ('blueprint', 1), ('correctly', 271), ('receiving', 18), ('crazy', 17), ('continue', 42), ('triple', 15), ('title', 80), ('implementable', 2), ('hint', 104), ('lr', 135), ('ha', 15), ('nln', 2), ('ln', 214), ('dg', 1), ('dy', 50), ('summing', 26), ('sup', 18), ('nx', 59), ('countries', 38), ('imports', 1), ('goods', 30), ('services', 16), ('industry', 28), ('added', 187), ('revenue', 91), ('excluding', 21), ('grants', 1), ('gni', 1), ('capita', 10), ('gross', 13), ('saving', 26), ('cpia', 1), ('fiscal', 1), ('policy', 36), ('rating', 123), ('gdp', 52), ('inflation', 33), ('places', 48), ('expecting', 38), ('cheers', 27), ('modelchi', 3), ('chidf', 3), ('chisq', 111), ('prob', 228), ('rweka', 3), ('ecological', 3), ('ensemble', 59), ('difficulties', 38), ('published', 40), ('country', 99), ('established', 28), ('ample', 1), ('evidence', 77), ('web', 102), ('chow', 12), ('groups', 598), ('emerges', 2), ('st', 237), ('slope', 320), ('addressed', 10), ('robust', 142), ('ses', 22), ('exceed', 21), ('welch', 19), ('satterthwaite', 1), ('cochran', 7), ('behrens', 1), ('cbf', 1), ('slopes', 106), ('arise', 21), ('alternatives', 56), ('analyzing', 71), ('corpus', 54), ('zipf', 5), ('law', 44), ('slides', 15), ('formulas', 55), ('word', 134), ('succeeded', 3), ('replacing', 12), ('safe', 26), ('ties', 39), ('movies', 22), ('movie', 20), ('lens', 2), ('multiples', 5), ('genres', 4), ('gender', 308), ('age', 1068), ('kernel', 176), ('framework', 55), ('wherein', 6), ('highlight', 14), ('customers', 120), ('online', 157), ('brief', 18), ('snapshot', 7), ('daysinsystem', 1), ('num', 203), ('sessioncount', 1), ('maxsessionduration', 1), ('totalsessionduration', 1), ('usedcarpagecount', 1), ('variant', 23), ('oem', 2), ('oemcount', 1), ('modelcount', 1), ('carvariantleadcount', 1), ('orp', 1), ('lc', 44), ('upcoming', 9), ('alert', 9), ('brochure', 2), ('dcb', 1), ('recomendation', 2), ('distinctmodels', 1), ('distinctbrands', 1), ('tr', 79), ('randomsmote', 3), ('tune', 34), ('pertains', 6), ('indicate', 95), ('raw', 205), ('alone', 44), ('bmatrix', 142), ('xy', 75), ('greg', 5), ('whuber', 16), ('unknown', 175), ('mse', 126), ('bx', 56), ('spelled', 3), ('plugging', 13), ('sees', 4), ('blatantly', 3), ('heads', 121), ('dimensional', 139), ('clouds', 6), ('matrices', 99), ('unsupervised', 41), ('object', 331), ('differentiate', 25), ('objects', 137), ('hierarchical', 63), ('exemplary', 2), ('cats', 21), ('dogs', 11), ('pictures', 15), ('indicating', 49), ('node', 108), ('dijkstra', 1), ('nodes', 97), ('benefit', 27), ('roc', 235), ('evaluating', 51), ('agreements', 5), ('raters', 10), ('clinical', 30), ('visualizing', 4), ('rhythmicity', 2), ('heart', 33), ('extremely', 82), ('severe', 37), ('specificity', 52), ('tentative', 4), ('alogorithm', 1), ('automatize', 2), ('monthly', 221), ('ets', 104), ('weird', 51), ('zzz', 3), ('damped', 7), ('phi', 570), ('opt', 16), ('crit', 10), ('lik', 10), ('amse', 1), ('nmse', 1), ('bounds', 57), ('admissible', 3), ('restrict', 18), ('forecasthorizon', 2), ('black', 152), ('bound', 108), ('forecat', 1), ('sales', 426), ('incorporating', 10), ('estimation', 239), ('feels', 32), ('controller', 3), ('modelled', 36), ('mdp', 2), ('actions', 27), ('depending', 104), ('happens', 121), ('execution', 18), ('transition', 51), ('observability', 1), ('knows', 54), ('resulting', 156), ('entered', 29), ('representing', 96), ('determined', 74), ('diagram', 22), ('selects', 23), ('external', 65), ('consistently', 20), ('ending', 11), ('reflect', 31), ('initially', 58), ('dirichlet', 31), ('priors', 91), ('multinomial', 226), ('sensible', 44), ('fundamental', 29), ('flaw', 7), ('environment', 46), ('creates', 28), ('estimations', 12), ('continually', 7), ('observing', 63), ('books', 90), ('blogs', 7), ('lots', 55), ('reinforcement', 7), ('ldots', 249), ('throws', 14), ('artificial', 24), ('acts', 12), ('anybody', 104), ('implement', 212), ('scientific', 25), ('publications', 16), ('journals', 4), ('bioinformatics', 4), ('nature', 88), ('publication', 14), ('software', 156), ('tool', 79), ('open', 130), ('implementation', 181), ('anywhere', 33), ('hence', 181), ('link', 510), ('consisting', 48), ('scikit', 71), ('tfidfvectorizer', 6), ('optimal', 195), ('couldn', 95), ('sentences', 28), ('urls', 4), ('tf', 87), ('idf', 48), ('lsa', 4), ('truncated', 49), ('svd', 13), ('sgdc', 1), ('classifiers', 251), ('facing', 36), ('approaches', 192), ('misclassified', 10), ('themselves', 61), ('chamberlain', 2), ('classic', 33), ('panel', 134), ('econometrics', 37), ('cran', 35), ('clue', 43), ('old', 102), ('markov', 111), ('hmm', 53), ('particle', 14), ('filter', 116), ('pf', 26), ('consequence', 9), ('kalman', 34), ('circumstances', 24), ('student', 263), ('bibliography', 1), ('latent', 54), ('unobserved', 13), ('spaces', 11), ('dynamical', 18), ('mentioned', 150), ('inference', 97), ('tractable', 8), ('hmms', 8), ('infeasible', 5), ('extended', 20), ('confusing', 47), ('english', 67), ('sensor', 55), ('kinect', 2), ('recognizes', 2), ('movement', 26), ('gesture', 3), ('helped', 12), ('distinguish', 31), ('sorry', 108), ('parts', 109), ('naive', 217), ('convincing', 9), ('conjugateprior', 2), ('understood', 84), ('umbrella', 4), ('dynamic', 89), ('subclasses', 3), ('mlg', 1), ('eng', 3), ('cam', 3), ('ac', 32), ('uk', 30), ('zoubin', 2), ('ijprai', 1), ('furthermore', 64), ('valued', 54), ('filtering', 39), ('extensions', 8), ('conceptually', 31), ('vs', 495), ('terminology', 33), ('blurry', 1), ('once', 215), ('stumbled', 15), ('simultaneous', 30), ('otherwise', 185), ('inconsistent', 9), ('richardhardy', 2), ('sound', 88), ('confirm', 53), ('preferably', 38), ('reference', 247), ('confirmation', 10), ('prevail', 1), ('areas', 50), ('fourier', 69), ('extraction', 33), ('spectral', 14), ('motivation', 24), ('graphical', 38), ('files', 50), ('txt', 47), ('invocations', 1), ('starting', 153), ('heavy', 36), ('onestep', 10), ('head', 204), ('print', 299), ('prints', 10), ('description', 95), ('studying', 111), ('ways', 244), ('component', 185), ('pointers', 71), ('aren', 70), ('completely', 157), ('items', 169), ('sold', 52), ('promotional', 5), ('record', 70), ('promo', 10), ('arimax', 46), ('continous', 24), ('zeros', 93), ('inflated', 51), ('regrssion', 4), ('garchfit', 13), ('xx', 146), ('widely', 27), ('setting', 135), ('rose', 40), ('iris', 156), ('cow', 1), ('horse', 28), ('intuitively', 84), ('viewpoint', 2), ('computational', 37), ('depends', 105), ('happy', 86), ('formalize', 3), ('considerations', 11), ('stuggling', 1), ('hoping', 102), ('spectra', 4), ('characteristic', 58), ('reciprocal', 22), ('roots', 27), ('modulus', 3), ('plotting', 116), ('facts', 10), ('psi', 60), ('omega', 197), ('expanded', 11), ('cos', 78), ('conjugates', 1), ('unimodal', 15), ('arccos', 1), ('lying', 8), ('strictly', 39), ('relate', 45), ('passes', 42), ('engle', 7), ('granger', 49), ('egcm', 1), ('durbin', 27), ('watson', 22), ('adding', 196), ('autoregressive', 64), ('armax', 14), ('spurious', 29), ('implementations', 31), ('decision', 303), ('trees', 240), ('instances', 162), ('relevant', 170), ('crossvalidated', 18), ('sizes', 139), ('aggregation', 9), ('aggregate', 48), ('aggregated', 33), ('smirnov', 68), ('powerful', 39), ('involve', 22), ('temp', 227), ('cause', 79), ('involving', 27), ('talking', 41), ('ecology', 4), ('scaled', 195), ('unaware', 9), ('logistics', 5), ('richard', 3), ('leveling', 1), ('specifically', 187), ('wind', 50), ('adf', 87), ('kpss', 55), ('doesnt', 15), ('differencing', 50), ('sinusoidal', 6), ('realy', 3), ('abou', 1), ('tnx', 1), ('trouble', 132), ('seq', 242), ('saved', 17), ('histogram', 125), ('starts', 46), ('clustered', 31), ('reduced', 93), ('clusters', 132), ('discriminant', 60), ('spss', 150), ('clasification', 2), ('segment', 40), ('healthy', 18), ('disappearing', 1), ('cluster', 214), ('causing', 39), ('viable', 8), ('alphabet', 5), ('multidimensional', 13), ('intention', 10), ('pattern', 232), ('matching', 71), ('genetic', 25), ('profitable', 4), ('extra', 68), ('describing', 46), ('interpolates', 1), ('preserving', 9), ('doctors', 11), ('consultations', 3), ('influenza', 3), ('interpolation', 21), ('splines', 38), ('conserve', 1), ('interpolated', 4), ('recorded', 81), ('beginning', 66), ('grateful', 76), ('updated', 51), ('wdayno', 2), ('yearday', 2), ('influ', 2), ('res', 225), ('ys', 21), ('stolen', 3), ('rhelp', 1), ('remained', 7), ('unanswered', 7), ('endogenous', 21), ('exogenous', 51), ('instrument', 25), ('censored', 45), ('instrumental', 10), ('tobit', 26), ('stata', 120), ('ivtobit', 1), ('command', 163), ('hourly', 85), ('june', 23), ('november', 10), ('exhibits', 15), ('hw', 50), ('holtwinters', 48), ('implementing', 63), ('optim', 55), ('par', 135), ('param', 30), ('vect', 10), ('fn', 62), ('calclikelihoodtbats', 1), ('nelder', 11), ('mead', 11), ('evaluated', 44), ('disclaimer', 12), ('site', 201), ('weeks', 131), ('dumb', 11), ('embed', 8), ('searched', 45), ('meta', 34), ('shared', 37), ('google', 105), ('drive', 31), ('yourself', 8), ('physical', 40), ('laboratory', 5), ('attending', 2), ('experiment', 253), ('attenuation', 4), ('optical', 4), ('medium', 47), ('filters', 16), ('thicknesses', 2), ('spectrometer', 1), ('www', 187), ('vernier', 2), ('sensors', 34), ('spectrometers', 1), ('visible', 29), ('download', 27), ('https', 123), ('docs', 45), ('uc', 10), ('authuser', 2), ('reqwcrbuahlxc', 1), ('jwz', 1), ('swe', 1), ('export', 14), ('kappa', 58), ('wavelenght', 4), ('beer', 4), ('lambert', 2), ('thickness', 4), ('cdot', 284), ('curves', 104), ('mm', 49), ('linearized', 4), ('logarithm', 38), ('algebraic', 12), ('manipulation', 11), ('nls', 56), ('coef', 347), ('reproduction', 2), ('percents', 1), ('delim', 3), ('nl', 20), ('visualize', 62), ('emerge', 5), ('nm', 17), ('cut', 126), ('measurement', 136), ('technically', 26), ('corn', 6), ('management', 34), ('practices', 17), ('nitrogen', 17), ('tilled', 1), ('stalk', 3), ('rates', 118), ('unsure', 115), ('grouping', 40), ('handle', 158), ('faced', 16), ('presumptions', 1), ('illustrate', 44), ('cars', 154), ('never', 156), ('documented', 8), ('winsoring', 2), ('zscore', 4), ('dist', 137), ('qnorm', 17), ('pmin', 4), ('pmax', 8), ('mapping', 48), ('map', 88), ('probs', 44), ('skewness', 59), ('skew', 39), ('slightly', 118), ('assuredly', 1), ('rid', 14), ('plainly', 2), ('hist', 61), ('stepaic', 20), ('pnorm', 58), ('studied', 41), ('commentary', 1), ('iitk', 1), ('kundu', 1), ('authoritative', 3), ('pdfs', 23), ('ecommons', 1), ('cornell', 2), ('edu', 112), ('bitstream', 4), ('bu', 4), ('revised', 3), ('sequence', 216), ('apparent', 20), ('simpler', 64), ('literally', 10), ('item', 157), ('collapsing', 2), ('subjective', 34), ('access', 56), ('mentions', 27), ('crux', 2), ('googling', 21), ('free', 86), ('afford', 6), ('goes', 125), ('recognizer', 1), ('pixel', 36), ('lightness', 1), ('darker', 1), ('arguments', 43), ('stepwise', 99), ('thresholds', 29), ('documentation', 112), ('remove', 181), ('mutually', 27), ('exclusive', 20), ('occurs', 97), ('occur', 94), ('john', 36), ('algebra', 36), ('calculus', 18), ('cap', 69), ('professor', 52), ('power', 428), ('bug', 34), ('explanations', 15), ('regressors', 131), ('avoid', 112), ('perceptron', 45), ('classified', 135), ('anova', 416), ('mixed', 211), ('nested', 118), ('design', 155), ('lme', 159), ('lmer', 140), ('sums', 33), ('usage', 78), ('questioning', 3), ('sq', 92), ('numdf', 6), ('dendf', 4), ('conduct', 83), ('ii', 118), ('iii', 44), ('boxplot', 29), ('side', 121), ('boxplots', 11), ('bartlett', 15), ('variances', 92), ('tapply', 7), ('qqnorm', 18), ('qqline', 15), ('kalkulator', 1), ('reakcja', 1), ('cat', 113), ('finally', 136), ('homogeneity', 15), ('statement', 88), ('passed', 44), ('concepts', 54), ('tough', 11), ('nut', 6), ('brute', 21), ('force', 83), ('neuron', 21), ('adjusting', 18), ('neurons', 35), ('created', 206), ('workaround', 8), ('bring', 21), ('unpredictable', 1), ('checks', 20), ('fledged', 1), ('reasonable', 171), ('soon', 20), ('nomenclature', 5), ('specifying', 31), ('specify', 111), ('particularly', 76), ('overview', 14), ('business', 70), ('categories', 275), ('canonical', 16), ('topics', 60), ('name', 261), ('keywords', 17), ('foundation', 4), ('eventually', 41), ('dive', 5), ('mining', 55), ('introduce', 49), ('paced', 2), ('chatty', 1), ('mathematically', 45), ('thorough', 3), ('applications', 60), ('specialized', 5), ('topic', 139), ('basics', 21), ('orientation', 8), ('vast', 10), ('researching', 9), ('chaotic', 1), ('maximal', 17), ('lyapunov', 2), ('exponent', 19), ('articles', 80), ('predictability', 5), ('layman', 10), ('mathematician', 7), ('downloaded', 12), ('tserieschaos', 1), ('lyap', 1), ('binominal', 4), ('experiments', 81), ('unbiased', 55), ('monotone', 10), ('statsmodels', 18), ('degree', 160), ('identity', 45), ('endog', 3), ('array', 236), ('exog', 2), ('outer', 27), ('xs', 30), ('arange', 1), ('deg', 6), ('sm', 25), ('genmod', 13), ('links', 50), ('dep', 29), ('irls', 4), ('wed', 6), ('pearson', 155), ('err', 98), ('conf', 62), ('const', 24), ('strange', 83), ('indeed', 82), ('weirder', 3), ('primary', 42), ('maximization', 15), ('practice', 93), ('material', 84), ('wasn', 40), ('simplest', 29), ('generalization', 29), ('nonlinear', 109), ('wrap', 19), ('dots', 201), ('iid', 95), ('rvs', 19), ('tau', 201), ('limiting', 21), ('lindeberg', 2), ('levy', 10), ('slutsky', 7), ('mtcars', 135), ('mpg', 88), ('wt', 172), ('workings', 3), ('broom', 3), ('augment', 5), ('resid', 145), ('instance', 265), ('immediately', 22), ('feeling', 44), ('verify', 41), ('assess', 129), ('changed', 82), ('clonal', 5), ('bacteria', 7), ('species', 204), ('strains', 5), ('mutation', 12), ('conferring', 1), ('resistance', 15), ('drugs', 21), ('susceptible', 6), ('drug', 117), ('therapy', 8), ('subpopulation', 3), ('dominate', 8), ('tube', 1), ('controlled', 16), ('conditions', 165), ('strain', 9), ('watching', 13), ('parametric', 146), ('mann', 30), ('kendall', 12), ('sen', 5), ('mutations', 25), ('conceptualize', 1), ('closest', 29), ('interference', 2), ('bottom', 62), ('image', 216), ('tdistrplus', 1), ('copy', 21), ('creators', 2), ('tutorial', 52), ('gumbel', 11), ('cdf', 148), ('align', 237), ('delta', 390), ('dt', 71), ('ds', 59), ('fprim', 5), ('qs', 15), ('fitdist', 34), ('mledist', 2), ('fgu', 1), ('revising', 2), ('tip', 6), ('respective', 54), ('fair', 65), ('thrown', 12), ('quad', 194), ('symmetry', 14), ('substituting', 11), ('revision', 6), ('pmf', 47), ('vdots', 24), ('dlm', 22), ('candiate', 1), ('local', 77), ('recoded', 6), ('dummies', 98), ('colinearity', 7), ('likert', 46), ('showed', 39), ('vf', 18), ('erase', 3), ('postal', 2), ('complaints', 9), ('public', 34), ('workers', 42), ('facilitate', 7), ('staff', 5), ('analyst', 12), ('regresses', 5), ('lodged', 1), ('wage', 27), ('she', 61), ('obtains', 5), ('syx', 1), ('sb', 19), ('coursera', 22), ('bootstrapping', 71), ('apartments', 1), ('rent', 12), ('bootstrapped', 37), ('mercury', 3), ('dolphins', 1), ('near', 53), ('japan', 4), ('boot', 103), ('strapping', 2), ('stick', 26), ('won', 139), ('advanced', 29), ('written', 134), ('hieroglyphics', 1), ('tempted', 9), ('bonus', 26), ('incremental', 16), ('besides', 43), ('multicolinearity', 12), ('indicator', 96), ('worry', 32), ('referring', 36), ('website', 90), ('researchconsultation', 1), ('asp', 4), ('ultimate', 19), ('greedings', 1), ('everybody', 9), ('containing', 119), ('characteristics', 97), ('houses', 27), ('heating', 11), ('adults', 9), ('children', 29), ('living', 11), ('house', 88), ('electricity', 43), ('consumption', 65), ('delete', 20), ('examine', 45), ('unordered', 19), ('seven', 28), ('complicated', 63), ('mac', 5), ('macs', 4), ('preferring', 2), ('truth', 55), ('coded', 107), ('pilot', 6), ('tend', 53), ('stance', 1), ('view', 93), ('predicts', 113), ('vision', 19), ('beliefs', 3), ('pc', 72), ('reality', 27), ('gun', 2), ('abortion', 1), ('objectivity', 5), ('participants', 97), ('answered', 69), ('participant', 84), ('contrasts', 83), ('contr', 33), ('glmer', 122), ('warnings', 26), ('gwh', 1), ('ahead', 128), ('xreg', 143), ('cooling', 4), ('holidays', 45), ('easter', 24), ('ramadan', 1), ('hdd', 4), ('cdd', 2), ('january', 43), ('february', 18), ('march', 34), ('april', 34), ('influence', 158), ('load', 100), ('influenced', 17), ('low', 426), ('mistakes', 24), ('picture', 87), ('continued', 3), ('merged', 11), ('until', 130), ('paste', 91), ('sas', 124), ('proc', 89), ('formed', 31), ('exposure', 37), ('expression', 147), ('pie', 6), ('nh', 5), ('ch', 34), ('sin', 112), ('modify', 40), ('ordered', 129), ('endorsing', 1), ('received', 59), ('rm', 240), ('problalr', 19), ('puzzling', 7), ('expcected', 1), ('riv', 17), ('continuum', 9), ('decreases', 58), ('irrelevance', 3), ('admiration', 1), ('rivalry', 1), ('lalr', 1), ('adm', 15), ('problematic', 44), ('cf', 16), ('samplens', 1), ('inv', 25), ('orange', 30), ('option', 181), ('orc', 19), ('purple', 21), ('xlab', 93), ('ylab', 113), ('transformed', 111), ('picks', 15), ('baseline', 133), ('median', 501), ('monthjan', 1), ('monthfeb', 1), ('monthapr', 1), ('monthmay', 1), ('monthjun', 1), ('monthjul', 1), ('monthaug', 1), ('monthsep', 1), ('monthoct', 1), ('monthnov', 1), ('monthdec', 1), ('signif', 319), ('adjusted', 309), ('limits', 171), ('blocks', 22), ('block', 105), ('materials', 17), ('colors', 30), ('shapes', 8), ('properties', 105), ('replicate', 88), ('matrixstats', 1), ('replicateexperiment', 2), ('statespace', 5), ('coldiffs', 1), ('expand', 51), ('si', 20), ('sh', 13), ('lapply', 45), ('recursive', 16), ('boxes', 28), ('shares', 6), ('modified', 56), ('surveyed', 4), ('lsrl', 2), ('sx', 34), ('sy', 4), ('realized', 57), ('knew', 19), ('knowing', 71), ('reached', 40), ('yet', 162), ('forgot', 8), ('imagine', 100), ('ingredients', 4), ('meal', 5), ('bought', 22), ('tomatoes', 9), ('eggs', 9), ('delicious', 1), ('probable', 28), ('quoting', 6), ('replaced', 32), ('remains', 34), ('expects', 5), ('istance', 1), ('definition', 135), ('learned', 84), ('nu', 103), ('heard', 69), ('university', 52), ('income', 234), ('drawbacks', 7), ('advantage', 45), ('demograpgic', 1), ('bureau', 4), ('balance', 45), ('utilization', 15), ('owned', 2), ('debts', 2), ('early', 26), ('late', 17), ('brown', 10), ('decrease', 92), ('keep', 185), ('sites', 52), ('sampled', 105), ('dates', 109), ('opinions', 27), ('covers', 13), ('tn', 50), ('script', 63), ('segregate', 1), ('move', 73), ('sympathy', 2), ('subsequent', 34), ('experienced', 25), ('clever', 10), ('heuristic', 17), ('statistician', 46), ('visits', 65), ('visitors', 20), ('geographical', 14), ('effected', 4), ('holiday', 55), ('intervention', 107), ('gradual', 2), ('affected', 60), ('classifying', 57), ('wether', 12), ('quantify', 55), ('respects', 4), ('longitudinal', 33), ('oanel', 1), ('formulating', 9), ('visitor', 15), ('visit', 46), ('thousand', 34), ('uniformly', 73), ('neyman', 26), ('lemma', 29), ('rejection', 30), ('animal', 32), ('behaviour', 76), ('allocated', 12), ('animals', 18), ('behaviours', 11), ('minute', 66), ('repeatedly', 15), ('nb', 88), ('candidate', 43), ('establish', 19), ('multivariable', 11), ('dirichletreg', 1), ('temporal', 60), ('incorporate', 50), ('curiosity', 9), ('internal', 24), ('engineering', 22), ('wouldn', 68), ('systematic', 19), ('figuring', 28), ('cunif', 2), ('overlap', 63), ('arbitrary', 67), ('bookie', 1), ('offers', 19), ('bets', 9), ('soccer', 9), ('bet', 20), ('depend', 69), ('winning', 45), ('po', 22), ('unbalanced', 66), ('receiver', 4), ('operating', 12), ('academic', 22), ('linguistic', 6), ('education', 152), ('beginners', 5), ('lately', 5), ('se', 314), ('hands', 14), ('gml', 2), ('noun', 5), ('preposition', 8), ('elke', 3), ('iedere', 2), ('dutch', 5), ('synonyms', 1), ('interchangeably', 7), ('vl', 7), ('designating', 2), ('regions', 66), ('utterance', 1), ('trick', 35), ('nomen', 1), ('overwhelms', 1), ('regionvl', 3), ('experiencing', 8), ('turbulence', 1), ('gather', 22), ('pick', 95), ('whatsoever', 4), ('estmiate', 1), ('tells', 106), ('ieder', 1), ('chances', 29), ('frequent', 25), ('lesser', 6), ('plausible', 17), ('unusable', 2), ('break', 61), ('manage', 20), ('shined', 1), ('mathematics', 25), ('linguistics', 5), ('conducted', 44), ('listened', 3), ('screen', 11), ('eye', 17), ('tracker', 2), ('varying', 100), ('lasted', 2), ('polynomials', 33), ('interacts', 3), ('complication', 11), ('tracking', 5), ('consuming', 13), ('plane', 29), ('bounded', 51), ('hyperbola', 1), ('marginal', 118), ('integrate', 47), ('diverges', 2), ('begs', 1), ('mlogit', 90), ('fishing', 15), ('fish', 75), ('price', 502), ('catch', 25), ('alt', 21), ('elasticity', 15), ('rr', 40), ('console', 9), ('rhs', 17), ('translation', 12), ('french', 18), ('economic', 33), ('manages', 2), ('claims', 35), ('cart', 31), ('splits', 27), ('orthogonal', 42), ('serious', 19), ('contrary', 11), ('guarantees', 7), ('hastie', 20), ('grown', 11), ('capture', 81), ('unreplicated', 4), ('factorial', 32), ('illustrative', 9), ('designs', 7), ('analyse', 63), ('detects', 7), ('active', 39), ('bc', 22), ('gung', 14), ('reply', 13), ('anyway', 73), ('varepsilon', 157), ('introduced', 35), ('sign', 88), ('inactive', 4), ('signt', 2), ('bs', 34), ('loop', 71), ('rpart', 89), ('converts', 6), ('prepares', 1), ('carry', 48), ('creating', 116), ('val', 82), ('aggregating', 14), ('followed', 70), ('vals', 16), ('ever', 39), ('identified', 47), ('parametrization', 10), ('raphson', 11), ('mid', 151), ('cc', 54), ('sym', 3), ('variate', 20), ('loglh', 2), ('es', 11), ('hs', 51), ('runif', 168), ('tol', 26), ('iter', 49), ('maxlik', 3), ('loglik', 126), ('steep', 5), ('decline', 19), ('flat', 27), ('inflection', 14), ('chen', 2), ('et', 91), ('al', 110), ('implented', 1), ('recurrent', 27), ('terminate', 2), ('computaion', 1), ('stopping', 14), ('satisfied', 38), ('critrerion', 1), ('consecutive', 44), ('stopped', 12), ('york', 25), ('stock', 139), ('exchange', 28), ('nyse', 12), ('composite', 28), ('december', 19), ('converged', 18), ('interations', 2), ('misunderstanding', 15), ('concept', 81), ('ls', 54), ('quantmod', 5), ('nya', 1), ('getsymbols', 4), ('yahoo', 7), ('closing', 19), ('omit', 49), ('diff', 281), ('lagged', 102), ('lag', 545), ('eps', 42), ('radial', 23), ('vola', 1), ('loops', 16), ('svmr', 3), ('ifelse', 74), ('distinction', 10), ('limited', 85), ('distinguishing', 8), ('joined', 7), ('principal', 48), ('analysts', 2), ('winnowing', 1), ('hundreds', 38), ('manageable', 5), ('calculations', 78), ('supplement', 3), ('throwing', 23), ('cpu', 14), ('ram', 16), ('cogent', 1), ('story', 18), ('identifying', 38), ('accomplish', 23), ('toss', 26), ('forethought', 1), ('oh', 45), ('notation', 81), ('boosted', 22), ('talked', 7), ('transforming', 41), ('holds', 41), ('examining', 33), ('rd', 147), ('graders', 1), ('dichotomous', 85), ('crossing', 7), ('caused', 29), ('suggestion', 98), ('bizarreness', 1), ('questionnaire', 38), ('dvs', 21), ('luck', 18), ('capturing', 14), ('uncertain', 29), ('corrections', 10), ('overdispersion', 13), ('acceptable', 67), ('programs', 18), ('allowed', 58), ('noisy', 82), ('official', 17), ('resemble', 9), ('bogota', 10), ('bogot', 8), ('bog', 1), ('conv', 32), ('bogo', 1), ('bgta', 1), ('colomb', 1), ('attemtping', 1), ('de', 58), ('noised', 1), ('explained', 108), ('referent', 1), ('discords', 1), ('sub', 164), ('discord', 1), ('discordant', 4), ('unusual', 19), ('importances', 7), ('similarity', 83), ('mutual', 17), ('fear', 14), ('top', 199), ('cutoff', 90), ('breeding', 8), ('birds', 37), ('separated', 31), ('initiation', 4), ('egg', 7), ('laying', 2), ('julian', 3), ('none', 172), ('nests', 7), ('bird', 24), ('deviate', 10), ('sat', 17), ('school', 95), ('students', 219), ('measurements', 216), ('inclined', 8), ('onto', 32), ('colleague', 30), ('forming', 10), ('ijt', 3), ('brevity', 2), ('quarterly', 34), ('dividends', 2), ('reports', 29), ('hurricanes', 4), ('chess', 3), ('position', 104), ('ik', 13), ('otoh', 1), ('extrapolating', 6), ('imputing', 9), ('equiv', 15), ('discount', 8), ('recursively', 6), ('solving', 95), ('propagation', 18), ('nabla', 25), ('ad', 67), ('hoc', 30), ('simultaneously', 28), ('recovered', 3), ('formulation', 45), ('derivation', 29), ('cited', 4), ('failed', 46), ('equations', 109), ('smoother', 11), ('mathbf', 641), ('eta', 138), ('bh', 11), ('ah', 3), ('expressions', 15), ('pg', 14), ('smoothed', 24), ('illustrated', 11), ('application', 124), ('abundance', 20), ('representation', 92), ('entirety', 1), ('trendlines', 1), ('info', 72), ('lost', 92), ('informative', 33), ('defining', 27), ('relogit', 2), ('zelig', 7), ('clinically', 7), ('depressed', 1), ('button', 5), ('pressed', 2), ('wire', 7), ('buttons', 1), ('presses', 1), ('geometric', 39), ('adjustment', 30), ('adjusts', 3), ('disperse', 6), ('removed', 104), ('adjboxstats', 1), ('robustbase', 6), ('mad', 11), ('estimators', 55), ('reliable', 44), ('trust', 28), ('biological', 48), ('methodological', 5), ('variability', 49), ('accept', 64), ('minimal', 32), ('regsubsets', 17), ('leaps', 17), ('legitimate', 19), ('raster', 7), ('hamunyella', 1), ('stacklist', 5), ('writeraster', 1), ('filename', 4), ('substr', 5), ('cropmlname', 1), ('tif', 1), ('gtiff', 1), ('overwrite', 1), ('ought', 4), ('easier', 73), ('savitzky', 1), ('golay', 1), ('double', 103), ('rob', 40), ('walsh', 2), ('turn', 57), ('involves', 41), ('dyadic', 7), ('dyadics', 1), ('introductory', 22), ('stoffer', 9), ('described', 143), ('oplus', 2), ('autocovariance', 24), ('th', 213), ('sequency', 1), ('crossings', 1), ('restricted', 49), ('moved', 18), ('coursework', 3), ('posed', 18), ('dont', 70), ('falls', 35), ('traditional', 45), ('guys', 42), ('chronological', 1), ('simplicity', 40), ('forth', 23), ('matters', 37), ('amazon', 6), ('bigml', 1), ('hash', 12), ('timely', 3), ('batch', 87), ('standpoint', 9), ('notion', 10), ('approached', 9), ('pylab', 2), ('linspace', 9), ('plt', 43), ('sick', 26), ('nicotine', 18), ('content', 44), ('brand', 45), ('cigarette', 2), ('exceeds', 10), ('milligram', 1), ('cigarettes', 9), ('milligrams', 2), ('brands', 10), ('ne', 31), ('apologize', 34), ('digits', 52), ('nice', 124), ('certainly', 26), ('proof', 100), ('digging', 5), ('evaluate', 171), ('retrieved', 3), ('adapted', 21), ('faraway', 9), ('gala', 8), ('endemics', 1), ('elevation', 29), ('specpr', 3), ('saves', 2), ('functionality', 12), ('wrt', 15), ('pull', 14), ('uberitalicized', 1), ('tex', 1), ('kinda', 9), ('hacked', 2), ('opposed', 45), ('clarity', 13), ('vaguely', 8), ('tumbleweed', 1), ('hardware', 15), ('deleted', 38), ('cleaner', 6), ('quicker', 5), ('deriving', 19), ('unknowns', 15), ('maths', 17), ('embedded', 4), ('bioelectrical', 1), ('impedance', 3), ('bia', 1), ('devices', 34), ('salter', 19), ('withings', 9), ('quick', 45), ('revealed', 6), ('dozens', 4), ('body', 43), ('water', 96), ('fat', 9), ('lean', 4), ('eg', 56), ('lukaski', 1), ('bolonchuk', 1), ('tbw', 3), ('heightcm', 51), ('masskg', 33), ('ageyears', 4), ('ismale', 6), ('matias', 1), ('imaginary', 7), ('rectance', 1), ('pester', 1), ('afternoon', 8), ('socks', 14), ('multimeter', 2), ('bits', 11), ('tweaked', 4), ('ipad', 2), ('fyi', 16), ('play', 71), ('wh', 4), ('bodyfat', 33), ('ws', 38), ('bodymasskg', 1), ('isjapanese', 1), ('reactance', 3), ('ger', 1), ('screwdriver', 1), ('logging', 4), ('proxy', 11), ('mitproxy', 1), ('honeyproxy', 1), ('sex', 332), ('male', 257), ('female', 236), ('ageyrs', 29), ('bodywaterpct', 8), ('bodyfatpct', 16), ('fitbodyfat', 15), ('fitbodywater', 8), ('glmulti', 6), ('fitbodyfatg', 4), ('initialization', 10), ('exhaustive', 16), ('screening', 8), ('completed', 24), ('hotels', 4), ('chain', 27), ('ids', 27), ('responding', 3), ('lda', 116), ('qda', 9), ('homocedasticity', 3), ('behaved', 6), ('transformations', 69), ('missclasify', 1), ('illegal', 4), ('immigrant', 7), ('interdict', 2), ('immigrants', 4), ('enter', 61), ('wait', 31), ('patrol', 1), ('schedule', 4), ('border', 14), ('apparently', 55), ('interdicting', 1), ('consist', 35), ('misguided', 3), ('undetected', 1), ('activities', 20), ('provided', 159), ('dm', 8), ('dap', 2), ('mnths', 2), ('domesticsimulator', 2), ('nsim', 14), ('sapply', 41), ('distr', 16), ('dput', 41), ('tsp', 23), ('emissions', 9), ('oecd', 3), ('nonoecd', 2), ('factorlow', 1), ('factorlower', 1), ('factorupper', 1), ('factorhigh', 2), ('aes', 104), ('colour', 54), ('stat', 164), ('fullrange', 1), ('geom', 121), ('typing', 8), ('multiplying', 31), ('spending', 23), ('keeping', 48), ('verbal', 10), ('gamble', 3), ('qu', 174), ('stumped', 25), ('formulae', 11), ('cx', 25), ('confuse', 3), ('mylogit', 24), ('nonparametric', 31), ('subsamples', 10), ('stationarity', 58), ('constancy', 2), ('boolean', 38), ('stopwords', 9), ('documents', 78), ('labelled', 55), ('logisticregression', 20), ('penalty', 67), ('recall', 123), ('regularization', 81), ('validated', 57), ('sparse', 91), ('aka', 20), ('sda', 2), ('caret', 156), ('regularized', 30), ('ell', 15), ('ridge', 99), ('former', 39), ('unimportant', 9), ('retain', 11), ('tuned', 16), ('sparselda', 5), ('ctrl', 44), ('traincontrol', 29), ('repeatedcv', 12), ('repeats', 32), ('verbose', 20), ('classprobs', 6), ('sparseldagridx', 2), ('numvars', 6), ('spldafitvacredx', 4), ('tunegrid', 20), ('trcontrol', 36), ('preproc', 6), ('rant', 1), ('finalmodel', 23), ('stop', 74), ('il', 34), ('ebi', 3), ('rb', 22), ('besttune', 6), ('varimp', 6), ('sorted', 34), ('ra', 31), ('irrelevant', 26), ('refers', 27), ('gene', 115), ('genes', 76), ('puzzled', 20), ('sdaobj', 4), ('xnames', 3), ('varindex', 4), ('obj', 85), ('sepal', 77), ('width', 132), ('petal', 68), ('sonar', 4), ('successful', 54), ('mlbench', 3), ('mdrr', 1), ('phenomenon', 21), ('medians', 21), ('versus', 84), ('wilcoxon', 53), ('wilcox', 36), ('compares', 25), ('mood', 14), ('hibernating', 1), ('kruskal', 15), ('wallis', 13), ('dmartin', 1), ('snow', 18), ('helpfully', 1), ('notes', 67), ('strict', 15), ('rrd', 1), ('spatial', 57), ('rasters', 1), ('development', 36), ('economics', 36), ('nonetheless', 10), ('boundaries', 22), ('pixels', 32), ('frontier', 1), ('worrying', 6), ('mccrary', 1), ('rdd', 3), ('jumps', 13), ('violation', 18), ('op', 10), ('ing', 2), ('skimming', 2), ('chapters', 7), ('grubb', 1), ('mixing', 7), ('functional', 42), ('deeper', 26), ('existing', 80), ('efficiency', 22), ('basket', 6), ('comparisons', 39), ('picked', 41), ('respondent', 29), ('distribute', 10), ('ice', 17), ('creams', 3), ('bannana', 1), ('ban', 6), ('chocolate', 2), ('cho', 5), ('blueberry', 2), ('blu', 4), ('lemon', 1), ('lem', 3), ('distributes', 1), ('offered', 8), ('choices', 35), ('cope', 11), ('organize', 6), ('signalizes', 1), ('technical', 47), ('heading', 5), ('climate', 21), ('landscape', 4), ('mag', 5), ('pcr', 17), ('wat', 8), ('sve', 5), ('ara', 5), ('gra', 5), ('mhf', 5), ('mtp', 5), ('bi', 41), ('urb', 5), ('symbolizes', 1), ('glance', 13), ('okay', 43), ('problematically', 1), ('arcgis', 2), ('absent', 33), ('geographic', 11), ('fitdistrplus', 23), ('gof', 14), ('pois', 7), ('loglikelihood', 18), ('fitnbinom', 1), ('nbinom', 2), ('messages', 41), ('dnbinom', 4), ('nans', 21), ('vignette', 15), ('serial', 44), ('behaving', 3), ('belonging', 43), ('sn', 14), ('pointsin', 2), ('rejected', 52), ('behaves', 21), ('attachment', 6), ('import', 125), ('scipy', 27), ('pickle', 3), ('pandas', 16), ('def', 69), ('kruskalvsall', 2), ('pivot', 13), ('ret', 59), ('unique', 142), ('filt', 5), ('datain', 3), ('loc', 27), ('dataout', 3), ('append', 54), ('allpoints', 1), ('inpoints', 1), ('outpoints', 1), ('inplace', 3), ('reset', 11), ('kva', 2), ('innovations', 10), ('fgarch', 13), ('dataex', 2), ('norm', 86), ('llh', 9), ('recursion', 1), ('init', 31), ('mci', 1), ('params', 11), ('optimized', 24), ('persistence', 1), ('nlminb', 7), ('solver', 10), ('optimhess', 1), ('approximated', 17), ('attr', 32), ('secs', 3), ('fitvalue', 2), ('fittedvalue', 2), ('repeating', 15), ('vehicle', 18), ('siginificant', 1), ('preferred', 31), ('insured', 9), ('conceptual', 15), ('chapter', 69), ('collect', 33), ('quantitative', 36), ('cubic', 44), ('rss', 77), ('justify', 33), ('community', 37), ('flexibility', 13), ('tighter', 5), ('smaller', 154), ('overfit', 21), ('lack', 63), ('prepared', 8), ('myself', 138), ('coeff', 56), ('probit', 84), ('poly', 105), ('plr', 4), ('infl', 5), ('cont', 31), ('housing', 22), ('profile', 33), ('contain', 104), ('generic', 31), ('showing', 108), ('six', 76), ('graphs', 76), ('unexplained', 7), ('axes', 18), ('akaike', 10), ('easiest', 16), ('vcov', 56), ('unlike', 18), ('bundle', 1), ('recently', 113), ('jumped', 2), ('deep', 48), ('ton', 15), ('languages', 13), ('climbing', 6), ('largest', 58), ('hurdles', 3), ('discovering', 11), ('tl', 17), ('dr', 14), ('gain', 81), ('efforts', 4), ('successfully', 28), ('aggressive', 3), ('severely', 8), ('corrupting', 2), ('email', 64), ('emails', 24), ('convinced', 12), ('bark', 2), ('correlate', 25), ('speak', 16), ('communicate', 3), ('spikes', 27), ('pushed', 3), ('bars', 18), ('distorting', 1), ('neuroticism', 3), ('focal', 1), ('agreeableness', 4), ('moderator', 43), ('rt', 33), ('attentional', 3), ('modprobe', 1), ('macro', 17), ('hayes', 1), ('springer', 7), ('article', 123), ('fbrm', 1), ('transitioning', 1), ('routine', 32), ('stp', 2), ('sister', 1), ('websites', 16), ('stackexchange', 39), ('moderation', 5), ('te', 26), ('noredirect', 1), ('recommendations', 32), ('semi', 43), ('succeed', 6), ('adapting', 5), ('thereby', 14), ('providing', 42), ('subtract', 30), ('sse', 49), ('calculates', 39), ('ssefull', 3), ('ssered', 3), ('pes', 1), ('ultimately', 51), ('apologies', 37), ('winded', 4), ('writing', 70), ('conclusive', 4), ('midas', 5), ('documention', 2), ('fourth', 27), ('mls', 3), ('arrive', 63), ('mr', 23), ('fmls', 2), ('nealmon', 2), ('arstar', 1), ('reword', 3), ('ci', 169), ('wider', 13), ('mahalanobis', 20), ('cook', 20), ('leverage', 33), ('additionally', 46), ('spotted', 2), ('met', 25), ('autocorrelogram', 1), ('compositional', 1), ('blog', 40), ('relationshiop', 1), ('underset', 25), ('wise', 46), ('ij', 161), ('video', 21), ('convergence', 84), ('cdots', 112), ('optimum', 20), ('logreg', 14), ('newb', 8), ('newj', 4), ('vi', 12), ('ei', 4), ('sderivj', 2), ('nr', 32), ('nc', 8), ('repl', 2), ('testglm', 2), ('testlogreg', 2), ('males', 64), ('females', 68), ('replacement', 69), ('nckp', 1), ('kq', 1), ('np', 208), ('npq', 1), ('unrelated', 17), ('closed', 72), ('applicable', 50), ('impression', 31), ('existed', 6), ('varred', 3), ('rowsums', 13), ('mvrnorm', 7), ('correspondance', 2), ('uncertainties', 9), ('relying', 3), ('stask', 1), ('arm', 35), ('surprisingly', 17), ('discriminator', 3), ('discriminators', 1), ('pruning', 11), ('present', 188), ('artefacts', 3), ('exclude', 45), ('extracting', 16), ('mainly', 35), ('bump', 7), ('priori', 32), ('existence', 11), ('gauss', 17), ('classiciation', 1), ('exist', 101), ('dimensionality', 58), ('weak', 47), ('explaining', 47), ('tiny', 20), ('cumulative', 112), ('referred', 20), ('currency', 6), ('stocks', 27), ('strength', 49), ('spearman', 31), ('assets', 15), ('quantitatively', 9), ('surrogate', 3), ('undersampling', 15), ('millions', 26), ('calibrate', 19), ('firth', 15), ('bigrf', 1), ('investigate', 45), ('relation', 139), ('fastimp', 2), ('investigating', 33), ('gini', 41), ('relates', 33), ('cor', 96), ('phone', 24), ('attempts', 39), ('impacts', 17), ('pastattempts', 2), ('listed', 38), ('rolling', 67), ('wired', 2), ('wall', 25), ('strongly', 44), ('moderately', 8), ('assumes', 47), ('outside', 81), ('construct', 120), ('entropies', 3), ('plotted', 93), ('chosen', 161), ('discretize', 4), ('inevitably', 2), ('principled', 9), ('detection', 89), ('images', 130), ('hog', 5), ('edge', 25), ('thesis', 40), ('indicators', 34), ('llr', 3), ('av', 5), ('confounders', 10), ('seperate', 16), ('proceeding', 8), ('blank', 22), ('yield', 91), ('forced', 18), ('signifcant', 2), ('concerning', 37), ('alternate', 24), ('willing', 41), ('mutlivariable', 1), ('automated', 15), ('liklihood', 5), ('osius', 2), ('rojek', 2), ('flagged', 7), ('averaging', 42), ('newey', 10), ('west', 34), ('mydata', 310), ('unclass', 1), ('coeftest', 21), ('neweywest', 16), ('corrected', 33), ('insignificant', 65), ('nw', 6), ('tim', 3), ('recognize', 25), ('forces', 8), ('brought', 9), ('beforehand', 10), ('difficulty', 51), ('assigned', 81), ('abstractly', 1), ('concretely', 7), ('unambiguously', 2), ('characterize', 18), ('bags', 5), ('stabilizes', 4), ('converges', 41), ('stddev', 19), ('representative', 43), ('act', 36), ('express', 59), ('dependant', 19), ('rlm', 36), ('myiris', 9), ('rmod', 3), ('sumrmod', 5), ('pt', 61), ('dd', 81), ('ordinary', 49), ('glen', 18), ('entering', 12), ('dffits', 2), ('lognormal', 40), ('heavier', 8), ('increments', 11), ('simulations', 46), ('neat', 8), ('challenge', 22), ('labeling', 23), ('em', 21), ('transductive', 2), ('vm', 4), ('helps', 63), ('mpiktas', 6), ('bayer', 1), ('dikran', 3), ('marsupial', 3), ('tsvm', 1), ('svmligth', 1), ('svmlin', 1), ('linepipe', 1), ('dualist', 1), ('webpage', 13), ('serves', 7), ('wonderful', 5), ('workshop', 22), ('stanford', 24), ('tslm', 19), ('xlev', 4), ('xlevels', 11), ('lengths', 62), ('institution', 14), ('encounter', 17), ('violates', 14), ('autocorrelated', 34), ('evident', 10), ('gls', 71), ('adjust', 75), ('nlme', 45), ('reml', 45), ('bk', 15), ('ai', 27), ('prnp', 1), ('actinv', 1), ('prm', 1), ('nprm', 1), ('corarma', 14), ('complexity', 44), ('peng', 1), ('dominici', 1), ('epidemiology', 2), ('spline', 74), ('comfortable', 21), ('pulling', 9), ('sufficient', 84), ('metafor', 5), ('authors', 58), ('unexplored', 1), ('territory', 8), ('peaks', 48), ('boston', 37), ('tax', 11), ('rug', 5), ('kinds', 39), ('integrated', 32), ('hypothesize', 11), ('leveled', 3), ('weaning', 1), ('surv', 68), ('categoricals', 2), ('ats', 20), ('ucla', 28), ('dae', 5), ('htm', 25), ('mysurv', 4), ('ptem', 10), ('pshiv', 7), ('presp', 10), ('pmtone', 10), ('ap', 10), ('missingness', 29), ('foreign', 19), ('venture', 13), ('tryng', 1), ('rectal', 5), ('newborns', 12), ('shivering', 3), ('respiration', 8), ('slight', 14), ('muscle', 6), ('tone', 5), ('shiver', 1), ('birth', 64), ('survive', 16), ('heights', 10), ('cm', 46), ('samplesize', 27), ('sampledata', 5), ('breaks', 65), ('realistic', 12), ('human', 66), ('overrepresented', 4), ('height', 121), ('cycles', 21), ('tmp', 40), ('cycle', 61), ('sdboot', 6), ('standarddeviations', 2), ('polygon', 6), ('rev', 40), ('mids', 19), ('ff', 19), ('members', 36), ('potential', 89), ('securities', 8), ('addresses', 21), ('doubt', 52), ('standardization', 20), ('standardize', 36), ('held', 16), ('dcc', 40), ('stage', 82), ('rmgarch', 9), ('egarch', 3), ('csgarch', 1), ('smoothers', 3), ('bandwidth', 20), ('computationally', 28), ('rf', 121), ('rfe', 11), ('necessarily', 68), ('speedglm', 8), ('cnvs', 7), ('cnv', 3), ('pathway', 10), ('hit', 47), ('preferentially', 3), ('controls', 51), ('throw', 43), ('xtx', 2), ('xtz', 1), ('singular', 50), ('retry', 1), ('davy', 1), ('toy', 43), ('collecting', 26), ('accelerometer', 13), ('motion', 18), ('sitting', 13), ('falling', 19), ('domains', 9), ('ups', 5), ('terminations', 3), ('subscriptions', 1), ('latter', 65), ('obvious', 127), ('spike', 25), ('july', 24), ('august', 15), ('wears', 1), ('employ', 14), ('cond', 36), ('ind', 55), ('preds', 59), ('ord', 3), ('windows', 33), ('surface', 24), ('logistical', 6), ('comming', 2), ('meanning', 1), ('concrete', 32), ('infinite', 61), ('colored', 11), ('marbles', 15), ('marble', 3), ('desire', 6), ('drawing', 51), ('convex', 34), ('dominance', 2), ('satisfy', 37), ('monotonically', 9), ('decreasing', 62), ('ay', 9), ('geq', 153), ('zwet', 1), ('van', 11), ('amterdam', 1), ('mathematish', 1), ('centrum', 1), ('oja', 1), ('location', 177), ('kurtosis', 25), ('scandinavian', 1), ('journal', 21), ('vol', 8), ('pp', 81), ('groeneveld', 1), ('meeden', 1), ('conducting', 43), ('expresses', 3), ('vara', 9), ('varb', 8), ('varc', 6), ('vard', 6), ('entity', 36), ('association', 54), ('stroger', 1), ('epidemic', 6), ('infections', 1), ('stackoverflow', 67), ('discussions', 12), ('convenience', 6), ('verifying', 4), ('malware', 1), ('defense', 3), ('worm', 2), ('sine', 15), ('amplitude', 25), ('phase', 41), ('arctan', 3), ('dear', 8), ('everyone', 43), ('confint', 46), ('hosmer', 51), ('lemeshow', 42), ('nd', 111), ('chd', 8), ('dich', 4), ('profiling', 6), ('burr', 4), ('computation', 38), ('reduction', 50), ('xi', 128), ('instructor', 11), ('adv', 3), ('heuristics', 13), ('textit', 11), ('randomforest', 165), ('meandecreasegini', 2), ('bot', 2), ('rho', 217), ('notations', 12), ('reproducing', 4), ('dilution', 7), ('noofplates', 5), ('nopositive', 5), ('fm', 68), ('sequentially', 20), ('aod', 5), ('wald', 149), ('perfectly', 55), ('lrt', 19), ('upclass', 7), ('portion', 38), ('documentations', 3), ('upclassifymodel', 5), ('cltest', 2), ('xtest', 28), ('xtrain', 3), ('cltrain', 1), ('modelname', 2), ('eee', 2), ('iterlim', 1), ('aitken', 1), ('subsequently', 11), ('somebody', 77), ('responsible', 10), ('vegetation', 32), ('successional', 1), ('blockshed', 2), ('watersheds', 11), ('tsf', 10), ('fire', 10), ('elev', 18), ('solar', 20), ('insolation', 2), ('clmm', 10), ('quadratic', 98), ('indicated', 24), ('lowest', 90), ('mgall', 1), ('chgdir', 1), ('mg', 20), ('hess', 22), ('hood', 2), ('vegtrans', 2), ('xl', 1), ('extracted', 39), ('purposes', 61), ('purely', 26), ('favoring', 2), ('peticular', 1), ('occurring', 45), ('favored', 5), ('stack', 45), ('imgur', 13), ('ukpsr', 1), ('png', 14), ('reside', 3), ('incorrectly', 48), ('est', 56), ('muld', 2), ('fittestobject', 1), ('dollar', 10), ('lunch', 15), ('poll', 10), ('crossval', 6), ('partitioned', 11), ('kfoldloss', 2), ('partitionedmodel', 1), ('lossfun', 1), ('classiferror', 1), ('trainedclassifier', 1), ('predictfcn', 1), ('trainingpredictors', 1), ('classperf', 2), ('correctrate', 1), ('dendrogram', 2), ('dendrograms', 2), ('structural', 31), ('hiv', 36), ('infected', 36), ('mark', 53), ('identifies', 4), ('virus', 6), ('fatal', 8), ('die', 57), ('fatality', 2), ('accident', 14), ('wants', 54), ('phiv', 1), ('dies', 9), ('exception', 7), ('hc', 19), ('bn', 8), ('putting', 33), ('requirement', 23), ('conover', 2), ('entail', 5), ('symmetric', 38), ('ranked', 31), ('stringent', 1), ('divided', 104), ('checked', 77), ('validity', 40), ('fo', 5), ('undesirable', 6), ('analysed', 13), ('exponentially', 25), ('widths', 2), ('quantified', 6), ('classwidth', 1), ('textbf', 82), ('nth', 4), ('naturally', 28), ('christopher', 6), ('tag', 68), ('bigtriangledown', 5), ('maximise', 6), ('bigg', 73), ('become', 92), ('entities', 22), ('formal', 43), ('reach', 43), ('jackknife', 7), ('mechanisms', 3), ('resampling', 57), ('popular', 36), ('telecom', 2), ('invoice', 1), ('granularity', 16), ('subscriber', 5), ('profit', 56), ('ofcourse', 2), ('profitability', 1), ('subscribers', 6), ('money', 27), ('acquire', 6), ('underpredicts', 1), ('strategies', 27), ('culprit', 3), ('utilize', 16), ('david', 10), ('stanley', 1), ('nominally', 1), ('angle', 33), ('borel', 11), ('cantelli', 6), ('lt', 36), ('lim', 66), ('secondly', 24), ('garrotte', 2), ('wouldnt', 3), ('varies', 68), ('bonferroni', 28), ('capitalization', 1), ('smallest', 32), ('program', 124), ('excel', 46), ('portfolios', 10), ('basing', 6), ('adj', 84), ('resource', 35), ('avian', 1), ('nest', 21), ('mature', 10), ('pine', 1), ('habitat', 25), ('theoretic', 4), ('burnham', 4), ('anderson', 27), ('approximating', 9), ('wi', 6), ('mumin', 5), ('relies', 7), ('multilabel', 8), ('mlr', 18), ('github', 20), ('io', 16), ('devel', 3), ('archive', 5), ('charte', 2), ('oregonstate', 1), ('sorowerm', 1), ('qual', 7), ('shahed', 1), ('completeversion', 1), ('dependencies', 25), ('hamming', 2), ('truthfulness', 3), ('immediate', 14), ('truthful', 1), ('deceptive', 1), ('delayed', 13), ('tables', 66), ('carts', 3), ('clementine', 1), ('ago', 53), ('remember', 31), ('grow', 9), ('operatorname', 55), ('expressed', 52), ('ncvtest', 11), ('assist', 10), ('discussed', 35), ('futile', 4), ('quasi', 32), ('glms', 20), ('denoted', 32), ('vec', 235), ('prime', 33), ('func', 22), ('iterate', 19), ('blow', 2), ('leading', 25), ('divisions', 2), ('missed', 24), ('exploring', 28), ('targeting', 7), ('self', 185), ('likeliness', 2), ('unlikely', 29), ('somewhat', 80), ('gfk', 29), ('answertext', 2), ('daypart', 2), ('daypartmiddle', 8), ('daypartmorning', 4), ('daypartovernight', 4), ('interact', 8), ('exposurecontrol', 6), ('exposureexposed', 6), ('evening', 10), ('exposed', 15), ('rao', 8), ('market', 126), ('sharing', 18), ('multicollinarity', 1), ('unreliable', 9), ('turning', 18), ('marketdata', 12), ('sharp', 8), ('waterfall', 3), ('herokuapp', 1), ('marketcategories', 1), ('strings', 35), ('weekday', 38), ('perregress', 2), ('autoregression', 18), ('diagnostics', 26), ('descstat', 1), ('subsetting', 7), ('mask', 10), ('breaking', 10), ('liked', 10), ('undue', 1), ('markets', 10), ('monday', 41), ('tuesday', 17), ('wednesday', 10), ('thursday', 8), ('friday', 18), ('saturday', 25), ('residualplots', 6), ('actuals', 27), ('pch', 36), ('violate', 4), ('efficient', 55), ('primarily', 15), ('dealers', 4), ('golfers', 3), ('buyer', 11), ('golfer', 1), ('theil', 8), ('hollander', 1), ('wolfe', 1), ('combos', 3), ('combn', 1), ('dom', 4), ('star', 20), ('colnames', 78), ('chol', 13), ('choleski', 2), ('decomp', 6), ('helping', 23), ('illustration', 23), ('setosa', 46), ('secondary', 15), ('logically', 8), ('anomaly', 39), ('introducing', 22), ('anomalies', 15), ('datapoints', 28), ('premise', 4), ('stlm', 11), ('splitting', 45), ('inline', 5), ('album', 1), ('separates', 9), ('doubly', 3), ('zahjx', 1), ('recompose', 1), ('seasonaly', 2), ('trainining', 2), ('seasonally', 16), ('felt', 12), ('suspicious', 17), ('sequential', 34), ('readjust', 1), ('unadjusted', 5), ('fwiw', 4), ('feather', 10), ('backbone', 1), ('accuracystlm', 2), ('lastseas', 3), ('trunc', 13), ('ptm', 4), ('refit', 40), ('preda', 4), ('fita', 2), ('predsa', 2), ('timea', 2), ('accuracya', 2), ('predb', 4), ('fitb', 2), ('predsb', 2), ('timeb', 2), ('accuracyb', 2), ('causalimpact', 5), ('portions', 9), ('ace', 1), ('king', 5), ('queen', 7), ('genders', 3), ('players', 45), ('advantageous', 4), ('hypo', 1), ('akq', 2), ('qq', 29), ('arbitrarily', 26), ('cities', 25), ('influencing', 8), ('pretend', 14), ('epi', 2), ('hospitals', 10), ('mtr', 1), ('glmercontrol', 10), ('optimizer', 32), ('bobyqa', 10), ('maps', 21), ('opposite', 46), ('destiny', 2), ('corporation', 2), ('dest', 1), ('corp', 1), ('destinycorporation', 1), ('stored', 32), ('symbols', 15), ('sequences', 60), ('mach', 5), ('oden', 3), ('ipop', 3), ('fraudulent', 4), ('transactions', 35), ('achieving', 14), ('bigger', 52), ('terribly', 4), ('transaction', 23), ('explore', 43), ('algs', 1), ('neuronal', 2), ('researches', 3), ('correllated', 1), ('hv', 1), ('lobo', 1), ('negatives', 51), ('bypass', 4), ('unfortunatelly', 1), ('datset', 2), ('loocv', 13), ('bellow', 11), ('adaboost', 23), ('gmm', 23), ('moments', 52), ('mcmcpack', 3), ('inla', 1), ('iterative', 23), ('maximises', 1), ('cognitive', 15), ('fluency', 5), ('iq', 48), ('differentiated', 7), ('flexible', 13), ('produces', 113), ('deterministic', 50), ('insight', 69), ('sv', 16), ('lin', 16), ('mated', 2), ('radiating', 1), ('ends', 27), ('plant', 54), ('nine', 13), ('treatments', 69), ('distinguishes', 5), ('equals', 60), ('fraud', 30), ('cnp', 1), ('seemed', 52), ('maintain', 13), ('annotate', 8), ('cheap', 10), ('athlete', 4), ('mile', 3), ('drank', 1), ('food', 33), ('eaten', 2), ('tailor', 1), ('diet', 16), ('fitness', 8), ('subsampling', 8), ('stronger', 20), ('improves', 26), ('inferior', 5), ('hurts', 2), ('combat', 2), ('logsigma', 3), ('cenreg', 1), ('affairs', 7), ('aer', 14), ('estresult', 2), ('censreg', 6), ('yearsmarried', 3), ('religiousness', 3), ('uncensored', 4), ('maximisation', 3), ('ip', 29), ('subnets', 1), ('belong', 79), ('spammer', 1), ('octets', 1), ('address', 74), ('spam', 48), ('interchangeable', 1), ('ctree', 15), ('interpreted', 52), ('octet', 10), ('referencing', 5), ('wharton', 1), ('upenn', 2), ('courses', 34), ('resourcedetails', 1), ('multiplecomparision', 1), ('simes', 1), ('presented', 54), ('unif', 9), ('proved', 12), ('induction', 8), ('pieces', 32), ('pn', 15), ('dp', 19), ('cryptic', 2), ('thankful', 16), ('blanks', 6), ('advises', 3), ('pipeline', 15), ('theses', 2), ('ill', 15), ('conditioned', 11), ('abc', 11), ('regarded', 8), ('style', 13), ('landuse', 1), ('lu', 3), ('landuselow', 2), ('landusehigh', 2), ('ditemprange', 1), ('landusemedium', 1), ('landusenone', 1), ('rivier', 1), ('temprange', 1), ('tmean', 1), ('luconserva', 1), ('luprivate', 1), ('lustate', 1), ('logvrm', 1), ('logtwi', 1), ('logdah', 1), ('libor', 6), ('ois', 7), ('repo', 1), ('vix', 6), ('cds', 26), ('treasury', 11), ('mbs', 6), ('rrp', 6), ('axx', 2), ('intersect', 12), ('usd', 14), ('mio', 2), ('basispoints', 1), ('arises', 20), ('intpretting', 1), ('qsec', 10), ('explantory', 2), ('frustrating', 4), ('stupid', 19), ('james', 15), ('unitary', 4), ('unitray', 1), ('cn', 12), ('scalar', 42), ('denotes', 57), ('hermitian', 2), ('awesome', 14), ('membership', 23), ('intended', 18), ('extent', 23), ('youtube', 17), ('youtu', 1), ('vq', 1), ('kwmzto', 1), ('fictitious', 3), ('reflecting', 5), ('college', 42), ('ethnic', 11), ('yielded', 15), ('backgroundblue', 2), ('backgroundred', 3), ('applicants', 6), ('disadvantage', 5), ('reconcile', 8), ('enlightening', 1), ('maarten', 5), ('ratios', 137), ('confounder', 4), ('regressing', 35), ('redvblue', 2), ('oddsratio', 4), ('oddsratioblue', 1), ('oddsratiored', 1), ('briefly', 12), ('purchased', 14), ('expensive', 26), ('newly', 12), ('appeared', 17), ('widehat', 28), ('achieves', 9), ('accumulate', 1), ('crucial', 13), ('heteroscedasticity', 39), ('enacted', 1), ('inducing', 4), ('categorized', 15), ('ignored', 17), ('multinom', 42), ('empty', 57), ('productivity', 11), ('drivers', 31), ('stumbling', 3), ('hurdle', 35), ('ergastdata', 2), ('squaring', 6), ('extension', 11), ('chart', 39), ('egastdata', 1), ('presumably', 23), ('driver', 31), ('deer', 5), ('camera', 22), ('trap', 14), ('reaction', 26), ('speciesmuntjac', 4), ('speciesroe', 4), ('speciessika', 4), ('sr', 23), ('react', 9), ('special', 70), ('encode', 10), ('attempted', 38), ('graduate', 20), ('master', 21), ('popped', 1), ('teacher', 18), ('essay', 2), ('handed', 18), ('violated', 17), ('proposing', 4), ('irishstat', 1), ('transfer', 45), ('xarmax', 1), ('salient', 3), ('identification', 20), ('unspecified', 3), ('pulses', 3), ('shifts', 24), ('incorporation', 2), ('autobox', 2), ('resolve', 25), ('mechanics', 5), ('rl', 6), ('persist', 2), ('noticing', 4), ('btw', 26), ('mtry', 34), ('bestmtry', 2), ('tunerf', 1), ('ntreetry', 1), ('stepfactor', 1), ('dobest', 1), ('ntree', 39), ('sqaured', 1), ('abline', 86), ('varimpplot', 6), ('nps', 10), ('promoter', 11), ('friend', 28), ('promoters', 7), ('passives', 3), ('detractors', 7), ('subtracted', 21), ('detractor', 3), ('periodically', 3), ('hundred', 24), ('varied', 14), ('movements', 10), ('proves', 5), ('margin', 52), ('bucket', 52), ('passive', 4), ('ability', 47), ('symmetrically', 3), ('defn', 2), ('absolutely', 28), ('appearance', 12), ('forum', 38), ('inner', 25), ('tries', 28), ('optimistic', 8), ('rigorous', 22), ('projecting', 10), ('predefined', 12), ('sounds', 38), ('cessie', 4), ('houwelingen', 2), ('copas', 2), ('unweighted', 13), ('goodness', 109), ('rms', 57), ('lrm', 76), ('daag', 14), ('surprised', 19), ('cvbinary', 1), ('nfolds', 5), ('vale', 1), ('tranformation', 1), ('saturated', 19), ('cg', 8), ('dxg', 1), ('individually', 44), ('minus', 21), ('appeares', 1), ('thanking', 4), ('wolfgang', 1), ('nevertheless', 19), ('forex', 3), ('caltech', 5), ('discuss', 33), ('seniors', 2), ('peers', 3), ('synopsis', 2), ('sending', 18), ('room', 37), ('awkward', 3), ('patenting', 3), ('casella', 6), ('berger', 7), ('definitions', 22), ('coverage', 47), ('infimum', 2), ('understan', 1), ('statements', 28), ('distributon', 1), ('interent', 1), ('dependend', 6), ('rbind', 70), ('simplify', 43), ('colorred', 2), ('sizesmall', 2), ('shapesquare', 2), ('adrenaline', 3), ('remembered', 6), ('interacting', 12), ('embrace', 3), ('exotic', 3), ('unmantained', 1), ('sabrer', 1), ('doc', 32), ('contrib', 2), ('pra', 1), ('diagnostic', 29), ('vanish', 3), ('annotations', 7), ('subdivided', 2), ('amplidute', 1), ('fa', 51), ('nnetts', 1), ('tsdyn', 1), ('nnet', 59), ('reccurant', 1), ('develop', 61), ('impulse', 10), ('bringing', 3), ('equilibrium', 9), ('brings', 9), ('dips', 3), ('inputdata', 1), ('imply', 51), ('impossible', 50), ('retention', 21), ('semester', 21), ('retained', 18), ('advisers', 9), ('mandatory', 3), ('surely', 31), ('adviser', 1), ('universities', 5), ('government', 12), ('funding', 5), ('desirable', 11), ('opening', 9), ('doors', 5), ('happened', 49), ('bosses', 1), ('sensitive', 35), ('removal', 12), ('cohorts', 13), ('illusory', 1), ('spssinc', 1), ('rake', 1), ('broadly', 3), ('beat', 13), ('authority', 3), ('keyword', 10), ('relevancy', 6), ('webpages', 4), ('definitive', 5), ('competition', 27), ('obscure', 4), ('jebediah', 1), ('ostrich', 1), ('clients', 25), ('ks', 106), ('probleme', 1), ('orders', 46), ('investment', 28), ('fdi', 4), ('domestic', 1), ('jobs', 15), ('pays', 5), ('taxes', 4), ('instructions', 15), ('tia', 5), ('discriminative', 12), ('optimizes', 4), ('hinge', 6), ('slack', 6), ('sigmoid', 80), ('activation', 57), ('person', 271), ('frequentist', 22), ('dampened', 1), ('sea', 19), ('baltic', 1), ('bracket', 1), ('warming', 3), ('faster', 41), ('summer', 26), ('slower', 12), ('guesstimate', 2), ('sst', 34), ('bradtke', 1), ('sstlm', 2), ('xlim', 47), ('modifications', 5), ('thereof', 6), ('designed', 35), ('ignorance', 4), ('contrived', 5), ('churn', 23), ('october', 14), ('september', 12), ('emphasizes', 2), ('suppressing', 2), ('heavily', 33), ('basis', 96), ('externality', 1), ('competitor', 7), ('compressed', 9), ('averaged', 35), ('voter', 8), ('vote', 42), ('election', 17), ('elections', 5), ('turnout', 5), ('political', 10), ('trim', 6), ('compress', 2), ('coworker', 2), ('believes', 5), ('encapsulate', 3), ('advisable', 7), ('odd', 63), ('uncomfortable', 3), ('numberofdrugs', 9), ('healthvalue', 8), ('squaroot', 1), ('xb', 28), ('navigating', 2), ('plethora', 3), ('outlyingness', 1), ('dispersed', 13), ('advocating', 1), ('overdispersed', 11), ('pacific', 3), ('zones', 18), ('heteroscedastic', 16), ('plays', 15), ('role', 37), ('constraints', 59), ('cochrane', 13), ('orkutt', 1), ('anscombe', 7), ('outlier', 60), ('assessment', 18), ('wisdom', 3), ('experiences', 9), ('reflective', 1), ('offset', 88), ('closeness', 2), ('interpretable', 15), ('readings', 39), ('fft', 10), ('logic', 48), ('applies', 36), ('balls', 173), ('urn', 28), ('tailed', 55), ('obtaining', 35), ('phyper', 7), ('decay', 45), ('weighting', 66), ('yy', 45), ('len', 84), ('halflife', 3), ('sumone', 2), ('decaying', 3), ('reverse', 19), ('biggest', 24), ('normalise', 8), ('analyzed', 22), ('mbox', 53), ('bernoulli', 80), ('hazard', 36), ('eqnarray', 70), ('censoring', 10), ('promise', 3), ('precinct', 2), ('anyways', 9), ('uncommon', 5), ('obstacle', 3), ('directions', 27), ('nearest', 70), ('incrementally', 5), ('configuration', 29), ('dynlm', 9), ('eyeball', 4), ('ridiculously', 5), ('delivering', 2), ('nlp', 12), ('tokens', 10), ('sam', 8), ('ham', 1), ('sentence', 40), ('bigrams', 8), ('alleviate', 2), ('johnson', 12), ('accounted', 17), ('caveat', 5), ('yo', 10), ('soy', 1), ('constructed', 40), ('rbeta', 8), ('hacks', 1), ('qualitatively', 6), ('histograms', 40), ('parametrical', 1), ('disprove', 7), ('martingale', 12), ('assummed', 2), ('hyndman', 35), ('principles', 12), ('sole', 11), ('assigning', 28), ('snaive', 5), ('redundant', 32), ('grass', 5), ('vergr', 8), ('pairid', 3), ('clog', 2), ('glad', 17), ('visually', 46), ('display', 36), ('route', 23), ('jay', 1), ('mathematica', 17), ('seeking', 12), ('explicit', 19), ('searches', 14), ('turned', 29), ('longrightarrow', 13), ('nvar', 4), ('argue', 17), ('categorial', 27), ('stdy', 3), ('convar', 3), ('catvar', 1), ('bob', 14), ('henri', 1), ('rectify', 5), ('comparaison', 1), ('numberofobs', 1), ('methcomp', 1), ('deming', 5), ('simulating', 26), ('itterations', 2), ('newyt', 4), ('css', 25), ('phix', 7), ('tstar', 3), ('tdstar', 3), ('yt', 57), ('ancova', 16), ('sector', 14), ('companies', 56), ('sectors', 5), ('news', 44), ('headlines', 5), ('mentioning', 13), ('microsoft', 8), ('abbott', 1), ('laboratories', 1), ('dnews', 2), ('taught', 14), ('man', 49), ('hight', 3), ('qualify', 9), ('darlington', 1), ('introduces', 12), ('superior', 11), ('insights', 26), ('debt', 35), ('collections', 17), ('pay', 47), ('unfortunate', 3), ('consequences', 22), ('outstanding', 4), ('balances', 5), ('dollars', 32), ('depth', 138), ('improving', 13), ('anticipated', 3), ('contingent', 1), ('overpowers', 1), ('heckman', 8), ('amounts', 25), ('payers', 1), ('expressing', 8), ('preparing', 13), ('interview', 13), ('decent', 28), ('sheet', 11), ('trin', 1), ('dpk', 1), ('ia', 8), ('exsheet', 1), ('identically', 19), ('numerator', 37), ('denominator', 44), ('broad', 24), ('gaps', 14), ('criminal', 5), ('persons', 39), ('convicted', 5), ('criminals', 1), ('commit', 3), ('crime', 17), ('buckets', 15), ('investigators', 6), ('twenty', 14), ('riskiest', 3), ('live', 20), ('vifs', 7), ('thirty', 7), ('remedy', 3), ('clarifications', 11), ('clnic', 1), ('cough', 1), ('afterwards', 22), ('improved', 48), ('inaccurate', 10), ('wondered', 12), ('rnn', 27), ('theoretical', 96), ('convention', 6), ('core', 29), ('skeleton', 1), ('angles', 16), ('coordinate', 24), ('flower', 31), ('misclassifying', 3), ('controldata', 14), ('tseries', 31), ('naivefit', 2), ('navifefit', 1), ('informed', 12), ('modeler', 4), ('informedfit', 3), ('graphically', 28), ('playing', 57), ('devil', 1), ('advocate', 1), ('risks', 8), ('implications', 12), ('uninformed', 3), ('misclassification', 44), ('touches', 5), ('differenced', 41), ('drift', 106), ('learing', 1), ('ikonomovska', 1), ('gama', 1), ('streams', 15), ('regresor', 1), ('moa', 1), ('detector', 6), ('behind', 105), ('inversion', 9), ('reserved', 4), ('visiting', 11), ('directories', 4), ('bijective', 2), ('directory', 5), ('diagonality', 1), ('scrambled', 1), ('wrapped', 2), ('dozen', 8), ('modelbase', 1), ('supporting', 7), ('shine', 3), ('patients', 180), ('machines', 58), ('nuisance', 8), ('dburr', 2), ('fadist', 3), ('jk', 2), ('densfun', 2), ('lapack', 6), ('dgesv', 6), ('knot', 5), ('rcs', 31), ('dived', 1), ('trichotomous', 1), ('permutation', 64), ('forgive', 21), ('jumping', 2), ('unclear', 38), ('suite', 6), ('fun', 51), ('disturbance', 10), ('nile', 40), ('durban', 1), ('koopman', 3), ('dk', 4), ('likes', 20), ('graphic', 12), ('dotted', 10), ('covariances', 13), ('nid', 7), ('converging', 13), ('tolerence', 1), ('quotes', 5), ('tusell', 1), ('walkthrough', 2), ('debugged', 1), ('kfas', 16), ('modelnile', 24), ('ssmodel', 14), ('ssmtrend', 10), ('fitssm', 13), ('inits', 19), ('bfgs', 49), ('optimisation', 14), ('sann', 3), ('brent', 50), ('kfs', 16), ('extend', 31), ('conversion', 30), ('channel', 36), ('channels', 19), ('lcr', 1), ('fitlm', 11), ('darling', 23), ('sa', 32), ('neutral', 45), ('costs', 31), ('improvements', 11), ('automatic', 30), ('bivariate', 50), ('inequality', 60), ('ge', 86), ('depvar', 5), ('shopping', 13), ('habits', 10), ('shopper', 3), ('elasticnet', 7), ('regularize', 7), ('litter', 10), ('licking', 8), ('adonis', 4), ('litsiz', 6), ('permutations', 23), ('sumsofsqs', 2), ('meansqs', 2), ('ss', 59), ('rgev', 4), ('fgev', 4), ('judith', 2), ('singer', 2), ('willet', 1), ('interindividual', 1), ('alcuse', 2), ('alcohol', 24), ('med', 49), ('airline', 6), ('passengers', 16), ('scheduled', 6), ('flights', 15), ('seats', 12), ('accepts', 17), ('bookings', 17), ('deny', 6), ('boarding', 1), ('fly', 16), ('imbalance', 33), ('formulate', 22), ('regressor', 71), ('preference', 20), ('harmonic', 7), ('indices', 58), ('diseases', 21), ('breast', 8), ('carcinoma', 1), ('adrenal', 1), ('cortex', 1), ('neoplasms', 1), ('bincount', 2), ('honestly', 14), ('stratification', 8), ('beginner', 60), ('cells', 76), ('stores', 39), ('flips', 21), ('successive', 18), ('hits', 44), ('streak', 27), ('achieved', 37), ('tallied', 2), ('streaks', 2), ('ththththhhhhh', 1), ('thahtht', 1), ('static', 41), ('summarise', 20), ('unheard', 1), ('credible', 8), ('realm', 5), ('scalable', 4), ('carried', 23), ('java', 34), ('albeit', 10), ('carving', 1), ('pavlidou', 1), ('titled', 2), ('sensed', 1), ('tir', 1), ('emission', 6), ('preceding', 12), ('earthquakes', 7), ('xts', 47), ('zoo', 36), ('hts', 6), ('standart', 1), ('reseraches', 1), ('hiden', 1), ('apoximate', 1), ('multiplication', 24), ('cheat', 3), ('unswer', 1), ('layout', 12), ('complain', 2), ('bitterly', 1), ('fashion', 35), ('dhyper', 4), ('fidge', 1), ('sensu', 1), ('climategate', 1), ('qbeta', 3), ('dreader', 1), ('con', 29), ('frr', 12), ('eer', 9), ('programatically', 2), ('guard', 4), ('eliminating', 6), ('reversion', 7), ('ornstein', 7), ('uhlenbeck', 1), ('abnormal', 21), ('sorts', 17), ('asset', 19), ('pricing', 16), ('fama', 7), ('carhart', 3), ('excess', 17), ('regressive', 6), ('arch', 37), ('germination', 7), ('sowed', 1), ('seeds', 43), ('trays', 2), ('nursery', 8), ('receive', 54), ('germinated', 4), ('sown', 1), ('repetitions', 27), ('germinate', 2), ('gelman', 11), ('hyperparameter', 7), ('factorisation', 2), ('thoroughly', 8), ('tsnorm', 1), ('electrical', 6), ('enhance', 6), ('pape', 1), ('kaggle', 23), ('traindata', 28), ('testdata', 41), ('trainreg', 4), ('testreg', 2), ('legend', 39), ('topleft', 8), ('multiseasonal', 2), ('foretasted', 1), ('unavoidable', 2), ('tentatively', 1), ('settled', 6), ('outlined', 11), ('letters', 55), ('dna', 22), ('composed', 26), ('motifs', 2), ('personal', 13), ('motif', 7), ('abandoned', 2), ('mainstream', 1), ('extending', 11), ('disjoint', 11), ('subsets', 66), ('suffices', 4), ('attention', 24), ('ref', 49), ('namely', 51), ('division', 17), ('uninformative', 5), ('textstyle', 2), ('discriminate', 13), ('bayesfact', 2), ('robert', 3), ('bane', 1), ('bayesians', 1), ('permute', 7), ('destroyed', 2), ('permuted', 6), ('preliminary', 13), ('summarize', 25), ('pbf', 1), ('summarizing', 5), ('fuzzy', 10), ('justification', 23), ('usercount', 2), ('questioncount', 2), ('powerlaw', 1), ('screenshot', 7), ('separable', 25), ('doob', 1), ('fatou', 3), ('liminf', 9), ('stackrel', 4), ('efficients', 5), ('iteratively', 9), ('parallel', 47), ('clm', 4), ('createdatapartition', 7), ('unemploy', 3), ('svmrbftune', 2), ('pce', 1), ('pop', 24), ('psavert', 1), ('uempmed', 1), ('svmradial', 7), ('tunelength', 9), ('svmpredict', 4), ('rbfdata', 2), ('rbfdatam', 2), ('qplot', 9), ('sights', 1), ('losses', 5), ('rolled', 25), ('basketball', 10), ('team', 119), ('aims', 6), ('tutoring', 2), ('preparatory', 1), ('prepare', 19), ('quarter', 58), ('takers', 5), ('svms', 50), ('suffer', 12), ('dotsc', 12), ('influences', 17), ('possibilities', 39), ('collapse', 10), ('expectations', 24), ('washington', 6), ('oakland', 1), ('actors', 9), ('decisions', 41), ('contracting', 1), ('parties', 12), ('reaching', 12), ('tosses', 23), ('simon', 6), ('discriminating', 5), ('prominent', 6), ('modifying', 7), ('descending', 12), ('prominence', 1), ('determination', 20), ('ignoring', 28), ('accumulated', 4), ('elegant', 19), ('pelvis', 1), ('femur', 4), ('men', 59), ('women', 66), ('wrongly', 8), ('death', 39), ('relating', 23), ('agreeable', 1), ('scientist', 8), ('lacking', 18), ('conflicting', 10), ('narrow', 19), ('judgement', 14), ('criticisms', 4), ('trevor', 3), ('traditionally', 7), ('racing', 3), ('betting', 7), ('rsnns', 7), ('layouts', 4), ('optima', 3), ('matteo', 1), ('ranged', 1), ('leaning', 4), ('actor', 19), ('bace', 1), ('pwr', 7), ('sc', 39), ('dis', 11), ('igb', 1), ('punish', 2), ('threaten', 1), ('oppose', 4), ('appeal', 1), ('reward', 8), ('prcomp', 5), ('biplot', 2), ('quasipoisson', 15), ('texts', 17), ('analysing', 25), ('sleepstudy', 5), ('lmbetas', 3), ('daply', 1), ('lmerbetas', 3), ('demonstrated', 4), ('facet', 12), ('spread', 56), ('connected', 34), ('traffic', 42), ('bitrate', 1), ('forumaltavilla', 1), ('joomla', 1), ('datitesi', 1), ('dati', 6), ('deltat', 9), ('scan', 18), ('scatter', 54), ('visualization', 20), ('cex', 33), ('enhanced', 2), ('marks', 21), ('visualizations', 5), ('presenting', 13), ('surfaces', 15), ('electromuscular', 1), ('partially', 16), ('corr', 39), ('dependency', 29), ('piecewisely', 3), ('circle', 38), ('systematically', 7), ('os', 13), ('debian', 1), ('manager', 12), ('gnome', 1), ('finance', 14), ('concentrate', 1), ('topich', 1), ('flux', 6), ('leakage', 7), ('meantime', 3), ('soomthing', 1), ('afraid', 25), ('mfrow', 33), ('tso', 3), ('detech', 1), ('relativity', 1), ('partly', 8), ('mannually', 1), ('tsoutliers', 4), ('upload', 7), ('quarters', 22), ('analogy', 8), ('unconstrained', 7), ('expansion', 14), ('boldsymbol', 73), ('attain', 5), ('suffers', 7), ('faq', 7), ('lrtest', 14), ('homoskedasticity', 9), ('rejecting', 32), ('xtlogit', 6), ('vce', 5), ('sharpe', 6), ('inform', 9), ('committee', 10), ('worries', 6), ('frequently', 29), ('nearly', 31), ('forgotten', 3), ('breusch', 27), ('godfrey', 12), ('similarities', 7), ('descriptions', 9), ('street', 7), ('copious', 1), ('bottles', 2), ('front', 15), ('yards', 8), ('olds', 6), ('baby', 4), ('strollers', 1), ('parked', 1), ('ring', 4), ('door', 10), ('ten', 43), ('replies', 7), ('answering', 31), ('merely', 11), ('switching', 17), ('pheno', 2), ('covar', 31), ('gwas', 1), ('genome', 7), ('copies', 10), ('minor', 20), ('allele', 5), ('snp', 57), ('race', 75), ('fdr', 11), ('bmi', 45), ('ethnicity', 25), ('lived', 2), ('miles', 12), ('procurement', 1), ('glmm', 19), ('teaching', 29), ('pruned', 1), ('chmin', 1), ('lms', 2), ('classically', 2), ('masked', 6), ('confidentiality', 4), ('talk', 30), ('findings', 17), ('likelihoods', 8), ('controversial', 4), ('discussing', 11), ('interconnected', 1), ('confound', 1), ('isolate', 11), ('excluded', 31), ('favorable', 8), ('disrupt', 2), ('isolation', 2), ('reversed', 8), ('annoying', 5), ('reduces', 22), ('considerably', 12), ('wished', 3), ('subjectively', 3), ('messy', 13), ('substantiate', 1), ('valuable', 15), ('concluded', 12), ('dim', 67), ('cd', 23), ('methodology', 71), ('pulse', 8), ('cryer', 2), ('chan', 3), ('xtransf', 7), ('scenarios', 32), ('request', 17), ('parametrizations', 1), ('filetolink', 1), ('cfccb', 1), ('elaborate', 12), ('oversampled', 5), ('comparable', 36), ('tchebysheff', 2), ('consistency', 8), ('dirmult', 4), ('foo', 12), ('jump', 12), ('brain', 30), ('judge', 11), ('cards', 40), ('dealt', 14), ('randomised', 4), ('deck', 20), ('player', 100), ('suit', 16), ('hearts', 2), ('diamonds', 15), ('spades', 6), ('clubs', 1), ('magic', 4), ('jack', 6), ('guessing', 50), ('mythical', 2), ('thousands', 59), ('favoured', 1), ('tolerance', 30), ('allison', 1), ('cover', 45), ('origin', 51), ('industries', 3), ('tolerances', 3), ('useless', 21), ('subsidiaries', 1), ('firm', 59), ('validly', 1), ('omitting', 4), ('overlapping', 41), ('rewrite', 14), ('clean', 43), ('gbm', 92), ('shrinkage', 19), ('rel', 14), ('indicative', 12), ('fundamentally', 8), ('conversely', 5), ('finer', 4), ('consequently', 21), ('alter', 8), ('patricia', 1), ('tencaliec', 1), ('wedding', 1), ('shooting', 9), ('trailing', 7), ('allen', 4), ('jason', 6), ('terry', 6), ('jamal', 4), ('crawford', 4), ('kevin', 8), ('durant', 4), ('fg', 25), ('shots', 31), ('bugs', 29), ('ready', 14), ('profiles', 9), ('deseasonalized', 3), ('allowing', 17), ('meets', 9), ('tidwell', 8), ('statisticians', 10), ('suffice', 9), ('beneficial', 8), ('unlabelled', 14), ('attractive', 4), ('actively', 1), ('judges', 1), ('requesting', 1), ('weakly', 16), ('newcommand', 16), ('cramer', 9), ('xp', 6), ('asymptotic', 45), ('referenced', 7), ('executes', 3), ('rfcontrol', 11), ('rfgrid', 5), ('labelidx', 5), ('rstudio', 12), ('elapsed', 9), ('discovered', 23), ('copulae', 1), ('empirically', 26), ('cauchy', 29), ('ppoints', 7), ('pcauchy', 5), ('constructing', 31), ('nhl', 1), ('regulation', 2), ('logisitic', 6), ('respondents', 37), ('deploying', 3), ('production', 60), ('horrible', 9), ('yrsofeds', 1), ('tract', 7), ('subjectid', 4), ('complained', 1), ('save', 29), ('dof', 7), ('sjplot', 1), ('sjp', 1), ('fe', 6), ('hippcing', 1), ('fas', 1), ('excersises', 1), ('blood', 49), ('pressure', 35), ('medicine', 18), ('keeps', 11), ('whith', 1), ('sould', 1), ('interests', 7), ('circular', 31), ('euclidean', 33), ('displacement', 10), ('cartesian', 4), ('biases', 14), ('gray', 16), ('thick', 6), ('arrows', 4), ('thin', 6), ('radians', 3), ('rotation', 10), ('counter', 37), ('mx', 33), ('linearpred', 3), ('mcl', 2), ('valore', 1), ('mancante', 1), ('dove', 1), ('richiesto', 1), ('mmv', 7), ('angularpred', 2), ('atan', 4), ('mcc', 16), ('angular', 6), ('jammalamadaka', 1), ('sarma', 1), ('fell', 8), ('brandon', 2), ('bertelsen', 1), ('olr', 4), ('grade', 44), ('la', 25), ('air', 110), ('stackloss', 4), ('located', 21), ('essence', 13), ('quantifying', 9), ('hopeless', 3), ('contradictory', 17), ('bands', 42), ('parallely', 1), ('fig', 23), ('reminiscent', 1), ('band', 27), ('npregtol', 1), ('wilks', 5), ('larry', 2), ('wasserman', 3), ('singleton', 3), ('iff', 14), ('uniquely', 11), ('stan', 6), ('marginalize', 4), ('pmfs', 7), ('alignat', 2), ('wolfram', 2), ('skills', 23), ('rusty', 9), ('lpmf', 1), ('vectorized', 5), ('lgamma', 1), ('citations', 8), ('shaky', 2), ('trauma', 4), ('examines', 4), ('creativity', 6), ('locus', 6), ('assertiveness', 1), ('grades', 25), ('beginnings', 1), ('decreased', 22), ('iterating', 6), ('asymptote', 5), ('specifics', 9), ('sqft', 14), ('fertility', 7), ('swiss', 5), ('unseen', 27), ('client', 39), ('retrain', 8), ('substitution', 7), ('maximised', 1), ('tan', 8), ('contribution', 34), ('crosstable', 3), ('gmodels', 2), ('wallmart', 3), ('triptype', 1), ('dnn', 2), ('laws', 1), ('governed', 6), ('jointly', 11), ('gaussians', 13), ('conditioning', 20), ('likewise', 13), ('distributional', 5), ('participate', 8), ('inferred', 8), ('infer', 29), ('database', 55), ('identifiable', 7), ('latitude', 17), ('longitude', 22), ('geographically', 2), ('tagged', 19), ('divides', 3), ('sections', 7), ('wing', 4), ('baldridge', 1), ('scholar', 10), ('hl', 2), ('sdt', 1), ('han', 2), ('baldwin', 1), ('jair', 3), ('solves', 12), ('derivations', 6), ('loved', 1), ('beef', 12), ('foundations', 5), ('comprehend', 4), ('esl', 5), ('lab', 42), ('labs', 6), ('mnar', 2), ('imputation', 42), ('wbc', 2), ('notdone', 1), ('readily', 4), ('accommodate', 8), ('irresponsible', 1), ('deployed', 8), ('exponentiated', 17), ('ica', 4), ('hill', 12), ('earnings', 29), ('inches', 8), ('tall', 14), ('bullet', 13), ('hypothetis', 1), ('telling', 22), ('provincial', 4), ('cyl', 26), ('disp', 42), ('hp', 60), ('drat', 25), ('ammanual', 1), ('gear', 7), ('carb', 19), ('marked', 27), ('floating', 7), ('randoms', 3), ('prevalence', 37), ('austrian', 2), ('federal', 9), ('refine', 6), ('aged', 9), ('daten', 3), ('jahr', 2), ('bundesland', 1), ('bgld', 1), ('ktn', 1), ('noe', 1), ('pfst', 8), ('des', 1), ('uniformity', 5), ('covered', 24), ('rarely', 10), ('forcasting', 2), ('positions', 37), ('flatter', 2), ('doe', 6), ('ho', 24), ('flg', 21), ('tt', 52), ('fbb', 1), ('ffh', 1), ('fho', 1), ('frq', 1), ('outdoor', 6), ('environments', 1), ('occupancy', 8), ('octrees', 2), ('resulted', 36), ('octree', 5), ('hausdorff', 2), ('prone', 9), ('kullback', 11), ('leibler', 9), ('divergence', 36), ('occupied', 11), ('additionaly', 1), ('kld', 1), ('falsely', 6), ('whatis', 1), ('conditionally', 11), ('medical', 40), ('science', 47), ('tipically', 1), ('categorizing', 4), ('bush', 1), ('cows', 7), ('demo', 18), ('arranged', 6), ('lbrace', 19), ('rbrace', 19), ('hyperparameters', 20), ('xj', 10), ('covfunc', 10), ('likfunc', 9), ('likgauss', 1), ('hyp', 20), ('infexact', 3), ('nlml', 1), ('glimmix', 8), ('studyarea', 1), ('mp', 25), ('mphw', 11), ('yp', 15), ('shrub', 9), ('vc', 31), ('nloptions', 1), ('gconv', 1), ('colon', 5), ('ag', 10), ('turkey', 8), ('devroye', 1), ('tilde', 87), ('modals', 1), ('app', 29), ('installed', 10), ('ltv', 6), ('sooner', 3), ('cohort', 49), ('fooling', 4), ('constraint', 45), ('quadprog', 10), ('qp', 10), ('db', 45), ('dmat', 3), ('amat', 3), ('bvec', 3), ('dvec', 3), ('meq', 1), ('factorized', 4), ('penalties', 5), ('usable', 11), ('piossible', 1), ('delivers', 5), ('pardon', 7), ('commuted', 1), ('taxi', 5), ('taxis', 3), ('fleet', 9), ('trip', 15), ('trips', 7), ('acquired', 9), ('schools', 31), ('leftarrow', 2), ('unpooled', 9), ('rationalizing', 1), ('pooled', 42), ('dplyr', 20), ('rbinom', 54), ('tbl', 5), ('pvalue', 47), ('tidy', 11), ('treatmentb', 6), ('idetifying', 1), ('impoprtant', 1), ('sciece', 1), ('influencer', 3), ('viewed', 13), ('views', 46), ('isconverted', 2), ('collection', 51), ('remov', 2), ('checkout', 12), ('unsuccessful', 10), ('incnodepurity', 2), ('collec', 1), ('affects', 57), ('clearer', 22), ('digital', 10), ('neighborhoods', 1), ('elicit', 1), ('residents', 11), ('perceptions', 1), ('competencies', 6), ('professionalism', 2), ('collaboration', 2), ('expertise', 5), ('residency', 5), ('elicited', 1), ('psych', 9), ('surgery', 21), ('culture', 4), ('surrounding', 13), ('roles', 8), ('investigated', 7), ('perception', 5), ('mosaic', 2), ('investigation', 12), ('tandfonline', 1), ('doi', 20), ('mbr', 1), ('ud', 2), ('ucdpzy', 1), ('elucidate', 1), ('settings', 21), ('chris', 5), ('review', 23), ('seated', 3), ('restrictions', 28), ('sit', 6), ('demoninator', 1), ('married', 16), ('couples', 8), ('alike', 8), ('troughs', 4), ('winter', 25), ('summarized', 15), ('prescribed', 7), ('medicines', 1), ('doctor', 25), ('doctorid', 6), ('patientid', 16), ('totalvalue', 4), ('indication', 16), ('prescribing', 2), ('unusually', 5), ('prescription', 5), ('similarily', 2), ('associations', 10), ('aov', 52), ('datatable', 5), ('misbehaving', 1), ('tags', 19), ('adequate', 19), ('grouped', 44), ('formulanumber', 2), ('pat', 9), ('exdisp', 1), ('kjetil', 1), ('metioned', 1), ('waytab', 1), ('idvar', 3), ('timevar', 2), ('scortchi', 8), ('particularily', 1), ('farmacy', 2), ('deserved', 1), ('priced', 2), ('stream', 38), ('scratch', 15), ('wrapping', 8), ('warm', 8), ('wave', 22), ('aligned', 18), ('rec', 11), ('sigmo', 1), ('waves', 15), ('minima', 11), ('epochs', 10), ('mini', 21), ('lstm', 16), ('architectures', 4), ('flawed', 16), ('torch', 2), ('gist', 9), ('formalism', 2), ('elementary', 16), ('ta', 10), ('converse', 5), ('dataframes', 10), ('opened', 5), ('clicked', 5), ('captured', 18), ('servers', 11), ('timestamps', 11), ('click', 50), ('undertaking', 2), ('interventions', 7), ('placebo', 32), ('retest', 12), ('captures', 21), ('pretest', 8), ('moderated', 3), ('multiplied', 29), ('compensate', 4), ('till', 35), ('resolving', 2), ('requests', 12), ('determinate', 6), ('nonconforming', 4), ('fraction', 65), ('confirmed', 12), ('requested', 18), ('sale', 32), ('bother', 5), ('alerting', 4), ('drops', 26), ('barrier', 3), ('determines', 19), ('whenever', 31), ('alerted', 1), ('printed', 10), ('publisher', 2), ('hardcover', 1), ('supply', 20), ('bookseller', 1), ('notable', 4), ('historic', 16), ('analytic', 5), ('recognizing', 4), ('neighbors', 31), ('pulled', 13), ('elena', 2), ('aut', 2), ('nz', 4), ('pcowpert', 1), ('fontdsdt', 3), ('inflow', 2), ('concave', 9), ('calling', 27), ('du', 12), ('remark', 10), ('concavity', 2), ('nagelkerke', 12), ('stunting', 10), ('malnutrition', 4), ('amongst', 15), ('insurance', 34), ('stunted', 8), ('ins', 12), ('unins', 7), ('discrepancy', 20), ('trivial', 42), ('downsample', 3), ('upsampling', 7), ('programming', 64), ('gvif', 6), ('agem', 2), ('edum', 2), ('eduf', 2), ('agec', 5), ('diarrhea', 1), ('uweight', 1), ('fever', 2), ('nlc', 2), ('collinearity', 39), ('orcutt', 8), ('regfinal', 3), ('yb', 6), ('xbdata', 5), ('stuff', 37), ('submitted', 9), ('earned', 4), ('permit', 6), ('approved', 6), ('submission', 3), ('permits', 3), ('submissions', 2), ('extrapolate', 10), ('backwards', 24), ('buildings', 6), ('gotten', 26), ('recency', 5), ('corresponded', 2), ('datetime', 22), ('numpy', 30), ('pd', 54), ('legal', 8), ('timedelta', 29), ('notnull', 2), ('wrapper', 5), ('timedeltas', 1), ('astype', 3), ('float', 30), ('omitted', 40), ('recommendable', 2), ('ecommerce', 2), ('propensity', 29), ('quantities', 20), ('query', 63), ('dependence', 81), ('pain', 7), ('manipulate', 17), ('fruitfully', 1), ('causally', 1), ('sports', 26), ('screens', 1), ('proba', 11), ('fulfil', 3), ('dougal', 1), ('combinatorics', 4), ('logistf', 17), ('queries', 7), ('logistftest', 5), ('penalized', 43), ('constricted', 3), ('freely', 9), ('syntax', 40), ('creenshot', 1), ('catching', 2), ('longseasonality', 2), ('funciton', 3), ('flipping', 16), ('infinitely', 11), ('differentiable', 16), ('capabilities', 4), ('exactely', 2), ('contribute', 26), ('struggles', 1), ('rise', 18), ('vmzb', 1), ('cuxjm', 1), ('dbbxc', 1), ('usp', 9), ('sarima', 37), ('idle', 4), ('thefore', 1), ('wich', 4), ('decribed', 2), ('eleminate', 1), ('bezirk', 1), ('massive', 18), ('mitte', 1), ('treptow', 1), ('wins', 37), ('loses', 4), ('teams', 29), ('draws', 50), ('converting', 22), ('chelsea', 3), ('rewritten', 9), ('bothers', 4), ('recording', 15), ('educate', 6), ('steroid', 4), ('gpa', 55), ('starters', 3), ('china', 5), ('africa', 5), ('meters', 13), ('geospatial', 3), ('longer', 90), ('mechanism', 28), ('travelled', 2), ('finish', 11), ('travel', 32), ('humanly', 2), ('phd', 7), ('hardest', 3), ('thankfully', 1), ('integration', 45), ('theorems', 3), ('diving', 2), ('trigonometric', 7), ('conclusions', 39), ('nonnegativity', 1), ('mistaken', 11), ('dic', 2), ('mars', 16), ('earth', 21), ('undergraduate', 13), ('davison', 4), ('snell', 4), ('usages', 3), ('assessed', 17), ('depressive', 5), ('symptoms', 8), ('dichotomize', 1), ('precedence', 1), ('diversity', 27), ('curved', 9), ('confuses', 11), ('lowess', 1), ('choccake', 12), ('chocake', 1), ('breakang', 4), ('recipe', 12), ('algo', 9), ('cjauvin', 2), ('blogspot', 5), ('emphasize', 5), ('nbviewer', 2), ('ipython', 3), ('minimized', 18), ('notebook', 3), ('requiring', 6), ('geometrically', 3), ('urca', 22), ('familywise', 2), ('eigenvalue', 17), ('snipped', 2), ('irrigation', 1), ('waste', 17), ('chemical', 56), ('soil', 34), ('irrigated', 2), ('effluent', 1), ('parkan', 1), ('depths', 15), ('summaries', 8), ('unrestricted', 9), ('bwght', 2), ('cigs', 3), ('parity', 32), ('faminc', 4), ('motheduc', 1), ('fatheduc', 1), ('lagrange', 16), ('multiplier', 14), ('suppliers', 2), ('declined', 3), ('charged', 1), ('conditionl', 1), ('ot', 2), ('teh', 1), ('released', 13), ('redesigned', 1), ('commerce', 1), ('claiming', 5), ('relaunch', 1), ('attributed', 10), ('redesign', 3), ('astronomically', 1), ('evacuated', 2), ('linked', 36), ('operates', 3), ('evacuate', 1), ('clarifies', 2), ('tu', 5), ('evac', 2), ('windspeed', 3), ('unappealing', 1), ('researched', 8), ('multiclass', 32), ('handmade', 1), ('simulates', 5), ('largely', 10), ('safely', 8), ('separating', 26), ('delt', 15), ('colombia', 1), ('macedonia', 1), ('fyr', 1), ('malaysia', 1), ('moldova', 1), ('tajikistan', 1), ('regressands', 1), ('conflicted', 1), ('crisis', 2), ('equivalently', 10), ('joining', 5), ('sheer', 3), ('drown', 2), ('impose', 10), ('restriction', 20), ('heteroskedastic', 7), ('orthogonality', 8), ('agevar', 8), ('sexvar', 8), ('xvals', 4), ('unequal', 16), ('forms', 21), ('addressing', 8), ('representations', 9), ('advantages', 26), ('vice', 37), ('versa', 39), ('protein', 10), ('chemicals', 13), ('compound', 38), ('traversing', 1), ('topology', 4), ('rugarch', 16), ('mortality', 47), ('smoke', 25), ('smoken', 1), ('smokey', 1), ('smoking', 15), ('newer', 8), ('crfsuite', 8), ('crfs', 3), ('tagging', 10), ('tutorials', 32), ('prp', 8), ('reckons', 2), ('vbz', 1), ('vp', 2), ('jj', 3), ('deficit', 1), ('chunking', 2), ('py', 9), ('ob', 23), ('arrange', 10), ('infection', 25), ('plants', 26), ('cvfit', 10), ('vertical', 22), ('hereby', 5), ('predictable', 11), ('volumes', 14), ('signifying', 2), ('depended', 3), ('numiters', 5), ('maxiters', 2), ('numfolds', 1), ('variety', 38), ('scattering', 1), ('percentiles', 9), ('deeplearning', 2), ('hinton', 5), ('crossed', 8), ('devx', 58), ('optctrl', 7), ('maxfun', 6), ('intr', 19), ('binned', 23), ('reveals', 5), ('accounting', 29), ('encountering', 10), ('cage', 13), ('dvx', 5), ('continuation', 4), ('parametrically', 3), ('linkages', 1), ('probibilities', 1), ('da', 25), ('superiority', 2), ('holdout', 17), ('projections', 13), ('encompassed', 1), ('dangers', 1), ('subtle', 5), ('un', 13), ('misinformed', 1), ('infrastructure', 3), ('facto', 1), ('promotes', 1), ('road', 21), ('leveraging', 3), ('rich', 15), ('libraries', 41), ('vessels', 6), ('unwatchful', 1), ('dearly', 1), ('stand', 34), ('arrest', 1), ('buying', 21), ('companion', 4), ('appealing', 8), ('substitute', 25), ('imho', 4), ('amid', 1), ('immense', 1), ('kuhn', 3), ('colleagues', 8), ('encouraged', 6), ('imbalanced', 37), ('differnt', 1), ('repetition', 8), ('counteract', 2), ('reserving', 1), ('ensure', 27), ('traning', 1), ('projection', 38), ('inheriting', 2), ('inherited', 3), ('deciding', 21), ('sds', 17), ('frothe', 1), ('selections', 18), ('withe', 1), ('fed', 17), ('inherit', 1), ('subspace', 9), ('ddata', 3), ('survreg', 9), ('hmohiv', 2), ('asa', 8), ('censor', 7), ('irwls', 2), ('boil', 5), ('diagonal', 52), ('kernelized', 1), ('invertible', 13), ('zhu', 1), ('nips', 2), ('guassian', 3), ('ard', 1), ('guaranteed', 13), ('lat', 7), ('lowering', 2), ('branches', 12), ('xgb', 9), ('branch', 7), ('rounds', 15), ('standardisation', 2), ('agaricus', 2), ('bst', 2), ('nround', 2), ('nthread', 1), ('vadim', 1), ('repos', 2), ('addrepo', 1), ('dmlc', 2), ('plugin', 3), ('thresholding', 2), ('regime', 20), ('finishing', 4), ('modelb', 5), ('vastly', 5), ('rlrsim', 1), ('accessible', 6), ('gam', 90), ('spm', 1), ('connor', 2), ('extensively', 9), ('discusses', 10), ('tweaking', 7), ('dtw', 35), ('medoids', 3), ('linkage', 4), ('upgma', 1), ('wpgma', 1), ('unproblematic', 2), ('ward', 29), ('hclust', 4), ('skeptical', 8), ('ab', 238), ('centroid', 6), ('centroids', 6), ('hello', 8), ('fellow', 4), ('crunchers', 1), ('generator', 13), ('cure', 5), ('scala', 1), ('pool', 64), ('unsuitable', 3), ('parallelize', 6), ('pregibon', 3), ('ramsey', 5), ('curvilinear', 3), ('pareonline', 1), ('getvn', 1), ('laurent', 5), ('practitioners', 9), ('valley', 3), ('exponents', 3), ('jitter', 8), ('powers', 6), ('tuples', 11), ('standardly', 1), ('tuple', 11), ('eff', 19), ('thompson', 3), ('admits', 4), ('coda', 5), ('uncorr', 2), ('effectivesize', 3), ('sanity', 3), ('neighborhood', 16), ('pglm', 8), ('fweight', 3), ('blogit', 1), ('presume', 15), ('xtblogit', 1), ('alarmed', 1), ('fortify', 1), ('zoom', 11), ('resolution', 14), ('logits', 15), ('yesterday', 23), ('ddist', 2), ('datadist', 8), ('dlmydat', 5), ('dlstatus', 4), ('dlour', 6), ('bid', 98), ('deriv', 12), ('dxy', 13), ('dlmod', 2), ('segmentation', 6), ('nuclei', 3), ('segmented', 20), ('blob', 9), ('rerun', 6), ('comprehensive', 11), ('biomarker', 38), ('rocr', 16), ('plateaus', 1), ('honest', 9), ('retrospectively', 3), ('ineffective', 3), ('reductions', 8), ('nlsmodel', 10), ('mf', 18), ('wts', 3), ('gathering', 4), ('multiplicity', 5), ('silly', 19), ('cvl', 1), ('squred', 1), ('geqq', 1), ('bdx', 2), ('emergency', 1), ('departments', 4), ('sustaining', 1), ('inflicted', 1), ('gunshot', 1), ('injuries', 5), ('sigsw', 10), ('physician', 6), ('suicide', 2), ('negligent', 1), ('discharge', 8), ('backward', 46), ('maxit', 37), ('agenyr', 1), ('crosstabulation', 2), ('fixation', 1), ('antibiotics', 2), ('catergorical', 1), ('nids', 34), ('hhincome', 5), ('household', 21), ('satisfaction', 26), ('hsgrad', 5), ('upd', 4), ('whichever', 12), ('retaining', 4), ('summaryi', 2), ('vars', 38), ('coefi', 2), ('ti', 20), ('extracts', 3), ('arr', 8), ('dgp', 3), ('mathiowetz', 2), ('differential', 28), ('attenuated', 1), ('rises', 5), ('charles', 2), ('nancy', 1), ('edward', 2), ('leamer', 1), ('eds', 2), ('handbook', 3), ('volume', 97), ('amsterdam', 2), ('elsevier', 2), ('machinelearning', 2), ('holehouse', 1), ('mlclass', 1), ('contours', 6), ('elongated', 1), ('drew', 16), ('bellows', 1), ('thetas', 22), ('rudky', 1), ('ix', 9), ('hyperplane', 50), ('affine', 5), ('cutting', 7), ('disclosure', 8), ('contributing', 12), ('suggesting', 21), ('cant', 23), ('yates', 6), ('jth', 4), ('individials', 1), ('throughout', 20), ('xian', 1), ('liu', 4), ('skipping', 5), ('overset', 25), ('sensitivities', 2), ('ppvs', 2), ('ppv', 4), ('kernlab', 23), ('experimented', 15), ('svc', 43), ('bsvc', 1), ('xls', 3), ('shops', 1), ('selling', 9), ('makets', 2), ('mydf', 13), ('mydatevar', 2), ('myvar', 4), ('dataobject', 4), ('datename', 7), ('varname', 6), ('datanamestring', 5), ('deparse', 3), ('countsstr', 4), ('parse', 11), ('startyear', 2), ('endyear', 3), ('lastyearvect', 2), ('lastdate', 2), ('endmonth', 2), ('yearmon', 8), ('commandline', 2), ('tsim', 4), ('shop', 13), ('countsmatrix', 3), ('createcountsmatrix', 2), ('dflist', 4), ('tslength', 2), ('clength', 2), ('matrixim', 5), ('idfname', 2), ('ivectstring', 2), ('getcounts', 2), ('ivect', 4), ('abb', 5), ('ivectwithnas', 3), ('missingafter', 2), ('ivectnew', 2), ('rownames', 29), ('mymts', 2), ('myhts', 3), ('borehole', 2), ('temperatures', 27), ('intermediate', 29), ('timepoint', 3), ('rainfall', 40), ('horizon', 26), ('incorporated', 9), ('whats', 7), ('danger', 3), ('lof', 1), ('untypical', 1), ('comprising', 7), ('ivreg', 4), ('endogeneity', 17), ('miv', 6), ('instruments', 16), ('mnull', 2), ('carries', 5), ('psychographic', 1), ('ae', 20), ('physiological', 5), ('heartrate', 3), ('timelines', 1), ('woman', 21), ('selcetion', 1), ('intelligent', 4), ('convenient', 13), ('oder', 1), ('intraclass', 1), ('variane', 1), ('xtsum', 2), ('nameid', 1), ('cons', 31), ('lnsig', 1), ('chibar', 2), ('office', 22), ('residential', 1), ('corar', 9), ('sur', 10), ('ncvreg', 2), ('mcp', 7), ('corrresponding', 1), ('lcavol', 25), ('lweight', 25), ('lbph', 25), ('svi', 25), ('lcp', 25), ('gleason', 25), ('pgg', 25), ('paramter', 6), ('versions', 15), ('outlying', 4), ('poorly', 26), ('calibrated', 19), ('feautures', 1), ('randn', 16), ('firing', 2), ('rand', 45), ('cp', 59), ('glmfit', 14), ('esimted', 1), ('clf', 39), ('subplot', 7), ('figures', 32), ('paramters', 2), ('probabilites', 4), ('typeprof', 5), ('typewc', 5), ('glimpse', 3), ('linearhypothesis', 9), ('trickier', 3), ('duncan', 13), ('prestige', 18), ('debug', 1), ('duncanm', 1), ('meaningfully', 6), ('sake', 22), ('leaves', 41), ('typebc', 1), ('hamper', 2), ('discs', 6), ('contour', 14), ('automate', 10), ('extensive', 5), ('disc', 5), ('efficiently', 18), ('kindly', 31), ('equidistant', 3), ('spaced', 21), ('posixct', 23), ('posixt', 6), ('tzone', 4), ('aggregat', 1), ('organisation', 16), ('competitors', 5), ('worthwhile', 4), ('conservative', 16), ('pertaining', 9), ('recommendation', 12), ('tediously', 1), ('rolls', 18), ('cumulatively', 1), ('delving', 1), ('capacity', 42), ('rapidly', 8), ('limsup', 17), ('rigorously', 6), ('consts', 1), ('delivery', 12), ('clicks', 49), ('abut', 2), ('welcomed', 13), ('ul', 3), ('ctr', 24), ('ads', 14), ('olivier', 2), ('chapelle', 1), ('pub', 4), ('ngdstone', 1), ('cardinality', 7), ('handling', 24), ('sparcity', 1), ('facebook', 7), ('auroc', 10), ('spark', 5), ('streaming', 9), ('tableau', 1), ('named', 46), ('subsections', 1), ('costly', 8), ('focusing', 11), ('belief', 23), ('rationale', 15), ('metacost', 5), ('penalise', 3), ('deleting', 8), ('floor', 40), ('ytrain', 4), ('ytest', 8), ('gas', 17), ('cod', 3), ('influent', 2), ('codin', 2), ('edges', 14), ('oversimplfied', 1), ('originated', 4), ('jar', 4), ('quizzed', 1), ('pointer', 13), ('guidiance', 3), ('googleable', 1), ('energy', 70), ('meter', 14), ('resample', 27), ('integrating', 14), ('kwh', 13), ('midpoint', 2), ('interpolations', 1), ('midpoints', 2), ('approxfun', 5), ('splinefun', 3), ('geomatt', 2), ('billing', 3), ('instantaneous', 6), ('funky', 3), ('monoh', 1), ('computes', 19), ('hermite', 2), ('hyman', 2), ('interpolant', 1), ('rational', 9), ('monotonic', 22), ('unsightly', 1), ('kinks', 1), ('reproduces', 2), ('mice', 30), ('hmisc', 14), ('imputed', 14), ('impute', 33), ('plenty', 16), ('pooling', 11), ('originate', 2), ('modal', 4), ('dip', 27), ('diptest', 5), ('cup', 55), ('svr', 18), ('kernels', 23), ('nadya', 1), ('lsr', 1), ('lars', 28), ('boostin', 1), ('novelty', 3), ('polluted', 1), ('fov', 5), ('zfov', 2), ('garbage', 3), ('farther', 5), ('tought', 2), ('asymptotically', 11), ('xrightarrow', 16), ('cmt', 2), ('scalars', 6), ('tlad', 1), ('farm', 18), ('land', 37), ('farmlandarea', 1), ('crude', 8), ('farhana', 1), ('storage', 39), ('champernowne', 2), ('champ', 7), ('dens', 4), ('alfa', 14), ('nonrestrictive', 1), ('justifying', 2), ('annealing', 1), ('accountant', 1), ('department', 18), ('invoices', 2), ('completion', 12), ('overline', 173), ('intensity', 27), ('bimodality', 7), ('debate', 6), ('hartigans', 6), ('wxs', 1), ('hartigan', 8), ('multimodality', 2), ('minimizes', 22), ('multimodal', 11), ('bimodal', 20), ('bimodularity', 3), ('graphe', 1), ('distibutions', 2), ('barely', 6), ('sig', 122), ('cpct', 10), ('bimod', 1), ('bimodaldistfunc', 8), ('rlnorm', 9), ('bimodaldata', 14), ('intervstep', 2), ('repperint', 2), ('expmu', 16), ('tableexamples', 4), ('exampleplot', 2), ('ggtitle', 6), ('dipstat', 5), ('testdone', 5), ('diptestone', 2), ('indexplot', 2), ('shifted', 21), ('probabiltiy', 2), ('exactranktests', 2), ('perm', 17), ('mapped', 13), ('rounded', 24), ('aiming', 10), ('severity', 33), ('babies', 6), ('rough', 19), ('triangle', 6), ('nirs', 1), ('signals', 49), ('codebook', 1), ('negation', 2), ('arguably', 2), ('needing', 7), ('kaplan', 5), ('meier', 5), ('tick', 7), ('writting', 1), ('highlighted', 6), ('bold', 12), ('nite', 3), ('constraining', 4), ('shrinking', 3), ('substantially', 7), ('negligible', 11), ('substantial', 7), ('bashing', 1), ('excellent', 32), ('internally', 1), ('weren', 8), ('plain', 21), ('ended', 24), ('despite', 48), ('salvage', 1), ('modelset', 3), ('modeldata', 8), ('predictdata', 5), ('understandable', 14), ('clogitboost', 3), ('raises', 9), ('limitations', 21), ('mediocre', 2), ('unconditional', 17), ('clogitl', 4), ('jstatsoft', 3), ('paying', 15), ('hlm', 1), ('listwise', 2), ('deletion', 10), ('orthodont', 1), ('mutate', 8), ('pddiag', 1), ('centres', 3), ('ak', 1), ('hot', 21), ('excuse', 22), ('frank', 24), ('harrell', 12), ('ye', 3), ('fullmodel', 2), ('returning', 16), ('mucked', 1), ('embarassing', 1), ('plm', 48), ('firms', 9), ('demean', 1), ('architecture', 11), ('weightings', 5), ('indentical', 2), ('coins', 25), ('memorylessness', 1), ('greetings', 6), ('socialrole', 4), ('countedmembers', 4), ('dfc', 2), ('uj', 2), ('estfun', 1), ('vcovcl', 2), ('meat', 8), ('crossprod', 17), ('probalities', 1), ('prvalue', 2), ('indiana', 2), ('jslsoc', 1), ('computations', 15), ('xulong', 1), ('urgencies', 1), ('qualification', 4), ('hesitate', 5), ('overlapped', 5), ('hasn', 14), ('coudn', 1), ('matplolib', 1), ('keras', 14), ('backend', 2), ('dense', 18), ('matplotlib', 11), ('pyplot', 11), ('mpl', 3), ('toolkits', 3), ('mplot', 2), ('concatenate', 7), ('tanh', 12), ('compile', 6), ('crossentropy', 2), ('reshaped', 2), ('meshgrid', 2), ('asarray', 4), ('unsuccessfully', 2), ('triads', 1), ('polytomous', 5), ('cr', 29), ('qbinom', 1), ('shrunken', 1), ('cold', 7), ('wild', 10), ('relatedness', 7), ('shorter', 19), ('inversely', 2), ('homeranges', 1), ('mantel', 9), ('modification', 11), ('kr', 4), ('saturates', 1), ('saturation', 4), ('voted', 6), ('unacceptable', 10), ('ventilation', 2), ('classrooms', 1), ('cool', 18), ('seasons', 21), ('acceptance', 13), ('votes', 44), ('rooms', 6), ('native', 48), ('speaker', 24), ('rbfns', 4), ('deadly', 2), ('gases', 1), ('respevtively', 1), ('employees', 30), ('hapolonians', 1), ('mba', 4), ('reviewed', 7), ('intersection', 21), ('symbol', 10), ('stands', 23), ('encountered', 27), ('kc', 7), ('iam', 2), ('thumb', 29), ('indep', 19), ('theanalysisfactor', 3), ('requie', 1), ('strucchange', 7), ('betareg', 16), ('messes', 3), ('spectroscopic', 2), ('bagging', 15), ('replicates', 31), ('transforms', 16), ('registered', 16), ('experients', 1), ('increasingly', 6), ('rising', 4), ('ascii', 3), ('ddply', 13), ('schizophrenia', 1), ('structures', 17), ('knime', 2), ('descdist', 7), ('plotdist', 3), ('histo', 1), ('demp', 1), ('thres', 9), ('dgamma', 9), ('lnorm', 19), ('dlnorm', 4), ('satisfactory', 27), ('toal', 1), ('stations', 30), ('caribbean', 2), ('station', 28), ('obviosly', 1), ('eyeballing', 4), ('talks', 14), ('concernes', 1), ('econometric', 18), ('periodicity', 23), ('hemisphere', 3), ('summers', 1), ('nonequal', 1), ('markowitz', 1), ('aforementioned', 17), ('knots', 25), ('wastes', 2), ('conforms', 2), ('shelf', 8), ('norms', 4), ('lngth', 4), ('maturity', 9), ('immature', 2), ('lgnth', 3), ('gnls', 5), ('nlslm', 10), ('dbh', 3), ('expon', 3), ('halving', 1), ('overflows', 1), ('setup', 64), ('letting', 12), ('hh', 47), ('ht', 24), ('varnothing', 4), ('operator', 40), ('proving', 13), ('uv', 13), ('ue', 1), ('continuos', 3), ('simplification', 14), ('aspect', 25), ('yang', 2), ('esausm', 1), ('proofs', 13), ('lacks', 8), ('rq', 39), ('taylor', 7), ('approximations', 11), ('dead', 20), ('discovers', 2), ('equity', 6), ('unbounded', 7), ('disciplines', 5), ('sociology', 1), ('ais', 1), ('ships', 6), ('arriving', 14), ('journey', 11), ('sport', 11), ('thats', 14), ('vessel', 6), ('globe', 1), ('oversight', 1), ('staring', 2), ('wonkyness', 1), ('deviating', 1), ('totaling', 1), ('weekend', 33), ('harmonics', 2), ('interrupted', 2), ('medication', 13), ('artificially', 6), ('mvn', 8), ('mclust', 13), ('warn', 7), ('pro', 13), ('xxx', 8), ('cholsigma', 1), ('returncode', 1), ('bart', 4), ('bioconductor', 4), ('span', 46), ('erratic', 3), ('nhtemp', 2), ('ct', 41), ('concise', 10), ('rundown', 1), ('gauge', 4), ('lands', 8), ('failing', 19), ('actuality', 2), ('counted', 19), ('uninfected', 9), ('carriers', 5), ('dynamics', 20), ('carrier', 10), ('bidirectional', 2), ('unidirectional', 1), ('rowsx', 1), ('ive', 6), ('coefs', 28), ('sides', 29), ('blues', 1), ('greens', 1), ('yellows', 2), ('centred', 2), ('fifth', 16), ('jags', 32), ('rjags', 8), ('dmulti', 1), ('ddirch', 1), ('implied', 3), ('encompass', 3), ('barking', 6), ('evolution', 19), ('trapezoidal', 2), ('definite', 21), ('incompletely', 2), ('reflects', 8), ('satisfying', 14), ('deviates', 7), ('ageeffect', 4), ('gendereffect', 4), ('rnbinom', 3), ('barplot', 3), ('ribbon', 9), ('ymin', 11), ('ymax', 11), ('composition', 13), ('inhabitants', 1), ('neighbourhood', 3), ('pnbinom', 1), ('mikelove', 1), ('wordpress', 5), ('fishers', 2), ('dplot', 3), ('dchisq', 1), ('cornflowerblue', 1), ('requirements', 19), ('paramaterization', 1), ('writes', 9), ('reader', 6), ('bipartite', 1), ('sz', 1), ('kely', 1), ('bor', 1), ('maria', 1), ('rizzo', 1), ('interstat', 1), ('baringhaus', 1), ('franz', 1), ('chicken', 9), ('retail', 16), ('occurr', 2), ('las', 5), ('timing', 10), ('qualities', 9), ('sophisticated', 22), ('oversampling', 19), ('minorities', 1), ('ada', 11), ('boost', 9), ('oversample', 6), ('smote', 16), ('ipred', 3), ('minority', 31), ('formally', 14), ('temporarily', 2), ('constructs', 2), ('questionnaires', 2), ('disagree', 18), ('football', 20), ('rain', 68), ('logx', 1), ('logdata', 1), ('concentration', 63), ('sparsely', 1), ('ssp', 12), ('spectrum', 24), ('reslm', 4), ('clarifying', 3), ('caffe', 4), ('caffemodel', 1), ('capable', 21), ('convolution', 26), ('layered', 6), ('convolutional', 22), ('deployable', 1), ('progressing', 3), ('appropriately', 19), ('deseasonalise', 1), ('demand', 132), ('corroborated', 1), ('dw', 18), ('mckelvey', 3), ('zalvoina', 1), ('kabacoff', 2), ('replications', 5), ('bca', 10), ('ndmne', 2), ('degusne', 2), ('durusne', 2), ('amoungst', 1), ('verified', 11), ('miserable', 3), ('abcd', 1), ('ascending', 8), ('crmdelta', 2), ('eqn', 4), ('crmbegin', 10), ('lone', 1), ('protect', 4), ('homoskedastic', 2), ('heteroskedastcity', 1), ('bptest', 17), ('lmtest', 40), ('breuch', 1), ('pagan', 17), ('mareen', 1), ('stacked', 10), ('sphere', 1), ('regressed', 25), ('br', 25), ('ym', 6), ('yk', 1), ('carbohydrate', 6), ('microbial', 7), ('biomass', 40), ('scatterplot', 31), ('trs', 1), ('carbohydrates', 2), ('underlie', 2), ('driven', 23), ('coinciding', 1), ('overestimate', 5), ('forcing', 10), ('pairing', 9), ('unlisted', 1), ('softness', 1), ('abruptly', 3), ('novice', 21), ('battling', 1), ('rarer', 2), ('avail', 14), ('module', 17), ('overfits', 5), ('functoopt', 1), ('wb', 18), ('nt', 9), ('wanna', 6), ('diagrams', 4), ('longest', 8), ('retrospective', 5), ('national', 24), ('yeardecimal', 22), ('inctocran', 10), ('craniotomy', 3), ('diagnosis', 30), ('iss', 16), ('gcs', 10), ('glasgow', 3), ('coma', 3), ('rcteyemi', 9), ('pupil', 9), ('reactivity', 6), ('neurofirst', 6), ('admission', 12), ('neurosurgical', 2), ('traums', 1), ('othopyn', 1), ('los', 11), ('loscc', 1), ('asdh', 11), ('offending', 3), ('discrimination', 25), ('discrim', 12), ('indexes', 43), ('gr', 50), ('nervous', 3), ('dissatisfied', 3), ('demonstrate', 30), ('ext', 1), ('prewhitening', 4), ('prewhiten', 8), ('discipline', 3), ('analyis', 3), ('eyes', 10), ('blocking', 2), ('bottleneck', 2), ('limitation', 11), ('plateau', 2), ('ggtavs', 1), ('reseasonalize', 1), ('lodu', 1), ('deseasonalize', 2), ('mult', 6), ('arellano', 1), ('bond', 8), ('sargan', 1), ('pggm', 1), ('unigrams', 6), ('unigram', 19), ('sharpentropy', 1), ('outperformed', 2), ('bigram', 13), ('uni', 13), ('accuray', 1), ('yr', 33), ('polygons', 2), ('irregularly', 4), ('shaped', 23), ('aggregations', 2), ('sac', 5), ('moran', 5), ('spatio', 2), ('autocovariate', 1), ('addess', 1), ('german', 21), ('appliedpredictivemodeling', 2), ('germancredit', 17), ('nearzerovar', 1), ('checkingaccountstatus', 1), ('savingsaccountbonds', 1), ('employmentduration', 2), ('unemployed', 5), ('widowed', 1), ('forfree', 1), ('intrain', 3), ('germancredittrain', 2), ('germancredittest', 4), ('mingw', 4), ('collate', 4), ('united', 16), ('ctype', 4), ('monetary', 7), ('pmml', 6), ('xml', 7), ('lattice', 9), ('bradleyterry', 1), ('brglm', 7), ('codetools', 3), ('foreach', 28), ('gtools', 4), ('iterators', 3), ('minqa', 3), ('nloptr', 3), ('unbelievable', 3), ('editor', 4), ('sublime', 1), ('anonymous', 2), ('bma', 6), ('skipped', 2), ('prep', 4), ('setwd', 3), ('daf', 1), ('env', 11), ('cpf', 1), ('scripts', 9), ('poissonbmadata', 1), ('fes', 14), ('indepvar', 2), ('invbma', 2), ('ev', 10), ('yeardummy', 61), ('secdummy', 1), ('nrecomp', 1), ('tender', 1), ('pmr', 1), ('etspart', 1), ('terteduc', 1), ('wdi', 9), ('dobus', 1), ('transloss', 1), ('inclusion', 22), ('renewable', 1), ('warranting', 1), ('collinear', 12), ('displaystyle', 78), ('milliq', 2), ('maxlag', 2), ('schwert', 2), ('autocovariances', 4), ('declared', 7), ('maneuver', 2), ('trajectory', 15), ('retrieve', 11), ('paths', 12), ('prequel', 1), ('aficionados', 1), ('involved', 52), ('gallon', 4), ('consumed', 7), ('acting', 6), ('cylinders', 1), ('matthew', 5), ('drury', 2), ('tdb', 1), ('tb', 29), ('zy', 21), ('svitsrv', 1), ('epfl', 1), ('soft', 21), ('quadprod', 1), ('pastebin', 7), ('sxtdescription', 1), ('htemp', 2), ('interpolate', 11), ('adjacent', 19), ('adopting', 3), ('interpolating', 4), ('decomposing', 3), ('imp', 34), ('pen', 2), ('districst', 1), ('consum', 1), ('perfomr', 1), ('coupled', 8), ('charge', 26), ('battery', 18), ('snippet', 11), ('cumulated', 7), ('progression', 13), ('monitor', 14), ('batteries', 1), ('physics', 5), ('ongoing', 1), ('merge', 25), ('emits', 2), ('skill', 14), ('sett', 1), ('drivingskills', 1), ('driving', 28), ('principle', 15), ('literatures', 1), ('butterfly', 3), ('discretized', 8), ('microgram', 1), ('motivate', 6), ('varphi', 5), ('noob', 9), ('terminal', 8), ('asdfgh', 1), ('kl', 26), ('shipper', 2), ('contact', 8), ('asdflkj', 1), ('neccessary', 1), ('algorthim', 1), ('inputting', 4), ('keyboard', 1), ('tokenizing', 1), ('grams', 16), ('neccesitate', 1), ('submitting', 1), ('physically', 7), ('puts', 8), ('slant', 1), ('economy', 6), ('representatives', 2), ('president', 6), ('democrat', 3), ('republican', 3), ('offices', 1), ('imperfect', 6), ('mislabelled', 1), ('trivially', 4), ('bank', 17), ('cashflow', 1), ('lfloor', 10), ('rfloor', 10), ('mikolov', 1), ('langle', 6), ('rangle', 6), ('dog', 19), ('cs', 34), ('emotions', 12), ('private', 9), ('chats', 8), ('chat', 12), ('categorize', 22), ('interlocutor', 2), ('excerpt', 4), ('happiness', 6), ('disappointment', 2), ('sadness', 3), ('cheerfulness', 1), ('disappoint', 5), ('sad', 8), ('cheer', 4), ('emotion', 5), ('famous', 7), ('crab', 1), ('satellite', 9), ('popularity', 13), ('pointed', 23), ('foray', 2), ('augmentation', 9), ('divino', 1), ('ware', 1), ('hierarchy', 11), ('highlights', 4), ('implements', 10), ('accomlish', 1), ('suggeestions', 1), ('nregion', 1), ('nlevels', 2), ('nstate', 6), ('nqtr', 8), ('regresand', 1), ('covaritate', 1), ('qtr', 5), ('modelstring', 4), ('dnorm', 47), ('writelines', 4), ('chains', 15), ('receipt', 2), ('merchant', 4), ('alcoholic', 1), ('drinks', 8), ('vegetables', 1), ('scanned', 2), ('receipts', 1), ('ocr', 4), ('scans', 5), ('spelling', 3), ('chiken', 1), ('hicken', 1), ('chicen', 1), ('merchants', 1), ('branded', 6), ('drink', 15), ('coca', 3), ('cola', 15), ('tackles', 3), ('arrived', 16), ('pronounce', 1), ('humidity', 30), ('sliding', 26), ('trustworthiness', 2), ('intelligently', 2), ('harder', 11), ('systems', 36), ('stable', 47), ('designing', 8), ('machinery', 4), ('undirected', 1), ('designate', 4), ('jaccard', 7), ('vert', 56), ('stepping', 1), ('upwards', 6), ('supported', 17), ('bal', 6), ('guestion', 1), ('selvaggio', 1), ('deposits', 5), ('detectect', 1), ('sandwick', 1), ('eventhough', 2), ('guided', 7), ('filedropper', 1), ('samplest', 1), ('importeddata', 5), ('stringsasfactors', 11), ('gsub', 6), ('distname', 1), ('informations', 7), ('identifiability', 1), ('meanwhile', 8), ('drastically', 14), ('aman', 1), ('behavioural', 8), ('swum', 1), ('genotypes', 6), ('swimdurbot', 5), ('tdautodisc', 5), ('genotype', 25), ('anovas', 2), ('mintutes', 1), ('refer', 48), ('reviews', 8), ('persuasive', 1), ('worded', 9), ('retirement', 14), ('opencv', 1), ('ods', 8), ('corrb', 2), ('parameterestimates', 5), ('hesswgt', 2), ('collindiag', 1), ('collindiagnoint', 1), ('collin', 1), ('collinoint', 1), ('quit', 7), ('scattered', 9), ('marina', 1), ('port', 11), ('smb', 1), ('hml', 1), ('wxo', 1), ('rice', 4), ('rectangle', 3), ('compatible', 4), ('rh', 3), ('lh', 4), ('correcting', 8), ('undo', 5), ('workflow', 7), ('downsampled', 4), ('oversamples', 1), ('downsamples', 1), ('prostate', 6), ('xtraining', 5), ('xtesting', 1), ('digts', 1), ('xtable', 5), ('caption', 1), ('duplication', 2), ('duplicate', 25), ('lpsa', 2), ('betahat', 8), ('ginv', 1), ('nucleotide', 2), ('augcauc', 1), ('shoots', 4), ('coxph', 33), ('cph', 17), ('murphy', 4), ('notin', 6), ('bambor', 1), ('clark', 4), ('phenomena', 9), ('atheists', 2), ('believers', 1), ('gaining', 6), ('facilitation', 1), ('god', 5), ('sobriety', 1), ('ppl', 3), ('spiritual', 3), ('sober', 2), ('disadvantaged', 2), ('spirituality', 2), ('atheist', 1), ('nonnegative', 6), ('synonymous', 15), ('truncate', 4), ('ni', 22), ('behave', 16), ('survivors', 1), ('nomogram', 2), ('intend', 24), ('fastbw', 6), ('exemplify', 3), ('gethdata', 1), ('hospdead', 2), ('meanbp', 1), ('crea', 1), ('ph', 37), ('sod', 1), ('pentrace', 2), ('fitpen', 6), ('bw', 19), ('interestingly', 11), ('narrowing', 4), ('shortcoming', 1), ('fitapprox', 3), ('penalizing', 1), ('penalize', 25), ('fitapproxpen', 2), ('narrowed', 6), ('mills', 2), ('heckit', 4), ('lfp', 1), ('kids', 20), ('educ', 22), ('exper', 15), ('mroz', 1), ('kidstrue', 1), ('invmillsratio', 2), ('reasonably', 37), ('dfx', 2), ('glmerb', 2), ('ndf', 4), ('extensibility', 2), ('usemethod', 6), ('mer', 2), ('presentation', 15), ('glam', 1), ('nagq', 10), ('setups', 1), ('probality', 1), ('quantum', 2), ('american', 13), ('games', 66), ('league', 8), ('preseason', 3), ('piece', 45), ('strikes', 4), ('played', 46), ('tinkered', 1), ('adjustments', 3), ('clunky', 3), ('opportunity', 10), ('chaid', 11), ('quest', 1), ('spanning', 4), ('modes', 10), ('capitalize', 1), ('funny', 4), ('zheng', 1), ('gking', 2), ('harvard', 9), ('matchmaking', 1), ('seller', 7), ('dating', 2), ('seeker', 1), ('prospective', 6), ('presumed', 3), ('universe', 12), ('arguing', 6), ('molecules', 5), ('throughput', 1), ('sequencing', 5), ('reads', 15), ('molecule', 2), ('benefits', 12), ('distrubtions', 1), ('nbest', 24), ('seqrep', 2), ('programme', 4), ('cvlm', 7), ('noiseless', 4), ('greatest', 17), ('minimization', 15), ('preventing', 2), ('ambiguity', 2), ('acoustic', 2), ('engineered', 2), ('everytime', 4), ('tweak', 8), ('tens', 14), ('faults', 1), ('detected', 21), ('sweep', 6), ('sec', 24), ('microphones', 1), ('ramp', 5), ('glued', 1), ('resonates', 1), ('distortion', 4), ('everywhere', 18), ('engineer', 10), ('decides', 13), ('glue', 1), ('screw', 4), ('noises', 2), ('sneezes', 1), ('memory', 88), ('scarce', 3), ('peaces', 1), ('boltzmann', 9), ('neighbor', 16), ('seat', 6), ('suits', 8), ('proceeded', 9), ('bins', 78), ('teach', 11), ('acclimatization', 1), ('occurrences', 15), ('ubbo', 1), ('wiersema', 1), ('brownian', 13), ('wiley', 4), ('sons', 2), ('partition', 35), ('doubling', 5), ('nsims', 4), ('sims', 11), ('simid', 3), ('colum', 1), ('nticks', 4), ('ticks', 8), ('fancy', 10), ('pic', 5), ('aswell', 1), ('ebola', 5), ('tracks', 4), ('mobility', 2), ('flowminder', 2), ('worldpop', 1), ('dimentionality', 1), ('faces', 6), ('triplets', 1), ('resepctively', 1), ('supposing', 14), ('deepnet', 1), ('spreadsheets', 2), ('vvvjvmlsbshbky', 1), ('esw', 1), ('nmznjdb', 1), ('pzj', 1), ('jaggevhw', 1), ('strip', 6), ('encoding', 13), ('mysummary', 2), ('lev', 1), ('mytraincontrol', 4), ('timeslice', 3), ('fixedwindow', 4), ('initialwindow', 4), ('summaryfunction', 7), ('selectionfunction', 1), ('returnresamp', 4), ('savepredictions', 6), ('mygrid', 8), ('dropout', 18), ('hardcode', 1), ('charts', 16), ('runnable', 1), ('painstakingly', 1), ('negentropy', 5), ('cummulants', 1), ('incase', 2), ('nonpolynomial', 1), ('zeta', 69), ('orthonormal', 2), ('cancelling', 4), ('exploited', 3), ('summations', 5), ('summation', 25), ('difftime', 1), ('owner', 8), ('isdefault', 2), ('mymodel', 20), ('defaults', 12), ('dti', 3), ('util', 8), ('acc', 82), ('bankruptcies', 6), ('chargeoff', 2), ('mths', 2), ('renttrue', 1), ('cloud', 10), ('cosmic', 1), ('rays', 1), ('undertaken', 1), ('magadanlc', 1), ('magadancr', 2), ('qt', 18), ('qf', 1), ('observable', 11), ('optimally', 7), ('probabilties', 4), ('disadvantages', 11), ('instant', 11), ('aq', 1), ('sime', 1), ('combinatin', 1), ('uncorralated', 1), ('xcov', 6), ('friendly', 10), ('annotated', 11), ('luis', 2), ('einkommen', 4), ('filtered', 14), ('confidenceinterval', 1), ('ienumerable', 1), ('contract', 19), ('standarddeviation', 8), ('studentt', 1), ('inversecumulativedistribution', 1), ('river', 28), ('shumway', 5), ('globaltemp', 4), ('bottomright', 2), ('seatbelts', 6), ('ssmseasonal', 3), ('petrolprice', 2), ('disturbances', 3), ('constrained', 24), ('ownupdatefn', 2), ('pars', 37), ('updatefn', 4), ('bottomleft', 2), ('belt', 1), ('passangers', 1), ('restricting', 4), ('inconvinience', 1), ('rear', 2), ('kms', 1), ('ssmregression', 2), ('ssmcustom', 2), ('likfn', 3), ('vankilled', 1), ('nosim', 5), ('outnosim', 5), ('outsim', 5), ('thetahat', 4), ('backtransform', 1), ('sexratio', 13), ('antithetics', 2), ('importancessm', 1), ('sexr', 5), ('oo', 5), ('mcycle', 14), ('accel', 2), ('child', 38), ('nutrition', 11), ('maternal', 6), ('wealth', 21), ('quintile', 84), ('eq', 49), ('covars', 1), ('quasibinomial', 33), ('unfamiliar', 14), ('inability', 6), ('locate', 8), ('nesting', 6), ('assistance', 19), ('preserves', 1), ('defective', 9), ('offline', 6), ('cfr', 2), ('reliability', 16), ('ripetute', 1), ('gens', 1), ('discard', 14), ('ration', 4), ('gamlss', 20), ('armed', 2), ('bandits', 1), ('bandit', 2), ('gaussianprocess', 3), ('causal', 24), ('walk', 29), ('cpi', 16), ('irts', 4), ('ipo', 3), ('narma', 1), ('threw', 5), ('positing', 1), ('ecdf', 31), ('bortz', 1), ('abusing', 2), ('realworld', 1), ('owns', 5), ('designer', 3), ('boutique', 1), ('sells', 7), ('sweater', 3), ('worn', 3), ('ebay', 3), ('assigns', 8), ('grapples', 1), ('nuance', 2), ('untreated', 19), ('intense', 2), ('leaf', 29), ('imprecise', 3), ('germane', 1), ('cake', 3), ('eating', 3), ('ethical', 1), ('loga', 5), ('hpa', 3), ('positve', 1), ('ep', 13), ('probabilty', 3), ('george', 4), ('quintiles', 1), ('implausible', 6), ('redid', 1), ('lsmeans', 20), ('lsmean', 5), ('richest', 1), ('harmful', 7), ('likelybiomarker', 1), ('redo', 5), ('betwwen', 1), ('arrival', 30), ('departure', 9), ('dietary', 2), ('intake', 19), ('breakpoints', 12), ('timeseriesmon', 1), ('breakdates', 1), ('wu', 1), ('hausman', 2), ('dwh', 4), ('interpretations', 11), ('submatrix', 1), ('wy', 2), ('landlord', 2), ('buys', 11), ('backsim', 4), ('meals', 3), ('counterparties', 1), ('cookie', 5), ('cutter', 1), ('softwares', 3), ('suboptimal', 1), ('boxcox', 32), ('boxcoxnc', 1), ('aid', 22), ('ser', 8), ('allowdrift', 8), ('feed', 39), ('aaa', 3), ('myddata', 1), ('pmatrix', 40), ('innovation', 7), ('ugarchspec', 9), ('armaorder', 9), ('myfit', 16), ('ugarchfit', 3), ('sighat', 6), ('qmle', 1), ('ensures', 6), ('necessity', 4), ('berry', 3), ('essen', 1), ('passenger', 13), ('destination', 7), ('madrid', 1), ('london', 2), ('rio', 2), ('partykit', 4), ('signs', 21), ('distinctive', 3), ('daniel', 2), ('believable', 2), ('scrolled', 1), ('upto', 4), ('viewership', 2), ('scroll', 3), ('pagesize', 2), ('tricky', 19), ('maxpos', 2), ('hline', 19), ('mles', 6), ('infor', 4), ('iterates', 3), ('initialized', 8), ('healthcare', 5), ('fitter', 11), ('strats', 4), ('hired', 6), ('hiring', 2), ('clay', 1), ('marginally', 5), ('usefulness', 7), ('guides', 3), ('recommending', 4), ('sequently', 1), ('ce', 8), ('coffiecients', 1), ('conform', 4), ('goodfit', 6), ('minchisq', 4), ('nbinomial', 2), ('fan', 8), ('pictured', 3), ('overly', 11), ('prevalent', 4), ('nir', 10), ('mcnemar', 26), ('labelling', 3), ('hardly', 11), ('hugely', 2), ('edwin', 1), ('survives', 1), ('qty', 12), ('festival', 4), ('inspired', 4), ('berkeley', 6), ('tech', 9), ('sampsize', 4), ('flagn', 6), ('valuem', 1), ('wifi', 11), ('beehives', 1), ('dht', 8), ('decibels', 1), ('kpa', 5), ('hives', 1), ('hr', 35), ('hive', 14), ('hivest', 2), ('trtmn', 1), ('analogously', 3), ('led', 19), ('akin', 4), ('oob', 28), ('pure', 21), ('inaccuracies', 1), ('derivatives', 20), ('enhancement', 1), ('vfqv', 1), ('sciences', 4), ('resisitivity', 1), ('circumvent', 3), ('vx', 5), ('presents', 13), ('lever', 1), ('leverages', 3), ('targeted', 9), ('multinominal', 3), ('justifies', 2), ('join', 14), ('exit', 13), ('progresses', 5), ('volatile', 6), ('masters', 3), ('bachelors', 3), ('countryid', 2), ('regionid', 2), ('cityid', 25), ('lives', 9), ('whopping', 1), ('countrysamples', 1), ('countryincome', 2), ('regionsamples', 1), ('regionincome', 2), ('citysamples', 1), ('cityincome', 2), ('credibility', 2), ('stab', 2), ('initiated', 3), ('matchups', 1), ('tournament', 1), ('nerual', 1), ('classificated', 1), ('kennard', 1), ('stone', 4), ('unemployment', 59), ('projected', 9), ('spreadsheet', 8), ('overflow', 23), ('studio', 8), ('workbook', 4), ('unemplrt', 4), ('fcast', 18), ('liniear', 1), ('belive', 1), ('torture', 1), ('statically', 1), ('neuroscience', 4), ('stimuli', 7), ('spectrums', 2), ('stimulus', 24), ('jargon', 6), ('hz', 11), ('rigour', 2), ('neuro', 4), ('merging', 5), ('gtool', 2), ('alphas', 30), ('declare', 8), ('robustness', 10), ('easiness', 8), ('interpretability', 5), ('friends', 16), ('winners', 2), ('artifact', 9), ('noshow', 1), ('logpred', 1), ('cutoffs', 9), ('rfcutoff', 2), ('rftree', 1), ('rffrmla', 1), ('shirt', 17), ('skirt', 3), ('gears', 3), ('engines', 3), ('ssd', 3), ('laptop', 5), ('randomness', 17), ('accordion', 1), ('disk', 6), ('ect', 21), ('mitigate', 5), ('resorted', 3), ('leavining', 1), ('untouched', 3), ('producing', 26), ('overcome', 14), ('sbc', 1), ('logl', 1), ('corvar', 1), ('ment', 1), ('inherently', 10), ('handles', 15), ('elimination', 12), ('mvrs', 1), ('nonsense', 5), ('minpack', 3), ('xdata', 8), ('ydata', 9), ('lhs', 11), ('trait', 11), ('fake', 45), ('tribes', 3), ('tribe', 11), ('starving', 1), ('taller', 1), ('colony', 4), ('plogis', 19), ('pol', 5), ('getprob', 2), ('timecontrol', 2), ('returndata', 1), ('elnet', 4), ('trainmodel', 4), ('rowindex', 1), ('oak', 1), ('crowns', 1), ('crown', 1), ('bay', 4), ('myprobit', 2), ('dig', 5), ('organized', 8), ('pphpy', 10), ('yearvar', 22), ('mutlicollinearity', 1), ('lsdvyear', 2), ('maildatapooled', 6), ('tease', 7), ('devise', 5), ('kick', 5), ('evolved', 3), ('merit', 5), ('crosses', 5), ('asses', 3), ('sif', 1), ('mileage', 8), ('engine', 6), ('interior', 4), ('cruise', 16), ('cylinder', 4), ('liter', 2), ('liters', 2), ('leather', 3), ('buick', 1), ('cadillac', 1), ('chevrolet', 1), ('pontiac', 1), ('saab', 1), ('saturn', 1), ('century', 1), ('lacrosse', 1), ('lesabre', 1), ('park', 2), ('avenue', 1), ('cst', 4), ('cts', 3), ('deville', 1), ('sts', 10), ('xlr', 1), ('aveo', 1), ('cavalier', 1), ('cobalt', 1), ('corvette', 1), ('impala', 1), ('malibu', 1), ('bonneville', 1), ('grand', 14), ('prix', 1), ('gto', 1), ('sunfire', 1), ('vibe', 1), ('awd', 2), ('ion', 1), ('sedan', 24), ('cxl', 1), ('cxs', 1), ('ultra', 1), ('dhs', 1), ('dts', 5), ('hardtop', 1), ('hatchback', 4), ('coupe', 8), ('maxx', 5), ('hback', 3), ('gxp', 1), ('sle', 1), ('gtp', 1), ('sportwagon', 3), ('aero', 3), ('arc', 6), ('wagon', 4), ('convertible', 1), ('bui', 1), ('cad', 8), ('che', 3), ('pon', 1), ('saa', 1), ('founded', 1), ('narrower', 4), ('grows', 8), ('tfidf', 14), ('prebuilt', 3), ('tm', 36), ('prompted', 6), ('dictionary', 9), ('gotta', 1), ('auccp', 1), ('troubles', 10), ('alexnet', 2), ('nets', 20), ('enables', 2), ('richer', 2), ('overlooked', 4), ('favour', 7), ('whilst', 16), ('genuine', 8), ('rejections', 2), ('acceptances', 1), ('bones', 1), ('renewed', 2), ('bone', 8), ('formation', 6), ('resorption', 3), ('disturbed', 4), ('aging', 2), ('tartrate', 1), ('resistant', 4), ('acid', 5), ('phosphatase', 1), ('biochemical', 4), ('marker', 22), ('vo', 8), ('logs', 22), ('linreg', 6), ('anaova', 1), ('appreciative', 2), ('blockwise', 1), ('simfun', 2), ('lmercontrol', 2), ('xz', 11), ('pvals', 15), ('colmeans', 9), ('unlist', 18), ('scholars', 2), ('forloop', 1), ('tscvexample', 2), ('fpp', 17), ('hsales', 17), ('tasked', 6), ('realistically', 3), ('rpois', 26), ('rop', 1), ('prox', 41), ('outnumber', 1), ('grad', 46), ('videos', 10), ('extractor', 2), ('thy', 1), ('cnn', 9), ('geo', 5), ('cxo', 1), ('disagreement', 3), ('groupmate', 1), ('loglogistic', 3), ('pllog', 4), ('rllog', 2), ('gd', 1), ('dshw', 17), ('dresid', 3), ('temporary', 4), ('exaggerated', 1), ('illustrating', 9), ('communities', 2), ('abundances', 3), ('dissimilar', 10), ('sorensen', 1), ('bray', 1), ('curtis', 1), ('lables', 1), ('hypothetical', 20), ('lend', 4), ('grasping', 1), ('realization', 13), ('instants', 2), ('autocov', 7), ('misusing', 4), ('interfaces', 7), ('dlmmle', 8), ('dlmmodarma', 2), ('parm', 7), ('dlmmodreg', 8), ('dlmll', 1), ('defines', 26), ('kth', 4), ('pth', 10), ('minimums', 1), ('snps', 33), ('aact', 1), ('aa', 137), ('winner', 19), ('mydat', 16), ('damage', 23), ('altitude', 9), ('steepness', 1), ('timber', 2), ('overcomplicated', 1), ('dmg', 2), ('prev', 7), ('smart', 16), ('overhead', 2), ('guessed', 7), ('avoids', 4), ('backpropagation', 4), ('funcion', 1), ('optimizers', 2), ('theano', 17), ('momentum', 5), ('nesterov', 1), ('trainrandomx', 2), ('testrandomx', 3), ('ypred', 7), ('interactive', 3), ('plotfunction', 2), ('degre', 1), ('igraph', 3), ('ddcum', 11), ('myriel', 1), ('napoleon', 1), ('mllebaptistine', 1), ('mmemagloire', 1), ('countessdelo', 1), ('geborand', 1), ('champtercier', 1), ('cravatte', 1), ('oldman', 1), ('labarre', 1), ('valjean', 1), ('marguerite', 1), ('mmeder', 1), ('isabeau', 1), ('gervais', 1), ('tholomyes', 1), ('listolier', 1), ('fameuil', 1), ('blacheville', 1), ('favourite', 4), ('dahlia', 1), ('zephine', 1), ('fantine', 1), ('mmethenardier', 1), ('thenardier', 1), ('cosette', 1), ('javert', 1), ('fauchelevent', 1), ('bamatabois', 1), ('perpetue', 1), ('simplice', 1), ('scaufflaire', 1), ('champmathieu', 1), ('brevet', 1), ('chenildieu', 1), ('cochepaille', 1), ('pontmercy', 1), ('boulatruelle', 1), ('eponine', 1), ('anzelma', 1), ('motherinnocent', 1), ('gribier', 1), ('jondrette', 1), ('mmeburgon', 1), ('gavroche', 1), ('gillenormand', 1), ('magnon', 1), ('mllegillenormand', 1), ('mmepontmercy', 1), ('mllevaubois', 1), ('ltgillenormand', 1), ('marius', 1), ('baronesst', 1), ('mabeuf', 1), ('enjolras', 1), ('combeferre', 1), ('prouvaire', 1), ('feuilly', 1), ('courfeyrac', 1), ('bahorel', 1), ('bossuet', 1), ('joly', 1), ('grantaire', 1), ('motherplutarch', 1), ('gueulemer', 1), ('babet', 1), ('claquesous', 1), ('montparnasse', 1), ('toussaint', 1), ('brujon', 1), ('mmehucheloup', 1), ('maincharacter', 2), ('northwest', 1), ('minnesota', 1), ('flooding', 2), ('spring', 4), ('farmers', 3), ('flood', 10), ('connection', 31), ('contexts', 8), ('nondeterministic', 1), ('combines', 7), ('essential', 11), ('atmosphere', 1), ('cloudy', 2), ('sunny', 23), ('comparative', 5), ('horribly', 2), ('datos', 7), ('lluvia', 2), ('nieve', 2), ('granizo', 4), ('tormenta', 4), ('niebla', 3), ('rocio', 1), ('escarcha', 1), ('nievesuelo', 2), ('neblina', 3), ('viento', 2), ('myhc', 1), ('whitelist', 3), ('blacklist', 3), ('subscribing', 1), ('fade', 2), ('slowly', 15), ('avgstay', 2), ('kknn', 4), ('neighbours', 5), ('neighbour', 6), ('contracted', 8), ('ladder', 9), ('varible', 2), ('circles', 16), ('pl', 13), ('scope', 15), ('numvisit', 4), ('totlos', 1), ('totprnoneleclos', 1), ('ltc', 1), ('arramb', 1), ('pleasing', 1), ('grasp', 26), ('dataemployee', 2), ('employeetimeseries', 3), ('turnover', 6), ('decom', 1), ('pros', 10), ('recognized', 4), ('recommender', 3), ('supermarket', 1), ('implicit', 10), ('collaborative', 6), ('promising', 17), ('belloni', 1), ('chernozhukov', 1), ('academical', 1), ('tibshiranis', 1), ('subsequence', 4), ('normalizable', 1), ('asymmetric', 15), ('finzi', 1), ('steppattern', 1), ('coke', 11), ('walmart', 6), ('catastrophic', 1), ('hurricane', 5), ('sandy', 5), ('obama', 1), ('approval', 1), ('encapsulates', 1), ('nbrcores', 1), ('nbrsims', 1), ('cameraback', 1), ('ranef', 7), ('downside', 3), ('completing', 12), ('enters', 5), ('illustrates', 10), ('ishigh', 4), ('isthick', 3), ('girth', 3), ('slots', 4), ('warehouse', 7), ('weekends', 23), ('doubting', 5), ('preliminar', 1), ('mem', 10), ('doubtful', 3), ('ticketing', 1), ('tickets', 29), ('alot', 7), ('numerous', 11), ('bam', 6), ('ideo', 4), ('cnd', 6), ('ctrial', 7), ('sbj', 7), ('gamms', 1), ('isotropic', 6), ('igc', 6), ('fotis', 1), ('reverting', 4), ('vt', 6), ('faculty', 11), ('ezivot', 1), ('econ', 5), ('quant', 8), ('eigenmatrix', 1), ('contradicting', 5), ('parliament', 1), ('voting', 19), ('strategic', 1), ('reveal', 4), ('preferences', 20), ('mps', 10), ('interruption', 1), ('coffee', 10), ('absences', 7), ('votings', 1), ('consequentially', 1), ('mlogis', 6), ('er', 4), ('storing', 8), ('unsigned', 2), ('hex', 2), ('billion', 12), ('trainlabels', 3), ('carol', 1), ('alexander', 1), ('quantiative', 1), ('expercation', 1), ('bass', 6), ('diffusion', 10), ('forecaster', 2), ('advertising', 29), ('adoption', 3), ('effort', 18), ('gale', 1), ('winds', 1), ('lesson', 4), ('supplied', 16), ('contradictions', 2), ('numbered', 10), ('contemporaneous', 3), ('vanilla', 13), ('bull', 7), ('regimes', 11), ('discontinuity', 3), ('contingency', 52), ('swagtype', 3), ('gc', 41), ('swag', 2), ('swagtypeb', 1), ('swagtypec', 1), ('swagtyped', 1), ('confidential', 2), ('rectifying', 1), ('orl', 1), ('fatness', 1), ('fred', 3), ('spiltted', 1), ('rat', 17), ('mc', 15), ('frailty', 1), ('crash', 12), ('riding', 1), ('ridingexp', 1), ('awfully', 2), ('titles', 2), ('bigenner', 1), ('macbeth', 3), ('regresion', 4), ('landroni', 1), ('equivalence', 6), ('greenes', 1), ('pmg', 1), ('chained', 1), ('jss', 3), ('eight', 20), ('rooks', 2), ('chessboard', 2), ('replacements', 1), ('ann', 46), ('replicated', 13), ('traininglj', 1), ('ttr', 4), ('recurrence', 5), ('alb', 1), ('inr', 1), ('meld', 4), ('logafp', 1), ('diameter', 29), ('gstage', 1), ('hbsag', 1), ('mvi', 1), ('disimilarity', 1), ('corpora', 5), ('arts', 7), ('reporter', 3), ('waiters', 1), ('waitresses', 1), ('casual', 10), ('dining', 2), ('restaurants', 7), ('maureen', 2), ('restaurant', 19), ('nights', 10), ('nlm', 11), ('loglike', 4), ('ehat', 5), ('det', 16), ('hoped', 6), ('cleared', 3), ('server', 24), ('classifies', 29), ('send', 25), ('backpropogation', 2), ('isnt', 5), ('lay', 8), ('minlev', 1), ('respectfully', 1), ('encodes', 3), ('exclusively', 4), ('settle', 5), ('wx', 16), ('yz', 4), ('branching', 4), ('predominately', 1), ('pies', 1), ('binocdf', 2), ('ish', 8), ('rshifting', 2), ('lmerfactorlist', 1), ('fr', 35), ('town', 24), ('mgf', 19), ('subscripts', 3), ('distrubution', 1), ('genomic', 3), ('valleys', 3), ('bases', 8), ('paradigms', 1), ('mildly', 2), ('sapn', 1), ('dave', 2), ('url', 19), ('binomialexample', 1), ('rdata', 11), ('newx', 17), ('admit', 43), ('gre', 47), ('venn', 3), ('discoverer', 1), ('scikits', 4), ('veteran', 36), ('explanetory', 1), ('hypotesis', 2), ('underlined', 1), ('bitmap', 1), ('michael', 9), ('edx', 2), ('mit', 4), ('widgets', 4), ('crates', 1), ('crate', 3), ('aproach', 1), ('iterated', 9), ('mismatched', 1), ('subsample', 22), ('subsampled', 2), ('ordinarily', 2), ('alog', 1), ('ruled', 2), ('intrinsically', 1), ('skewing', 2), ('dramatically', 11), ('chemistry', 10), ('ambient', 3), ('fahrenheit', 1), ('houston', 6), ('screwed', 1), ('aiding', 1), ('gram', 14), ('cz', 6), ('compendium', 1), ('generalised', 14), ('hyperbolic', 21), ('administrative', 2), ('registers', 4), ('european', 5), ('aweight', 1), ('absorb', 2), ('identifier', 11), ('cancelled', 4), ('lfe', 2), ('diferents', 1), ('nook', 1), ('atention', 1), ('preprocess', 12), ('modelfit', 7), ('trainpc', 1), ('outperform', 5), ('seating', 1), ('milage', 1), ('informing', 3), ('rankings', 4), ('mds', 7), ('reinforce', 3), ('truncation', 13), ('logrank', 8), ('kx', 12), ('circled', 2), ('consumers', 15), ('ewma', 1), ('xbar', 20), ('challenger', 2), ('disaster', 8), ('shuttle', 4), ('seals', 1), ('ausfall', 1), ('userid', 1), ('groupid', 6), ('deemed', 4), ('typos', 4), ('labeler', 3), ('conventional', 19), ('educational', 4), ('stability', 17), ('ftexperience', 2), ('admin', 1), ('ugly', 9), ('tp', 60), ('fp', 71), ('citing', 2), ('boostraps', 2), ('para', 9), ('bnor', 3), ('bootdist', 1), ('niter', 6), ('vfi', 5), ('placing', 10), ('boostrapped', 1), ('heat', 21), ('county', 24), ('acres', 16), ('cream', 10), ('melted', 2), ('melt', 10), ('counties', 3), ('taxa', 13), ('cyanobacteria', 10), ('logsr', 5), ('compounds', 11), ('endpoints', 7), ('endpoint', 9), ('reproductive', 3), ('centre', 5), ('distorted', 2), ('assessments', 1), ('demographic', 36), ('caucasian', 12), ('latino', 2), ('solely', 12), ('reverberation', 2), ('tv', 25), ('lasts', 3), ('ponit', 1), ('jstor', 5), ('classi', 2), ('gretton', 2), ('hilbert', 1), ('ourselves', 4), ('mmd', 5), ('nf', 3), ('mcdiarmid', 3), ('bounding', 4), ('plsa', 2), ('inferencing', 2), ('csr', 2), ('fluctuations', 22), ('handled', 11), ('tantamount', 1), ('aliased', 2), ('neglecting', 4), ('spray', 12), ('rgb', 10), ('winnername', 1), ('losername', 1), ('winnerstat', 2), ('loserstat', 2), ('loser', 1), ('ditto', 2), ('foster', 1), ('structured', 22), ('finger', 1), ('structuring', 1), ('determinati', 1), ('predictiors', 1), ('mvtnorm', 5), ('innov', 16), ('intermittent', 4), ('impacting', 3), ('pondered', 1), ('prowess', 1), ('piecewise', 24), ('ado', 1), ('bbc', 5), ('smile', 1), ('humanbody', 1), ('surveys', 13), ('shtml', 1), ('personality', 11), ('suffered', 1), ('syncope', 7), ('doppler', 7), ('synthesising', 1), ('pts', 13), ('masspackage', 1), ('predictfunction', 1), ('predpart', 1), ('polrobject', 1), ('experinced', 4), ('becnhamrk', 11), ('benchmark', 43), ('choosen', 3), ('execute', 14), ('populate', 3), ('friedman', 33), ('fs', 29), ('apologise', 4), ('specialist', 5), ('cleaned', 5), ('mondays', 4), ('chernoff', 4), ('malaria', 5), ('botswana', 2), ('prevalance', 4), ('mal', 9), ('afc', 1), ('contra', 1), ('exogeneous', 7), ('health', 54), ('expenditures', 4), ('provisionally', 1), ('departures', 4), ('sems', 2), ('realizations', 17), ('tibshirani', 10), ('adaptive', 10), ('spent', 33), ('gams', 7), ('pradeep', 1), ('ravikumar', 1), ('jmlr', 3), ('zhao', 2), ('aaai', 1), ('wood', 4), ('pyearth', 1), ('shadish', 1), ('campbell', 1), ('randomized', 22), ('randomization', 10), ('equates', 1), ('confounding', 21), ('receives', 14), ('biasing', 4), ('iqr', 12), ('whitney', 26), ('tukey', 17), ('performances', 10), ('fault', 18), ('mechanical', 5), ('device', 61), ('faulty', 7), ('beside', 6), ('quoted', 7), ('equilikely', 1), ('ears', 2), ('blackbox', 6), ('skilled', 6), ('unskilled', 2), ('trading', 12), ('fastest', 7), ('diversify', 1), ('shot', 26), ('exploit', 5), ('profits', 6), ('indepedent', 2), ('agricultural', 7), ('commodity', 8), ('determinant', 15), ('christmas', 13), ('prof', 24), ('calendar', 19), ('concentrated', 7), ('replicating', 5), ('exorbitant', 1), ('rubbish', 2), ('inconsistency', 1), ('shortcuts', 2), ('exclusion', 4), ('stages', 15), ('appreaciate', 1), ('limma', 5), ('estrogen', 1), ('cancer', 51), ('phrase', 22), ('learner', 18), ('registrar', 1), ('campus', 1), ('intern', 3), ('administration', 1), ('dorms', 1), ('skips', 1), ('newyman', 1), ('logged', 10), ('regressionmodel', 2), ('loggedinput', 1), ('tar', 11), ('economical', 2), ('inconclusive', 3), ('edits', 7), ('alecospapadopoulos', 1), ('philipps', 1), ('perron', 5), ('backup', 3), ('rbatt', 1), ('lognormals', 1), ('mixtools', 6), ('mixmdl', 7), ('normalmixem', 3), ('maxrestarts', 1), ('verb', 3), ('arbmean', 1), ('arbvar', 1), ('jbowman', 1), ('plnorm', 9), ('pmlnorm', 3), ('meanlog', 17), ('sdlog', 16), ('pmix', 4), ('fragment', 1), ('liqamih', 2), ('gendocs', 1), ('ru', 4), ('kim', 1), ('dane', 2), ('indx', 4), ('lst', 43), ('nooldor', 6), ('regr', 18), ('summ', 5), ('liq', 1), ('skip', 20), ('meanmod', 5), ('dta', 15), ('varmod', 2), ('envir', 15), ('globalenv', 4), ('ans', 19), ('durbinwatsontest', 2), ('jarque', 13), ('bera', 13), ('strengths', 2), ('weaknesses', 4), ('horthorn', 1), ('calcium', 8), ('vitamin', 3), ('magnesium', 1), ('usda', 1), ('believed', 6), ('crudely', 3), ('testdf', 7), ('crossvalidate', 1), ('sized', 16), ('arount', 1), ('splitted', 8), ('optionally', 3), ('trashing', 1), ('experimenting', 19), ('tolerate', 20), ('wonky', 3), ('underestimates', 4), ('trough', 3), ('overestimates', 2), ('interface', 19), ('rebuilt', 2), ('certainty', 11), ('metals', 2), ('statisical', 1), ('jewellery', 1), ('auction', 11), ('listings', 1), ('unstructured', 1), ('ruby', 2), ('necklace', 3), ('spanish', 11), ('diamond', 13), ('carat', 17), ('bezier', 1), ('jewels', 1), ('amethyst', 1), ('minimising', 4), ('subtrees', 2), ('minimised', 2), ('funds', 8), ('ffr', 4), ('sp', 41), ('logsp', 2), ('loggdp', 2), ('une', 2), ('consumer', 15), ('nber', 1), ('appart', 2), ('bhargava', 1), ('alok', 1), ('luisa', 1), ('franzini', 1), ('wiji', 1), ('narendranathan', 1), ('restud', 1), ('oxfordjournals', 2), ('pu', 4), ('sumt', 2), ('sumdu', 3), ('sumu', 3), ('tabulated', 2), ('balancing', 6), ('observasion', 1), ('mel', 1), ('cepstrum', 2), ('musical', 1), ('music', 19), ('retrieval', 4), ('elman', 2), ('effectively', 30), ('adopt', 9), ('quotations', 1), ('dealer', 1), ('suv', 1), ('latest', 17), ('quotation', 3), ('lnwage', 3), ('hrswk', 3), ('wine', 9), ('vines', 1), ('entires', 1), ('vine', 2), ('advices', 10), ('scl', 2), ('msg', 20), ('fin', 8), ('prsnl', 1), ('activ', 1), ('awareness', 4), ('churned', 15), ('transf', 11), ('unt', 7), ('weigth', 1), ('adjustsigma', 1), ('bridge', 9), ('affiliate', 2), ('booking', 6), ('placements', 6), ('camp', 3), ('parent', 13), ('fulfill', 4), ('continuously', 15), ('millionth', 1), ('distant', 5), ('poker', 3), ('queens', 2), ('tenth', 2), ('basel', 1), ('irb', 1), ('lgd', 1), ('suited', 37), ('segmentations', 1), ('defaulted', 3), ('shoud', 1), ('snapshots', 6), ('classifed', 1), ('lgdstatus', 3), ('btv', 1), ('balchangesinceinception', 2), ('simplisticly', 1), ('invaluable', 2), ('optimising', 2), ('leaked', 2), ('paragraph', 21), ('nutshell', 4), ('secondorder', 4), ('checkconv', 4), ('derivs', 2), ('unidentifiable', 2), ('rescale', 8), ('glmermod', 6), ('altering', 7), ('bankruptcy', 6), ('patternnet', 4), ('hybrid', 7), ('bankrupt', 1), ('candidates', 20), ('elected', 1), ('overwhelmingly', 3), ('lar', 5), ('printing', 2), ('troublesome', 1), ('unimi', 2), ('reproducibility', 6), ('yhat', 20), ('baseball', 10), ('misinterpreting', 3), ('luce', 7), ('axiom', 17), ('definied', 1), ('indcued', 1), ('origins', 3), ('quantization', 2), ('lvq', 3), ('dataselection', 4), ('coefficents', 3), ('mv', 11), ('negbin', 23), ('occurence', 14), ('mvfrequency', 4), ('counterintuitive', 6), ('continuousvariable', 1), ('chooses', 15), ('alphanumerically', 1), ('recoding', 6), ('excercise', 1), ('pond', 6), ('colours', 9), ('originals', 1), ('coloured', 11), ('unstuck', 2), ('zp', 2), ('ball', 81), ('board', 18), ('accountancy', 1), ('decades', 3), ('varieties', 3), ('hyv', 2), ('monsoon', 3), ('detrending', 11), ('mdl', 51), ('sacrificed', 1), ('pq', 12), ('stochastically', 2), ('convergent', 2), ('denumerator', 1), ('pe', 8), ('abab', 1), ('alternating', 4), ('experimentation', 5), ('roberts', 2), ('accumulating', 3), ('specialised', 1), ('achievement', 3), ('restate', 3), ('mn', 8), ('km', 33), ('tourist', 3), ('lb', 20), ('pb', 10), ('uninteresting', 5), ('inliers', 1), ('diverse', 5), ('inlier', 2), ('texture', 8), ('wrappings', 1), ('stabilization', 1), ('transfomration', 1), ('pareto', 20), ('biologically', 4), ('survived', 32), ('pymc', 7), ('diabetes', 43), ('fewest', 2), ('gridsearchcv', 8), ('modules', 6), ('seaborn', 2), ('sns', 6), ('att', 52), ('indexing', 3), ('sha', 3), ('predicion', 1), ('devs', 1), ('notebooks', 4), ('ppc', 1), ('halfnormal', 1), ('dot', 19), ('posteriori', 5), ('fmin', 4), ('powell', 2), ('instantiate', 2), ('sampler', 5), ('nuts', 4), ('burn', 12), ('progressbar', 2), ('njobs', 1), ('traceplot', 2), ('iterrows', 1), ('distplot', 3), ('specifies', 3), ('rv', 94), ('tsrv', 10), ('logprices', 6), ('logreturns', 12), ('partitons', 1), ('zn', 10), ('cancels', 3), ('microstructure', 1), ('mytsrv', 1), ('pdata', 25), ('nbark', 3), ('nbarj', 3), ('sel', 7), ('ibm', 27), ('lirias', 1), ('kuleuven', 2), ('afi', 1), ('wwwf', 1), ('imperial', 2), ('pavl', 1), ('aitsahalia', 1), ('getanywhere', 1), ('reviewer', 10), ('logarithms', 6), ('imposing', 5), ('vglm', 36), ('xm', 7), ('nrows', 2), ('nvars', 2), ('binomal', 1), ('locfit', 11), ('textconnection', 1), ('intraining', 6), ('gridsearch', 2), ('allowparallel', 2), ('assurance', 4), ('unix', 4), ('morning', 8), ('utc', 4), ('sunday', 35), ('modulo', 4), ('occured', 9), ('associate', 7), ('serie', 18), ('vmmin', 1), ('mulitlayer', 1), ('mlp', 22), ('facilities', 1), ('transmission', 7), ('vaccines', 1), ('characters', 7), ('antecedent', 2), ('consequent', 1), ('forums', 12), ('stripchart', 1), ('misses', 13), ('svmpoly', 2), ('pitfalls', 11), ('gearsc', 6), ('herbivore', 8), ('blocked', 5), ('natelemoine', 1), ('testdat', 1), ('blockid', 4), ('nutrientb', 3), ('nutrientc', 3), ('nutrientd', 3), ('nutriente', 3), ('nutrientf', 3), ('herbivorepaired', 6), ('herbivorezebra', 6), ('revolved', 1), ('surprise', 12), ('intepretations', 1), ('agreeing', 4), ('implicates', 1), ('linearities', 2), ('usefully', 2), ('independed', 1), ('mt', 15), ('cosine', 11), ('creation', 26), ('initialisation', 4), ('kronecker', 4), ('vecc', 2), ('kalmanrun', 2), ('kfrun', 2), ('chatacter', 1), ('speech', 7), ('contributes', 8), ('superfluous', 2), ('factorization', 13), ('attrite', 1), ('supremum', 5), ('cdfs', 12), ('speeds', 8), ('roads', 12), ('occasional', 2), ('discovery', 13), ('discoveries', 7), ('substituted', 4), ('accepting', 10), ('crunch', 1), ('folders', 1), ('upward', 11), ('scripting', 1), ('consult', 4), ('citation', 3), ('steady', 6), ('wang', 3), ('supp', 1), ('stringer', 1), ('addendum', 7), ('hb', 8), ('incorporates', 5), ('constrain', 10), ('rpm', 2), ('socio', 4), ('ode', 2), ('poorer', 1), ('counterpart', 1), ('reversal', 3), ('pasting', 1), ('wherever', 2), ('arrays', 14), ('plans', 1), ('aandb', 1), ('assert', 10), ('xt', 36), ('instructed', 6), ('prefered', 2), ('proven', 12), ('colombian', 3), ('ecopet', 2), ('direccion', 14), ('chg', 6), ('intraday', 2), ('moves', 18), ('xle', 40), ('futures', 5), ('implication', 7), ('normalising', 1), ('stiefel', 2), ('manifold', 4), ('marginals', 12), ('symmetries', 1), ('volatiles', 1), ('kronmal', 1), ('circumference', 1), ('boys', 28), ('hgt', 6), ('mo', 16), ('wgt', 6), ('examination', 17), ('independents', 8), ('centers', 6), ('samplings', 2), ('bickel', 1), ('simplistic', 5), ('undlerlying', 1), ('undergrad', 8), ('monitoring', 16), ('bernard', 2), ('proposes', 5), ('finished', 18), ('bastien', 1), ('adam', 3), ('heutte', 1), ('bedroom', 6), ('jx', 14), ('propto', 29), ('ir', 4), ('firsher', 1), ('stones', 4), ('goban', 1), ('diagonals', 5), ('boards', 2), ('nxn', 1), ('irc', 3), ('kuiper', 2), ('circstats', 1), ('truncgof', 1), ('homeowner', 4), ('cookbook', 2), ('accompanied', 6), ('preferable', 16), ('wgh', 1), ('unaccounted', 2), ('ppois', 2), ('algorithmically', 2), ('gretl', 6), ('flight', 24), ('inset', 2), ('confounds', 1), ('witten', 7), ('hitters', 1), ('islr', 5), ('jwarmenhoven', 1), ('isl', 4), ('ipynb', 1), ('warns', 1), ('fortran', 9), ('civisanalytics', 1), ('ascertain', 9), ('pizza', 14), ('hut', 10), ('advertisement', 10), ('buried', 6), ('chamber', 7), ('chambers', 2), ('balldata', 2), ('casewise', 2), ('standardised', 5), ('rstandard', 8), ('studentised', 1), ('rstudent', 7), ('dfbeta', 12), ('dffit', 2), ('hatvalues', 3), ('mermod', 2), ('dpomatrix', 1), ('dsymatrix', 1), ('ddensematrix', 1), ('symmetricmatrix', 1), ('dmatrix', 6), ('densematrix', 1), ('compmatrix', 1), ('xmatrix', 1), ('mmatrix', 1), ('homoscedasiticy', 1), ('statstics', 3), ('ben', 6), ('pointing', 8), ('influential', 15), ('cooks', 5), ('dfbetas', 7), ('geography', 6), ('ionosphere', 3), ('rng', 2), ('twister', 1), ('logspace', 5), ('cvloss', 3), ('numel', 3), ('classificationknn', 1), ('numneighbors', 1), ('semilogx', 1), ('xlabel', 6), ('ylabel', 3), ('timeline', 6), ('highways', 2), ('mayor', 3), ('snowplows', 1), ('substance', 13), ('spreading', 5), ('denied', 4), ('builds', 12), ('staffing', 4), ('interquartile', 3), ('measurable', 9), ('lazy', 5), ('mypred', 13), ('myresid', 2), ('highlighting', 3), ('feasibly', 3), ('forever', 7), ('eviews', 12), ('dare', 1), ('torn', 2), ('copula', 33), ('arrives', 11), ('seek', 13), ('asap', 1), ('delve', 2), ('resultant', 7), ('racial', 7), ('disproportionality', 2), ('burden', 4), ('bearing', 6), ('misspoke', 1), ('enrollment', 7), ('qic', 1), ('suspicion', 6), ('rely', 24), ('psd', 7), ('bounce', 3), ('parameterize', 5), ('slicing', 2), ('mattering', 1), ('recasting', 1), ('archives', 3), ('newspaper', 8), ('salests', 4), ('sarimas', 1), ('wrongs', 1), ('giulia', 1), ('deppieri', 1), ('modarima', 5), ('bestorder', 1), ('exploratory', 26), ('approximatively', 3), ('undoubtedly', 1), ('weekdays', 12), ('varclus', 6), ('spells', 1), ('fundamentals', 3), ('varclust', 1), ('mtcn', 2), ('clust', 6), ('voltage', 15), ('volts', 3), ('dangerous', 4), ('unary', 2), ('overkill', 5), ('rsq', 19), ('univariable', 4), ('adaboosting', 1), ('naivebayes', 30), ('klar', 17), ('tdnn', 1), ('rnns', 2), ('disappointing', 3), ('affecting', 15), ('stratifying', 3), ('spurrier', 1), ('meyer', 2), ('seaman', 2), ('virginia', 3), ('subtracting', 12), ('tie', 14), ('turkeys', 1), ('roa', 1), ('wet', 5), ('ub', 4), ('collar', 2), ('rdorder', 1), ('overidentifying', 2), ('spectest', 1), ('varident', 1), ('stratum', 10), ('simplifying', 6), ('definiteness', 1), ('ignoramus', 1), ('epstein', 1), ('stdres', 1), ('stdevres', 1), ('curse', 14), ('knowl', 1), ('chid', 4), ('hosp', 1), ('refuse', 5), ('hospital', 17), ('contraindicated', 1), ('refused', 2), ('greedy', 1), ('metropolis', 3), ('scanning', 2), ('evasive', 1), ('writter', 1), ('openned', 1), ('translate', 19), ('solo', 3), ('belonged', 4), ('theirs', 1), ('philipppro', 1), ('certitude', 1), ('halilpazarlama', 1), ('countvectorizer', 6), ('tfidftransformer', 3), ('approximates', 11), ('older', 27), ('relaimpo', 6), ('lmg', 2), ('pmvd', 1), ('lookup', 2), ('rearrange', 7), ('miliseconds', 1), ('flattened', 6), ('intensities', 3), ('mnist', 7), ('handwritten', 10), ('flatten', 5), ('dma', 1), ('fl', 11), ('args', 5), ('nseasons', 3), ('exposures', 3), ('attribution', 6), ('conversions', 14), ('deserves', 1), ('shapley', 1), ('nlsresiduals', 1), ('committing', 2), ('cardinal', 2), ('etn', 1), ('purchases', 26), ('salesmen', 2), ('lambdas', 14), ('getcoef', 1), ('vnames', 1), ('lamdda', 1), ('xbeta', 3), ('inefficient', 9), ('unnecessary', 6), ('digamma', 1), ('kd', 1), ('vocabulary', 11), ('plz', 1), ('medoid', 1), ('manhattan', 8), ('dissimilarity', 9), ('fawcett', 1), ('arules', 4), ('dni', 1), ('institute', 2), ('milk', 14), ('vege', 1), ('txn', 1), ('aabcaac', 1), ('abdaa', 1), ('aabb', 1), ('recurring', 6), ('arule', 1), ('mlpy', 2), ('fda', 7), ('srda', 3), ('pda', 12), ('dlda', 1), ('confidently', 1), ('traces', 1), ('mhz', 1), ('spectrograms', 1), ('scalograms', 1), ('locally', 8), ('coherence', 14), ('ditch', 1), ('dsp', 2), ('lured', 1), ('boiler', 1), ('plate', 4), ('impenetrable', 2), ('outsider', 1), ('miracles', 1), ('boxtidwell', 2), ('utilising', 2), ('detrend', 15), ('lmx', 1), ('ddf', 17), ('ddy', 2), ('ddx', 3), ('mitigated', 1), ('noted', 13), ('subjected', 6), ('spacedman', 2), ('framing', 2), ('offences', 1), ('occuring', 6), ('montecarlo', 1), ('colb', 2), ('paiwise', 1), ('jeep', 2), ('clueless', 7), ('contents', 9), ('completes', 3), ('chisquare', 6), ('equate', 2), ('pclass', 24), ('titlemiss', 2), ('titlemr', 2), ('titlemrs', 2), ('titlenothing', 1), ('switched', 7), ('datediffs', 3), ('daytime', 9), ('sewer', 1), ('commission', 3), ('civil', 2), ('rights', 2), ('inspectional', 1), ('hotline', 1), ('parks', 2), ('recreation', 1), ('transportation', 3), ('midnight', 2), ('police', 1), ('hall', 5), ('truck', 2), ('licensing', 1), ('crm', 3), ('disability', 7), ('veterans', 4), ('youthline', 1), ('tossed', 13), ('sensibly', 2), ('scott', 6), ('fortmann', 1), ('roe', 2), ('biasvariance', 1), ('elsewhere', 22), ('tcs', 1), ('metaoptimize', 2), ('universal', 11), ('multilayer', 12), ('approximator', 1), ('rn', 6), ('mild', 23), ('mechanically', 2), ('idiots', 1), ('lecturer', 5), ('evenly', 14), ('officials', 3), ('thoughtful', 1), ('struck', 4), ('intensification', 1), ('robot', 9), ('blindly', 5), ('coincidence', 7), ('isotone', 1), ('mregnnp', 1), ('monotonicity', 2), ('negativity', 2), ('enforce', 5), ('ultimaate', 1), ('sessions', 13), ('session', 34), ('sdif', 1), ('subj', 7), ('evolves', 6), ('inflows', 3), ('outflows', 3), ('flows', 11), ('challenging', 5), ('unexpectedly', 1), ('faith', 3), ('signed', 19), ('parameterization', 5), ('uservalue', 4), ('organization', 8), ('appraisal', 2), ('matt', 7), ('krause', 1), ('rapidminer', 9), ('investors', 8), ('investments', 5), ('concerend', 1), ('financed', 1), ('investor', 2), ('datasample', 1), ('precipitation', 26), ('claimed', 17), ('tacitly', 1), ('nececary', 1), ('mystery', 1), ('flipped', 8), ('bertrand', 2), ('ballot', 2), ('disguise', 1), ('dual', 7), ('implicitly', 7), ('programmatically', 5), ('incomes', 4), ('graduates', 2), ('graduation', 21), ('mess', 15), ('graduated', 3), ('selectivity', 1), ('admissions', 10), ('foreseeable', 1), ('intelligibility', 1), ('wishes', 5), ('fitdf', 5), ('prequential', 2), ('households', 13), ('thom', 1), ('meteorological', 6), ('wmo', 1), ('lawstat', 3), ('aleatory', 1), ('palme', 3), ('prueba', 1), ('rachas', 1), ('rad', 9), ('lintem', 2), ('veracity', 1), ('hats', 1), ('inverted', 5), ('glmc', 1), ('compounding', 1), ('inevitable', 2), ('filled', 27), ('stacking', 4), ('staten', 2), ('oscilating', 1), ('stays', 22), ('letter', 14), ('mkrnilavvipallvagtanaaeifnkdgnkldlygkvdvrhqfadkrssedgddsyari', 1), ('gikgetqisdqltgfgrweynvkakgteaavaesstrlafaglkfany', 1), ('productive', 2), ('levelplot', 3), ('shiny', 3), ('creative', 2), ('otherwords', 1), ('breslow', 2), ('homogenity', 4), ('instructors', 4), ('climatic', 8), ('stress', 25), ('vapor', 1), ('taste', 4), ('wines', 1), ('smo', 14), ('surprising', 10), ('depict', 3), ('sidenote', 4), ('reltol', 4), ('halve', 1), ('trols', 1), ('sonal', 3), ('nent', 2), ('ues', 1), ('rapid', 5), ('ting', 1), ('dow', 9), ('infi', 1), ('lent', 1), ('forc', 1), ('peri', 1), ('odic', 1), ('iden', 1), ('cal', 21), ('understands', 4), ('bilinear', 7), ('mislabeling', 1), ('unbalance', 3), ('matloff', 1), ('adept', 1), ('arfima', 10), ('hurst', 1), ('fdsperio', 1), ('fdgph', 1), ('diffseries', 1), ('aics', 5), ('collects', 2), ('confusingly', 1), ('fox', 6), ('logliklihood', 1), ('regresson', 2), ('silent', 6), ('backed', 1), ('deals', 27), ('ig', 5), ('greenberg', 1), ('ty', 15), ('workout', 1), ('confirming', 5), ('hunch', 5), ('complement', 14), ('epl', 1), ('premier', 1), ('mancity', 1), ('liverpool', 1), ('reds', 1), ('sullivan', 1), ('tinkering', 3), ('differents', 2), ('lenght', 2), ('rescaled', 3), ('resized', 1), ('crossproduct', 3), ('deduce', 15), ('alpine', 3), ('benson', 2), ('hedges', 4), ('bulldurham', 2), ('camellights', 2), ('carlton', 2), ('chesterfield', 2), ('goldenlights', 2), ('kent', 2), ('kool', 2), ('larklights', 2), ('marlboro', 2), ('multifilter', 2), ('newportlights', 2), ('oldgold', 2), ('pallmalllight', 2), ('raleigh', 2), ('salemultra', 2), ('tareyton', 2), ('viceroyrichlight', 2), ('virginiaslims', 2), ('winstonlights', 2), ('xbyx', 1), ('rvm', 12), ('untransformed', 4), ('zipcode', 22), ('treats', 8), ('indistinguishable', 5), ('trig', 4), ('colinear', 5), ('monomials', 1), ('aucs', 9), ('innovate', 1), ('md', 8), ('lmom', 8), ('pelgam', 2), ('pelln', 1), ('lelln', 1), ('lmrd', 1), ('weimom', 2), ('lmrwei', 1), ('pelwei', 2), ('nmom', 1), ('lmrdlines', 1), ('darkgreen', 5), ('rgm', 2), ('nig', 3), ('jp', 3), ('php', 10), ('lmrdpoints', 1), ('forget', 8), ('interneship', 1), ('motoric', 1), ('mental', 2), ('mri', 16), ('imaging', 7), ('neonates', 1), ('inserting', 3), ('crosstabs', 3), ('dry', 10), ('bare', 5), ('deteriorated', 1), ('lsq', 1), ('verbatim', 4), ('cb', 7), ('qualm', 1), ('nitpicky', 1), ('freeze', 5), ('deliberation', 1), ('manst', 1), ('typo', 11), ('traindeviance', 2), ('validdeviance', 2), ('stepsize', 2), ('simplifications', 4), ('revolves', 1), ('frog', 2), ('mating', 1), ('frogs', 1), ('willingness', 5), ('mate', 3), ('attraction', 2), ('playback', 1), ('unattractive', 1), ('nearby', 6), ('glmboost', 1), ('mboost', 1), ('modelresult', 4), ('seas', 11), ('aictest', 1), ('nonseasonal', 5), ('autocorr', 3), ('qsori', 3), ('qsorievadj', 3), ('qsrsd', 3), ('qssadj', 3), ('qssadjevadj', 3), ('qsirr', 3), ('qsirrevadj', 3), ('deseasonalizing', 3), ('monthplot', 1), ('scholarly', 2), ('kolmogrov', 1), ('degroot', 2), ('schervish', 2), ('cruel', 1), ('dell', 1), ('probofcommonobs', 3), ('noofcommonobs', 5), ('gaussiansample', 3), ('acute', 15), ('toxicity', 15), ('dosage', 4), ('cis', 17), ('quine', 3), ('pear', 1), ('victim', 4), ('mirrors', 1), ('bestfit', 6), ('bestk', 3), ('naked', 3), ('trendline', 3), ('tuition', 2), ('calculators', 1), ('obliged', 2), ('probitmain', 1), ('nlwaldtest', 1), ('participating', 4), ('confess', 1), ('preview', 2), ('predicitve', 2), ('dunif', 6), ('mutant', 3), ('underline', 6), ('maxima', 10), ('wasting', 2), ('revise', 2), ('poi', 6), ('andy', 4), ('validates', 4), ('seasonnew', 1), ('calcualte', 1), ('cameron', 1), ('trivedi', 1), ('microeconomtrics', 1), ('designates', 1), ('stacks', 1), ('chime', 1), ('controlfalse', 4), ('prefera', 4), ('diversityscore', 1), ('expanding', 7), ('kelvin', 1), ('exceptions', 5), ('watchful', 1), ('california', 7), ('quartiles', 3), ('cols', 12), ('dgcmatrix', 9), ('lake', 16), ('effecting', 1), ('translating', 4), ('thankyou', 2), ('duda', 6), ('hart', 4), ('stork', 4), ('boruta', 5), ('parametres', 1), ('getimp', 1), ('getimprfz', 1), ('maxruns', 2), ('finishes', 4), ('runnung', 1), ('quiet', 8), ('cheng', 1), ('edwards', 2), ('maldonado', 1), ('molina', 1), ('komro', 1), ('muller', 4), ('wolfinger', 1), ('qaqish', 1), ('schabenberger', 1), ('criticism', 4), ('danny', 2), ('johnny', 1), ('professional', 9), ('whoever', 2), ('trainerr', 3), ('testerr', 3), ('helper', 2), ('colsums', 8), ('enlighten', 7), ('wit', 1), ('nightlife', 3), ('urban', 34), ('rural', 9), ('adventure', 4), ('cultural', 5), ('nthe', 1), ('encoded', 10), ('observables', 4), ('segments', 22), ('downweight', 1), ('novices', 1), ('andrewgelman', 1), ('durchl', 4), ('ssigkeit', 4), ('porenfl', 2), ('perimeter', 7), ('gebiete', 3), ('gebiet', 2), ('anticipating', 2), ('blind', 9), ('cacophony', 1), ('audio', 4), ('comprised', 7), ('piano', 3), ('voice', 10), ('alien', 2), ('fires', 5), ('recreate', 19), ('dark', 9), ('reserve', 2), ('erroneously', 2), ('sql', 13), ('contracts', 5), ('pricese', 1), ('gained', 11), ('indexed', 12), ('suspected', 4), ('uncover', 3), ('componenets', 1), ('commercial', 4), ('totalcoolingfordecompose', 4), ('totalcooling', 2), ('livera', 1), ('snyder', 1), ('jasa', 1), ('tasting', 3), ('rumours', 3), ('legitimately', 1), ('critizised', 1), ('endogeneous', 3), ('skillfull', 2), ('varselect', 13), ('rarh', 1), ('sawlog', 1), ('sawlogs', 2), ('elaborated', 2), ('bip', 1), ('randwom', 3), ('rakvh', 3), ('kvh', 1), ('rasns', 3), ('walks', 6), ('tsall', 2), ('insufficient', 7), ('graybill', 1), ('boes', 1), ('mathscr', 18), ('xnew', 4), ('localize', 1), ('nowhere', 14), ('mvp', 1), ('toronto', 3), ('jose', 3), ('bautista', 3), ('surpassed', 1), ('offering', 4), ('lahman', 1), ('squeezed', 1), ('bobby', 1), ('abreu', 1), ('garret', 1), ('bronson', 1), ('arroyo', 1), ('garrett', 1), ('atkins', 1), ('brad', 4), ('ausmus', 1), ('jeff', 1), ('baker', 1), ('rod', 1), ('barajas', 1), ('josh', 1), ('bard', 1), ('tommy', 1), ('batter', 2), ('appearances', 3), ('favourable', 2), ('stadiums', 1), ('hrs', 8), ('maxent', 3), ('proportionally', 3), ('abundant', 1), ('rmsle', 1), ('worker', 13), ('descriptors', 3), ('audited', 3), ('earning', 2), ('slighty', 1), ('mathworks', 7), ('ug', 5), ('aestimate', 2), ('wages', 9), ('gambling', 8), ('poverty', 9), ('labour', 4), ('north', 87), ('east', 23), ('south', 97), ('sceptical', 2), ('regional', 7), ('invariant', 5), ('iological', 1), ('photosynthesis', 1), ('atom', 3), ('carbon', 6), ('oxygen', 7), ('frameworks', 5), ('tauv', 3), ('kxp', 3), ('distributin', 1), ('fx', 14), ('ahat', 5), ('tauw', 2), ('rayleigh', 4), ('ardl', 3), ('compliment', 2), ('planned', 14), ('esp', 4), ('virtual', 5), ('samp', 22), ('completedness', 1), ('bsda', 1), ('concluding', 6), ('philip', 1), ('onet', 2), ('equipment', 11), ('galton', 2), ('gibberish', 1), ('logy', 3), ('tossing', 13), ('spots', 7), ('ccccccc', 2), ('watched', 5), ('director', 9), ('moviewatchings', 1), ('directors', 2), ('watches', 1), ('directed', 2), ('dn', 2), ('liking', 2), ('compliance', 5), ('attend', 3), ('attended', 6), ('prospectively', 1), ('xyz', 9), ('nonprobability', 1), ('chebyshev', 15), ('cyan', 3), ('cyclostationary', 1), ('stationarize', 3), ('hurd', 1), ('precious', 3), ('irrespective', 6), ('sugggest', 2), ('coder', 2), ('butr', 1), ('turing', 3), ('dummydata', 15), ('spend', 40), ('ariam', 1), ('spenddata', 1), ('resilient', 1), ('somone', 1), ('encapsulated', 1), ('pfit', 1), ('contradicts', 2), ('thursdays', 4), ('vacations', 1), ('mon', 6), ('fri', 6), ('sar', 14), ('sma', 17), ('tue', 4), ('thu', 3), ('newyears', 1), ('familyday', 1), ('goodfriday', 1), ('victoriaday', 1), ('canadaday', 1), ('civicday', 1), ('labourday', 1), ('thanksgiving', 1), ('proceeds', 4), ('biologist', 4), ('canadian', 2), ('warranted', 2), ('groundwater', 6), ('aquifer', 3), ('subsidence', 1), ('sinking', 2), ('slowed', 2), ('intent', 3), ('getwd', 2), ('desktop', 15), ('weeklyproductdemand', 3), ('nproducts', 15), ('forecastoutput', 3), ('actualdata', 3), ('pcerror', 4), ('fetching', 2), ('nonnaindex', 3), ('firstnonna', 1), ('lastnonna', 3), ('cleans', 2), ('aproduct', 4), ('rawdata', 5), ('autoarima', 1), ('predictedvalues', 6), ('aforecast', 2), ('actualvalues', 4), ('perror', 9), ('retains', 2), ('calcuating', 1), ('exporting', 2), ('sic', 8), ('holding', 16), ('fractions', 6), ('educated', 7), ('guesses', 10), ('simplex', 11), ('dirty', 6), ('hypothesized', 6), ('signifficant', 1), ('insignifficant', 1), ('multicolleanirity', 2), ('factorises', 2), ('anisotropic', 1), ('rsquare', 8), ('explaning', 1), ('comprehensible', 1), ('redirected', 1), ('loess', 30), ('resembling', 4), ('parabola', 9), ('showcasing', 1), ('lw', 17), ('parabolic', 3), ('quantification', 5), ('persistent', 3), ('undersmoothed', 1), ('economist', 2), ('disproving', 1), ('ouput', 3), ('superconsistent', 1), ('nonstandard', 4), ('considerable', 5), ('tangible', 2), ('neglects', 3), ('misleadingly', 2), ('shutting', 1), ('mismatch', 5), ('misleading', 4), ('forte', 1), ('gentle', 5), ('rotating', 2), ('fluctuating', 4), ('attributable', 3), ('dictate', 2), ('idealized', 3), ('interfering', 1), ('excessively', 3), ('tempting', 4), ('cnt', 16), ('grtrue', 2), ('prtrue', 3), ('prfalse', 3), ('coeffient', 1), ('leo', 1), ('breiman', 11), ('breimanspector', 1), ('fuction', 4), ('slightest', 3), ('ondra', 1), ('scanner', 3), ('procrustes', 1), ('landmarks', 2), ('eva', 5), ('capital', 19), ('nopat', 1), ('prioritise', 1), ('hlt', 1), ('deciles', 12), ('decile', 11), ('hg', 3), ('additions', 3), ('communications', 4), ('spruill', 1), ('ungrouped', 3), ('xg', 4), ('regularity', 3), ('borders', 2), ('harell', 1), ('shortcomings', 3), ('mis', 22), ('relem', 1), ('salary', 19), ('breakpoint', 27), ('incur', 4), ('generalisation', 9), ('estate', 6), ('condos', 1), ('bedrooms', 3), ('bathrooms', 3), ('parking', 12), ('elevator', 4), ('terrace', 3), ('washer', 3), ('dryer', 3), ('doorman', 3), ('linout', 8), ('bath', 4), ('healtch', 1), ('club', 2), ('rmsfe', 2), ('pile', 4), ('subcategories', 2), ('rsstot', 2), ('rsslow', 3), ('rsshig', 3), ('enlightenment', 1), ('kindhearted', 1), ('spirit', 4), ('utilizing', 5), ('harvey', 2), ('attract', 1), ('answerers', 1), ('gaussianity', 2), ('considers', 13), ('governing', 2), ('pxy', 1), ('px', 8), ('evidently', 1), ('wolframalpha', 3), ('polar', 7), ('recoup', 1), ('manifest', 3), ('losing', 15), ('qc', 13), ('boxed', 5), ('descend', 3), ('optimise', 5), ('intro', 10), ('biology', 8), ('devised', 2), ('displayed', 9), ('mht', 9), ('confronted', 3), ('juicy', 1), ('constitute', 6), ('yi', 30), ('htheta', 2), ('strikethrough', 1), ('brackets', 6), ('gpus', 1), ('crack', 3), ('parameterizations', 8), ('pencil', 1), ('fingertips', 1), ('demonstration', 5), ('nmodel', 1), ('nbeta', 1), ('dweib', 1), ('weibulltest', 2), ('hack', 5), ('dispersal', 3), ('lemur', 9), ('disperses', 1), ('generalist', 3), ('feeder', 4), ('ndl', 1), ('lemurs', 1), ('lg', 11), ('malagasy', 1), ('ambilazona', 1), ('ambovitsika', 1), ('anacardiaceae', 1), ('fruit', 16), ('indweight', 2), ('totweight', 2), ('bl', 1), ('urf', 4), ('erb', 1), ('erf', 5), ('vv', 1), ('hm', 2), ('zm', 2), ('bg', 32), ('subquestion', 3), ('qualitative', 34), ('exemple', 4), ('tri', 9), ('uci', 10), ('repository', 6), ('fortunately', 2), ('fcopulae', 1), ('sadly', 4), ('incidentally', 5), ('accomplished', 3), ('bivd', 1), ('evanesce', 1), ('impressed', 1), ('cargo', 1), ('premium', 8), ('ksdensity', 1), ('workoutideal', 8), ('convey', 6), ('smokers', 13), ('workoutmixed', 8), ('importantly', 20), ('nns', 6), ('horses', 10), ('reorganization', 1), ('replication', 7), ('verse', 1), ('inch', 3), ('macbook', 2), ('purchasing', 14), ('shipping', 1), ('fee', 6), ('reputation', 7), ('originarab', 6), ('originforeign', 6), ('sectoradmin', 3), ('sectorhr', 3), ('sectorit', 3), ('sectormarketing', 3), ('sectorsales', 3), ('assesses', 2), ('rejects', 14), ('pgamma', 3), ('kutner', 2), ('nachtsheim', 1), ('neter', 1), ('william', 1), ('unfounded', 2), ('irrational', 2), ('workhorse', 1), ('internals', 1), ('overfiting', 3), ('eustockmarkets', 1), ('dax', 3), ('definately', 1), ('muuuuch', 1), ('thant', 1), ('downs', 1), ('dependance', 2), ('nonzero', 11), ('doubled', 4), ('australia', 10), ('cbe', 10), ('choc', 1), ('elec', 9), ('til', 2), ('paul', 2), ('cowpertwait', 2), ('advised', 19), ('spatially', 6), ('categorised', 4), ('categorie', 2), ('absoulte', 1), ('smarter', 4), ('trainingset', 2), ('maximiser', 1), ('omitter', 4), ('realised', 7), ('negativ', 1), ('metabolic', 9), ('gamm', 8), ('metabolites', 1), ('metabolite', 2), ('subgroups', 6), ('participantid', 5), ('niterpql', 4), ('nec', 6), ('pql', 4), ('gammpql', 1), ('xr', 11), ('pdidnot', 1), ('invwt', 1), ('xtime', 3), ('edf', 10), ('messed', 4), ('outrageous', 1), ('malicious', 1), ('birthweight', 1), ('corlin', 1), ('dpp', 2), ('dslnt', 1), ('pdmatrix', 1), ('dental', 4), ('erosion', 19), ('graded', 6), ('dichotomized', 5), ('contrasting', 6), ('ineq', 1), ('hannah', 2), ('gyro', 1), ('warping', 14), ('bhat', 19), ('xhat', 7), ('qwilcox', 3), ('compensating', 1), ('underrepresented', 2), ('creator', 1), ('bakes', 1), ('accomplishing', 1), ('addictional', 1), ('slices', 15), ('merges', 3), ('nonstationary', 5), ('bai', 2), ('crosss', 1), ('indeded', 1), ('computers', 3), ('flops', 2), ('exaflop', 7), ('inferences', 6), ('accompanying', 8), ('perc', 17), ('synthetic', 14), ('hai', 7), ('germs', 1), ('nurses', 3), ('haicat', 1), ('bedoccupancy', 4), ('bed', 3), ('contamination', 1), ('junk', 1), ('favorites', 3), ('retweets', 5), ('friendcount', 1), ('datatrain', 1), ('friendscount', 2), ('followerscount', 2), ('nbtweets', 2), ('nchar', 2), ('nwords', 2), ('nachar', 2), ('betweent', 1), ('chars', 1), ('messsage', 1), ('hashtag', 5), ('hashtags', 3), ('svmlight', 3), ('kappe', 1), ('densities', 31), ('diffeomorphismus', 2), ('az', 7), ('triangular', 7), ('cyclicality', 4), ('steppy', 2), ('cyclical', 7), ('superposition', 1), ('idvs', 2), ('amplitudes', 1), ('havent', 2), ('dft', 1), ('adequately', 5), ('snr', 6), ('reconstructed', 6), ('appoaches', 1), ('overparameterized', 3), ('parameterized', 6), ('esimator', 1), ('dfin', 1), ('guideline', 3), ('elemented', 1), ('ksvm', 13), ('trainindex', 4), ('predprob', 4), ('testindex', 2), ('predclass', 2), ('desmino', 2), ('filamino', 3), ('myotilino', 5), ('titino', 4), ('seeding', 3), ('personally', 8), ('statweb', 1), ('tibs', 1), ('elemstatlearn', 1), ('ftp', 2), ('eslii', 1), ('causality', 48), ('preform', 2), ('rmvnorm', 5), ('choce', 1), ('augmentd', 1), ('downtown', 5), ('chicago', 13), ('suburban', 1), ('formatted', 5), ('ist', 5), ('contested', 2), ('yc', 3), ('tc', 5), ('rexp', 4), ('probablities', 3), ('ceiling', 26), ('probablity', 2), ('sqldf', 4), ('quantreg', 13), ('timepoints', 8), ('quadric', 1), ('hybrids', 1), ('prinicipal', 1), ('mercedes', 3), ('vw', 4), ('camry', 3), ('civic', 3), ('ferari', 3), ('overal', 2), ('idling', 2), ('noticeable', 2), ('amateurish', 1), ('misfires', 2), ('depicted', 2), ('robustly', 3), ('enable', 4), ('mfcc', 3), ('mikep', 1), ('spectogram', 2), ('octave', 13), ('specgram', 1), ('patters', 2), ('randomforests', 9), ('succession', 5), ('duan', 1), ('smear', 1), ('eigenvector', 6), ('partitioning', 16), ('trainseries', 2), ('xregf', 2), ('xregftrain', 2), ('insert', 12), ('poc', 2), ('refound', 1), ('isrefound', 2), ('rickyfox', 1), ('gonna', 3), ('tho', 2), ('electives', 1), ('avgcost', 4), ('qualityscore', 4), ('searchshare', 2), ('inclag', 2), ('poplag', 2), ('saleslag', 2), ('inccurrent', 1), ('popcurr', 1), ('salescurr', 3), ('salescurrent', 2), ('mytable', 2), ('sketchy', 2), ('rounding', 13), ('valiation', 1), ('airplane', 2), ('bus', 40), ('elects', 1), ('planes', 5), ('buses', 4), ('elect', 2), ('garage', 5), ('radically', 2), ('altered', 4), ('scholarpedia', 1), ('triplet', 2), ('foregoing', 1), ('ceteris', 3), ('paribus', 3), ('amelia', 8), ('backcasting', 4), ('backcast', 4), ('datt', 15), ('revisions', 3), ('gis', 10), ('caution', 6), ('ususally', 1), ('socring', 1), ('inputted', 3), ('distinctly', 1), ('repositoy', 1), ('ripper', 3), ('ferns', 4), ('keypoint', 1), ('fern', 5), ('soldiers', 1), ('military', 3), ('occupations', 4), ('rifle', 2), ('infantry', 2), ('alabama', 1), ('inherent', 12), ('unranked', 1), ('affiliation', 3), ('church', 2), ('priority', 5), ('wwwusage', 1), ('geepack', 2), ('cum', 5), ('dcomp', 2), ('locf', 2), ('bytes', 10), ('snip', 1), ('nclass', 4), ('nattr', 1), ('nrel', 1), ('resembles', 8), ('threefold', 2), ('undersample', 2), ('perf', 17), ('tpr', 16), ('fpr', 13), ('terrain', 2), ('sloppy', 4), ('probbility', 1), ('pbinom', 12), ('complementary', 7), ('microarray', 10), ('signature', 3), ('tumour', 1), ('ease', 9), ('disaggregation', 2), ('inadequate', 2), ('disaggregated', 3), ('blown', 1), ('hypothsis', 1), ('loose', 13), ('witness', 13), ('disproprionately', 1), ('disproportionately', 2), ('srikant', 1), ('studentized', 11), ('cumres', 1), ('tom', 8), ('meeting', 5), ('meetings', 1), ('dicky', 1), ('phillips', 9), ('ssr', 47), ('talkstats', 3), ('firmly', 1), ('contributed', 5), ('requisite', 1), ('reproduced', 5), ('xiyks', 1), ('tvjdyu', 1), ('vue', 1), ('detrended', 17), ('seasonalised', 1), ('xia', 1), ('rtohzrajjtzxm', 1), ('noseas', 10), ('mtrend', 7), ('seasonalized', 1), ('tsdiag', 2), ('yrs', 10), ('stationaryts', 6), ('freezing', 2), ('planed', 1), ('tw', 23), ('vignettes', 6), ('idre', 1), ('dmatrices', 3), ('fread', 3), ('liblinear', 8), ('typedetail', 1), ('primal', 6), ('doesnot', 1), ('spy', 4), ('tsa', 19), ('ichart', 1), ('persisted', 1), ('perturb', 3), ('winspeed', 4), ('sinwdir', 2), ('wdir', 1), ('npow', 1), ('lmfit', 12), ('winpower', 2), ('afterwardds', 1), ('lgnpower', 2), ('npower', 2), ('categorically', 2), ('discretisation', 2), ('datum', 11), ('trainauc', 1), ('testauc', 2), ('factory', 5), ('ppm', 6), ('defects', 15), ('incurred', 1), ('behavioral', 3), ('dilation', 3), ('court', 6), ('verdict', 1), ('cust', 1), ('rectangular', 6), ('imagesc', 2), ('colormap', 1), ('rbg', 1), ('eligible', 3), ('granted', 5), ('loan', 19), ('desc', 7), ('stars', 8), ('indicats', 1), ('discarding', 5), ('peculiar', 6), ('dividend', 2), ('steepens', 1), ('weaker', 5), ('thinks', 7), ('framed', 3), ('grey', 26), ('ngroup', 5), ('moisture', 7), ('transpiration', 4), ('fval', 1), ('weakest', 2), ('honours', 2), ('ruling', 3), ('normalizes', 1), ('handholding', 1), ('struggled', 2), ('regret', 2), ('valuation', 2), ('diminishes', 1), ('arisen', 1), ('toolbox', 10), ('perpendicular', 8), ('decisiontree', 1), ('randomforestclassifier', 8), ('inefficiently', 1), ('bootmer', 1), ('therapist', 10), ('ocd', 2), ('treatmentcontrast', 8), ('infering', 1), ('registrations', 6), ('dropbox', 22), ('xevfepu', 1), ('gnx', 1), ('dl', 31), ('brisk', 1), ('sluggish', 1), ('unreactive', 2), ('pack', 7), ('candies', 2), ('tabulate', 5), ('nbins', 1), ('rbms', 3), ('deps', 1), ('reflected', 11), ('underestimate', 4), ('holtwinter', 1), ('incomplete', 20), ('sentimental', 1), ('hdfs', 1), ('mahout', 15), ('sentiments', 3), ('sparser', 1), ('dataseq', 1), ('maxdfpercent', 1), ('minsupport', 1), ('maxngramsize', 1), ('apache', 6), ('lucene', 1), ('whitespaceanalyzer', 1), ('trainnb', 1), ('el', 1), ('labelindex', 1), ('ow', 1), ('underflow', 2), ('urns', 4), ('hackerrank', 1), ('fitridge', 4), ('census', 10), ('tesl', 1), ('writers', 2), ('equivariant', 1), ('wz', 3), ('rescaling', 3), ('nutritional', 3), ('charlson', 1), ('comorbidity', 2), ('barthel', 1), ('grip', 7), ('gds', 1), ('obeying', 1), ('simpson', 4), ('paradox', 8), ('poission', 3), ('psychometric', 1), ('motive', 1), ('hlen', 1), ('iplen', 2), ('ipttl', 2), ('iptype', 3), ('tcpsport', 1), ('tcpdport', 1), ('tcpsec', 1), ('tcpack', 1), ('tcpwindow', 1), ('tcpchksum', 1), ('cyclic', 10), ('wiggle', 2), ('beautiful', 2), ('onservations', 1), ('percieve', 1), ('minutely', 1), ('vacancy', 2), ('availability', 2), ('siteid', 3), ('lastupdate', 2), ('initiate', 2), ('incoporate', 1), ('sudden', 6), ('rudimentary', 4), ('classwt', 3), ('uneasy', 1), ('downsampling', 5), ('kid', 15), ('dying', 2), ('equities', 3), ('diffing', 1), ('closes', 2), ('dwa', 5), ('kb', 12), ('diffs', 7), ('myarima', 1), ('halted', 1), ('tied', 4), ('habit', 2), ('invwishart', 1), ('submatrices', 1), ('hinkley', 3), ('whiz', 1), ('spin', 4), ('semantic', 6), ('narrows', 1), ('ceofficients', 1), ('enquiry', 1), ('djia', 10), ('deploy', 4), ('gca', 2), ('accomplishes', 2), ('kennedy', 1), ('jr', 5), ('marcel', 1), ('dekker', 1), ('compelling', 2), ('fmla', 4), ('quartile', 10), ('horizontal', 26), ('hectares', 3), ('hectare', 3), ('restrictive', 4), ('sublinear', 2), ('sgdclassifier', 6), ('obsess', 1), ('coeffients', 3), ('cmort', 5), ('catches', 8), ('unreasonable', 4), ('inlandfao', 4), ('marinefao', 4), ('fishdata', 11), ('utkqdhqribl', 3), ('theme', 25), ('totalmarinefao', 3), ('totalinlandfao', 3), ('tons', 7), ('fao', 2), ('marine', 6), ('inland', 5), ('comma', 6), ('vjust', 3), ('lineheight', 1), ('spawning', 1), ('impediments', 1), ('stared', 1), ('hosted', 1), ('kagge', 1), ('suffering', 6), ('avenues', 3), ('trigram', 2), ('stationaryity', 1), ('indipendents', 1), ('indipendent', 2), ('diagnose', 8), ('onward', 3), ('prevails', 1), ('preset', 2), ('nonsensical', 5), ('vise', 3), ('ns', 37), ('segregated', 1), ('termed', 2), ('borrowed', 2), ('pet', 7), ('ics', 4), ('sms', 6), ('khaltar', 1), ('logregression', 1), ('raise', 11), ('bagrboostr', 1), ('cof', 2), ('tpm', 4), ('transcripts', 3), ('rnaseq', 2), ('erc', 8), ('haplotypes', 2), ('scaffold', 28), ('contd', 1), ('rpkm', 1), ('fpkm', 1), ('haplotype', 2), ('specifially', 1), ('anythig', 1), ('deseq', 1), ('edger', 1), ('membrane', 1), ('flexed', 2), ('fatigues', 1), ('flexes', 2), ('horvitz', 1), ('achim', 3), ('zeileis', 4), ('fcoeff', 4), ('towns', 1), ('travellers', 1), ('formatting', 5), ('recharge', 6), ('cumprcp', 1), ('mnstrslp', 1), ('veg', 5), ('mediatum', 1), ('tum', 1), ('pwl', 3), ('classfier', 2), ('codewords', 1), ('codeword', 1), ('orks', 1), ('girls', 15), ('standing', 15), ('resi', 8), ('ao', 18), ('ump', 20), ('nondecreasing', 4), ('karlin', 4), ('rubin', 4), ('radius', 12), ('nltk', 15), ('alright', 14), ('stoplist', 2), ('multitude', 2), ('mfit', 10), ('mgaussian', 1), ('yieldreold', 7), ('tss', 5), ('msr', 4), ('ngtr', 1), ('avas', 4), ('argmax', 16), ('compromise', 3), ('countless', 2), ('inappropriate', 21), ('hailed', 2), ('witnessed', 2), ('firsthand', 1), ('dabbled', 1), ('lse', 5), ('automotive', 1), ('outline', 14), ('breakdown', 12), ('efron', 9), ('aalen', 2), ('aareg', 1), ('nmin', 1), ('xf', 18), ('actuaries', 1), ('lib', 4), ('undocumented', 2), ('bglm', 1), ('unscaled', 5), ('betastar', 2), ('transpose', 12), ('cholseky', 1), ('multiplies', 2), ('premultiplied', 1), ('noisily', 1), ('gracefully', 2), ('analog', 4), ('kde', 29), ('plop', 1), ('counterexamples', 11), ('mathoverflow', 4), ('committees', 8), ('gallery', 2), ('inspire', 1), ('kicking', 2), ('kicked', 1), ('brainiq', 2), ('onlinecourses', 7), ('psu', 11), ('iqsize', 1), ('mylm', 3), ('piq', 3), ('brian', 4), ('mintab', 1), ('ohio', 4), ('delaware', 1), ('florida', 1), ('pbe', 10), ('beeflm', 2), ('ppo', 4), ('cpo', 4), ('pfo', 4), ('dinc', 8), ('cfo', 4), ('rdinc', 4), ('rfp', 4), ('pbevsdinc', 2), ('margins', 10), ('indirect', 17), ('pitch', 3), ('corelated', 1), ('misconception', 3), ('centering', 18), ('modern', 16), ('anfis', 1), ('noisier', 2), ('telephone', 10), ('topological', 6), ('attractors', 4), ('lasting', 2), ('traverse', 1), ('bifucations', 1), ('paramater', 2), ('embedding', 6), ('reconstruction', 11), ('birthday', 15), ('birthdays', 11), ('born', 12), ('insightful', 1), ('processstream', 4), ('cpm', 9), ('arl', 11), ('chn', 6), ('changepoints', 4), ('detectiontimes', 3), ('excerpts', 1), ('undergo', 5), ('chang', 2), ('linguist', 1), ('orig', 8), ('optimism', 4), ('emax', 3), ('dyx', 1), ('overfitted', 4), ('negate', 2), ('btc', 3), ('hopes', 4), ('td', 9), ('trendz', 3), ('bt', 6), ('backfill', 1), ('interacted', 5), ('insect', 7), ('pupal', 2), ('emerged', 1), ('claustper', 6), ('mlh', 5), ('heterozygosity', 1), ('insects', 8), ('designated', 2), ('glht', 7), ('lsm', 2), ('ccf', 22), ('correlating', 3), ('bbb', 44), ('cheychef', 1), ('homepage', 4), ('kitchen', 2), ('pots', 2), ('pans', 1), ('facility', 3), ('steer', 3), ('residualdeviance', 1), ('nulldeviance', 1), ('tower', 1), ('underestimated', 2), ('overdisperesed', 2), ('readout', 1), ('eupraxis', 3), ('drawings', 5), ('frankly', 7), ('validating', 12), ('mediation', 44), ('reps', 24), ('setdiff', 5), ('suppresswarnings', 3), ('hadley', 2), ('cumprob', 17), ('kdf', 4), ('rndi', 3), ('rnd', 7), ('rndrow', 2), ('clip', 1), ('samplefromkde', 2), ('ccc', 8), ('tony', 5), ('conducts', 2), ('highschool', 2), ('bike', 9), ('metal', 4), ('responds', 4), ('prototype', 4), ('svn', 3), ('lnskew', 5), ('raised', 11), ('disgrp', 18), ('fibrosisp', 6), ('walls', 1), ('lfibr', 15), ('multipleregression', 1), ('gen', 7), ('fibrosis', 1), ('iregion', 12), ('iwall', 12), ('idixre', 6), ('idixwa', 2), ('ire', 4), ('xwa', 8), ('gratefully', 5), ('rpubs', 1), ('chrisbrunsdon', 1), ('fibrosispln', 3), ('diseaseg', 4), ('wallg', 5), ('regiong', 5), ('dwr', 2), ('existencia', 1), ('plotit', 1), ('printit', 1), ('rstatistics', 1), ('structurally', 1), ('allergy', 6), ('skin', 27), ('patches', 7), ('patch', 14), ('allergylevel', 2), ('addivity', 1), ('corollary', 1), ('enemy', 1), ('ship', 24), ('travels', 5), ('ocean', 2), ('submarine', 13), ('wanders', 1), ('occasionally', 6), ('forgets', 1), ('hide', 3), ('pauses', 2), ('patrolling', 1), ('coastal', 2), ('waters', 1), ('gary', 4), ('shoot', 7), ('seedling', 4), ('concentrations', 36), ('respose', 1), ('cryptographic', 1), ('attacks', 5), ('backgrounds', 1), ('eleven', 1), ('questioner', 2), ('stabilize', 6), ('objectively', 1), ('forgetting', 5), ('seemingly', 21), ('zui', 1), ('slideshow', 1), ('critique', 6), ('fico', 15), ('ote', 4), ('ocbo', 1), ('ocbi', 1), ('xvsy', 2), ('foldnum', 2), ('featureset', 2), ('noisered', 2), ('pooldur', 2), ('dpoolmode', 2), ('melspec', 2), ('maxp', 2), ('chrmpeak', 2), ('tpor', 2), ('complains', 3), ('expr', 26), ('enclos', 11), ('enclosed', 1), ('apps', 4), ('smartphone', 6), ('whatsapp', 1), ('calender', 2), ('inferential', 7), ('differing', 25), ('modl', 2), ('doctorco', 1), ('agesq', 3), ('levyplus', 1), ('freepoor', 1), ('freerepa', 1), ('illness', 10), ('actdays', 1), ('hscore', 1), ('chcond', 2), ('dvisits', 1), ('judging', 6), ('gf', 6), ('promotions', 4), ('compensation', 5), ('bonuses', 1), ('separations', 3), ('happily', 4), ('regressand', 6), ('zoomed', 1), ('holy', 1), ('grail', 1), ('qqplots', 3), ('accordance', 6), ('normalqq', 1), ('raising', 2), ('wacky', 1), ('intermittently', 2), ('indeterminate', 1), ('reals', 6), ('hanging', 2), ('gui', 2), ('encoder', 5), ('unfairness', 1), ('fairness', 2), ('totala', 1), ('transation', 1), ('weekofyear', 1), ('weekofmonth', 1), ('rqs', 1), ('sweetness', 1), ('packaging', 2), ('caracteristic', 6), ('tootone', 1), ('startled', 1), ('zeroinfl', 13), ('pscl', 12), ('checkts', 4), ('unexpected', 8), ('presently', 6), ('linearsvc', 2), ('actresses', 2), ('award', 8), ('actress', 2), ('cannibalization', 5), ('launched', 6), ('bo', 8), ('smearing', 1), ('spitting', 1), ('ping', 1), ('ndat', 1), ('multiline', 3), ('dance', 2), ('bills', 4), ('retrofit', 2), ('savings', 4), ('submartingale', 2), ('supermartingale', 2), ('matigale', 1), ('reminds', 4), ('movielens', 2), ('genre', 4), ('bind', 6), ('ruser', 2), ('hotelling', 7), ('hotteling', 2), ('convariance', 1), ('proposition', 9), ('baye', 1), ('unexperienced', 1), ('feasibility', 1), ('ggpairs', 2), ('symbolic', 8), ('concreteness', 1), ('varcor', 3), ('getme', 1), ('song', 13), ('yuan', 1), ('gated', 3), ('ungated', 1), ('coincide', 3), ('sklar', 1), ('heck', 3), ('ner', 2), ('mammoth', 1), ('apology', 2), ('initalise', 1), ('ricky', 6), ('rgamma', 8), ('drawsmeans', 1), ('consecutively', 2), ('prune', 4), ('legends', 1), ('champion', 5), ('inventory', 17), ('xxxx', 6), ('slot', 17), ('compliments', 1), ('pty', 2), ('quantiles', 22), ('neuroph', 1), ('memoryscore', 11), ('predictably', 2), ('virtually', 10), ('informal', 1), ('concludes', 4), ('insensitive', 1), ('intra', 4), ('focuses', 7), ('factora', 2), ('factorb', 2), ('translates', 4), ('attack', 8), ('biglm', 4), ('chunk', 6), ('digests', 1), ('pollution', 32), ('pollutants', 1), ('yh', 5), ('structs', 1), ('structts', 6), ('tihs', 1), ('multiquadratic', 1), ('injective', 1), ('diurnal', 1), ('periodogram', 8), ('abrial', 2), ('exercising', 7), ('libsvm', 20), ('mllib', 4), ('validations', 4), ('employer', 5), ('neilslater', 1), ('datascience', 1), ('templates', 1), ('intriguing', 3), ('updates', 12), ('howe', 1), ('redundancy', 1), ('sleeping', 3), ('skimmed', 4), ('breathing', 5), ('criterions', 2), ('lmrob', 23), ('documenatation', 1), ('appendix', 8), ('detach', 3), ('zipig', 1), ('nlmixed', 2), ('couldnt', 5), ('countreg', 3), ('procnlmixed', 1), ('yvar', 8), ('trending', 18), ('renewal', 7), ('timings', 4), ('constrains', 2), ('doest', 2), ('seperation', 2), ('cobb', 1), ('douglas', 4), ('elasticities', 4), ('labor', 10), ('penalised', 2), ('bbmle', 1), ('invlogit', 4), ('nloglike', 4), ('harm', 1), ('multicollineary', 1), ('outrun', 1), ('linearize', 2), ('career', 1), ('proliferation', 1), ('steeper', 4), ('prism', 3), ('lagmatrix', 2), ('independant', 9), ('invalidate', 5), ('convoluted', 4), ('padded', 10), ('seqs', 2), ('batchnormalization', 1), ('masking', 5), ('dtype', 13), ('enormous', 11), ('jeshaitan', 1), ('migration', 3), ('enforced', 2), ('observational', 4), ('enforcing', 1), ('viz', 4), ('genkin', 3), ('lewis', 1), ('madigan', 1), ('categorization', 10), ('technometrics', 1), ('ddots', 3), ('jon', 6), ('footlong', 1), ('sandwiches', 6), ('spicy', 3), ('italian', 7), ('teriyaki', 1), ('terikaki', 1), ('scientifically', 3), ('zenith', 1), ('photo', 17), ('dirac', 10), ('leader', 2), ('ftrl', 3), ('proximal', 5), ('logloss', 9), ('ops', 4), ('chanse', 1), ('hyndersight', 1), ('struggle', 9), ('submit', 11), ('frequensy', 1), ('tryed', 2), ('leavng', 1), ('sourses', 1), ('katya', 1), ('puerto', 1), ('rico', 1), ('toda', 2), ('yamamoto', 2), ('christoph', 1), ('pfieffer', 1), ('zombies', 4), ('zombie', 3), ('infecting', 1), ('communication', 8), ('unobservable', 3), ('loadings', 8), ('comm', 1), ('symmetrical', 12), ('astray', 2), ('witch', 2), ('macroeconomic', 11), ('rival', 2), ('roo', 1), ('knifed', 1), ('brockwell', 3), ('davis', 3), ('remarked', 1), ('legally', 1), ('kalmanforecast', 1), ('discarded', 11), ('trimmed', 4), ('standardizing', 10), ('posteriors', 7), ('encoders', 8), ('attributions', 2), ('setb', 2), ('significatively', 1), ('leqslant', 5), ('mgfs', 3), ('exponentials', 5), ('coincidences', 2), ('ellipse', 9), ('corrgram', 2), ('linar', 1), ('passage', 3), ('predetermined', 5), ('nslc', 1), ('studentclearinghouse', 1), ('colleges', 1), ('uofmd', 1), ('casestudy', 1), ('transferred', 1), ('maintaining', 4), ('squiggly', 2), ('wrath', 1), ('golden', 5), ('allegedly', 1), ('squiggles', 1), ('glean', 4), ('animations', 1), ('flashes', 1), ('brilliance', 1), ('jackman', 3), ('cutpoints', 7), ('ecc', 2), ('bm', 8), ('standards', 2), ('iso', 1), ('trueness', 1), ('lew', 1), ('ludbrook', 1), ('measurers', 1), ('pharmacology', 1), ('physiology', 2), ('mus', 5), ('measuremente', 2), ('inelegant', 2), ('oscillating', 2), ('oscillation', 3), ('watershed', 25), ('evaporation', 1), ('lasagne', 1), ('priming', 1), ('slide', 24), ('snooping', 1), ('tny', 2), ('audience', 5), ('communicating', 1), ('sparklines', 1), ('fifteen', 1), ('darkgrey', 3), ('neatly', 3), ('weisberg', 1), ('interlocks', 4), ('powertransform', 7), ('bcpower', 2), ('pval', 11), ('buyers', 5), ('revenues', 16), ('magrittr', 5), ('lung', 34), ('pspline', 6), ('grep', 4), ('knitr', 1), ('kable', 1), ('hue', 4), ('waist', 4), ('mmcolnames', 1), ('cntr', 7), ('reformatted', 1), ('interchanging', 1), ('sexfemale', 6), ('adamo', 3), ('loghazard', 2), ('hzrd', 3), ('comb', 2), ('sprintf', 14), ('orthopaedic', 1), ('surgeon', 1), ('expands', 3), ('backshift', 8), ('maximally', 8), ('paywalled', 1), ('floats', 3), ('roundoff', 3), ('navneet', 1), ('yearqtr', 2), ('avv', 1), ('renders', 3), ('schemes', 4), ('stein', 3), ('prespecified', 1), ('tomorrow', 13), ('scaledx', 5), ('avgx', 3), ('stdx', 3), ('scaledy', 1), ('challenged', 5), ('renumber', 1), ('cointains', 1), ('conjecture', 6), ('countryt', 2), ('countrys', 3), ('argentina', 16), ('afghanistan', 4), ('albania', 4), ('algeria', 4), ('angola', 1), ('ecuador', 6), ('brazil', 3), ('sudan', 1), ('france', 6), ('germany', 5), ('touching', 3), ('bines', 1), ('gower', 4), ('daisy', 3), ('agnesfrom', 1), ('diss', 6), ('agnes', 1), ('qr', 37), ('covmat', 15), ('myd', 6), ('bb', 120), ('incoming', 30), ('hosts', 4), ('indefinitely', 3), ('aborted', 3), ('unprocessed', 1), ('aborts', 1), ('timeout', 4), ('anticipation', 2), ('host', 9), ('partitions', 11), ('consensus', 3), ('createfolds', 3), ('kmeans', 9), ('relaxed', 7), ('invalid', 19), ('organizations', 5), ('sketch', 8), ('fy', 3), ('continuing', 4), ('conjugate', 11), ('ga', 40), ('conjugacy', 2), ('obviates', 1), ('posteriorly', 1), ('coupling', 3), ('salespc', 3), ('realprice', 5), ('realincpc', 4), ('tha', 2), ('ploughing', 1), ('fmincg', 1), ('browsing', 4), ('decently', 1), ('anns', 10), ('chong', 1), ('supra', 3), ('pretending', 2), ('cite', 6), ('stukel', 3), ('exceeding', 10), ('cent', 11), ('specifed', 2), ('exceeded', 3), ('asymptotics', 3), ('publishing', 1), ('postimg', 1), ('immagine', 1), ('equivariance', 4), ('dobson', 2), ('statsmodel', 7), ('smoker', 9), ('agecat', 2), ('smkage', 2), ('suc', 5), ('fac', 4), ('asf', 18), ('rivers', 9), ('vuong', 4), ('blundell', 1), ('formalization', 1), ('instrumented', 1), ('proceedure', 1), ('nadaraya', 1), ('boils', 7), ('arimafit', 19), ('practicality', 1), ('revisited', 3), ('lectures', 6), ('backs', 1), ('leadsto', 2), ('picturing', 1), ('statlect', 1), ('prbcon', 1), ('similiar', 3), ('rht', 2), ('amod', 1), ('opew', 1), ('xgcbz', 1), ('uzaverrekonstrukce', 3), ('pacientrocnik', 3), ('pacientichs', 3), ('pacientdm', 3), ('pacienthyperlipidemie', 3), ('pacientah', 3), ('pacientkoureni', 3), ('koncetina', 3), ('umistenioperace', 3), ('bercovetepny', 3), ('pedalnioblouk', 3), ('antikoagulace', 3), ('antiagregace', 3), ('vykon', 3), ('chirrevproxanas', 3), ('chirplastproxanas', 3), ('trombectomiebypassu', 3), ('eni', 3), ('ptadistanas', 3), ('infekce', 3), ('terapieinfekce', 1), ('nvmax', 15), ('rightorder', 1), ('coercion', 1), ('puvodceinfekce', 1), ('disciple', 1), ('developmental', 8), ('psychology', 6), ('becoming', 11), ('visualise', 8), ('visualised', 4), ('pnas', 1), ('attracted', 1), ('seriously', 3), ('focusses', 1), ('justice', 1), ('diverged', 1), ('confrontation', 1), ('modelo', 1), ('modelorq', 2), ('enzyme', 3), ('aliquot', 1), ('deterioration', 2), ('dunnett', 2), ('smoothness', 9), ('voxel', 3), ('inferring', 6), ('impractical', 4), ('numaber', 1), ('minitab', 22), ('probabaly', 1), ('cheminformatics', 1), ('cautious', 3), ('instinctively', 3), ('walking', 8), ('swimming', 7), ('postures', 1), ('mdsplot', 4), ('positioning', 1), ('classcenter', 3), ('proximity', 17), ('prototypes', 3), ('protoplot', 1), ('turquoise', 2), ('dlogis', 3), ('deleterious', 28), ('publicly', 5), ('prioritization', 2), ('covariables', 2), ('covariable', 3), ('exlude', 1), ('maineffects', 1), ('yerror', 7), ('linfit', 2), ('idl', 4), ('astro', 1), ('oconnell', 1), ('astr', 1), ('idlea', 1), ('gdl', 1), ('chisqr', 2), ('varco', 2), ('lfit', 9), ('richness', 2), ('elevations', 8), ('xcorr', 4), ('crosscorr', 2), ('ors', 8), ('clinics', 1), ('preterm', 8), ('clinic', 15), ('agreed', 4), ('frechet', 6), ('vgam', 15), ('dilatation', 1), ('disorder', 9), ('elevates', 1), ('diagnosed', 1), ('expenses', 10), ('spits', 4), ('reparametrization', 2), ('mping', 2), ('cetera', 2), ('explanatories', 3), ('dc', 16), ('indistinguishible', 1), ('locating', 1), ('conveniently', 2), ('litterature', 1), ('distributor', 9), ('distcode', 2), ('summarised', 1), ('regularised', 3), ('ninv', 1), ('lmm', 3), ('xmat', 21), ('ymat', 17), ('lmo', 1), ('transactional', 2), ('acquisition', 5), ('vay', 1), ('tiles', 5), ('tile', 4), ('hotel', 14), ('favor', 15), ('pronunciation', 1), ('instruction', 5), ('studentid', 2), ('itemid', 5), ('wideb', 5), ('wided', 5), ('picky', 1), ('explicative', 2), ('magnetic', 2), ('resonance', 2), ('voxels', 5), ('shocks', 5), ('shock', 16), ('armatoma', 5), ('unreasonably', 2), ('stdev', 11), ('boss', 1), ('fixing', 9), ('unwise', 1), ('sigmas', 4), ('remembering', 2), ('intrigued', 2), ('cursory', 3), ('owe', 1), ('jessen', 1), ('xfm', 5), ('upl', 3), ('incmse', 1), ('raondom', 1), ('casualimpact', 1), ('factual', 5), ('bsts', 8), ('freedman', 1), ('diaconis', 1), ('dbeta', 1), ('graphite', 1), ('api', 9), ('notify', 1), ('alerts', 4), ('wavelets', 8), ('playlist', 1), ('biosurveillance', 1), ('songs', 13), ('vocal', 3), ('son', 4), ('pseudoreplication', 1), ('fi', 3), ('toolkit', 7), ('dur', 3), ('phreg', 5), ('lindsey', 1), ('eha', 1), ('bindat', 7), ('tobinary', 1), ('risktime', 5), ('parmeter', 1), ('browser', 7), ('isp', 1), ('abusive', 2), ('insist', 1), ('russel', 1), ('norvig', 1), ('connects', 6), ('iw', 2), ('ces', 4), ('miguel', 1), ('ledesma', 1), ('mcadam', 1), ('alpo', 1), ('willman', 1), ('fgls', 2), ('nlls', 1), ('vcv', 3), ('les', 3), ('ly', 4), ('ebar', 2), ('normals', 2), ('tbar', 1), ('normalsare', 1), ('opting', 1), ('kmenta', 1), ('miceconces', 1), ('encouraging', 2), ('bbpackage', 1), ('predefine', 1), ('nlsystemfitbut', 1), ('fro', 1), ('collett', 4), ('exchanging', 2), ('prtools', 1), ('ldc', 4), ('overtraining', 1), ('maintains', 2), ('trainset', 14), ('prdataset', 2), ('testset', 12), ('pcam', 1), ('ttestset', 2), ('ttrainset', 2), ('tclassifier', 2), ('tlabels', 2), ('tres', 2), ('interprer', 1), ('gasoline', 2), ('linda', 1), ('template', 10), ('telephones', 1), ('outdoors', 1), ('indoors', 1), ('salad', 2), ('cheese', 7), ('juices', 2), ('younger', 7), ('ndez', 1), ('heatmap', 6), ('dse', 1), ('unibo', 1), ('wp', 7), ('customerid', 1), ('consiste', 1), ('cutomers', 3), ('cutomerid', 1), ('eco', 4), ('thrid', 1), ('tentaive', 1), ('algorithem', 2), ('interetsed', 1), ('jrip', 3), ('wr', 10), ('numebers', 1), ('enrichment', 2), ('databases', 5), ('enriched', 4), ('switzerland', 2), ('italy', 2), ('exhibition', 2), ('navigated', 1), ('nobel', 1), ('prize', 20), ('learners', 16), ('imputations', 1), ('completa', 1), ('mi', 26), ('mira', 2), ('rotations', 5), ('injection', 1), ('augmentaion', 1), ('boostrapping', 1), ('resamples', 6), ('deficient', 6), ('rigion', 1), ('downloads', 12), ('qnbinom', 1), ('hamerly', 1), ('elkan', 1), ('translated', 8), ('publish', 8), ('rained', 3), ('comprises', 6), ('concatenation', 2), ('atmospheric', 1), ('unevenly', 5), ('repsonse', 1), ('explication', 2), ('controlvar', 14), ('comp', 16), ('aneutral', 32), ('litigation', 14), ('layoff', 14), ('press', 10), ('release', 14), ('nuclear', 5), ('fuels', 4), ('executives', 8), ('sustainability', 5), ('hazardous', 4), ('qap', 5), ('adjacency', 5), ('ucinet', 3), ('interviewed', 3), ('interviewees', 2), ('oddsrat', 1), ('whom', 8), ('sna', 4), ('rowids', 4), ('colids', 4), ('indeps', 4), ('netlogit', 2), ('nullhyp', 1), ('sku', 4), ('businesses', 9), ('dampening', 1), ('brick', 1), ('rocket', 1), ('fuel', 24), ('blend', 2), ('salesforce', 5), ('landed', 4), ('modifier', 1), ('painfully', 1), ('touch', 15), ('ignores', 7), ('judgment', 3), ('discounts', 10), ('granular', 2), ('slowing', 1), ('halt', 1), ('extrapolates', 1), ('empt', 1), ('systemic', 2), ('separator', 2), ('ascent', 3), ('predictand', 2), ('declarations', 1), ('manufacturing', 4), ('employing', 2), ('dubious', 2), ('allign', 1), ('wot', 1), ('propodds', 18), ('funded', 1), ('cleantech', 1), ('buyout', 1), ('subsector', 1), ('sectorenergy', 1), ('sectorenergyef', 1), ('sectorhydro', 1), ('sectorsolar', 1), ('sectorwind', 1), ('countrycodecn', 1), ('countrycodede', 1), ('countrycodefr', 1), ('countrycodegb', 1), ('countrycodeil', 1), ('countrycodeit', 1), ('countrycodenl', 1), ('countrycodese', 1), ('countrycodeus', 1), ('grant', 1), ('seriesa', 1), ('projectfin', 1), ('pfaff', 5), ('ordinogram', 1), ('disposal', 5), ('ur', 17), ('warpbreaks', 5), ('wool', 9), ('woolb', 3), ('tension', 4), ('tensionm', 1), ('tensionh', 1), ('clues', 8), ('cartoony', 1), ('sword', 1), ('downsized', 1), ('depleting', 1), ('annually', 3), ('propositions', 2), ('knee', 4), ('sore', 7), ('knees', 2), ('factored', 9), ('minimisation', 1), ('discreet', 5), ('bachelor', 5), ('trump', 7), ('bland', 1), ('altman', 1), ('rewriting', 3), ('dependet', 1), ('indenpendet', 1), ('willi', 1), ('richert', 1), ('pedro', 1), ('coelho', 1), ('awsome', 1), ('ane', 4), ('evidences', 2), ('expb', 4), ('quistion', 1), ('outc', 1), ('projsize', 1), ('ctrfirmage', 1), ('avgfirmsize', 1), ('unirep', 1), ('epo', 1), ('avginv', 1), ('projage', 1), ('patent', 1), ('techdiv', 3), ('involvement', 8), ('geolog', 2), ('alternation', 6), ('bp', 47), ('auctions', 2), ('saleamount', 1), ('haphazard', 3), ('drastic', 6), ('theres', 4), ('subtile', 1), ('rpt', 3), ('ppool', 4), ('xend', 3), ('yend', 3), ('linetype', 7), ('hjust', 3), ('degenerate', 8), ('kumaraswamy', 1), ('intuit', 1), ('lowered', 1), ('overload', 2), ('wavelet', 14), ('haar', 5), ('expense', 5), ('borrowers', 2), ('borrower', 3), ('expensesa', 2), ('expensesb', 1), ('dwt', 4), ('daubechies', 1), ('ignorning', 1), ('intelligence', 5), ('greenhouse', 3), ('unity', 7), ('neutrals', 1), ('maxfreq', 1), ('freqent', 2), ('maxinfogain', 3), ('unstandardized', 6), ('menu', 4), ('issued', 8), ('issuing', 2), ('issuance', 1), ('signicantly', 1), ('troubled', 3), ('interplanetary', 1), ('auroral', 1), ('oval', 1), ('anaysis', 2), ('resuts', 1), ('lends', 1), ('tiredness', 2), ('everyday', 5), ('correlates', 8), ('breakfast', 8), ('noisiness', 1), ('tired', 3), ('asleep', 1), ('nullhypothesis', 3), ('himself', 2), ('tackled', 2), ('crossx', 5), ('strongx', 1), ('uwi', 1), ('mdoel', 2), ('enery', 3), ('typed', 3), ('usa', 5), ('england', 1), ('confortable', 1), ('gustafson', 2), ('kessel', 2), ('gath', 1), ('geva', 1), ('funclust', 1), ('assignments', 12), ('funcust', 1), ('dilat', 11), ('rater', 27), ('pkg', 4), ('whatstat', 2), ('qsc', 6), ('qsd', 2), ('midbrain', 2), ('atroph', 8), ('quadrigemi', 2), ('hum', 2), ('scp', 2), ('mdim', 2), ('ntrain', 1), ('maxcat', 1), ('ntest', 1), ('labelts', 1), ('labeltr', 1), ('ndsize', 1), ('jbt', 1), ('lookcls', 1), ('jclasswt', 1), ('mselect', 1), ('unfeasible', 1), ('downfall', 1), ('reconvert', 3), ('spade', 2), ('maritalstatus', 1), ('nursing', 1), ('ddp', 12), ('schabs', 7), ('hab', 12), ('sch', 7), ('tot', 20), ('tstat', 2), ('notfc', 1), ('regdata', 2), ('collintest', 1), ('absurd', 6), ('lwe', 9), ('minblocks', 4), ('sthabs', 6), ('nonfuncp', 2), ('meaningless', 12), ('fcperhab', 1), ('india', 3), ('habitations', 1), ('drinking', 5), ('gzdznhuad', 1), ('aircraft', 13), ('radar', 23), ('testus', 6), ('overcomplicate', 1), ('uploaded', 2), ('datadif', 2), ('mcmcregress', 1), ('puzzles', 4), ('qqmath', 1), ('straighter', 1), ('modfitlm', 1), ('updown', 1), ('exported', 1), ('yanchang', 1), ('inspiration', 2), ('mts', 6), ('mustafa', 1), ('insample', 1), ('pegasos', 2), ('randperm', 1), ('commented', 8), ('fma', 3), ('declining', 4), ('ucm', 7), ('ucms', 1), ('harvest', 3), ('truffles', 1), ('harvesting', 2), ('allocate', 9), ('collector', 4), ('collectors', 3), ('applicant', 1), ('telecommunication', 2), ('postpaid', 1), ('refresh', 1), ('operationally', 2), ('scalse', 1), ('requirer', 1), ('serveral', 1), ('farms', 4), ('likelly', 1), ('intesreting', 1), ('tinking', 1), ('international', 3), ('coule', 1), ('compression', 8), ('dedicated', 5), ('searhing', 1), ('hacky', 3), ('restrain', 2), ('cube', 3), ('ba', 5), ('uhat', 8), ('longform', 1), ('slew', 1), ('lncredit', 4), ('twoway', 1), ('dfuller', 2), ('individuate', 1), ('trigger', 5), ('painful', 1), ('syn', 18), ('funother', 3), ('ccimp', 2), ('ccgiven', 5), ('funsub', 2), ('ccno', 2), ('ccnov', 1), ('unimodality', 4), ('refinement', 1), ('multipled', 1), ('homogeneous', 5), ('tolerant', 3), ('reproducibile', 1), ('budget', 9), ('hedonic', 6), ('estates', 5), ('balconies', 1), ('sauna', 1), ('gameboy', 2), ('gamecube', 3), ('playstation', 2), ('psportable', 2), ('xbox', 2), ('coeficients', 9), ('coeficeints', 1), ('thererefor', 1), ('significances', 2), ('logisticregressionsample', 1), ('trasnform', 1), ('mlogitdata', 3), ('mlogitfit', 8), ('reflevel', 8), ('oddsratios', 1), ('mcfadden', 17), ('interavls', 1), ('fullmod', 6), ('tenants', 4), ('arrears', 12), ('pounds', 15), ('inclusive', 8), ('tenant', 6), ('sky', 15), ('sun', 18), ('bright', 11), ('moon', 8), ('duke', 4), ('compsci', 1), ('vectorizer', 11), ('transformer', 6), ('trainvectorizerarray', 4), ('toarray', 3), ('testvectorizerarray', 4), ('todense', 3), ('hdrcde', 2), ('hdrbw', 2), ('hdrlevelval', 5), ('hdrlevel', 2), ('hdr', 3), ('faithful', 1), ('eruptions', 1), ('hhdr', 3), ('hdrhat', 1), ('den', 6), ('rhat', 1), ('mammals', 3), ('lion', 5), ('elephant', 1), ('mammal', 1), ('imaginable', 1), ('thermal', 3), ('actualla', 1), ('experimenter', 2), ('airpassengers', 12), ('etrainingp', 6), ('nnetar', 11), ('rowmeans', 7), ('datapoint', 8), ('positioned', 1), ('placement', 17), ('deviant', 1), ('solvable', 4), ('zdf', 2), ('policies', 6), ('invoke', 1), ('negations', 1), ('mes', 3), ('sends', 6), ('psychological', 5), ('testdifference', 1), ('newsgroups', 2), ('multinomialnb', 2), ('bernoullinb', 1), ('binarize', 1), ('lidstone', 2), ('prefers', 3), ('woe', 20), ('supposedly', 9), ('segregating', 2), ('displays', 15), ('misspecification', 4), ('chl', 4), ('bga', 3), ('tur', 3), ('fdom', 3), ('exploration', 6), ('corrplot', 4), ('arduous', 1), ('corrplots', 1), ('foremost', 2), ('dissolved', 1), ('ggally', 1), ('advisement', 1), ('graphing', 7), ('alexminnaar', 1), ('timelags', 1), ('jackson', 2), ('correspondences', 1), ('aligns', 1), ('madden', 1), ('nfl', 2), ('scandal', 1), ('coach', 1), ('girlfriend', 1), ('concerened', 1), ('parkinsons', 2), ('proxies', 1), ('demographical', 1), ('parkinson', 1), ('svmlinear', 2), ('invariably', 1), ('operational', 6), ('drawback', 3), ('miscalculated', 1), ('achievable', 3), ('nomial', 1), ('tikhonov', 1), ('recalculation', 1), ('pollination', 7), ('pods', 16), ('pod', 12), ('pollinated', 15), ('pollinators', 1), ('pollinates', 1), ('selfing', 1), ('zinb', 4), ('strap', 3), ('elegantly', 1), ('visitation', 5), ('pollinator', 1), ('desperate', 4), ('supervisors', 3), ('dump', 8), ('defend', 2), ('pesudoreplicaiton', 1), ('tonight', 3), ('distract', 1), ('bwgia', 1), ('rasmussen', 3), ('binarized', 1), ('meanfunc', 6), ('meanconst', 1), ('covseard', 1), ('sf', 9), ('likerf', 1), ('infep', 4), ('lp', 10), ('feval', 2), ('varargin', 1), ('pleasework', 1), ('undifferenced', 4), ('clownfishes', 1), ('anemone', 6), ('anemonea', 2), ('fishes', 2), ('anemones', 1), ('anemonae', 1), ('decorrelate', 2), ('fct', 9), ('ror', 1), ('roundabout', 1), ('exampledata', 11), ('nlr', 3), ('outfile', 1), ('spssfnlr', 1), ('ssconvergence', 1), ('pcon', 1), ('resorting', 2), ('suicides', 1), ('phantom', 1), ('reuse', 2), ('vectorsource', 1), ('stripwhitespace', 1), ('tolower', 1), ('removepunctuation', 1), ('removewords', 1), ('stemdocument', 1), ('removenumbers', 1), ('dtm', 5), ('documenttermmatrix', 1), ('weighttfidf', 1), ('outputted', 3), ('armafn', 2), ('simplifies', 6), ('produnis', 1), ('quitjob', 3), ('qd', 4), ('pcf', 1), ('caracterize', 1), ('overdifferentiated', 1), ('gdpr', 3), ('rvd', 1), ('nethertheless', 1), ('randomisation', 4), ('intersecting', 1), ('cuts', 12), ('young', 22), ('grew', 3), ('clearcut', 4), ('caps', 3), ('alongside', 3), ('underlies', 3), ('mothers', 1), ('sanitation', 4), ('runnn', 7), ('beautifully', 1), ('noon', 6), ('decayparam', 4), ('mynn', 2), ('rsd', 4), ('rsds', 3), ('alldata', 6), ('dfb', 5), ('difft', 3), ('delay', 26), ('undermeaning', 1), ('prml', 4), ('visited', 14), ('whereby', 6), ('luxury', 1), ('affordable', 1), ('ford', 4), ('toyota', 2), ('trail', 6), ('arent', 1), ('drinkers', 5), ('tea', 19), ('armtreated', 2), ('factoryes', 4), ('revplacebo', 2), ('pinochle', 5), ('melded', 1), ('runtime', 6), ('cheaply', 1), ('gorman', 1), ('kunkel', 1), ('vasko', 1), ('aces', 1), ('kings', 1), ('jacks', 1), ('nines', 2), ('phases', 3), ('bids', 1), ('earns', 1), ('earn', 3), ('deducted', 1), ('melds', 1), ('quadruple', 3), ('royal', 2), ('marriage', 8), ('oversimplification', 2), ('advisor', 6), ('hightly', 1), ('statisticaly', 1), ('sewithmean', 2), ('mgcv', 16), ('gamsim', 1), ('tikz', 2), ('pgfplots', 2), ('atanu', 1), ('biswasa', 1), ('jing', 1), ('shiang', 1), ('hwang', 1), ('glenb', 1), ('sought', 2), ('johnk', 1), ('spanos', 1), ('cambridge', 3), ('thrun', 2), ('robotics', 4), ('ndiffs', 6), ('nsdiffs', 6), ('seasdiff', 2), ('contradict', 5), ('markers', 7), ('assays', 2), ('cast', 6), ('sigh', 1), ('gfr', 5), ('fol', 6), ('cue', 1), ('crp', 14), ('graphed', 5), ('normaly', 3), ('consume', 5), ('yogurt', 3), ('logest', 1), ('wow', 1), ('omission', 3), ('aimed', 2), ('epidemiologists', 1), ('specialists', 3), ('developments', 2), ('smack', 1), ('kfold', 4), ('shufflesplit', 4), ('stratifiedkfold', 1), ('stratifiedshufflesplit', 2), ('integrable', 5), ('amstat', 1), ('jse', 1), ('chu', 1), ('colourd', 2), ('dummys', 2), ('ecdat', 1), ('certification', 3), ('coloure', 2), ('colourf', 2), ('colourg', 2), ('colourh', 2), ('colouri', 1), ('clarityvs', 2), ('clarityvvs', 2), ('certificationhrd', 1), ('certificationigi', 1), ('vvs', 4), ('gia', 2), ('igi', 2), ('relevel', 34), ('readable', 4), ('motivated', 3), ('mattered', 2), ('preponderance', 1), ('eqalign', 3), ('preserve', 4), ('glmpath', 1), ('frightened', 1), ('rethink', 1), ('banned', 1), ('skeptic', 1), ('nhst', 1), ('transplant', 1), ('substrates', 1), ('substrate', 11), ('offspring', 5), ('karyotypes', 1), ('karyotype', 2), ('parents', 4), ('karotype', 2), ('generations', 3), ('transplanting', 1), ('aap', 3), ('abp', 2), ('bbp', 2), ('smapling', 1), ('nobs', 10), ('jcointt', 4), ('cajorls', 7), ('coinegrating', 2), ('blrtest', 1), ('integrals', 9), ('longditudinal', 1), ('vobi', 3), ('fund', 2), ('oclassic', 1), ('rtutorial', 1), ('leveraged', 1), ('nsl', 1), ('edm', 1), ('tripped', 2), ('organ', 1), ('univarietly', 1), ('fischer', 1), ('reasearches', 1), ('explored', 10), ('justifyable', 1), ('shouldnt', 1), ('di', 8), ('ndi', 1), ('undernutrition', 2), ('undernourished', 4), ('uninsured', 3), ('nourished', 3), ('insuring', 1), ('retro', 7), ('zeroed', 2), ('defeats', 2), ('brood', 4), ('sired', 2), ('broods', 2), ('paternity', 1), ('relat', 1), ('packet', 11), ('packets', 7), ('inactivation', 2), ('inact', 3), ('del', 6), ('predprobmelt', 2), ('subseteq', 10), ('pursuing', 2), ('ceos', 2), ('mbas', 2), ('metering', 1), ('dwelling', 1), ('lnx', 6), ('counters', 2), ('uplift', 1), ('upliftrf', 1), ('logq', 1), ('logmyp', 1), ('logcop', 1), ('media', 42), ('logmyr', 1), ('logcor', 1), ('unsold', 1), ('logmys', 1), ('logmyshl', 1), ('logmktspl', 1), ('adp', 1), ('smf', 4), ('nonrobust', 2), ('omnibus', 7), ('jb', 4), ('retailer', 6), ('xq', 5), ('salix', 1), ('mash', 1), ('pin', 8), ('choke', 2), ('betula', 2), ('ideae', 1), ('uninfluential', 1), ('modus', 2), ('housevotes', 4), ('democrats', 6), ('republicans', 3), ('slighlty', 1), ('reconverge', 1), ('rigid', 4), ('officially', 1), ('movemnts', 1), ('boxing', 2), ('punch', 2), ('certaimn', 1), ('resposne', 1), ('perosn', 1), ('arrrghh', 1), ('succinct', 3), ('weighed', 3), ('avarage', 2), ('appearing', 5), ('opponent', 21), ('opponents', 2), ('standford', 1), ('afaik', 7), ('folks', 7), ('resurgence', 2), ('newdat', 13), ('agegrp', 6), ('collective', 3), ('toxic', 8), ('startup', 1), ('scrape', 3), ('soup', 3), ('gmail', 1), ('hotmail', 2), ('aol', 1), ('ridgeclassifier', 1), ('speedy', 1), ('routines', 4), ('uploading', 2), ('poli', 1), ('sci', 5), ('southern', 16), ('loads', 9), ('sunlight', 1), ('relhumidity', 3), ('avgwindspeed', 3), ('avgwinddirection', 3), ('maxwindspeed', 3), ('maxwinddirection', 3), ('sunlighttime', 3), ('dayago', 3), ('afterholidayandbpyesterday', 1), ('movingavglast', 3), ('daysmidnighttemp', 3), ('succesful', 2), ('movingavglastndaysload', 2), ('newxreg', 4), ('eu', 6), ('rephrasing', 2), ('tate', 1), ('arrivals', 2), ('haha', 4), ('dbinom', 8), ('jacobian', 5), ('waldtest', 4), ('inputarg', 1), ('estcove', 1), ('roleplaying', 1), ('mechanic', 3), ('notated', 1), ('funtion', 1), ('techmologist', 2), ('physicsforums', 1), ('ry', 12), ('cominatorial', 1), ('enumerating', 2), ('zare', 1), ('roleplayer', 1), ('duplicates', 5), ('dif', 27), ('correlograms', 4), ('reestimating', 2), ('newfit', 4), ('intervaled', 1), ('paramemeters', 1), ('crystallize', 1), ('squareroot', 4), ('mss', 1), ('hockey', 4), ('clumsy', 4), ('testframe', 6), ('guest', 1), ('recalculated', 1), ('effectiveness', 11), ('trainings', 3), ('maximising', 3), ('acuracy', 2), ('thrice', 7), ('knw', 1), ('ibiza', 3), ('honda', 1), ('volkswagen', 1), ('golf', 7), ('penalizes', 6), ('sqsum', 2), ('kogan', 2), ('divisive', 2), ('pddp', 1), ('wong', 1), ('pankratz', 1), ('shortlist', 1), ('acheived', 1), ('verification', 3), ('sniffer', 3), ('tcp', 4), ('vales', 1), ('wayne', 1), ('tcpheader', 2), ('acknowledgement', 1), ('brom', 2), ('chelseas', 1), ('surge', 1), ('slump', 1), ('epm', 1), ('equine', 1), ('protozoal', 1), ('myoeloencephalitis', 1), ('specifity', 1), ('supervisor', 13), ('equalities', 1), ('bee', 4), ('partialling', 2), ('overlaps', 6), ('ito', 3), ('runners', 2), ('dash', 4), ('runner', 9), ('getmax', 1), ('maxvalue', 4), ('executed', 6), ('collapsed', 2), ('sparsity', 11), ('spliting', 3), ('bernouli', 2), ('mathematicians', 2), ('suppressmessages', 16), ('geor', 4), ('emea', 1), ('totb', 10), ('arimaerror', 6), ('arimadata', 12), ('arimafitted', 6), ('fitarima', 10), ('datanew', 8), ('fullres', 6), ('clusgap', 1), ('maxse', 1), ('firstsemax', 2), ('logw', 2), ('cw', 10), ('increment', 4), ('buckley', 3), ('identifiers', 4), ('mappings', 2), ('mediating', 4), ('mediator', 15), ('angiogenic', 2), ('ang', 4), ('nontraditional', 1), ('tcdb', 1), ('swissprot', 1), ('indiv', 9), ('chr', 7), ('juv', 1), ('fleas', 1), ('daytype', 16), ('dayba', 2), ('inviduals', 1), ('movs', 4), ('meem', 1), ('conlin', 1), ('niterem', 1), ('singularity', 6), ('backsolve', 1), ('multicollinear', 1), ('acountry', 1), ('eda', 12), ('loessline', 1), ('warrant', 1), ('illogical', 1), ('quantifiable', 3), ('laid', 1), ('learnbayes', 1), ('mombf', 1), ('engagement', 4), ('pmb', 9), ('emptyset', 4), ('inclination', 1), ('bhattacharyya', 1), ('tcrossprod', 7), ('handwriting', 2), ('pj', 1), ('pionts', 1), ('forcefully', 2), ('debugging', 3), ('nchoosek', 2), ('detailing', 1), ('maximized', 9), ('accesible', 1), ('zpcukqjcoa', 1), ('avi', 1), ('reservation', 5), ('booked', 4), ('analaysing', 1), ('turbine', 2), ('weibul', 1), ('samlmu', 1), ('wei', 15), ('anual', 1), ('dimensioned', 1), ('cfssubseteval', 1), ('terminated', 6), ('isf', 1), ('programmed', 3), ('tatyana', 1), ('krivobokova', 2), ('francisco', 4), ('rosales', 1), ('kauermann', 1), ('semmler', 1), ('steel', 24), ('nowadays', 1), ('coatings', 1), ('technicians', 1), ('coating', 7), ('ceo', 2), ('overwhelming', 1), ('narrative', 1), ('inc', 13), ('alzheimer', 1), ('accross', 3), ('jagged', 3), ('generative', 14), ('autoencoder', 1), ('variational', 5), ('nicer', 2), ('gradually', 7), ('baysian', 2), ('cation', 1), ('tingely', 1), ('mediates', 1), ('kyock', 1), ('respl', 15), ('bj', 4), ('isotonic', 4), ('platt', 5), ('bates', 4), ('scorer', 1), ('serially', 6), ('agegroupdummy', 19), ('agegroup', 32), ('cohortdummy', 1), ('pooledols', 4), ('muster', 1), ('critiques', 2), ('explaine', 1), ('stove', 1), ('portal', 1), ('portallive', 1), ('blowing', 1), ('ssdecontrol', 2), ('asserting', 1), ('supplemental', 1), ('knnimpute', 2), ('hotelx', 2), ('associative', 1), ('aghion', 1), ('philippe', 2), ('reenen', 1), ('luigi', 1), ('zingales', 1), ('institutional', 2), ('ownership', 5), ('aeaweb', 1), ('recreating', 1), ('avrz', 4), ('underscore', 1), ('sicdummies', 2), ('isic', 1), ('yeardummies', 2), ('iyear', 4), ('cites', 5), ('instit', 1), ('percown', 1), ('lk', 9), ('lsal', 1), ('halved', 1), ('etastart', 5), ('coerce', 3), ('remit', 1), ('fav', 1), ('coaware', 1), ('issueaware', 1), ('readnewspaper', 1), ('favorability', 1), ('unfavorable', 2), ('overwhelmed', 2), ('devore', 2), ('sstd', 1), ('cusum', 5), ('efp', 14), ('mimic', 6), ('bagged', 4), ('induce', 4), ('pathologies', 1), ('pathology', 7), ('wmlc', 1), ('fapc', 1), ('hodv', 1), ('resnick', 1), ('unions', 1), ('tenure', 8), ('ubs', 1), ('noting', 4), ('fantastic', 6), ('backing', 1), ('biostats', 3), ('diagnoses', 4), ('illuminates', 1), ('steadily', 1), ('medicaiton', 1), ('overshadow', 1), ('bayesianfirstaid', 1), ('impressions', 33), ('cumul', 13), ('modelisation', 1), ('strugle', 1), ('irregularity', 2), ('satelitte', 1), ('informs', 2), ('probabiliy', 2), ('versed', 8), ('nda', 2), ('managers', 2), ('extremes', 9), ('velocity', 52), ('scrd', 3), ('subjectsubject', 54), ('velcty', 1), ('sbjs', 3), ('sbjcs', 6), ('analytes', 2), ('analyte', 3), ('bloggers', 6), ('qcomhd', 1), ('cliff', 2), ('goodnes', 1), ('smirnoff', 2), ('autoreg', 4), ('archtest', 10), ('qlm', 2), ('portmanteau', 6), ('fints', 11), ('tsay', 9), ('intc', 14), ('chicagobooth', 3), ('ruey', 4), ('fts', 3), ('kingdom', 6), ('econometrica', 1), ('hoboken', 1), ('jersey', 1), ('defect', 5), ('supplying', 5), ('greene', 2), ('swings', 1), ('unbiasedness', 3), ('probabilitiy', 1), ('presenceabsence', 1), ('rffit', 2), ('mytry', 1), ('ntrees', 4), ('rfpred', 2), ('obspred', 2), ('reclassify', 4), ('foodstuff', 1), ('kg', 18), ('datacenter', 1), ('unplanned', 3), ('reboot', 1), ('reboots', 2), ('dll', 3), ('tagdata', 2), ('notably', 3), ('toystudy', 1), ('realstudy', 1), ('regressiontest', 1), ('overlaying', 1), ('horrendous', 1), ('methodologies', 7), ('preparation', 6), ('sxpr', 3), ('lengthy', 1), ('hangs', 1), ('lassoglm', 3), ('somehing', 1), ('tpo', 4), ('incidents', 8), ('firmware', 1), ('encourage', 5), ('authorities', 1), ('america', 13), ('texas', 4), ('vermont', 1), ('outperforms', 6), ('customized', 2), ('mln', 3), ('stimulate', 1), ('moral', 13), ('adolescents', 1), ('professionals', 1), ('endogenously', 1), ('promotion', 11), ('brainstorming', 2), ('retuned', 1), ('gest', 8), ('dilate', 2), ('efface', 2), ('consis', 2), ('membran', 2), ('strat', 2), ('gravid', 2), ('parit', 2), ('diab', 2), ('gemel', 2), ('tutoriels', 1), ('rgression', 1), ('logistique', 1), ('binaire', 2), ('donn', 1), ('prematures', 1), ('premature', 5), ('positif', 2), ('optimx', 9), ('lbfgs', 11), ('vy', 14), ('vbeta', 13), ('parametrisation', 1), ('loglikelihoodlogitstable', 2), ('likelihoodscore', 2), ('optimlogitlbfgs', 3), ('fevals', 2), ('gevals', 2), ('convcode', 2), ('kkt', 5), ('xtimes', 2), ('biomedical', 2), ('decays', 5), ('autcorrelation', 1), ('ldv', 3), ('conjectures', 1), ('theories', 6), ('chasing', 2), ('classroom', 6), ('bullied', 1), ('vertices', 6), ('arrow', 5), ('mtext', 2), ('viewable', 3), ('adjmat', 6), ('grab', 3), ('dats', 1), ('fastballs', 4), ('rhh', 6), ('lhh', 6), ('changeups', 4), ('curveballs', 4), ('sw', 4), ('swinging', 1), ('strike', 2), ('smooths', 3), ('lts', 6), ('montgomery', 3), ('peck', 1), ('assaid', 1), ('virigina', 1), ('etd', 1), ('factoring', 2), ('uncensoring', 1), ('dataf', 11), ('lmlist', 5), ('innovs', 2), ('bty', 4), ('forecastma', 2), ('localization', 3), ('suspiciousness', 3), ('proneness', 2), ('knowledges', 2), ('pregnancies', 2), ('pregnancy', 2), ('pregnant', 1), ('tow', 2), ('tafe', 1), ('tertiary', 1), ('deference', 1), ('impacted', 7), ('jokn', 1), ('rg', 3), ('emzj', 1), ('ogtyxxib', 1), ('gaijcwmsnpk', 1), ('sys', 2), ('respnum', 1), ('senses', 8), ('unused', 4), ('adtree', 2), ('reminder', 3), ('adaboostm', 3), ('mundane', 1), ('pell', 2), ('js', 6), ('coronary', 5), ('syndrome', 4), ('serum', 15), ('cotinine', 9), ('haw', 1), ('cobbe', 1), ('newby', 1), ('secondhand', 1), ('neuralnets', 1), ('transfor', 1), ('ivan', 1), ('dimitrov', 1), ('knowning', 1), ('timid', 1), ('specially', 6), ('streets', 1), ('fronts', 1), ('cul', 1), ('thumbtack', 3), ('thingy', 1), ('blatant', 1), ('dismisses', 1), ('astsa', 5), ('indepenent', 1), ('inquiry', 1), ('ib', 1), ('drescriptive', 1), ('reposting', 1), ('accidentally', 2), ('immune', 2), ('viral', 4), ('pesticide', 3), ('lbs', 11), ('transliteration', 1), ('beam', 1), ('transliterations', 1), ('decode', 3), ('comprise', 4), ('practise', 5), ('alias', 1), ('gg', 7), ('pathological', 2), ('coupon', 13), ('variants', 9), ('coupons', 5), ('halfway', 1), ('dxd', 1), ('vowpal', 1), ('wabbit', 1), ('subra', 1), ('oim', 1), ('expdel', 2), ('admittance', 2), ('loglinear', 1), ('unsystematic', 1), ('accompany', 1), ('discretise', 2), ('jeffrey', 2), ('rosenthal', 1), ('martingales', 3), ('betters', 1), ('watch', 12), ('weill', 1), ('striking', 1), ('pow', 14), ('walkers', 1), ('walked', 2), ('discretely', 2), ('avmc', 2), ('avpp', 3), ('avrc', 2), ('tottp', 2), ('totfp', 2), ('algosnum', 2), ('ssl', 2), ('mathew', 1), ('flaws', 3), ('unchanged', 9), ('license', 7), ('renew', 5), ('licenses', 2), ('renews', 1), ('svgs', 1), ('peer', 3), ('manuscript', 8), ('stubborn', 1), ('insistence', 2), ('endorse', 3), ('anonymity', 1), ('demonstrates', 6), ('qed', 4), ('mypurpose', 1), ('neightbour', 1), ('othe', 1), ('statsoft', 1), ('uniforms', 2), ('qunatiles', 1), ('qunatile', 1), ('unstable', 9), ('dictator', 2), ('confirmatory', 2), ('donation', 2), ('proportionate', 1), ('kolgomorov', 1), ('distributioins', 1), ('understading', 1), ('san', 3), ('hispanic', 13), ('asian', 6), ('pathologic', 2), ('pis', 3), ('lymph', 4), ('pte', 1), ('totaldeaths', 3), ('northern', 23), ('eventual', 3), ('clint', 1), ('unnatural', 9), ('khayelitsha', 36), ('postings', 2), ('deem', 3), ('denom', 7), ('verbs', 1), ('nouns', 1), ('syntactic', 1), ('abit', 1), ('autocorrelations', 18), ('tweaks', 4), ('interprete', 7), ('translog', 3), ('kapital', 1), ('kk', 8), ('oneway', 5), ('swamy', 1), ('aroras', 1), ('idiosyncratic', 5), ('fd', 16), ('dbz', 1), ('assistant', 2), ('amns', 1), ('vltd', 1), ('udthrnvvvcdg', 1), ('bernhard', 1), ('varest', 2), ('datamat', 8), ('tkepohl', 1), ('disconnect', 2), ('longrun', 4), ('perturbed', 3), ('telecourse', 1), ('retriever', 2), ('stationair', 2), ('enrolled', 5), ('iters', 2), ('photos', 10), ('retracted', 1), ('citizen', 9), ('corstr', 8), ('mcmcglmm', 1), ('thrilling', 1), ('hadn', 1), ('hyperprior', 2), ('kudos', 1), ('kruschke', 2), ('ndata', 1), ('dbern', 4), ('inprod', 2), ('npredictors', 1), ('dmnorm', 2), ('bastard', 1), ('jbar', 1), ('demvote', 1), ('medic', 1), ('poselet', 1), ('facial', 2), ('mme', 1), ('generality', 2), ('quanity', 1), ('traction', 1), ('mapply', 9), ('striding', 2), ('stride', 2), ('irregardless', 1), ('functionally', 1), ('everying', 1), ('workable', 4), ('phoneme', 2), ('phonemes', 3), ('mixtures', 5), ('ro', 9), ('sxx', 4), ('syy', 1), ('ybar', 13), ('sxy', 3), ('ee', 5), ('uncoditional', 1), ('winbugs', 8), ('algebraically', 6), ('definitizing', 1), ('definitize', 1), ('collision', 5), ('collisions', 5), ('sichel', 3), ('redistribute', 1), ('cyc', 6), ('dsichel', 1), ('imbalances', 1), ('thershold', 1), ('sens', 16), ('getmodelinfo', 1), ('regex', 1), ('submodels', 3), ('problemtype', 1), ('obslevel', 2), ('optime', 1), ('widest', 1), ('udacity', 4), ('sqr', 6), ('resultin', 1), ('ifference', 1), ('viewer', 6), ('dichotomus', 1), ('precisions', 1), ('cumbersome', 4), ('dflt', 1), ('ngdprpc', 1), ('ngdp', 1), ('rpch', 1), ('ngdpd', 1), ('rsva', 1), ('activepar', 2), ('teasing', 1), ('kittens', 2), ('fluffiness', 1), ('undergone', 1), ('surgical', 4), ('feet', 11), ('nitty', 2), ('gritty', 2), ('intervalls', 2), ('cummulative', 4), ('summed', 9), ('obey', 3), ('obeyed', 3), ('intersects', 1), ('edt', 6), ('gdpw', 34), ('scipen', 1), ('cadolph', 1), ('panessex', 1), ('democracy', 9), ('idx', 50), ('selectdata', 9), ('ctyname', 2), ('negelkerk', 2), ('flagrant', 1), ('cubed', 3), ('arithmetic', 6), ('roaming', 1), ('seroprevalence', 5), ('socialsystem', 3), ('hostspecies', 2), ('probits', 1), ('lmertest', 1), ('wizards', 1), ('impart', 1), ('catpca', 1), ('rasch', 4), ('sidedly', 1), ('tally', 1), ('reconstruct', 15), ('defeat', 1), ('formalized', 3), ('perceived', 6), ('magazine', 4), ('electrolysis', 1), ('volcano', 2), ('eruption', 2), ('optdigits', 1), ('corrupt', 2), ('visualized', 5), ('regularizationn', 1), ('bothered', 2), ('fractalanalytics', 1), ('uploads', 3), ('methdology', 1), ('concordance', 9), ('akadns', 1), ('whitepapers', 1), ('randomizedlogisticregression', 1), ('advertisements', 4), ('seconday', 1), ('suspects', 2), ('mailing', 4), ('prohibitively', 1), ('interoperability', 1), ('hpc', 2), ('exctly', 1), ('meanunit', 4), ('indifferent', 1), ('participated', 1), ('competitions', 4), ('economists', 1), ('proces', 3), ('incentive', 2), ('sugggestions', 1), ('persuade', 1), ('shortcut', 7), ('dbscan', 3), ('descriptor', 3), ('navigate', 1), ('sessionidentifier', 11), ('alice', 7), ('grounds', 7), ('wii', 2), ('balanceboard', 4), ('rotated', 4), ('corners', 1), ('foot', 9), ('gameboard', 3), ('shifting', 5), ('pitches', 1), ('playthroughs', 1), ('trainigsset', 1), ('bns', 1), ('destroy', 2), ('villy', 1), ('spoke', 1), ('mother', 8), ('adult', 18), ('mined', 1), ('translations', 7), ('eighteen', 2), ('achttien', 2), ('goed', 3), ('braaf', 2), ('eerlijk', 2), ('bejaard', 1), ('oud', 1), ('starter', 3), ('underfitting', 8), ('immediatelly', 1), ('wndclass', 1), ('sepsis', 5), ('conluded', 1), ('sexnull', 1), ('asaclas', 4), ('disturb', 6), ('threat', 3), ('moribund', 1), ('asaclasnull', 1), ('asaclasnone', 1), ('wndclas', 3), ('contaminated', 10), ('ridiculous', 8), ('society', 7), ('anesthesiologists', 1), ('perioperative', 1), ('precission', 1), ('falsepositives', 1), ('rinfinance', 1), ('agenda', 1), ('alexandermcneil', 1), ('expm', 1), ('foun', 1), ('technician', 4), ('hearing', 7), ('determinants', 8), ('reassigned', 1), ('cvs', 3), ('pfile', 1), ('strokes', 2), ('stroke', 7), ('triples', 3), ('bizdays', 3), ('wineind', 2), ('fincenter', 5), ('sydney', 2), ('timedate', 1), ('biz', 2), ('isbizday', 1), ('retrieving', 1), ('plink', 3), ('bfile', 1), ('snpdata', 10), ('eigenvec', 1), ('snpout', 1), ('exm', 4), ('fitsnp', 3), ('chromosome', 12), ('chromosomes', 4), ('diseasehypo', 1), ('continents', 1), ('diseased', 13), ('muffin', 1), ('recipes', 2), ('ingredient', 1), ('accuarcy', 2), ('ascore', 19), ('intending', 4), ('polytope', 4), ('longleftrightarrow', 2), ('integrations', 2), ('integrand', 1), ('merritt', 1), ('cubist', 2), ('barrel', 4), ('ticket', 16), ('jackpot', 16), ('awarded', 7), ('lottery', 11), ('thereafter', 2), ('auditory', 1), ('roadside', 1), ('routes', 13), ('ontario', 1), ('harvested', 2), ('temporally', 4), ('fruitful', 3), ('broadening', 1), ('conc', 23), ('exercice', 3), ('otexts', 2), ('surfing', 8), ('fest', 7), ('stranger', 1), ('versicolor', 20), ('virginica', 30), ('krajulkv', 11), ('rok', 67), ('obdobi', 17), ('kraj', 21), ('usili', 22), ('obdobinehn', 50), ('krajjhc', 11), ('krajjhm', 11), ('krajlbk', 11), ('krajmsk', 11), ('krajolk', 11), ('krajpak', 11), ('krajplk', 10), ('krajstc', 10), ('krajvys', 10), ('krajzlk', 10), ('isotopic', 1), ('evapotranspiration', 1), ('ox', 4), ('marchini', 1), ('drives', 6), ('clc', 3), ('vn', 5), ('gamrnd', 1), ('gvlma', 1), ('paramaters', 3), ('combinatoric', 1), ('debinom', 8), ('pebinom', 5), ('totaldensity', 5), ('preprocessed', 5), ('cem', 1), ('hegdes', 1), ('escalc', 3), ('smd', 2), ('xmin', 2), ('xmax', 2), ('rma', 6), ('mods', 8), ('zval', 2), ('intrcpt', 2), ('groupb', 4), ('loans', 14), ('perdio', 1), ('vintages', 1), ('vintage', 2), ('diminishing', 3), ('newcomer', 1), ('thhe', 1), ('whipped', 1), ('potholes', 2), ('accidents', 5), ('msm', 8), ('myname', 1), ('pothole', 2), ('heaviness', 1), ('judgments', 1), ('superimposed', 4), ('apromow', 4), ('ppi', 3), ('priceup', 2), ('dyn', 5), ('sok', 8), ('autocorellation', 1), ('varaible', 2), ('probitscalar', 2), ('fulfillment', 1), ('delivered', 3), ('wpp', 2), ('invert', 5), ('prematurely', 1), ('timediff', 1), ('fulfilled', 6), ('pricecount', 3), ('allpricecount', 1), ('monthlypricecount', 1), ('fulfilledproduct', 2), ('monthlyratio', 2), ('monthpricecount', 1), ('monthlystorecount', 1), ('storecount', 1), ('productcount', 1), ('monthlyproductcount', 1), ('leafordersplaced', 1), ('leafratio', 1), ('leafmonthlycount', 1), ('leafmonthlyfulfilled', 1), ('averageprice', 1), ('blr', 2), ('whack', 1), ('hlr', 2), ('rtutorialseries', 1), ('datavar', 5), ('onepredictormodel', 3), ('unem', 5), ('twopredictormodel', 3), ('hgrad', 4), ('threepredictormodel', 3), ('modeli', 1), ('outs', 8), ('pout', 2), ('noorigin', 1), ('jumpy', 1), ('constitutes', 5), ('theshold', 1), ('autonomous', 2), ('marketplace', 2), ('hurt', 5), ('intto', 1), ('reciprocals', 1), ('enders', 1), ('und', 3), ('nist', 2), ('infolab', 1), ('ullman', 1), ('mmds', 1), ('modelsvy', 2), ('svydesign', 5), ('svyglm', 8), ('fractional', 17), ('mdlg', 4), ('depvarscr', 2), ('depvarscrp', 1), ('overstates', 1), ('rbis', 1), ('giles', 1), ('joe', 15), ('thomas', 3), ('robin', 2), ('yount', 1), ('jim', 9), ('jones', 2), ('rbi', 1), ('simplelinregexample', 1), ('operators', 5), ('mesures', 1), ('microseconds', 2), ('milliseconds', 4), ('que', 1), ('treatmentaorb', 3), ('vare', 3), ('varf', 3), ('predpr', 2), ('roccurve', 2), ('youden', 2), ('rawcutoffscore', 1), ('treshold', 4), ('ignificant', 1), ('configurations', 13), ('indendent', 1), ('recode', 6), ('poles', 1), ('squishing', 1), ('abilities', 5), ('corrrelations', 1), ('totalprop', 1), ('alignment', 5), ('calulating', 1), ('tdm', 7), ('intersections', 1), ('shaded', 1), ('tion', 1), ('delaporte', 1), ('nlogl', 2), ('typesetting', 1), ('disastrous', 1), ('willling', 1), ('xvar', 12), ('lvar', 4), ('bergstra', 2), ('kit', 4), ('freqdist', 1), ('esteemed', 4), ('cricket', 3), ('porcupines', 2), ('garden', 4), ('inspected', 2), ('herbivory', 5), ('woody', 1), ('tissues', 1), ('jtco', 4), ('herbivorized', 1), ('bcse', 3), ('bd', 20), ('bwpa', 3), ('calf', 4), ('cbq', 3), ('cco', 3), ('cvc', 5), ('gsm', 3), ('hd', 3), ('jtws', 3), ('kirk', 3), ('mco', 3), ('mmm', 3), ('mtcr', 3), ('ncc', 3), ('om', 10), ('ov', 3), ('pv', 10), ('scpa', 3), ('sqc', 3), ('srg', 3), ('trch', 3), ('utvf', 3), ('veyo', 3), ('vrhs', 3), ('wink', 3), ('scars', 1), ('chew', 1), ('canopy', 1), ('squirrels', 1), ('statiscal', 1), ('commercials', 3), ('variabls', 2), ('benzo', 1), ('recover', 12), ('deconvolve', 1), ('spice', 1), ('toeplitz', 2), ('lmfuncs', 2), ('rfecontol', 1), ('rfecontrol', 2), ('rerank', 1), ('savedetails', 1), ('accessed', 1), ('tiger', 2), ('categorizes', 2), ('appropriateness', 3), ('equitoxic', 2), ('scientists', 5), ('cytotoxicity', 2), ('begun', 4), ('jmp', 7), ('transitions', 5), ('exerting', 1), ('steve', 2), ('pyt', 1), ('pleased', 2), ('sugar', 4), ('gestures', 1), ('imu', 1), ('nearer', 2), ('groupa', 2), ('prisoner', 2), ('prisoners', 3), ('solitary', 1), ('confinement', 1), ('sentenced', 1), ('governor', 1), ('spared', 1), ('executions', 3), ('jailer', 3), ('pardoned', 1), ('convince', 8), ('deepen', 2), ('deceptively', 2), ('monty', 3), ('webinar', 3), ('resident', 4), ('exposing', 1), ('lqs', 7), ('yarberry', 1), ('agri', 3), ('sing', 2), ('bestone', 1), ('capm', 14), ('iota', 4), ('practicing', 6), ('radioactive', 3), ('particles', 6), ('emitted', 2), ('salmon', 6), ('carp', 1), ('fitcontrol', 7), ('twoclasssummary', 4), ('gbmfit', 1), ('possessions', 1), ('threading', 1), ('thesee', 1), ('attacking', 3), ('defending', 1), ('novel', 6), ('vantage', 1), ('levenes', 2), ('homogenous', 2), ('heterogenous', 2), ('smarket', 2), ('annihilator', 1), ('bilateral', 1), ('unilaterally', 1), ('envelope', 2), ('crossroads', 2), ('crawley', 2), ('ave', 6), ('undergoing', 2), ('relapse', 3), ('municipalities', 2), ('saxony', 1), ('heterogeneity', 7), ('restricts', 1), ('applicability', 2), ('pvalues', 9), ('bowls', 2), ('bowl', 2), ('fars', 3), ('frrs', 3), ('eers', 1), ('lavaan', 6), ('sem', 13), ('shortd', 1), ('wlsmv', 1), ('dwls', 1), ('fitmeasures', 1), ('npar', 3), ('cfi', 2), ('tli', 2), ('nnfi', 2), ('rfi', 2), ('nfi', 2), ('pnfi', 1), ('ifi', 2), ('rni', 2), ('rmsea', 8), ('wrmr', 1), ('gfi', 1), ('agfi', 1), ('pgfi', 1), ('mfi', 2), ('dtest', 1), ('dcont', 1), ('parconv', 5), ('unfortunatly', 1), ('parstart', 4), ('ebos', 2), ('rccircuits', 4), ('ssqfun', 3), ('residfun', 1), ('minimizer', 6), ('parnlm', 4), ('tissue', 11), ('ebayes', 3), ('toptable', 2), ('crosspost', 1), ('dmv', 1), ('agent', 24), ('randomforestregressor', 1), ('gradientboostingregressor', 3), ('kidney', 4), ('caffeine', 6), ('cups', 1), ('inflate', 3), ('christie', 1), ('auditing', 1), ('ucl', 5), ('lcl', 5), ('rchisq', 7), ('sifting', 3), ('mew', 3), ('ew', 1), ('lowers', 3), ('expermental', 1), ('methanol', 2), ('refractive', 2), ('celsius', 2), ('asymmetrical', 2), ('datafirst', 1), ('invidual', 1), ('occurance', 4), ('seperately', 3), ('doubted', 1), ('oncology', 1), ('ddd', 1), ('doses', 2), ('resort', 10), ('antibiotic', 1), ('initiall', 1), ('upgrade', 1), ('iqs', 1), ('inexperienced', 4), ('subdividing', 1), ('hiddenmarkov', 3), ('depmixs', 5), ('pill', 5), ('pills', 1), ('binconf', 1), ('pointest', 1), ('intentional', 2), ('proposal', 4), ('likret', 1), ('collateral', 1), ('aggmean', 2), ('exponentiate', 2), ('destroying', 1), ('cohortbeta', 1), ('sexbeta', 1), ('cohortsexbeta', 1), ('coffecient', 1), ('blei', 2), ('jordan', 10), ('princeton', 2), ('bleingjordan', 1), ('replot', 1), ('isoreg', 1), ('recalculate', 3), ('lmmodel', 7), ('measurefactor', 3), ('idata', 2), ('idesign', 2), ('gro', 5), ('plotroc', 6), ('vacation', 5), ('cores', 8), ('registerdomc', 2), ('confusionmatrix', 15), ('extractprob', 1), ('ggroc', 5), ('styled', 2), ('calc', 15), ('btscs', 2), ('tscs', 1), ('coincides', 3), ('broader', 5), ('routinely', 2), ('beck', 2), ('katz', 2), ('tucker', 2), ('proficient', 3), ('tackling', 4), ('puzzle', 16), ('nathaniel', 1), ('jonathan', 2), ('proben', 1), ('rectified', 3), ('gibbs', 13), ('proportionality', 5), ('levene', 4), ('biostathandbook', 1), ('kruskalwallis', 1), ('heteoscedastic', 1), ('glasso', 2), ('generous', 3), ('heal', 1), ('interlinked', 1), ('wound', 1), ('healed', 1), ('healing', 3), ('hazards', 14), ('trusted', 1), ('orthogonalization', 1), ('impulses', 3), ('acoef', 4), ('evaluates', 5), ('approriate', 1), ('paraphrased', 2), ('numerated', 1), ('bci', 4), ('speller', 1), ('eeg', 9), ('chanel', 1), ('classifcation', 1), ('adaptation', 3), ('skulls', 1), ('excavated', 1), ('skull', 2), ('anatomical', 1), ('appreciation', 2), ('appraising', 1), ('epv', 3), ('villinghof', 1), ('mccullough', 1), ('hungry', 1), ('tjeerd', 1), ('der', 2), ('ploeg', 1), ('austin', 1), ('ewout', 1), ('steyerberg', 1), ('bmc', 2), ('lvert', 12), ('rvert', 9), ('overstated', 1), ('predf', 2), ('classlabels', 1), ('aucval', 2), ('depen', 1), ('coarsened', 1), ('inoculum', 7), ('ohm', 2), ('resistor', 2), ('induces', 1), ('voltages', 2), ('inoculated', 1), ('cathode', 5), ('porous', 1), ('pad', 5), ('electrode', 1), ('microbes', 2), ('seeped', 1), ('seeping', 1), ('biofilm', 1), ('eat', 2), ('depletion', 1), ('degrade', 2), ('logn', 3), ('resettest', 4), ('oddly', 2), ('resttest', 2), ('disconcerting', 1), ('koenker', 1), ('sane', 3), ('unemp', 7), ('commenters', 1), ('changepoint', 20), ('cpt', 10), ('meanvar', 6), ('pelt', 8), ('descents', 1), ('examplary', 1), ('multipliers', 5), ('rsolnp', 2), ('solnp', 3), ('igdp', 2), ('icapstk', 2), ('ilabor', 2), ('classifer', 4), ('encounters', 9), ('tricks', 3), ('millimetres', 1), ('rains', 3), ('arnoiaex', 2), ('caudal', 1), ('precip', 5), ('interrater', 2), ('tolerated', 2), ('lmperm', 1), ('lmp', 4), ('liquid', 7), ('upsample', 2), ('posters', 1), ('rna', 31), ('ncf', 5), ('wdr', 5), ('havcr', 5), ('nullmod', 3), ('stepmod', 4), ('gdf', 2), ('nkain', 2), ('orf', 10), ('fam', 3), ('spred', 2), ('mpdz', 2), ('bub', 2), ('apc', 2), ('atm', 7), ('dync', 2), ('ttk', 2), ('psmg', 2), ('negregmitosis', 4), ('brca', 2), ('ness', 3), ('methylation', 3), ('linoleicacid', 2), ('metab', 2), ('cyp', 2), ('pla', 2), ('nox', 7), ('signalling', 2), ('pilg', 1), ('polymorphism', 1), ('protected', 11), ('spdfit', 3), ('spd', 1), ('evd', 1), ('evir', 2), ('fextremes', 3), ('negloglik', 1), ('binding', 2), ('consant', 1), ('infuence', 1), ('desease', 4), ('mary', 1), ('avante', 2), ('copperfield', 1), ('bloodshugar', 7), ('timetoreact', 1), ('newyork', 3), ('incline', 2), ('sinks', 1), ('inclines', 1), ('cured', 10), ('avantehospital', 1), ('citibike', 1), ('bikes', 4), ('deliveries', 6), ('emptiness', 3), ('outgoing', 1), ('weigh', 7), ('programmatic', 1), ('manipulations', 4), ('trand', 1), ('stellar', 1), ('chug', 2), ('guy', 4), ('responsibility', 2), ('spill', 1), ('sulfur', 8), ('spillage', 1), ('div', 4), ('populaton', 1), ('tcrit', 4), ('rearranging', 6), ('lieu', 4), ('proportioned', 1), ('tscore', 1), ('forumla', 1), ('plogit', 3), ('plsearch', 1), ('thx', 3), ('tobias', 6), ('accustomed', 2), ('mindless', 1), ('adopted', 2), ('gsl', 3), ('variates', 7), ('laerd', 1), ('misreading', 2), ('rioraider', 1), ('lilliefors', 2), ('ubalt', 1), ('ntsbarsh', 1), ('spsssas', 1), ('understant', 1), ('apported', 1), ('hexadecimal', 1), ('replating', 1), ('sinuosids', 1), ('sinusoids', 6), ('sinusoid', 2), ('eigen', 13), ('fftpack', 1), ('linalg', 5), ('hankel', 2), ('butter', 7), ('lfilter', 2), ('freqz', 2), ('samplingrate', 9), ('nfft', 8), ('setupserial', 2), ('radardata', 8), ('timedata', 5), ('communicatiton', 1), ('readline', 1), ('getvariables', 2), ('slidingwindow', 2), ('graphfilterresults', 2), ('subplots', 5), ('hanningfunction', 2), ('corrmtrx', 2), ('getcorrmtrx', 2), ('eigenvals', 2), ('musicalg', 2), ('yf', 4), ('hanning', 1), ('xlen', 2), ('rowvector', 2), ('columnvector', 2), ('hanmatrix', 2), ('fliplr', 3), ('conj', 1), ('corrmatrix', 2), ('vstack', 1), ('frequencyvector', 3), ('lowpass', 6), ('ko', 34), ('axvline', 1), ('linewidth', 1), ('hspace', 22), ('nyq', 2), ('btype', 1), ('srate', 3), ('unfair', 8), ('sack', 3), ('sacked', 3), ('andrews', 2), ('ambiguous', 4), ('multicolllinearity', 1), ('blah', 6), ('condenses', 1), ('maxdim', 1), ('filling', 8), ('eigenspace', 1), ('bsxfun', 5), ('standarize', 1), ('etasq', 2), ('heplots', 1), ('burner', 10), ('knob', 6), ('holes', 19), ('jet', 1), ('cca', 4), ('similary', 1), ('setoff', 1), ('compressing', 1), ('vital', 1), ('coughing', 3), ('grangertest', 10), ('electronic', 4), ('defectives', 3), ('sharply', 2), ('onwards', 4), ('prevailing', 3), ('twiced', 1), ('dmnd', 2), ('sdx', 13), ('fitar', 2), ('consisted', 7), ('therapies', 2), ('monotherapy', 1), ('infliximab', 1), ('radiographs', 1), ('ranuni', 2), ('rannor', 1), ('ranbin', 1), ('listing', 3), ('rej', 5), ('probchisq', 1), ('pageno', 1), ('rejprob', 2), ('crs', 7), ('mypars', 7), ('vsm', 1), ('myglm', 9), ('racehispanic', 1), ('raceother', 2), ('racewhite', 1), ('genderm', 19), ('impurity', 9), ('purity', 8), ('ri', 1), ('substracting', 2), ('subnode', 2), ('rp', 24), ('donot', 1), ('ksubset', 2), ('datam', 2), ('persists', 1), ('union', 6), ('seprately', 1), ('togethers', 1), ('becuase', 1), ('sigificance', 1), ('lenders', 1), ('worthiness', 1), ('miu', 1), ('invite', 4), ('subgroup', 2), ('differentiates', 5), ('propoerties', 1), ('finely', 2), ('recursions', 2), ('tcm', 6), ('selectlags', 10), ('fsa', 3), ('linf', 6), ('bioone', 1), ('wlb', 1), ('logisticfuns', 1), ('gninf', 5), ('assymptotic', 1), ('tem', 7), ('wnrfit', 2), ('increm', 2), ('parentheses', 5), ('newline', 4), ('realities', 1), ('contest', 3), ('glucose', 23), ('obesity', 8), ('speculative', 1), ('susceptibility', 3), ('speculatively', 1), ('epidemiological', 1), ('glogit', 3), ('fictional', 7), ('remote', 3), ('sensing', 3), ('aerial', 4), ('leafs', 1), ('gridextra', 1), ('bickle', 1), ('doksum', 1), ('generosity', 1), ('feeding', 20), ('ubc', 2), ('asafnach', 1), ('hwk', 1), ('asmprobit', 1), ('uh', 2), ('alex', 4), ('graves', 1), ('bpc', 3), ('char', 1), ('outlierstest', 1), ('massachusetts', 2), ('maine', 1), ('noaa', 1), ('usaf', 1), ('wban', 1), ('metadata', 2), ('connecting', 2), ('facets', 6), ('automation', 2), ('fecha', 1), ('dir', 10), ('vel', 3), ('bat', 1), ('uva', 1), ('uvb', 1), ('fog', 1), ('grained', 4), ('seasonalities', 12), ('latam', 1), ('apac', 1), ('binomially', 2), ('opportunities', 6), ('stephan', 4), ('flanking', 1), ('whiskers', 3), ('subscribed', 3), ('athletic', 1), ('malik', 2), ('rsiena', 1), ('fills', 1), ('crashes', 6), ('mrqap', 1), ('linking', 3), ('biserial', 2), ('medv', 20), ('crim', 6), ('indus', 6), ('chas', 6), ('ptratio', 5), ('lstat', 13), ('cutler', 1), ('rtexttools', 2), ('container', 14), ('trainsize', 1), ('testsize', 1), ('virgin', 4), ('yeah', 4), ('sbr', 9), ('marital', 8), ('withing', 2), ('erich', 1), ('fridays', 2), ('dropboxusercontent', 3), ('seabird', 2), ('chunks', 4), ('exceedance', 1), ('gnu', 5), ('deficiencies', 1), ('homomorphic', 4), ('encryption', 5), ('explores', 2), ('fld', 6), ('surveillance', 1), ('revealing', 3), ('protection', 2), ('numerosity', 1), ('acknowledge', 3), ('overcoming', 1), ('matchit', 4), ('educating', 2), ('quotient', 6), ('employment', 9), ('rainy', 16), ('svyset', 1), ('psus', 1), ('lonely', 2), ('svy', 1), ('nbreg', 2), ('psychics', 1), ('contacted', 3), ('analogue', 5), ('nmodels', 2), ('valsetlen', 4), ('classvec', 3), ('accur', 4), ('trueclas', 2), ('randomize', 7), ('predclas', 2), ('benefited', 1), ('crf', 7), ('doable', 4), ('malignant', 5), ('modelh', 1), ('modelg', 1), ('plugged', 3), ('malignancy', 1), ('newmodels', 1), ('newmodelh', 1), ('newmodelg', 1), ('bowman', 1), ('systemfit', 3), ('endogenity', 3), ('hinted', 2), ('xeon', 1), ('specifc', 1), ('mindset', 2), ('expenditure', 3), ('gifs', 1), ('vic', 6), ('upside', 3), ('waston', 2), ('mallows', 6), ('mets', 5), ('workstation', 1), ('complaining', 1), ('feeded', 1), ('catastrophe', 1), ('tetha', 1), ('outputting', 4), ('manova', 20), ('yn', 16), ('sls', 10), ('vella', 1), ('scheff', 6), ('hazarded', 1), ('emend', 1), ('carefully', 2), ('fools', 1), ('rush', 6), ('province', 1), ('condionoanl', 1), ('relu', 12), ('superseded', 1), ('softplus', 2), ('reactivation', 1), ('crops', 2), ('planted', 2), ('hec', 1), ('maize', 2), ('wheat', 4), ('pasture', 2), ('uncultivated', 1), ('planting', 1), ('crop', 4), ('sundays', 2), ('otherdocs', 3), ('deptxyz', 2), ('deptx', 4), ('depty', 3), ('doca', 7), ('docb', 4), ('topmost', 1), ('dichotomic', 5), ('obervations', 1), ('xa', 10), ('isa', 8), ('ya', 15), ('reconsider', 1), ('usuallystill', 1), ('diffuse', 1), ('overwhelm', 1), ('unsupported', 3), ('dfobj', 2), ('chweight', 2), ('toilet', 1), ('diarrhoea', 1), ('mics', 1), ('enumeration', 2), ('eas', 2), ('glss', 1), ('chinese', 4), ('macroeconomics', 1), ('render', 3), ('kindergarten', 2), ('ach', 2), ('rusboost', 1), ('inactives', 1), ('actives', 1), ('propension', 2), ('coxhp', 1), ('anytime', 1), ('activators', 1), ('grsp', 1), ('ppt', 8), ('indoor', 3), ('dwell', 7), ('exploiting', 2), ('expdata', 10), ('dishmortalityvstime', 2), ('dish', 2), ('rectangles', 1), ('dissected', 1), ('rabiner', 1), ('lengthofstay', 4), ('cancerstage', 3), ('cancerstageiv', 2), ('remission', 5), ('hdp', 2), ('quadrature', 1), ('cancerstageii', 1), ('cancerstageiii', 1), ('devoted', 1), ('mstr', 1), ('dominates', 6), ('began', 9), ('trails', 1), ('timed', 2), ('stepped', 1), ('survfit', 5), ('rotten', 1), ('rossmanchance', 1), ('iscam', 1), ('destfile', 1), ('sqis', 1), ('followers', 6), ('unequally', 1), ('lineage', 1), ('ontological', 1), ('inteded', 1), ('questioned', 1), ('permuting', 3), ('wikimedia', 1), ('commons', 1), ('euros', 4), ('tachometer', 1), ('baring', 1), ('decidedly', 1), ('elegance', 2), ('transport', 3), ('trajectories', 12), ('marries', 1), ('williams', 6), ('heterogeneous', 8), ('cutpoint', 2), ('tougher', 1), ('inifinitely', 1), ('gladly', 3), ('cries', 1), ('divergent', 1), ('googleusercontent', 1), ('googleblogs', 1), ('nowcasting', 1), ('employs', 2), ('swing', 1), ('grave', 1), ('yard', 1), ('consultant', 1), ('interviews', 2), ('slips', 1), ('cforest', 10), ('savesplitstats', 1), ('mincriterion', 1), ('maxdepth', 2), ('maxsurrogate', 3), ('nation', 3), ('indifference', 1), ('contraception', 1), ('eliminated', 7), ('morally', 2), ('qli', 1), ('grasslands', 1), ('grassland', 8), ('spiders', 2), ('spider', 1), ('herbivores', 2), ('consumes', 3), ('anlysis', 1), ('approrpiate', 1), ('inflates', 1), ('psuedo', 2), ('inaccurately', 1), ('ergm', 1), ('managedd', 1), ('rjimrcfqlq', 1), ('rtoqwg', 1), ('poxs', 1), ('cloudness', 1), ('objectives', 9), ('independet', 1), ('concerts', 1), ('verificate', 1), ('expecially', 1), ('managing', 3), ('openings', 2), ('subtotal', 2), ('interpretate', 2), ('cobserved', 2), ('sklean', 1), ('trn', 2), ('infrequent', 4), ('balanaced', 1), ('performe', 1), ('anc', 1), ('cofficient', 1), ('exogeneity', 4), ('neck', 4), ('lumbar', 1), ('fusion', 2), ('surgeries', 4), ('lights', 6), ('readmissions', 5), ('readmission', 4), ('admitted', 9), ('nuances', 2), ('mpa', 8), ('complies', 2), ('deined', 1), ('cab', 4), ('erring', 1), ('testimony', 2), ('declares', 1), ('tsclust', 3), ('cort', 1), ('decomposes', 3), ('kumar', 2), ('patel', 1), ('woo', 1), ('litters', 1), ('lmermod', 3), ('trtmnt', 1), ('sxm', 1), ('trtmntb', 1), ('incarnations', 1), ('ubuntu', 1), ('aws', 1), ('raws', 1), ('mileposts', 1), ('milepost', 1), ('discretising', 2), ('arprocess', 4), ('biologists', 2), ('distinguishable', 2), ('tight', 5), ('cluttered', 1), ('imagining', 4), ('reinvent', 3), ('wheel', 7), ('parsing', 1), ('unpleasant', 1), ('ftfinal', 22), ('srfinal', 10), ('situational', 1), ('trfinal', 10), ('svo', 19), ('egoists', 1), ('altruists', 1), ('soc', 6), ('pers', 7), ('uninf', 6), ('egoist', 1), ('altruist', 1), ('mediaiton', 1), ('vain', 2), ('putitng', 1), ('mediate', 5), ('cntrl', 1), ('ppns', 1), ('marginalized', 2), ('denoising', 1), ('autoencoders', 1), ('mda', 5), ('neuroscientific', 1), ('diameters', 3), ('micrometers', 1), ('epileptic', 4), ('seizure', 8), ('tose', 1), ('regessions', 1), ('chosing', 1), ('bathtub', 1), ('apt', 2), ('exercised', 2), ('propagate', 9), ('washout', 1), ('wheter', 5), ('striker', 4), ('offsets', 2), ('foreclosure', 1), ('cloglog', 3), ('equating', 2), ('bakery', 4), ('bakeries', 5), ('bengio', 2), ('iro', 2), ('umontreal', 2), ('bengioy', 1), ('dlbook', 1), ('perceive', 6), ('cheating', 5), ('ltm', 1), ('cheated', 3), ('sheldoncooper', 1), ('freakonomics', 1), ('ilogit', 2), ('cheaters', 2), ('declines', 4), ('pot', 4), ('lid', 2), ('trapped', 1), ('lids', 1), ('cooking', 3), ('boy', 4), ('girl', 2), ('computable', 1), ('marx', 1), ('reminding', 1), ('tfit', 5), ('upperbound', 5), ('lowerbound', 5), ('chickweight', 2), ('dominant', 9), ('backyard', 2), ('nabble', 2), ('achtergrondlawaai', 1), ('insulate', 1), ('annualized', 6), ('performanceanalytics', 2), ('rollingregression', 2), ('rollingperformance', 2), ('annualizing', 1), ('annualize', 1), ('entitled', 2), ('ojala', 2), ('ginie', 1), ('coeffecient', 1), ('trainlogistic', 4), ('coeffiecient', 1), ('learningrate', 1), ('nobias', 1), ('numfeatures', 1), ('hashed', 3), ('newy', 8), ('ystar', 1), ('lmtemp', 12), ('tvals', 4), ('repsstar', 5), ('newnewy', 2), ('ofpredictors', 1), ('rollapply', 8), ('feathers', 3), ('isotopes', 2), ('isotope', 4), ('nascent', 1), ('ww', 157), ('reformulate', 3), ('gpu', 3), ('relax', 2), ('dbernoulli', 1), ('reweighted', 2), ('standardise', 5), ('tomorrows', 2), ('creeps', 3), ('juveniles', 1), ('juvenile', 3), ('waterflow', 1), ('forec', 3), ('visted', 1), ('europe', 9), ('latin', 3), ('quantitive', 2), ('warrington', 4), ('harsanyi', 2), ('nielsen', 1), ('regressione', 1), ('prevratings', 1), ('bbs', 1), ('abn', 1), ('aprmay', 1), ('prevision', 3), ('mil', 1), ('densetsu', 1), ('vectorization', 2), ('altogether', 5), ('hdi', 5), ('compiled', 4), ('ofcode', 1), ('bkhld', 1), ('flcy', 1), ('awwqqq', 1), ('ebgx', 1), ('hdidata', 1), ('fitcsvm', 1), ('fitsvmposterior', 1), ('dlmmodpoly', 7), ('dlmmodtrig', 3), ('foreacast', 1), ('assemble', 1), ('componenet', 1), ('troubling', 1), ('unsettled', 1), ('lvl', 3), ('slp', 3), ('buildptr', 6), ('ptrm', 4), ('mlptr', 4), ('dptr', 4), ('dptrf', 3), ('dlmfilter', 6), ('theatrical', 1), ('irw', 1), ('bash', 2), ('scholarship', 8), ('lotus', 1), ('conjoint', 3), ('preceded', 1), ('immigration', 7), ('cjs', 30), ('fittest', 7), ('characterized', 9), ('rectifier', 1), ('inspects', 1), ('choi', 4), ('varian', 4), ('effectsr', 1), ('covariatesusingplm', 1), ('empluk', 2), ('pgmm', 2), ('emp', 9), ('ld', 6), ('exchangeable', 17), ('kink', 1), ('stems', 1), ('nadd', 2), ('theseq', 2), ('allaucs', 5), ('aucproc', 4), ('aucaucpackage', 4), ('settlement', 6), ('twofold', 1), ('contigency', 1), ('disregarding', 2), ('mislabeled', 5), ('gmms', 1), ('definable', 2), ('lookback', 5), ('rollingindependent', 6), ('rollingdependent', 10), ('logisitc', 3), ('apropiate', 1), ('godness', 1), ('pweibull', 5), ('elevendollar', 1), ('hammarling', 1), ('lucas', 1), ('paramenter', 1), ('statmethods', 1), ('continent', 24), ('asia', 9), ('antarctica', 1), ('suspecting', 3), ('simulator', 2), ('banana', 18), ('avocado', 7), ('hordiam', 5), ('apples', 4), ('oranges', 3), ('bananas', 1), ('summaryaov', 2), ('testtukey', 3), ('maintukey', 2), ('horiz', 11), ('tukeyhsd', 5), ('pvclust', 2), ('pvrect', 1), ('jt', 3), ('huber', 5), ('plotrix', 1), ('jit', 3), ('ragged', 1), ('coord', 8), ('trans', 11), ('ubre', 2), ('sourceforge', 2), ('endoc', 1), ('qpcr', 7), ('spore', 4), ('varia', 3), ('excessive', 3), ('downsides', 2), ('unresolved', 1), ('jargons', 1), ('lognet', 2), ('coerced', 1), ('selective', 2), ('recognise', 7), ('recognises', 1), ('lemenshow', 1), ('sturdivant', 1), ('hls', 3), ('ploynomials', 1), ('mfp', 20), ('glow', 3), ('fracture', 8), ('umass', 2), ('statdata', 4), ('bonemed', 1), ('phy', 6), ('priorfrac', 3), ('premeno', 3), ('momfrac', 3), ('armassist', 3), ('raterisk', 4), ('fracscore', 1), ('backfitting', 1), ('tmin', 2), ('tarray', 2), ('diagonalized', 1), ('conversation', 5), ('conversations', 1), ('fittings', 2), ('mah', 4), ('shoul', 1), ('ouutput', 1), ('cytometry', 1), ('histological', 1), ('cellular', 4), ('nucleus', 1), ('cleaning', 5), ('recovering', 3), ('bads', 1), ('sensation', 1), ('valuea', 1), ('valueb', 4), ('valuec', 4), ('createtimeslices', 5), ('boostraping', 1), ('typ', 5), ('bek', 5), ('vst', 5), ('verw', 5), ('nwoe', 7), ('typmed', 4), ('qlogis', 11), ('tibsharani', 1), ('regularizer', 7), ('bothering', 4), ('guidelines', 12), ('ecb', 2), ('audit', 1), ('cuda', 1), ('convnet', 1), ('greyscale', 2), ('scene', 5), ('hihgly', 1), ('reactive', 2), ('sdh', 11), ('subdural', 1), ('haematoma', 1), ('stabbing', 3), ('rtc', 3), ('nsu', 5), ('xtrans', 1), ('traps', 11), ('discordance', 1), ('reviewers', 9), ('readers', 5), ('observer', 11), ('cameras', 6), ('bikers', 1), ('acenergy', 1), ('wrinkle', 3), ('weekendtime', 1), ('weekdaytime', 1), ('lowtemp', 3), ('hightemp', 2), ('snoring', 8), ('unrealistic', 3), ('pun', 1), ('dada', 1), ('gryffindor', 2), ('hufflepuff', 1), ('slytherin', 1), ('ravenclaw', 1), ('conic', 2), ('discretizes', 1), ('heston', 1), ('hesitation', 1), ('rom', 2), ('esbiomass', 1), ('estemp', 1), ('varbiomass', 1), ('vartemp', 1), ('weightstime', 1), ('zhubarb', 1), ('smartest', 1), ('coe', 6), ('override', 1), ('histories', 2), ('widget', 3), ('clv', 3), ('leaking', 1), ('literate', 4), ('rookie', 3), ('untransf', 2), ('trnsf', 2), ('machinelearningmastery', 1), ('transparency', 2), ('overlaid', 3), ('specimen', 4), ('weibulltoolkit', 1), ('emergence', 1), ('preferential', 3), ('streamflow', 5), ('dries', 1), ('nnt', 1), ('scats', 3), ('portray', 1), ('adaline', 4), ('maclaurin', 1), ('ngeq', 1), ('liks', 1), ('abuse', 1), ('csch', 1), ('circumstantial', 1), ('arose', 2), ('boltzman', 1), ('sigmoidal', 8), ('referral', 5), ('ondividuals', 1), ('screened', 1), ('weig', 1), ('firts', 1), ('davide', 2), ('belcher', 1), ('nyquist', 1), ('intersample', 1), ('spdep', 3), ('querying', 1), ('queried', 4), ('invent', 2), ('sobel', 6), ('forged', 1), ('triu', 2), ('convolve', 1), ('ndimage', 1), ('itemgetter', 1), ('barh', 1), ('impotances', 1), ('lending', 3), ('classfication', 1), ('speficially', 1), ('fluctuation', 6), ('insult', 1), ('purchasers', 2), ('heresy', 1), ('expo', 1), ('superscript', 1), ('transcribing', 1), ('ol', 1), ('racking', 1), ('pyth', 1), ('gel', 2), ('electrophoresis', 2), ('gels', 1), ('impurities', 1), ('molecular', 8), ('lane', 2), ('wandered', 1), ('impure', 5), ('distinguished', 2), ('lanes', 1), ('ruleset', 1), ('accurary', 1), ('matthews', 2), ('mol', 2), ('qtd', 2), ('intersected', 1), ('wireless', 3), ('wsn', 1), ('compulsory', 1), ('artifactual', 1), ('oscillations', 5), ('religious', 2), ('duties', 1), ('offerings', 2), ('collt', 2), ('deaster', 2), ('donated', 1), ('coll', 1), ('hypothesising', 1), ('levered', 1), ('peoples', 2), ('mandible', 1), ('jackals', 1), ('canis', 1), ('aureus', 1), ('british', 1), ('museum', 1), ('sexual', 7), ('dimorphism', 1), ('jaw', 1), ('sexes', 4), ('serval', 1), ('vet', 9), ('pelvic', 6), ('limb', 2), ('sanssouci', 1), ('bolero', 1), ('confringo', 1), ('chato', 1), ('korhan', 1), ('vets', 1), ('meethod', 1), ('died', 11), ('origination', 2), ('lti', 1), ('repayment', 2), ('mort', 7), ('pitt', 4), ('pollutant', 3), ('particulates', 1), ('ooops', 1), ('mgmt', 1), ('critics', 1), ('hate', 2), ('mound', 1), ('thunderstorm', 1), ('sportsperson', 1), ('recontracted', 1), ('debut', 2), ('fives', 2), ('draft', 4), ('interstate', 2), ('eos', 4), ('drafted', 1), ('knwo', 2), ('ima', 4), ('negatve', 1), ('whiche', 1), ('rollmean', 5), ('shannon', 5), ('downloader', 1), ('programmer', 3), ('candes', 1), ('romberg', 1), ('tao', 2), ('modulates', 2), ('rollmedian', 2), ('gaurav', 1), ('rollts', 1), ('saipe', 2), ('imagined', 2), ('cu', 7), ('pov', 10), ('gammagenerate', 2), ('barx', 4), ('talpha', 3), ('directing', 2), ('ostensibly', 1), ('interchange', 2), ('begg', 1), ('maintainer', 1), ('registration', 1), ('rfm', 3), ('marss', 7), ('hodrick', 3), ('prescott', 3), ('orthogonally', 1), ('honors', 1), ('phosphorus', 2), ('mitscherlich', 1), ('amendment', 1), ('anyhow', 3), ('gravity', 2), ('runoff', 13), ('obtuse', 1), ('pcp', 8), ('ant', 9), ('unfamiliarity', 1), ('innards', 1), ('prevents', 2), ('bz', 3), ('cuttinf', 1), ('seg', 3), ('trended', 2), ('frozen', 1), ('dinners', 1), ('calorie', 5), ('amazing', 2), ('unpaired', 5), ('argued', 5), ('upsetting', 1), ('indications', 2), ('rusult', 1), ('insgen', 1), ('ageveh', 4), ('insgenm', 2), ('ageveho', 3), ('insgnm', 1), ('ec', 7), ('cloudnumbers', 1), ('opani', 1), ('crdata', 1), ('bernstein', 3), ('inequalities', 7), ('chebyshevinequality', 2), ('bernsteininequality', 2), ('preforms', 2), ('calulates', 1), ('empiricalbernoulli', 2), ('chebyshevlowerbound', 3), ('bernsteinlowerbound', 3), ('gathers', 1), ('comparisonforbernoulli', 2), ('bernstain', 1), ('distibution', 1), ('tragically', 1), ('tank', 16), ('fullness', 1), ('resourceselection', 1), ('prez', 2), ('ras', 1), ('hosmerlem', 1), ('cutyhat', 3), ('xtabs', 3), ('budgets', 1), ('attendancerate', 2), ('enrollments', 2), ('agediff', 2), ('sacrifice', 6), ('constrainted', 1), ('lagrangian', 6), ('dality', 1), ('gradients', 6), ('dan', 4), ('piponi', 1), ('baeysian', 1), ('originates', 2), ('mymixedlogit', 1), ('parcel', 1), ('courier', 1), ('parcels', 2), ('lifo', 1), ('deliver', 6), ('vans', 2), ('relief', 1), ('circa', 1), ('pickups', 1), ('depot', 1), ('android', 3), ('reorder', 3), ('relational', 8), ('reordered', 2), ('reordering', 1), ('npregiv', 1), ('institutions', 1), ('prioritize', 2), ('ppb', 6), ('organisms', 4), ('prioritizing', 1), ('prioritized', 1), ('fdef', 1), ('mtable', 1), ('residence', 3), ('correspondence', 5), ('timebefore', 2), ('timeafter', 2), ('updateglmerdevfun', 1), ('devfun', 1), ('glmod', 1), ('retrms', 1), ('launching', 3), ('exceptionally', 1), ('bestglm', 1), ('artery', 3), ('graft', 1), ('crawl', 1), ('instability', 3), ('incident', 4), ('hotter', 1), ('ensuring', 5), ('invertebrate', 2), ('transect', 1), ('transects', 1), ('mulitple', 1), ('deepskyblue', 4), ('darkred', 2), ('indianred', 3), ('discern', 2), ('neater', 1), ('patd', 10), ('patt', 6), ('dxproband', 2), ('dxrelative', 2), ('subsetted', 1), ('inkling', 3), ('fucntion', 1), ('ztable', 2), ('nik', 2), ('quantpsyc', 1), ('countrycat', 30), ('isced', 12), ('stillinschool', 2), ('lifesat', 2), ('entails', 2), ('clipping', 1), ('trimming', 3), ('busch', 1), ('normdist', 1), ('pinch', 2), ('cbuschnotes', 1), ('sharma', 1), ('creditscoring', 1), ('scoreap', 3), ('prd', 10), ('kirill', 2), ('probabilityislogic', 1), ('venue', 1), ('dissertation', 5), ('roadblock', 1), ('offs', 3), ('replied', 1), ('mentor', 1), ('skootz', 1), ('rectifiers', 1), ('sigmoids', 2), ('hoeffding', 4), ('attitudes', 2), ('mvg', 1), ('ver', 2), ('upleft', 2), ('upright', 2), ('obvously', 1), ('myline', 4), ('corrspond', 2), ('rebalance', 2), ('rebalancing', 1), ('seldom', 1), ('mutants', 3), ('somefolder', 8), ('processa', 4), ('xlsm', 8), ('processb', 1), ('otherf', 1), ('processd', 2), ('folder', 6), ('numericalize', 1), ('tokenize', 1), ('misunderstandings', 3), ('epidemiologic', 1), ('kleinbaum', 1), ('pertain', 2), ('midwestern', 2), ('obese', 5), ('nonobese', 1), ('idr', 5), ('unexposed', 4), ('kludge', 1), ('trades', 1), ('developer', 9), ('wear', 8), ('shoes', 6), ('wearing', 3), ('pivotal', 3), ('simpple', 1), ('deduct', 2), ('equaling', 2), ('clique', 3), ('cliques', 2), ('neighboring', 2), ('mrf', 2), ('grf', 1), ('hammersley', 1), ('clifford', 1), ('potentials', 1), ('dji', 3), ('retw', 3), ('uspec', 10), ('garchorder', 7), ('sgarch', 7), ('dccspec', 4), ('multispec', 4), ('dccorder', 4), ('mvnorm', 6), ('dccfit', 7), ('focast', 21), ('dccforecast', 3), ('looping', 3), ('executing', 5), ('rcov', 1), ('subsettable', 1), ('mforecast', 2), ('probing', 1), ('johndcook', 1), ('embarrassment', 1), ('cattle', 7), ('bas', 2), ('progressed', 3), ('etf', 3), ('comdty', 2), ('teetor', 1), ('coint', 8), ('preferrable', 2), ('sax', 5), ('abfaadda', 1), ('githubusercontent', 1), ('duhaime', 1), ('estc', 2), ('colclasses', 2), ('parsed', 1), ('farthings', 3), ('illustrations', 4), ('tended', 1), ('copyright', 1), ('shakespeare', 1), ('homer', 1), ('consultants', 2), ('pursue', 5), ('sank', 3), ('focussing', 2), ('scratching', 2), ('merits', 3), ('demerits', 1), ('artifical', 1), ('faux', 2), ('pas', 2), ('clarified', 2), ('ayurveda', 1), ('allopathy', 1), ('churners', 5), ('churner', 6), ('slinuaabyr', 1), ('bq', 1), ('thresh', 5), ('rahvuslit', 1), ('namegurmee', 1), ('solaris', 1), ('jalatsid', 3), ('laste', 2), ('realisatsioon', 1), ('nonchurner', 2), ('rocempiric', 2), ('occupies', 1), ('encrypted', 7), ('uniformely', 2), ('jpg', 12), ('byte', 3), ('truecrypt', 5), ('hypothetic', 3), ('collegeeducation', 2), ('sth', 1), ('relevelling', 2), ('prerequisites', 1), ('recompute', 1), ('betrays', 1), ('introductions', 1), ('daft', 1), ('sprays', 4), ('orchardsprays', 1), ('rowpos', 1), ('colpos', 1), ('treatmentc', 2), ('statexchange', 1), ('unlimited', 1), ('datasize', 1), ('cbeleites', 2), ('differentce', 1), ('circumstance', 3), ('posible', 2), ('ensembles', 5), ('srs', 1), ('dictated', 2), ('favourability', 2), ('laborers', 1), ('awhile', 1), ('ut', 12), ('infla', 2), ('treas', 4), ('lgdp', 6), ('cdata', 1), ('linearmodel', 10), ('nikhil', 1), ('linearmodelcase', 1), ('estimatedlinearmodel', 2), ('estimatedresiduals', 5), ('axb', 6), ('abi', 3), ('atrue', 1), ('btrue', 1), ('aitrue', 1), ('bitrue', 1), ('abitrue', 1), ('estimtates', 1), ('anxiety', 4), ('agegp', 1), ('labeledpoint', 1), ('foltz', 1), ('defendant', 5), ('guilty', 4), ('committed', 7), ('witnesses', 2), ('colluding', 1), ('guilt', 2), ('collusion', 1), ('notguilty', 1), ('knowledgeable', 3), ('login', 5), ('logins', 6), ('imitate', 1), ('spit', 3), ('nasty', 4), ('messing', 2), ('ushape', 13), ('ise', 4), ('contacts', 4), ('kilometers', 2), ('um', 1), ('cmbishop', 1), ('nk', 10), ('consulted', 6), ('fvcc', 1), ('dhicketh', 1), ('diffeqns', 1), ('sgt', 3), ('discounted', 2), ('wallman', 1), ('wallmounted', 1), ('wallofsound', 1), ('wallop', 1), ('walloping', 1), ('glitch', 2), ('cxy', 1), ('flounderer', 1), ('vegan', 1), ('correlog', 1), ('encompassing', 4), ('correlogram', 3), ('pronounced', 2), ('freedoms', 1), ('homoscedastic', 7), ('homescedastic', 1), ('visualizes', 2), ('nestling', 3), ('glmmpql', 3), ('tbh', 1), ('payoff', 1), ('xgtrain', 2), ('xgtest', 2), ('evalgini', 2), ('dtrain', 5), ('getinfo', 2), ('normalizedgini', 1), ('colsample', 1), ('bytree', 1), ('packing', 3), ('studentyes', 2), ('unified', 7), ('genius', 1), ('reposted', 2), ('satisfies', 15), ('reflection', 2), ('hypercube', 2), ('offshore', 1), ('meso', 1), ('ssi', 3), ('operative', 5), ('polychotomous', 2), ('tabulation', 1), ('authentic', 1), ('ncbi', 5), ('nih', 5), ('gov', 6), ('pubmed', 6), ('nonrandom', 3), ('covarriance', 1), ('invited', 1), ('husband', 3), ('wife', 3), ('husbands', 1), ('wives', 1), ('succes', 1), ('anovmix', 1), ('incoterms', 3), ('rattle', 1), ('churning', 2), ('bucketing', 2), ('ericali', 1), ('tasty', 3), ('reponse', 3), ('horsepower', 12), ('metallic', 2), ('airbag', 1), ('steering', 1), ('rim', 2), ('categorigal', 1), ('influnece', 1), ('crossvalidation', 10), ('overspecified', 1), ('orel', 4), ('finals', 1), ('featured', 2), ('additively', 3), ('multiplicatively', 1), ('rats', 4), ('independantly', 1), ('nonexistant', 1), ('downsizing', 1), ('conference', 4), ('phenomenom', 1), ('preformance', 1), ('lq', 2), ('timeslices', 2), ('literacy', 1), ('transcan', 7), ('linux', 11), ('inverses', 2), ('differerent', 1), ('determinism', 1), ('invocation', 3), ('picasaweb', 1), ('feat', 8), ('directlink', 1), ('twins', 1), ('fueling', 1), ('oilprice', 2), ('fueltype', 1), ('highwaystation', 1), ('geometry', 1), ('regionalschl', 1), ('ssel', 1), ('fuelprice', 1), ('rs', 10), ('allocation', 12), ('mb', 7), ('reseach', 1), ('skillset', 1), ('palldata', 3), ('furnish', 1), ('notendur', 1), ('eyb', 1), ('cindexdiff', 2), ('ratehappiness', 1), ('siblings', 5), ('horizons', 3), ('decycle', 1), ('constructions', 1), ('myforecast', 1), ('allowmean', 1), ('conceive', 1), ('investigations', 3), ('credits', 3), ('requisites', 1), ('grief', 1), ('dlnm', 1), ('origdata', 5), ('shule', 1), ('outt', 7), ('argvar', 3), ('arglag', 3), ('crossbasis', 1), ('crosspred', 1), ('zlab', 3), ('airports', 2), ('overreact', 1), ('petersen', 3), ('mcs', 3), ('runmcs', 2), ('nrn', 7), ('nrt', 7), ('fracfirmx', 3), ('fracfirmeps', 3), ('preg', 3), ('slows', 1), ('fixef', 4), ('mahmood', 1), ('arai', 1), ('cwres', 1), ('pubs', 2), ('tad', 2), ('peterflom', 1), ('speakers', 6), ('vowel', 9), ('token', 4), ('formants', 7), ('interrelated', 1), ('formant', 5), ('productions', 1), ('biostatistics', 2), ('engscore', 1), ('mathscore', 1), ('histscore', 1), ('monthendexamscore', 1), ('monthendexam', 2), ('nrofsets', 4), ('nrofsamples', 3), ('gev', 12), ('tailedness', 1), ('tyre', 3), ('reminders', 1), ('ence', 1), ('listening', 2), ('radio', 1), ('unprofitable', 1), ('headline', 3), ('dses', 2), ('meassurments', 1), ('gps', 11), ('tts', 3), ('administered', 5), ('headaches', 2), ('reactions', 1), ('races', 6), ('familiarize', 2), ('grasped', 1), ('utilized', 2), ('ybeybe', 1), ('yld', 3), ('fertilization', 1), ('prevcereal', 1), ('cereal', 1), ('regioncode', 1), ('attitude', 9), ('recovery', 5), ('reliably', 5), ('culmen', 4), ('tarsus', 1), ('expalin', 1), ('markus', 3), ('ller', 2), ('calimo', 1), ('luciano', 1), ('tumors', 3), ('misclassify', 2), ('conditionning', 1), ('appriopriately', 1), ('cld', 1), ('euclidian', 4), ('paragraphs', 5), ('novels', 3), ('frech', 1), ('mein', 1), ('kampf', 1), ('speeding', 1), ('precomputed', 2), ('lsh', 1), ('junior', 2), ('risky', 4), ('shoppers', 1), ('vehicles', 15), ('trucks', 1), ('traveled', 1), ('accompained', 1), ('outdated', 1), ('underfitted', 1), ('avalable', 1), ('pxh', 3), ('pxs', 1), ('multiplicate', 1), ('bumps', 1), ('apreciate', 1), ('statmodels', 1), ('wom', 1), ('thhanks', 1), ('jvm', 1), ('polykernel', 1), ('heritagehealthprize', 1), ('hhp', 1), ('uihvfa', 1), ('startdate', 6), ('giip', 7), ('mtd', 4), ('ocsb', 1), ('ante', 1), ('datat', 1), ('grsq', 13), ('tempmodel', 4), ('rcr', 1), ('geqslant', 4), ('variancegamma', 1), ('initialise', 1), ('asymmetry', 2), ('mimics', 3), ('dlog', 1), ('idenfies', 1), ('obtaning', 1), ('realise', 11), ('hire', 2), ('mobile', 27), ('dispatched', 1), ('hourband', 4), ('anticipate', 2), ('sociopolitical', 1), ('frustratingly', 2), ('hourbands', 1), ('abandon', 1), ('employers', 1), ('feedforward', 10), ('convolving', 1), ('dsaxton', 3), ('xmas', 11), ('eve', 1), ('depression', 4), ('manned', 2), ('homes', 5), ('tsob', 5), ('electriciy', 1), ('tempob', 5), ('temperauture', 1), ('curr', 2), ('intercal', 5), ('specgarch', 2), ('uncvariance', 1), ('vxreg', 2), ('hair', 3), ('zeng', 2), ('tensorflow', 10), ('gamer', 1), ('loves', 2), ('fairs', 1), ('toys', 8), ('attractions', 1), ('spends', 3), ('gains', 6), ('spents', 1), ('bored', 1), ('overarching', 1), ('pythn', 1), ('newscount', 2), ('nflx', 1), ('wmt', 1), ('linalgerror', 1), ('heteroskedasicity', 1), ('quesiton', 1), ('experinece', 1), ('thsi', 1), ('comprehending', 1), ('subadditivity', 1), ('limitsuperior', 1), ('sabotage', 1), ('fulfilling', 1), ('contributor', 4), ('effic', 1), ('preselected', 1), ('invexp', 1), ('infitdistr', 1), ('invweibull', 3), ('inversed', 1), ('paket', 1), ('actuar', 2), ('varsample', 2), ('irf', 2), ('sleeves', 5), ('sleeve', 1), ('abm', 2), ('domingos', 1), ('oriented', 7), ('mrdm', 1), ('dzeroski', 1), ('inductive', 3), ('ilp', 1), ('muggleton', 2), ('srl', 1), ('getoor', 2), ('eroski', 1), ('acm', 1), ('sigkdd', 1), ('explorations', 1), ('newsletter', 1), ('lise', 1), ('taskar', 1), ('feng', 1), ('proceedings', 3), ('algorithmic', 1), ('ohmsha', 1), ('tokyo', 1), ('observatsions', 1), ('displaying', 2), ('sarah', 1), ('measeured', 1), ('sigmaplot', 2), ('wooldridge', 4), ('slr', 1), ('gently', 2), ('periodical', 3), ('aggressively', 1), ('hovering', 1), ('lkopf', 1), ('smola', 2), ('acquiring', 2), ('comfortably', 2), ('rkhs', 1), ('lln', 1), ('disregard', 5), ('worsen', 1), ('productcode', 1), ('reseller', 2), ('readrds', 1), ('rds', 2), ('doparallel', 2), ('makecluster', 1), ('detectcores', 1), ('registerdoparallel', 1), ('multicombine', 3), ('dopar', 5), ('stopcluster', 1), ('saverds', 1), ('unaffected', 4), ('refrigerator', 3), ('lady', 5), ('cute', 1), ('kitten', 1), ('weighing', 5), ('afterwarts', 1), ('seperates', 1), ('miserably', 1), ('contidion', 1), ('moderators', 3), ('plotdata', 21), ('partialcorrelation', 1), ('functin', 1), ('reinventing', 2), ('daphne', 1), ('koller', 2), ('perp', 5), ('isolated', 2), ('numericderiv', 1), ('blanked', 1), ('attaining', 1), ('oracle', 1), ('shell', 1), ('perl', 1), ('uptime', 1), ('heaviest', 1), ('lightest', 1), ('manney', 1), ('semicircle', 5), ('telescoping', 1), ('riemann', 1), ('raisins', 6), ('dough', 5), ('sliced', 4), ('cookies', 2), ('baked', 1), ('precautions', 2), ('scotland', 2), ('polls', 2), ('undecided', 1), ('terminologies', 2), ('concentrates', 1), ('porn', 2), ('teenagers', 1), ('metabolomics', 1), ('omics', 1), ('misclassifications', 2), ('rfa', 5), ('indata', 2), ('logscale', 2), ('simca', 1), ('sincerely', 2), ('calle', 1), ('karno', 6), ('diagtime', 1), ('trt', 20), ('sibsp', 5), ('parch', 4), ('fare', 4), ('sexmale', 7), ('titledr', 1), ('titlelady', 1), ('titlemaster', 1), ('titlemlle', 1), ('titlems', 1), ('titlerev', 1), ('titlesir', 1), ('overshadowed', 2), ('gru', 1), ('esn', 1), ('ffn', 2), ('workdays', 4), ('instinct', 4), ('fasting', 2), ('circ', 3), ('hdl', 1), ('triglycerides', 2), ('archinte', 1), ('jamanetwork', 1), ('aspx', 2), ('articleid', 1), ('ioi', 1), ('modela', 7), ('ivoire', 1), ('economies', 1), ('mclus', 2), ('givendataseries', 1), ('icl', 2), ('guassians', 2), ('classb', 1), ('classa', 1), ('spectacularly', 1), ('qa', 3), ('startt', 2), ('modeldev', 4), ('endt', 2), ('tmpfun', 4), ('newbold', 1), ('disable', 1), ('errorsarlm', 2), ('mcspatial', 1), ('poiss', 1), ('pests', 2), ('regerror', 3), ('shufflederr', 2), ('exindex', 2), ('airt', 5), ('finaldat', 4), ('doy', 6), ('dectime', 2), ('thinned', 1), ('rulefit', 1), ('holidayf', 4), ('zf', 2), ('canesm', 2), ('gfdl', 2), ('esm', 2), ('inmcm', 2), ('cgcm', 2), ('noresm', 2), ('curvy', 1), ('magnify', 1), ('humble', 2), ('missleading', 1), ('delong', 4), ('repairman', 2), ('instantly', 3), ('repairs', 4), ('repair', 5), ('downtime', 4), ('sheldon', 1), ('ross', 3), ('coihard', 4), ('coihrd', 1), ('vdep', 1), ('matlan', 1), ('toolboxes', 1), ('aboutboth', 1), ('newtons', 1), ('bgrp', 19), ('psex', 21), ('mybgrp', 3), ('prtemp', 6), ('apirt', 6), ('mypsex', 3), ('trendy', 2), ('unpopular', 5), ('angrist', 1), ('pischke', 1), ('linearization', 1), ('brl', 3), ('citizens', 2), ('subspaces', 4), ('surpass', 1), ('intimate', 3), ('xsepal', 8), ('xpetal', 8), ('lmd', 2), ('stderr', 5), ('hop', 1), ('whip', 1), ('whisker', 3), ('gate', 4), ('lingpipe', 1), ('taghelper', 1), ('arushi', 1), ('laterstat', 1), ('followup', 9), ('consultation', 1), ('bloodwork', 1), ('fu', 2), ('recaptures', 1), ('deviances', 2), ('emily', 4), ('gaga', 4), ('ipod', 2), ('listens', 5), ('dreams', 1), ('mlps', 2), ('ratified', 2), ('conventions', 3), ('oprobit', 2), ('porl', 2), ('ratification', 4), ('coral', 2), ('corals', 85), ('tripled', 1), ('soaking', 1), ('dominants', 1), ('washing', 1), ('compareablie', 1), ('squeeze', 1), ('busy', 3), ('daunting', 1), ('daywise', 1), ('occupants', 4), ('pacakage', 1), ('downweighting', 2), ('logp', 2), ('fminunc', 1), ('spci', 4), ('dset', 4), ('shi', 1), ('descripted', 1), ('unsup', 1), ('addclass', 3), ('parea', 3), ('uarea', 3), ('arimas', 1), ('wander', 1), ('anovatable', 3), ('accessing', 3), ('rename', 3), ('demandts', 2), ('demandarima', 2), ('dotsb', 1), ('khanacademy', 1), ('dramatic', 4), ('mails', 2), ('recipients', 1), ('opens', 5), ('bounces', 1), ('unsubscriptions', 1), ('rtriangle', 1), ('signiricant', 1), ('externally', 2), ('prevalences', 3), ('corrects', 1), ('deeply', 5), ('agi', 2), ('toreplace', 1), ('xe', 2), ('xu', 11), ('differentiation', 3), ('freezes', 1), ('froze', 1), ('etiquette', 2), ('pedrofigueira', 1), ('cboettig', 1), ('nope', 2), ('objmodel', 2), ('predictorsnames', 1), ('amunategui', 1), ('generalises', 1), ('delays', 5), ('eventdate', 1), ('eventtime', 1), ('eventduration', 1), ('possble', 1), ('appreciable', 1), ('rach', 1), ('chapt', 1), ('studysites', 2), ('sagepub', 2), ('dsur', 4), ('labcoat', 1), ('leni', 1), ('condom', 8), ('previouscondomused', 4), ('previousfirst', 5), ('condomused', 3), ('nocondom', 3), ('genderfemale', 2), ('safety', 2), ('selfcon', 2), ('previouscondom', 2), ('sexexp', 2), ('pandora', 1), ('dislikes', 1), ('dislike', 2), ('thumbs', 1), ('bluegrass', 1), ('terminating', 1), ('security', 3), ('informativeness', 1), ('psychologist', 1), ('cseweb', 1), ('ucsd', 2), ('dasgupta', 1), ('twoface', 1), ('logpos', 2), ('loggam', 3), ('lpos', 3), ('redefine', 2), ('mpd', 2), ('readability', 2), ('loggamma', 3), ('gammalik', 1), ('hooray', 1), ('cellphone', 1), ('corridor', 2), ('hotspot', 1), ('hotspots', 1), ('jane', 4), ('popping', 1), ('dlr', 1), ('loglossobj', 1), ('paydays', 1), ('payday', 3), ('equipped', 1), ('sustain', 1), ('justifiable', 2), ('contributors', 2), ('finalize', 1), ('downdated', 1), ('shallow', 4), ('dppackage', 1), ('distort', 1), ('spectrogram', 3), ('wavelength', 8), ('studydata', 1), ('ymu', 2), ('fmu', 2), ('democlassification', 1), ('amiss', 1), ('residing', 1), ('vecotr', 1), ('crap', 2), ('msc', 1), ('emulating', 1), ('utilise', 1), ('dpconc', 3), ('dpactivity', 3), ('splinedp', 2), ('spar', 2), ('roughness', 1), ('tether', 1), ('concoct', 1), ('deadline', 4), ('imminent', 1), ('mockup', 1), ('collaborator', 1), ('barring', 2), ('decisionasreceiver', 4), ('lue', 1), ('messagereceived', 2), ('ncp', 4), ('salesrange', 1), ('analyticspro', 2), ('qudratic', 1), ('screws', 1), ('impair', 1), ('assured', 2), ('misclassifies', 1), ('dayx', 1), ('dayy', 1), ('localized', 3), ('elude', 1), ('cifar', 2), ('eig', 1), ('decorrelating', 1), ('refined', 1), ('illuminating', 1), ('demarcation', 1), ('agnostic', 1), ('faithfully', 1), ('daysabs', 2), ('prog', 4), ('progacademic', 1), ('progvocational', 1), ('reshuffling', 6), ('reshuffle', 1), ('resampled', 2), ('assures', 1), ('reshuffled', 2), ('modality', 4), ('mutated', 1), ('violet', 3), ('singularly', 1), ('unaltered', 2), ('taper', 1), ('oscillate', 1), ('fatigued', 9), ('traveling', 5), ('resend', 1), ('atmostfat', 2), ('linkinv', 1), ('resids', 3), ('glmpower', 4), ('analze', 2), ('responders', 1), ('marketed', 1), ('exemplar', 2), ('datalines', 1), ('ntotal', 4), ('curvature', 6), ('cohen', 2), ('informedness', 1), ('undersampled', 1), ('memorizing', 1), ('deprive', 1), ('recurrently', 1), ('conductivity', 7), ('wrestling', 1), ('entrance', 3), ('seoul', 1), ('unto', 4), ('familiy', 2), ('logno', 2), ('nonumber', 4), ('noninformative', 2), ('oscillates', 1), ('viewing', 5), ('temps', 1), ('pdo', 12), ('decadal', 2), ('mpdo', 2), ('lingering', 1), ('autocorrealtion', 1), ('intensive', 3), ('predetermines', 1), ('vlm', 3), ('nurse', 7), ('famd', 4), ('drv', 1), ('asnj', 1), ('ymt', 1), ('ddcth', 1), ('spg', 2), ('csojmcz', 1), ('quali', 2), ('vtest', 1), ('nombre', 1), ('discrepant', 1), ('abrupt', 3), ('datamarket', 1), ('incorrectness', 1), ('nsubj', 6), ('nsection', 5), ('nformat', 5), ('ntrials', 3), ('subjid', 3), ('ncorrect', 7), ('nincorrect', 5), ('particulary', 1), ('exploits', 2), ('alive', 11), ('ngoe', 1), ('hine', 1), ('sectionally', 1), ('therfore', 2), ('radiation', 1), ('fdc', 5), ('solarradiation', 2), ('fluxmean', 2), ('rsquared', 12), ('handedness', 1), ('replaces', 4), ('hdtweedie', 2), ('premiums', 3), ('lossratio', 1), ('jpn', 1), ('wherry', 3), ('lord', 1), ('recommends', 3), ('kleiber', 1), ('dalgaard', 1), ('spe', 1), ('stmp', 2), ('slrd', 6), ('humps', 1), ('anti', 4), ('eacf', 4), ('leftmost', 2), ('burgard', 1), ('fcasts', 3), ('testmodel', 2), ('ashley', 2), ('temperate', 1), ('extrapolation', 8), ('petris', 1), ('lmodel', 7), ('shazam', 1), ('rkfree', 2), ('outlm', 5), ('outf', 4), ('buildcapm', 6), ('outmle', 9), ('dlmsmooth', 3), ('dropfirst', 3), ('yts', 12), ('utterly', 2), ('compensates', 1), ('ynb', 2), ('papoulis', 2), ('provable', 1), ('overbrace', 3), ('multifactorial', 2), ('adenoidectomy', 2), ('tonsillectomy', 2), ('logan', 2), ('biostatistical', 1), ('morphometric', 1), ('corl', 6), ('cord', 7), ('antl', 7), ('antw', 7), ('stal', 6), ('stiw', 6), ('heip', 7), ('soiltemp', 7), ('airtemp', 8), ('lily', 7), ('scatterplotmatrix', 2), ('moduli', 1), ('manuals', 5), ('tsvecintro', 1), ('yitemrevenue', 1), ('xcartaddtotalrs', 2), ('xcartremove', 2), ('xproductviews', 2), ('xuniqprodview', 2), ('xprodviewinrs', 2), ('renyi', 1), ('hastings', 3), ('ipw', 1), ('propensities', 2), ('anomalydetection', 3), ('renato', 1), ('repmis', 3), ('dropfile', 2), ('lubridate', 6), ('mdy', 1), ('thishour', 2), ('fw', 8), ('oma', 1), ('denscomp', 1), ('legendtext', 4), ('qqcomp', 1), ('cdfcomp', 1), ('ppcomp', 1), ('gpd', 4), ('contruct', 1), ('copulas', 4), ('groupdist', 2), ('colname', 6), ('timefun', 5), ('startlist', 3), ('distlist', 3), ('timeiter', 2), ('fitlist', 4), ('tidyr', 1), ('pobs', 2), ('archimedean', 2), ('archmcopula', 2), ('fitcopula', 2), ('mymvd', 2), ('mvdc', 1), ('frankcopula', 1), ('parammargins', 1), ('pmvdc', 1), ('selectin', 1), ('logis', 1), ('releases', 3), ('printer', 3), ('disqualify', 1), ('functionalities', 2), ('submodel', 4), ('archm', 3), ('archpow', 3), ('archex', 3), ('surfed', 1), ('qb', 1), ('zx', 6), ('ssmarima', 1), ('nondiffuse', 1), ('mnd', 7), ('otimes', 1), ('devectorize', 1), ('devec', 1), ('cvm', 5), ('xint', 4), ('yplus', 3), ('yminus', 3), ('hydric', 8), ('mesic', 4), ('perscribed', 1), ('burned', 13), ('oringally', 1), ('detections', 6), ('birddata', 2), ('vegtype', 2), ('birdsum', 1), ('birdpa', 3), ('loff', 1), ('lnoff', 1), ('forb', 1), ('rcdom', 1), ('ths', 1), ('turk', 1), ('manipulated', 7), ('partcode', 2), ('nomain', 1), ('philosophical', 4), ('conceptions', 1), ('laziest', 1), ('kosher', 2), ('freak', 1), ('bcl', 1), ('doteq', 3), ('switchr', 3), ('sigequal', 1), ('tout', 1), ('noisyn', 1), ('overwritten', 1), ('adheres', 1), ('confusions', 1), ('brothers', 1), ('popularly', 1), ('xv', 5), ('yv', 2), ('crw', 4), ('topright', 1), ('undertanding', 1), ('erent', 1), ('postmortem', 2), ('probes', 5), ('surviving', 1), ('lvcm', 8), ('minfi', 1), ('getm', 1), ('logwet', 4), ('logaveragebl', 4), ('mtross', 1), ('cvpred', 2), ('cvms', 1), ('minchild', 1), ('footprint', 3), ('writer', 1), ('dz', 2), ('misclassi', 2), ('graduating', 10), ('bsc', 1), ('digress', 2), ('roadblocks', 1), ('catalogs', 1), ('withdrawals', 4), ('banks', 9), ('confine', 1), ('ki', 4), ('primed', 1), ('violations', 3), ('avoidance', 1), ('escape', 7), ('differed', 3), ('dredge', 2), ('dredging', 3), ('conceivable', 1), ('purposeful', 1), ('advocated', 1), ('becomepaid', 1), ('uncentered', 2), ('parition', 1), ('cj', 1), ('zz', 24), ('thw', 1), ('mediafire', 1), ('jv', 1), ('caculate', 1), ('rised', 1), ('comparatively', 2), ('intiuitively', 1), ('renormalizing', 1), ('binarization', 1), ('equivalents', 2), ('surrogates', 1), ('lgocv', 2), ('purge', 1), ('topepo', 2), ('paint', 3), ('solids', 1), ('polymer', 1), ('polymerization', 1), ('rheology', 1), ('hardness', 1), ('phrases', 2), ('straitforward', 1), ('grubbs', 2), ('banner', 1), ('demoivre', 1), ('stretching', 2), ('extensible', 2), ('eventdata', 2), ('padding', 1), ('cdl', 2), ('etsug', 2), ('sect', 2), ('releasing', 5), ('iphone', 9), ('dispersive', 1), ('phones', 8), ('phonemodel', 2), ('tbd', 3), ('residualratio', 1), ('mangling', 1), ('kstest', 1), ('emphasise', 1), ('onee', 1), ('immage', 1), ('rectanglar', 1), ('eurois', 4), ('eurepois', 4), ('vstoxx', 6), ('euro', 1), ('yomputing', 1), ('comand', 3), ('excisting', 1), ('overdifferenced', 1), ('unforetunately', 1), ('overseen', 1), ('hac', 2), ('smallish', 2), ('cuse', 43), ('wws', 1), ('notusing', 5), ('wantsmore', 4), ('educationlow', 1), ('wantsmoreyes', 1), ('llhnull', 3), ('cragg', 4), ('uhler', 3), ('flawless', 2), ('contraceptive', 6), ('durations', 3), ('internship', 1), ('actuary', 1), ('concur', 2), ('baffled', 1), ('salesman', 68), ('schema', 3), ('automagically', 1), ('evolfft', 1), ('rseis', 1), ('stft', 2), ('logcp', 1), ('logchickenprod', 1), ('chickenprod', 3), ('som', 4), ('pnr', 6), ('togehter', 1), ('txd', 4), ('cannibalizing', 1), ('sept', 9), ('aforementined', 1), ('pakages', 1), ('mob', 5), ('paralysis', 1), ('modelaccuracy', 2), ('depmix', 1), ('viterbi', 5), ('resides', 2), ('factanal', 3), ('varimax', 1), ('oblimin', 1), ('aggravating', 1), ('lx', 4), ('ethz', 5), ('pipermail', 2), ('dlmforecast', 4), ('deletions', 2), ('agriculture', 2), ('catholic', 2), ('infant', 3), ('beauty', 2), ('participation', 10), ('pillai', 3), ('lawley', 3), ('roy', 5), ('peformance', 1), ('coeffcient', 1), ('arcsin', 1), ('distibuted', 2), ('complicates', 2), ('handy', 3), ('biomolecular', 1), ('annotation', 6), ('redd', 1), ('cer', 1), ('ireland', 1), ('watts', 1), ('chaos', 1), ('characterizing', 4), ('tgarch', 1), ('gjrgarch', 1), ('xlb', 1), ('neglect', 1), ('rootsolve', 1), ('xprev', 5), ('explode', 3), ('explosion', 1), ('fragments', 5), ('sequenced', 1), ('bulldozer', 1), ('hydraulics', 1), ('dumping', 3), ('haul', 3), ('alarming', 1), ('euribor', 1), ('autism', 1), ('impaired', 4), ('langauge', 1), ('autistic', 1), ('rgp', 1), ('genalg', 1), ('subselect', 1), ('galgo', 1), ('nudges', 1), ('backtesting', 3), ('miminsied', 1), ('trainedmodel', 6), ('ktype', 2), ('rbfdot', 3), ('kpar', 3), ('crossvalid', 2), ('tge', 1), ('mineval', 1), ('garesults', 2), ('rbga', 1), ('mutationchance', 1), ('zerotooneratio', 1), ('evalfunc', 1), ('monitorfunc', 1), ('popsize', 2), ('elitism', 1), ('rebuild', 2), ('bestchro', 2), ('trainsvm', 1), ('cowboy', 1), ('tangent', 4), ('weighs', 3), ('xw', 10), ('hell', 2), ('unambiguous', 2), ('frustration', 7), ('blush', 1), ('thestudy', 1), ('overlooking', 5), ('rubbles', 56), ('quadricolor', 20), ('sand', 57), ('mertensii', 20), ('crispa', 20), ('doreensis', 20), ('magnifica', 20), ('gigantea', 20), ('aurora', 20), ('unwilling', 2), ('kandall', 1), ('votingclassifier', 1), ('doubles', 4), ('securing', 1), ('lotteries', 1), ('frecuency', 1), ('frecuencies', 2), ('tapering', 1), ('prolong', 1), ('shootouts', 2), ('shootout', 1), ('assure', 1), ('excited', 5), ('distributution', 1), ('tesis', 1), ('moderating', 4), ('microbiology', 1), ('viruses', 2), ('axiomatic', 1), ('equipments', 3), ('bread', 7), ('consumptions', 1), ('mw', 5), ('appropiated', 2), ('verry', 1), ('births', 3), ('dand', 1), ('prosperscore', 1), ('exams', 8), ('holdback', 3), ('primarybeing', 1), ('malfunctions', 1), ('unavailability', 2), ('malfunction', 1), ('downtimes', 1), ('eduardo', 1), ('establishment', 1), ('canon', 1), ('robbery', 3), ('timespan', 11), ('timespans', 1), ('precised', 1), ('normalisation', 10), ('robberies', 1), ('pike', 1), ('advert', 1), ('viewtime', 4), ('dcast', 5), ('occasion', 8), ('snijders', 1), ('bosker', 1), ('invariable', 1), ('informational', 2), ('folding', 1), ('remarks', 3), ('hypogeometric', 1), ('phylogeny', 3), ('pgls', 3), ('adams', 1), ('phylogenetic', 3), ('evo', 1), ('revell', 1), ('stadium', 1), ('roland', 3), ('anovacn', 2), ('deltaiv', 1), ('discontinuities', 3), ('gmat', 1), ('lucky', 3), ('airmiles', 5), ('luca', 1), ('yx', 10), ('downloadable', 2), ('dynare', 2), ('agency', 1), ('controll', 4), ('bindwidth', 2), ('vline', 2), ('xintercept', 2), ('pecentile', 2), ('xydxdy', 1), ('paramets', 2), ('ast', 11), ('ltsreg', 7), ('dismissing', 1), ('livingarea', 8), ('ain', 1), ('pmethod', 1), ('minspan', 1), ('saline', 1), ('inhibit', 1), ('synergistic', 2), ('synergy', 1), ('longitudinally', 1), ('chou', 1), ('soundararajan', 1), ('visualisation', 7), ('steelblue', 2), ('heatmaps', 4), ('clutters', 1), ('judged', 4), ('subsidiary', 1), ('snippets', 3), ('habtype', 6), ('hurseason', 4), ('lightregime', 4), ('alluvcdata', 3), ('pinnacles', 2), ('hurseasony', 4), ('lightregimelight', 4), ('loglikfun', 1), ('gradfun', 1), ('optic', 1), ('ctrlwt', 2), ('ctrlko', 1), ('conditiondrug', 4), ('genotypewt', 3), ('klr', 4), ('monkey', 3), ('redefining', 1), ('backtest', 1), ('unability', 1), ('slang', 1), ('lemmatization', 1), ('bonds', 3), ('govies', 2), ('sovereign', 3), ('bund', 1), ('bundesbank', 1), ('incinerator', 3), ('footage', 1), ('strikingly', 1), ('nonincreasing', 1), ('editing', 1), ('wd', 7), ('wdmonday', 1), ('wdsaturday', 1), ('wdsunday', 1), ('wdthursday', 1), ('wdtuesday', 1), ('wdwednesday', 1), ('elbow', 2), ('acknowledging', 1), ('comings', 2), ('posing', 2), ('sighted', 1), ('bounty', 1), ('irelevant', 1), ('efstathios', 1), ('develops', 1), ('dementia', 7), ('toyed', 1), ('stricly', 1), ('vpt', 4), ('acre', 1), ('tpa', 1), ('skidding', 1), ('xsd', 1), ('xtpa', 1), ('xvpt', 1), ('adrian', 2), ('brunnermeier', 2), ('girardi', 3), ('tolga', 2), ('ergun', 2), ('dxdy', 3), ('giulio', 1), ('banking', 3), ('oth', 1), ('denoting', 3), ('ji', 5), ('vectorize', 4), ('elemental', 1), ('neutron', 1), ('dpois', 3), ('fiveminreturns', 4), ('regressiondata', 5), ('maindata', 6), ('tightly', 2), ('hamilton', 4), ('hte', 1), ('algos', 4), ('realisations', 3), ('productx', 1), ('horce', 1), ('manela', 1), ('moreira', 1), ('jfe', 1), ('forthcoming', 1), ('notgood', 2), ('avgg', 1), ('perceptrons', 11), ('rosenblatt', 2), ('thresholded', 3), ('intentions', 1), ('tunisian', 1), ('mojority', 1), ('urbrur', 3), ('ariana', 1), ('beja', 2), ('classe', 2), ('gouvernementaux', 1), ('oui', 1), ('autre', 1), ('arb', 2), ('agriculteur', 1), ('exploitant', 1), ('aucune', 1), ('ducation', 1), ('formelle', 1), ('nahdha', 6), ('arous', 1), ('cpr', 4), ('nidaa', 5), ('tounes', 5), ('bizerte', 1), ('gabes', 1), ('gafsa', 1), ('jendouba', 1), ('kairouan', 1), ('kasserine', 1), ('kebili', 1), ('kef', 1), ('mahdia', 1), ('subseries', 1), ('unorm', 3), ('smpl', 12), ('anes', 1), ('tlt', 2), ('julia', 3), ('uninitiated', 1), ('downfalls', 1), ('factorizing', 1), ('establishing', 1), ('vith', 1), ('tanagra', 1), ('fitstat', 4), ('zavoina', 2), ('copying', 1), ('freshmen', 2), ('majors', 4), ('asnwer', 1), ('misbehavior', 1), ('exhaustively', 1), ('arranging', 2), ('lnp', 4), ('squaredf', 1), ('opnion', 1), ('onjective', 1), ('individially', 1), ('covariants', 1), ('haveing', 1), ('hospitalization', 1), ('complements', 3), ('spcific', 1), ('dimensionalities', 2), ('strive', 1), ('speciesprop', 1), ('speciesproplogit', 2), ('referenceid', 2), ('speciesall', 3), ('standalone', 1), ('intertwined', 1), ('flash', 7), ('photographer', 1), ('irisvalues', 2), ('iristargets', 2), ('decodeclasslabels', 1), ('splitfortrainingandtest', 1), ('normtrainingandtestset', 1), ('hiddenunits', 3), ('trainedmodels', 8), ('inputstrain', 4), ('targetstrain', 4), ('initfunc', 4), ('initfuncparams', 4), ('learnfunc', 4), ('backpropweightdecay', 4), ('learnfuncparams', 4), ('updatefunc', 4), ('updatefuncparams', 4), ('hiddenactfunc', 4), ('shufflepatterns', 5), ('inputstest', 8), ('targetstest', 8), ('prunefunc', 4), ('prunefuncparams', 4), ('changelog', 1), ('finetti', 2), ('exchangeability', 3), ('myseries', 3), ('downwards', 2), ('sidebars', 1), ('autoplot', 1), ('greatful', 1), ('guangyong', 1), ('zou', 2), ('epidemiol', 1), ('aje', 1), ('normative', 1), ('randforest', 2), ('destionation', 1), ('burdens', 1), ('dart', 1), ('econo', 1), ('emerging', 2), ('tournaments', 2), ('tap', 1), ('probabibility', 1), ('woodward', 1), ('convolved', 1), ('maxwellian', 1), ('csy', 5), ('extrapolated', 1), ('lineair', 1), ('codify', 2), ('assocaition', 1), ('rcspline', 2), ('afterward', 3), ('cherry', 1), ('tldr', 2), ('unhelpful', 1), ('behavious', 1), ('sslogis', 4), ('nlmer', 1), ('nlrq', 1), ('lqmm', 1), ('linearregression', 5), ('dropna', 2), ('cheapness', 1), ('orcl', 2), ('tsla', 1), ('yelp', 1), ('msft', 1), ('ticker', 3), ('datareader', 1), ('pan', 3), ('fmri', 2), ('fls', 1), ('connectivity', 3), ('fsl', 1), ('heepk', 1), ('ensvhamvh', 1), ('aadgt', 1), ('npxi', 1), ('lkzsld', 1), ('xzpnyea', 1), ('netwrok', 1), ('yuar', 18), ('glmas', 1), ('somedat', 4), ('pexp', 3), ('mymfp', 3), ('sickness', 2), ('symp', 3), ('suprise', 1), ('nums', 1), ('maxdataset', 2), ('cviter', 1), ('xmean', 3), ('improvent', 1), ('follwed', 1), ('arthritis', 2), ('mouse', 2), ('asterisks', 1), ('onset', 2), ('preferrably', 2), ('basicly', 1), ('devide', 1), ('poison', 8), ('variabletime', 1), ('andyw', 1), ('pointwise', 7), ('substructure', 1), ('jess', 1), ('pokemon', 2), ('dragon', 7), ('charizard', 2), ('dragonite', 2), ('tyranitar', 3), ('altaria', 2), ('aerodactyl', 2), ('salamence', 2), ('rayquaza', 2), ('lugia', 3), ('gyarados', 2), ('hydreigon', 2), ('dratini', 2), ('hooh', 2), ('vibrava', 2), ('entei', 2), ('scyther', 2), ('magikarp', 2), ('butterfree', 2), ('milotic', 2), ('ponyta', 2), ('blastoise', 2), ('alakazam', 2), ('sudowoodo', 2), ('mentionned', 1), ('buid', 1), ('constituency', 1), ('platts', 1), ('served', 3), ('divisors', 1), ('primes', 4), ('unfactored', 1), ('undiscovered', 1), ('ke', 1), ('martin', 3), ('tinyurl', 1), ('bwqq', 1), ('headmod', 1), ('modhead', 1), ('madeof', 1), ('mallet', 7), ('topicmodels', 2), ('perplexity', 1), ('protects', 1), ('rjava', 2), ('burnin', 3), ('malletlda', 1), ('loaddocuments', 1), ('setalphaoptimization', 1), ('evauating', 1), ('unresponsive', 1), ('dartmouth', 5), ('eerily', 1), ('crappy', 1), ('sorta', 1), ('stump', 6), ('multiway', 1), ('presentations', 3), ('procedural', 4), ('modelfile', 3), ('tauy', 2), ('taux', 2), ('tauz', 2), ('sdy', 2), ('sdz', 2), ('ea', 3), ('eb', 2), ('radionuclide', 2), ('radionuclides', 1), ('sess', 10), ('geeglm', 6), ('independencenumber', 1), ('eucl', 2), ('permsample', 4), ('disregarded', 2), ('hating', 1), ('elrm', 6), ('espescially', 1), ('coeffeicients', 1), ('dismay', 1), ('academics', 1), ('budge', 1), ('screenshots', 1), ('projectiles', 4), ('fired', 4), ('missile', 6), ('fuzz', 1), ('projectile', 1), ('tires', 1), ('damaging', 1), ('missiles', 6), ('spaceships', 3), ('fleets', 1), ('atk', 8), ('phit', 4), ('billions', 3), ('efficently', 1), ('efficent', 1), ('kenway', 1), ('assassin', 2), ('creed', 2), ('rogue', 1), ('customization', 1), ('battles', 1), ('exchanged', 1), ('professors', 3), ('nfcs', 1), ('finra', 1), ('owning', 3), ('spouse', 1), ('phrasing', 1), ('keen', 3), ('embarrass', 1), ('judgements', 1), ('drill', 4), ('professionally', 1), ('defensible', 1), ('separability', 4), ('unravel', 1), ('mint', 3), ('generalizing', 2), ('hyperpriors', 1), ('corrcoeff', 7), ('colums', 2), ('railway', 1), ('subtly', 1), ('rails', 1), ('yoonkim', 1), ('spreadlevel', 1), ('spreadlevelplot', 1), ('liner', 6), ('linmdl', 1), ('categoricalvars', 2), ('ouputs', 1), ('idxs', 1), ('sbp', 6), ('dbp', 4), ('columbus', 1), ('cleveland', 1), ('freeway', 1), ('drain', 2), ('quadratically', 2), ('qcqp', 3), ('nonconvex', 2), ('vicinity', 6), ('yoy', 3), ('mom', 9), ('cumprod', 1), ('baselines', 1), ('queuing', 1), ('alluded', 2), ('spanned', 1), ('recalls', 1), ('invites', 1), ('parametrize', 3), ('generalisable', 1), ('predi', 2), ('vincentize', 1), ('degrades', 1), ('elctricity', 1), ('imb', 2), ('xaxt', 3), ('rot', 9), ('projective', 2), ('proj', 1), ('minimally', 1), ('invasive', 3), ('forceminsupport', 1), ('numtoswitch', 4), ('tuu', 1), ('uu', 2), ('dragged', 1), ('momentarily', 1), ('explainations', 1), ('manifests', 1), ('rfimpute', 5), ('furman', 1), ('dcs', 1), ('xrfn', 5), ('nicecharacter', 5), ('unitname', 5), ('nextag', 5), ('anu', 1), ('au', 2), ('propertyalias', 2), ('undef', 1), ('bpower', 1), ('linpred', 20), ('runis', 6), ('unexponentiated', 1), ('ploted', 1), ('decrasing', 1), ('unsing', 1), ('potted', 1), ('pseudocode', 3), ('acctual', 1), ('offuscated', 1), ('argent', 1), ('differentiating', 9), ('blunder', 2), ('goof', 1), ('ande', 1), ('tpdf', 3), ('twards', 1), ('aso', 1), ('checkpoint', 3), ('mph', 2), ('catastrophically', 1), ('navy', 3), ('mpo', 5), ('microhabitat', 1), ('rc', 6), ('svl', 9), ('arbino', 4), ('treatrc', 5), ('holdouts', 2), ('quiz', 3), ('blame', 3), ('absorbing', 4), ('smoreg', 2), ('losers', 1), ('coredata', 2), ('reindex', 1), ('deforestation', 6), ('slowdown', 1), ('unorthodox', 1), ('municipality', 1), ('lrfit', 2), ('simuoultaneously', 1), ('stackers', 1), ('heated', 1), ('seres', 1), ('enitrely', 1), ('vimp', 1), ('lamp', 3), ('explaination', 2), ('baum', 3), ('rumor', 2), ('assemblages', 1), ('bod', 1), ('turbidity', 1), ('premonsoon', 1), ('postmonsoon', 1), ('filtration', 2), ('stolz', 1), ('multinomail', 1), ('ufldl', 1), ('costfunction', 2), ('costfunctionmultinominal', 1), ('inputx', 8), ('resulty', 2), ('untitled', 2), ('numofclasses', 8), ('classlevelsummation', 4), ('multipliedmatrix', 15), ('denominatorsum', 11), ('weightsq', 4), ('colsummation', 4), ('calculatingpofj', 1), ('resultvector', 4), ('calculatepofjmultinominal', 1), ('testbut', 1), ('modalities', 5), ('butttt', 1), ('midplane', 2), ('saggital', 1), ('cranium', 1), ('halves', 1), ('privacy', 5), ('inserted', 5), ('seams', 1), ('principals', 1), ('hypothetically', 3), ('anger', 3), ('divorce', 3), ('surveylogistic', 4), ('fitlogistic', 2), ('dsn', 2), ('fitlog', 2), ('predprobs', 1), ('helmert', 2), ('fading', 1), ('clickouts', 1), ('complicating', 1), ('aggravated', 1), ('downarrow', 1), ('backslash', 3), ('understandings', 1), ('refresher', 2), ('dismo', 1), ('terrible', 7), ('sroc', 1), ('worthless', 2), ('modelers', 1), ('misrepresenting', 1), ('infect', 1), ('rabies', 2), ('climbs', 2), ('dendrites', 1), ('synapse', 1), ('axons', 1), ('rmultinom', 2), ('donor', 1), ('pcas', 1), ('streamhacker', 1), ('insanely', 2), ('tops', 1), ('spendratio', 1), ('kilometres', 1), ('kilograms', 1), ('eremenko', 1), ('socialization', 1), ('dorkier', 2), ('furhermore', 1), ('rooted', 2), ('retraining', 3), ('arimaorder', 1), ('demanding', 3), ('superficial', 2), ('doen', 1), ('jaynes', 1), ('physicist', 2), ('attracts', 1), ('nxk', 2), ('recieve', 1), ('intution', 1), ('remake', 1), ('omits', 1), ('affirm', 1), ('peculiarities', 1), ('benthic', 1), ('ashamed', 1), ('swallow', 1), ('pride', 1), ('adjudicated', 1), ('youth', 3), ('probation', 1), ('aaron', 3), ('undifference', 1), ('thirdly', 1), ('hardy', 1), ('cancellation', 2), ('teststat', 3), ('testtype', 3), ('pgf', 2), ('nstud', 3), ('dbin', 2), ('temporarybmare', 2), ('initialvalues', 2), ('jagma', 1), ('audiovisual', 1), ('coherecence', 1), ('phonological', 1), ('fitreading', 2), ('atotal', 2), ('patotal', 2), ('mcd', 1), ('publishable', 1), ('mulone', 1), ('numofvehicles', 11), ('crashe', 1), ('deductions', 1), ('quickest', 1), ('bernouilli', 1), ('norml', 1), ('intuitionally', 1), ('biochemistry', 1), ('lapse', 1), ('foldchange', 1), ('testdistra', 2), ('testdistrb', 2), ('testdistrpois', 2), ('fcs', 2), ('foldchanges', 1), ('idiot', 1), ('sticky', 1), ('nafr', 1), ('wcasia', 1), ('nam', 1), ('oceania', 1), ('ssa', 1), ('laters', 1), ('donde', 1), ('graftings', 1), ('absortivity', 1), ('grafting', 1), ('administrations', 1), ('infos', 1), ('communicated', 1), ('threatening', 1), ('deductible', 2), ('fkm', 2), ('conlusion', 1), ('duree', 2), ('censure', 2), ('contrat', 2), ('timemo', 2), ('eventmo', 2), ('itx', 4), ('itsmr', 1), ('autofit', 2), ('metarecognition', 1), ('cvpr', 1), ('complicate', 2), ('prefect', 1), ('motivating', 2), ('ames', 4), ('ame', 3), ('golder', 4), ('lineal', 2), ('clase', 3), ('modt', 4), ('compositions', 1), ('paackage', 1), ('multiv', 1), ('mymean', 2), ('rplus', 1), ('varlog', 1), ('logmultinormaldistribution', 1), ('rfit', 2), ('regularizator', 1), ('pbc', 17), ('tmerge', 2), ('pbcseq', 2), ('ascites', 2), ('tdc', 5), ('bili', 4), ('albumin', 7), ('protime', 4), ('alk', 2), ('phos', 2), ('tstart', 1), ('tstop', 1), ('covs', 2), ('deduced', 2), ('paramaterizations', 1), ('distn', 8), ('parama', 5), ('paramb', 8), ('lebauer', 1), ('weib', 5), ('booleans', 1), ('isamerican', 1), ('hasmac', 1), ('morris', 1), ('massage', 2), ('israeli', 1), ('glmlist', 1), ('dotargs', 1), ('gda', 1), ('darkgray', 2), ('newxs', 4), ('funnel', 1), ('landing', 4), ('subscribe', 1), ('pears', 2), ('sheets', 3), ('gsheets', 1), ('crowded', 1), ('aparch', 1), ('robhyndman', 1), ('conversant', 1), ('logger', 1), ('therein', 3), ('primers', 1), ('scenes', 3), ('hyphotesis', 2), ('peeking', 1), ('regresors', 1), ('slowest', 1), ('microbenchmark', 2), ('bdiag', 1), ('recruiting', 1), ('gqtest', 7), ('fab', 1), ('iuy', 1), ('registries', 1), ('countable', 1), ('orientations', 3), ('finetuned', 1), ('bvlc', 1), ('caffenet', 1), ('mathfrak', 11), ('pavement', 1), ('distress', 9), ('phat', 1), ('pihat', 6), ('fitregression', 1), ('histcounts', 1), ('generalizedlinearmodel', 1), ('logitfit', 1), ('glmval', 3), ('ceil', 1), ('plotslice', 1), ('dirchlet', 1), ('spinal', 10), ('korea', 2), ('inspite', 1), ('tailored', 2), ('kosinski', 2), ('stillwell', 1), ('graepel', 1), ('traits', 4), ('fb', 4), ('sop', 5), ('pessimism', 1), ('irlab', 1), ('comps', 4), ('irlba', 1), ('nv', 11), ('somedataframe', 1), ('bunches', 1), ('valve', 1), ('implanted', 2), ('implanting', 1), ('evolving', 5), ('sofnn', 1), ('participatory', 1), ('simulink', 1), ('reassess', 1), ('micromechanics', 1), ('cardinalities', 3), ('nmi', 2), ('symbolically', 1), ('coxvc', 15), ('timereg', 4), ('impressive', 1), ('fpt', 4), ('anika', 1), ('buchholz', 1), ('prognostic', 3), ('sauerbrei', 2), ('cmprsk', 2), ('crr', 1), ('thoug', 1), ('strace', 18), ('chf', 9), ('zph', 2), ('splitsurv', 2), ('wesley', 1), ('anson', 1), ('ucdavis', 1), ('ssc', 1), ('splitsuv', 1), ('straifying', 1), ('timecox', 6), ('plotcoxvc', 6), ('ftime', 1), ('monster', 1), ('dudv', 3), ('jacobi', 1), ('underbrace', 2), ('underbraced', 1), ('lenet', 3), ('adventures', 1), ('statsland', 1), ('episode', 8), ('unwieldy', 2), ('estimage', 1), ('ux', 1), ('uy', 1), ('strang', 1), ('totalpayoff', 4), ('pgvnd', 13), ('asym', 18), ('remldev', 2), ('evtree', 3), ('wiser', 1), ('minbucket', 5), ('minsplit', 4), ('minprob', 1), ('oj', 6), ('pupils', 3), ('posttest', 1), ('totalhints', 4), ('amend', 1), ('notions', 1), ('punif', 3), ('disclose', 1), ('knock', 1), ('knocking', 1), ('guestimating', 1), ('guestimate', 1), ('rrdtool', 1), ('cacti', 1), ('benjamin', 1), ('kedem', 1), ('clipped', 1), ('bigcap', 5), ('bigcup', 2), ('essentials', 1), ('jacod', 1), ('potter', 1), ('voyage', 1), ('docile', 2), ('overcomplicating', 1), ('undercomplicating', 1), ('floods', 3), ('earthquake', 11), ('fue', 1), ('fne', 1), ('zaffar', 1), ('educa', 1), ('arrests', 5), ('employedyes', 1), ('citizenyes', 1), ('colourwhite', 8), ('arrested', 1), ('unify', 1), ('summarizes', 1), ('nanigans', 2), ('signing', 1), ('installs', 1), ('copd', 6), ('exacerbation', 1), ('ternary', 3), ('nos', 1), ('akshata', 1), ('subtleties', 1), ('reused', 1), ('afluent', 1), ('prec', 7), ('fitensemble', 2), ('logitboost', 4), ('gentleboost', 1), ('robustboost', 1), ('didnt', 1), ('trainroc', 1), ('trainsens', 1), ('trainspec', 1), ('biostars', 1), ('altough', 2), ('probitlogit', 1), ('mfxboot', 1), ('modform', 3), ('gcv', 5), ('bootvals', 4), ('diversitree', 1), ('lnlik', 6), ('superlist', 1), ('subplex', 2), ('bisse', 6), ('dtlik', 2), ('survial', 1), ('intermediates', 2), ('calicorema', 2), ('capitata', 2), ('maddison', 2), ('fitzjohn', 2), ('sysbio', 2), ('syp', 2), ('idempotent', 1), ('brother', 2), ('observes', 1), ('spoiler', 1), ('diagnosing', 5), ('enywhere', 1), ('sociologist', 1), ('grips', 1), ('scatterplots', 1), ('numericvars', 2), ('lambdalevels', 5), ('bestlambda', 2), ('sight', 1), ('queue', 1), ('barron', 1), ('kenny', 2), ('judd', 1), ('yzerbyt', 1), ('uecm', 1), ('coefficienst', 1), ('notched', 2), ('vassarstats', 1), ('unconvinced', 1), ('overpowering', 1), ('checkings', 1), ('badoutcome', 2), ('statitistic', 1), ('manoel', 1), ('galdino', 1), ('acb', 1), ('bruce', 1), ('hansen', 1), ('blp', 2), ('cef', 2), ('mhurdle', 1), ('hq', 2), ('fpe', 2), ('cajools', 2), ('eache', 1), ('supose', 1), ('algorihtms', 1), ('algoritmh', 1), ('charcteristics', 1), ('propertyarea', 1), ('condofloornumber', 1), ('roomcount', 1), ('bathroomcount', 1), ('bathroom', 1), ('sink', 1), ('pcls', 1), ('damages', 1), ('apartment', 2), ('wasserstein', 1), ('parallelepiped', 1), ('council', 2), ('abstentions', 1), ('legislative', 1), ('embarrassingly', 2), ('blockbuster', 1), ('bore', 1), ('politeness', 4), ('bodowinter', 1), ('attitudepol', 1), ('gsheet', 2), ('ivdj', 1), ('mjhxlhyylhgd', 1), ('phyhsyw', 1), ('jmajp', 1), ('marwxu', 1), ('emtl', 1), ('ron', 1), ('tina', 1), ('victor', 1), ('caffen', 1), ('intk', 1), ('cooked', 1), ('eats', 1), ('ingested', 3), ('attributs', 1), ('therefrom', 2), ('discriminated', 1), ('australian', 2), ('announced', 3), ('troops', 5), ('iraq', 6), ('morgan', 1), ('approve', 2), ('liberal', 7), ('approves', 1), ('disapproves', 1), ('ancovas', 1), ('modsmr', 4), ('smr', 8), ('ctmb', 4), ('predsmr', 6), ('odometer', 2), ('focussed', 1), ('outvar', 4), ('parametrised', 1), ('characterised', 1), ('realisation', 1), ('democratic', 1), ('mandates', 10), ('appearence', 1), ('positiv', 1), ('rhetorics', 1), ('brinck', 1), ('avoided', 4), ('fishy', 2), ('fcda', 1), ('ddad', 2), ('edb', 2), ('aae', 1), ('svs', 3), ('duplicated', 2), ('feuding', 1), ('bradley', 2), ('btl', 1), ('agveh', 1), ('devianceresid', 1), ('residdev', 1), ('erms', 1), ('restatements', 3), ('restatement', 3), ('discards', 1), ('retired', 8), ('ecosystem', 1), ('statical', 1), ('manovas', 1), ('incrementing', 5), ('whitten', 1), ('tendencies', 1), ('openness', 1), ('extraversion', 1), ('categorise', 4), ('extroversion', 1), ('introverts', 1), ('extroverts', 1), ('livestock', 2), ('thistles', 1), ('breed', 6), ('parasite', 2), ('anisakis', 1), ('krill', 1), ('parasites', 5), ('scottish', 1), ('war', 3), ('yeo', 1), ('conducive', 1), ('reckon', 1), ('tiempo', 1), ('ejec', 1), ('operacion', 1), ('subtype', 3), ('peeing', 6), ('pee', 3), ('sprouts', 1), ('ritz', 1), ('eja', 1), ('drc', 1), ('sprouting', 1), ('sprouted', 1), ('startvec', 1), ('opfct', 2), ('optmethod', 2), ('drmopt', 1), ('opdfct', 1), ('startvecsc', 1), ('warnval', 1), ('jigsaw', 1), ('wight', 1), ('coercing', 1), ('somers', 6), ('hmiscpackage', 1), ('doug', 1), ('concordant', 6), ('ndx', 39), ('somersd', 1), ('pais', 1), ('atb', 14), ('agethirty', 3), ('blogger', 2), ('dalgard', 1), ('ripley', 2), ('lny', 4), ('lnz', 2), ('sebastian', 1), ('rcopula', 1), ('tcopula', 1), ('inbuilt', 2), ('traindf', 4), ('vba', 2), ('mytree', 1), ('xval', 3), ('fragmentation', 1), ('rebooting', 1), ('fresh', 5), ('workspace', 3), ('streamline', 1), ('reassembling', 1), ('chore', 1), ('univariately', 1), ('dimsionality', 1), ('hereunder', 1), ('clusteraffiliation', 4), ('corporate', 2), ('disparate', 2), ('incommensurate', 1), ('tecnique', 1), ('settlers', 1), ('catan', 1), ('compete', 3), ('victory', 3), ('ore', 2), ('settlements', 5), ('vertex', 3), ('hexagons', 1), ('ports', 1), ('setminus', 2), ('seeming', 1), ('capt', 1), ('stlts', 2), ('scripted', 1), ('dnd', 1), ('abberant', 1), ('unhealth', 1), ('exposue', 1), ('statisician', 1), ('insisted', 2), ('isax', 1), ('giga', 1), ('cev', 1), ('innate', 1), ('eivreg', 1), ('philender', 1), ('linearmodels', 1), ('merror', 1), ('colgpa', 2), ('keys', 8), ('gausspr', 7), ('ef', 11), ('midrange', 1), ('luggage', 8), ('uturn', 8), ('wheelbase', 9), ('leap', 14), ('midrangeprice', 5), ('horsep', 2), ('slm', 3), ('foward', 1), ('imprecision', 2), ('perturbations', 3), ('exciting', 1), ('homotopy', 1), ('stemming', 3), ('pitfall', 1), ('covariation', 2), ('flowers', 12), ('fruitset', 1), ('palette', 2), ('colorramppalette', 2), ('bootstrapprocedure', 2), ('survivor', 1), ('pesaran', 3), ('dominated', 4), ('subbing', 1), ('gmean', 1), ('hmean', 1), ('mushrooms', 2), ('odor', 1), ('rang', 1), ('weightedscore', 10), ('nsga', 7), ('idim', 1), ('odim', 1), ('formel', 1), ('polling', 4), ('uneducated', 1), ('seafolk', 2), ('seabed', 4), ('burrows', 1), ('hole', 8), ('unoccupied', 3), ('surplus', 1), ('rbpal', 2), ('darkblue', 3), ('coor', 2), ('burrow', 1), ('additonal', 1), ('nonused', 1), ('handicap', 3), ('randomnes', 1), ('rainwater', 1), ('gmt', 1), ('abstraction', 1), ('storm', 7), ('tanks', 1), ('volunteering', 1), ('volunteers', 1), ('volunteer', 1), ('recollection', 1), ('clotting', 1), ('bolasso', 2), ('criticized', 1), ('influenceindexplot', 2), ('bleeder', 1), ('extem', 2), ('fibtem', 1), ('bviously', 1), ('sablects', 2), ('placeholder', 3), ('ttocomplete', 1), ('lamda', 1), ('nationwide', 7), ('shiller', 4), ('spindices', 1), ('encompasses', 2), ('diebold', 2), ('svecm', 1), ('overviewed', 1), ('setx', 2), ('inexperience', 1), ('patiently', 1), ('decade', 6), ('flowering', 3), ('temptheta', 2), ('cao', 1), ('tiniest', 1), ('simplying', 1), ('pings', 1), ('quantizing', 1), ('criterias', 1), ('parameterised', 3), ('dth', 1), ('polish', 1), ('cruises', 1), ('thirteen', 1), ('isolating', 1), ('provider', 6), ('providers', 9), ('participates', 1), ('particpants', 1), ('lntfr', 2), ('tfr', 1), ('cullen', 3), ('frey', 3), ('genus', 1), ('catarrhini', 1), ('trigrams', 2), ('foods', 2), ('granola', 3), ('heretic', 1), ('spaghetti', 2), ('dinner', 7), ('burger', 2), ('jensen', 5), ('reducible', 1), ('irreducible', 2), ('snowfall', 7), ('snowfallelevationplot', 2), ('blurb', 1), ('groundtruth', 2), ('endemicity', 4), ('geometrical', 3), ('frontcover', 1), ('backcover', 1), ('lifts', 1), ('lift', 4), ('collectively', 1), ('washed', 3), ('downloading', 2), ('gdrive', 4), ('libpcap', 1), ('microsecs', 1), ('successfull', 2), ('mysql', 5), ('joins', 2), ('condense', 2), ('technologies', 1), ('facta', 1), ('factb', 1), ('factc', 1), ('propability', 1), ('intristic', 1), ('eachother', 2), ('gratefull', 1), ('sugestion', 2), ('ranomdnes', 1), ('distribuiton', 1), ('contagion', 1), ('uncq', 2), ('jci', 5), ('klci', 5), ('kospi', 5), ('psei', 5), ('dcca', 11), ('dccb', 2), ('shibata', 2), ('hannan', 3), ('quinn', 3), ('mz', 4), ('ordinate', 1), ('locomotion', 5), ('lapping', 2), ('pacing', 2), ('navigation', 1), ('episodes', 3), ('plissken', 1), ('greets', 2), ('tweedie', 2), ('timestep', 5), ('reorient', 1), ('tier', 6), ('lmerfit', 1), ('firstdiff', 2), ('traceback', 2), ('standarddeviaution', 1), ('swar', 1), ('ercomp', 2), ('inst', 8), ('muscatine', 1), ('vacancies', 1), ('betacoeff', 3), ('someway', 1), ('intellectual', 2), ('xtmelogit', 1), ('donnelly', 1), ('ted', 1), ('hth', 7), ('htt', 6), ('trp', 5), ('promises', 1), ('reformulation', 1), ('allocates', 1), ('dandy', 2), ('obfuscate', 1), ('disentangling', 1), ('outcry', 1), ('nle', 1), ('dependendent', 2), ('convergance', 2), ('releveling', 1), ('mscr', 7), ('rst', 10), ('midterm', 12), ('outlines', 1), ('rock', 10), ('geophysical', 1), ('plowing', 1), ('aval', 2), ('xdf', 4), ('figsize', 1), ('restart', 3), ('pracma', 2), ('segement', 1), ('testindexes', 3), ('heuqnme', 1), ('jjetldnzdkx', 1), ('deflated', 1), ('prohibitive', 1), ('lesssim', 2), ('retrainable', 1), ('ztest', 1), ('possess', 3), ('restarting', 1), ('buddies', 1), ('jy', 1), ('crlb', 1), ('genomicmatrix', 1), ('clin', 3), ('sampleid', 2), ('naming', 2), ('renaming', 1), ('hif', 1), ('normalizations', 1), ('texttt', 3), ('learnable', 1), ('adequacy', 2), ('importing', 2), ('mmread', 1), ('tsvd', 1), ('mtx', 1), ('readlines', 2), ('argv', 1), ('matmul', 4), ('gradientdescentoptimizer', 1), ('initializing', 1), ('launch', 7), ('minibatch', 10), ('backprop', 2), ('dict', 1), ('bookselling', 1), ('yearsofeduc', 2), ('numofsiblings', 2), ('peforming', 1), ('indiviual', 1), ('nomreg', 1), ('cin', 1), ('mxiter', 1), ('mxstep', 1), ('chksep', 1), ('lconverge', 1), ('pconverge', 2), ('mineffect', 1), ('entrymethod', 1), ('removalmethod', 1), ('cps', 2), ('menarche', 13), ('birdid', 3), ('bbeach', 3), ('distbbeach', 1), ('biog', 3), ('distbiog', 1), ('distmods', 1), ('relgra', 3), ('distrelgra', 1), ('relpals', 3), ('distrelpals', 1), ('distshelf', 1), ('datas', 5), ('tsfrequency', 1), ('maxdate', 1), ('mystats', 2), ('stlf', 9), ('stlfvar', 8), ('stlfacc', 2), ('tsdisplay', 5), ('divisionap', 1), ('divisionat', 1), ('divisionbc', 1), ('divisionca', 1), ('divisionem', 1), ('divisionna', 1), ('hitrate', 2), ('alarm', 3), ('ticked', 3), ('narrated', 1), ('factories', 3), ('manufacture', 2), ('majoring', 1), ('seventh', 1), ('itemlabels', 1), ('fumbled', 1), ('salt', 2), ('pepper', 1), ('derermining', 1), ('motivations', 2), ('reformed', 1), ('countires', 1), ('propotional', 1), ('methode', 2), ('subs', 1), ('garchspec', 3), ('ged', 1), ('counterparts', 1), ('signify', 5), ('installation', 1), ('packageversion', 1), ('achaz', 1), ('alligator', 5), ('hancock', 7), ('reptile', 2), ('ycounts', 3), ('smallno', 1), ('checkwz', 1), ('wzepsilon', 2), ('globaltest', 2), ('bioclite', 2), ('oklawaha', 1), ('trafford', 1), ('spuriousness', 2), ('loyalty', 2), ('dominating', 1), ('subscription', 4), ('sounded', 1), ('nullify', 1), ('imposed', 1), ('voluntary', 1), ('stayed', 4), ('theformula', 2), ('aflatoxin', 3), ('toxin', 1), ('silos', 1), ('containers', 2), ('allergic', 1), ('uncorrrelated', 1), ('pare', 1), ('webshop', 2), ('vendors', 2), ('vendor', 1), ('apparel', 1), ('openbugs', 7), ('dribbling', 1), ('syntactically', 1), ('blur', 1), ('discernible', 2), ('initializations', 1), ('striped', 1), ('glr', 3), ('raffle', 1), ('wheelhouse', 1), ('whitepaper', 1), ('attendances', 1), ('qualified', 1), ('caught', 8), ('multionimial', 1), ('derivate', 1), ('whatnot', 1), ('dumbed', 1), ('calculable', 3), ('tsv', 6), ('addlocallineartrend', 1), ('addseasonal', 2), ('addnamedholidays', 1), ('namedholidays', 1), ('suggestburn', 1), ('addlocallinearmodel', 1), ('addgeneralizedlocallineartrend', 1), ('probabilistically', 1), ('existent', 5), ('printout', 3), ('qe', 1), ('qm', 1), ('ksd', 1), ('perils', 1), ('detectable', 2), ('looped', 1), ('mde', 3), ('mnn', 3), ('mam', 5), ('outptut', 1), ('modval', 2), ('resultframe', 2), ('pointforecasts', 1), ('lowerboundofpi', 1), ('upperboundofpi', 1), ('alldum', 6), ('experimentally', 5), ('stateless', 2), ('speaks', 2), ('inspecting', 3), ('cashed', 1), ('geese', 1), ('flock', 20), ('vigilant', 5), ('metres', 1), ('subspecific', 1), ('datascansampling', 1), ('ssplight', 5), ('bellied', 5), ('goose', 5), ('zonelight', 2), ('largish', 1), ('automata', 1), ('fsms', 1), ('evolve', 4), ('qulsbp', 1), ('tjofqp', 1), ('hqhrd', 1), ('ijkjbhzv', 1), ('ksamples', 1), ('asympt', 1), ('roght', 1), ('examiner', 1), ('regplot', 2), ('alternatievely', 1), ('acount', 1), ('generalizes', 2), ('seedlings', 6), ('styrofoam', 1), ('styroblocks', 3), ('cavities', 4), ('cavity', 3), ('styroblock', 7), ('nurseries', 1), ('clone', 1), ('arcsine', 4), ('tradeoff', 3), ('chemometrics', 1), ('nipals', 3), ('pac', 25), ('bei', 1), ('dwtest', 4), ('bgtest', 22), ('twotailed', 6), ('suspiciously', 3), ('comfort', 5), ('campaing', 1), ('reacted', 1), ('calibrating', 2), ('kwiatkowski', 2), ('schmidt', 2), ('shin', 3), ('timeserie', 2), ('rct', 1), ('distal', 4), ('soaked', 1), ('detectio', 1), ('innovative', 2), ('radiative', 1), ('stupidly', 1), ('corruption', 3), ('rstan', 1), ('recursep', 4), ('spacing', 13), ('tabs', 5), ('enumerate', 8), ('highorlow', 2), ('pig', 1), ('carcasses', 1), ('slaughter', 3), ('carcases', 1), ('scalded', 1), ('dehaired', 1), ('lesions', 2), ('meanlvl', 6), ('qld', 3), ('medeff', 6), ('baron', 1), ('acme', 8), ('mediated', 8), ('radiological', 1), ('haralick', 2), ('amasadun', 1), ('radiologist', 1), ('findcorrelation', 1), ('corelearn', 2), ('dodgy', 1), ('experiemented', 1), ('suest', 2), ('xtfeg', 1), ('xtsur', 1), ('lnl', 14), ('recordings', 3), ('retweet', 2), ('sbrf', 2), ('pres', 5), ('chla', 4), ('shr', 4), ('daylighthours', 4), ('bathy', 4), ('moonphase', 4), ('sbrfimpute', 2), ('sbcf', 2), ('bll', 1), ('nona', 1), ('lable', 4), ('pmap', 2), ('architect', 1), ('frauds', 1), ('kjell', 1), ('upsampled', 2), ('smokingsi', 2), ('drinkingsi', 2), ('diabhistsi', 2), ('htdxsi', 2), ('avesp', 2), ('duplicating', 2), ('brushing', 1), ('uncorrected', 2), ('pairwiseci', 1), ('multcomp', 6), ('bipareto', 2), ('ccdf', 5), ('syntactical', 1), ('mmse', 1), ('guiding', 2), ('blstm', 1), ('snd', 1), ('bulk', 2), ('heatingseason', 1), ('contingencies', 1), ('wellesley', 1), ('patched', 1), ('reluctant', 2), ('artifacts', 3), ('heaps', 1), ('exits', 2), ('xxa', 12), ('predvars', 2), ('xxb', 10), ('cron', 1), ('trains', 2), ('pulls', 1), ('meanings', 2), ('fotrnight', 1), ('wetdayfreq', 1), ('cholera', 4), ('village', 7), ('fortnight', 3), ('fortnights', 1), ('electoral', 1), ('collegeeducated', 1), ('springfield', 1), ('shelbyville', 1), ('capitol', 1), ('elaboration', 2), ('lyme', 4), ('qualifies', 2), ('alway', 1), ('gxf', 2), ('gx', 2), ('significative', 2), ('trasform', 1), ('attest', 1), ('pitman', 2), ('boole', 1), ('precisicion', 1), ('avtual', 1), ('insurer', 2), ('reinsurance', 1), ('arrangement', 1), ('downscaled', 1), ('animacy', 9), ('syntaxof', 8), ('lineup', 8), ('perpetrator', 1), ('lineups', 1), ('necessitate', 1), ('undergoes', 1), ('mislabled', 3), ('truely', 1), ('distribtution', 1), ('peculier', 1), ('meaningfull', 1), ('addded', 1), ('teleco', 3), ('permanently', 1), ('cuttoff', 1), ('timeslot', 1), ('binarised', 1), ('pumps', 1), ('dust', 1), ('coal', 2), ('opacity', 1), ('mathy', 1), ('chem', 1), ('datan', 2), ('freqdata', 16), ('startdata', 5), ('datats', 5), ('datadates', 1), ('dataind', 12), ('aslog', 8), ('dataa', 19), ('startla', 2), ('startlb', 2), ('startl', 2), ('mosum', 2), ('gefp', 3), ('sctest', 1), ('sdiff', 2), ('kpssw', 2), ('ppw', 5), ('trycatch', 1), ('adfw', 2), ('ndiffsw', 3), ('aaw', 9), ('orderwa', 3), ('orderws', 3), ('arimab', 7), ('farimab', 8), ('farimabf', 2), ('startarima', 2), ('arimaaltf', 2), ('prettynum', 1), ('decipher', 4), ('multiphase', 1), ('gyroscope', 3), ('gfit', 4), ('condvar', 2), ('allot', 4), ('ku', 1), ('leuven', 1), ('svmlab', 1), ('windowize', 1), ('xtra', 4), ('ytra', 4), ('feedforwardly', 1), ('tunelssvm', 1), ('crossvalidatelssvm', 1), ('trainlssvm', 1), ('uniy', 1), ('pw', 4), ('bshape', 2), ('sharpen', 1), ('rnrom', 2), ('beans', 5), ('bean', 6), ('rightskewed', 1), ('snowmelt', 2), ('albedo', 14), ('reflectance', 2), ('snowpack', 2), ('nasa', 1), ('modis', 1), ('insure', 1), ('depleted', 1), ('mixes', 1), ('cyclicity', 1), ('grenger', 1), ('filler', 1), ('eluding', 1), ('mesurements', 1), ('incertainty', 1), ('resutls', 2), ('retreatment', 1), ('fortune', 1), ('derivated', 1), ('partillay', 1), ('appointment', 1), ('pif', 2), ('autocorrelative', 1), ('nucleotides', 1), ('wm', 1), ('leemis', 1), ('udr', 1), ('geometricf', 1), ('webcam', 1), ('bool', 1), ('npc', 2), ('reprobate', 1), ('descriptively', 1), ('scorecards', 2), ('mfccs', 1), ('honesty', 1), ('chronically', 1), ('interarrivals', 1), ('honey', 7), ('subrract', 1), ('inducer', 1), ('underminer', 1), ('departing', 2), ('departs', 1), ('flushing', 1), ('resumed', 1), ('pset', 1), ('givens', 1), ('ipos', 1), ('upfront', 2), ('maptools', 1), ('sqrtdepth', 1), ('daynight', 1), ('nighttime', 4), ('granulocytic', 1), ('ehrlichiosis', 1), ('hge', 4), ('catools', 2), ('stumps', 1), ('ludicrously', 1), ('cdqrls', 1), ('shoe', 10), ('unexpl', 2), ('expl', 1), ('bolker', 1), ('teachers', 2), ('preface', 2), ('enjoyed', 1), ('tradesman', 1), ('maintenance', 19), ('pending', 1), ('crashed', 1), ('chief', 1), ('farthest', 1), ('jury', 1), ('upsilon', 1), ('lll', 2), ('technology', 9), ('synonymously', 1), ('gfp', 1), ('punished', 1), ('brilliant', 1), ('testfactor', 2), ('testfactorf', 2), ('revolution', 3), ('certificate', 10), ('deposit', 2), ('tranforms', 1), ('gleaned', 1), ('coh', 1), ('pgram', 3), ('offsetting', 2), ('mooc', 1), ('challenges', 8), ('whirl', 1), ('forwards', 6), ('enrol', 1), ('risen', 2), ('smi', 2), ('hopping', 1), ('monitored', 2), ('disentagle', 1), ('pinpoint', 2), ('ginigain', 2), ('gingain', 1), ('fivethirtyeight', 3), ('estiamte', 3), ('presidential', 2), ('sven', 1), ('advancements', 1), ('multilinear', 1), ('vla', 4), ('cater', 1), ('optunity', 1), ('resonable', 2), ('rfecv', 1), ('swarm', 1), ('redoing', 1), ('completions', 2), ('rental', 1), ('taq', 1), ('chronologically', 1), ('frbs', 3), ('frbcs', 1), ('missclassified', 1), ('tdef', 2), ('verifiy', 1), ('xrcxtlqkvgigeo', 1), ('dvoskvzbyfnycclimcedibzg', 1), ('dichotomizer', 1), ('gloss', 1), ('sociolinguistics', 1), ('orthography', 2), ('sibilant', 2), ('consonant', 1), ('medial', 1), ('grammatical', 2), ('adjectives', 1), ('gujarati', 3), ('sib', 1), ('foll', 1), ('continual', 1), ('afl', 4), ('umpires', 1), ('fairest', 1), ('deserving', 3), ('brownlow', 3), ('medal', 1), ('afltables', 1), ('kicks', 1), ('handballs', 1), ('flattening', 1), ('multioutputclassifier', 2), ('pipe', 2), ('delimited', 1), ('fnmatch', 2), ('mk', 4), ('tk', 5), ('agg', 2), ('psv', 3), ('elem', 1), ('dirnames', 1), ('filenames', 2), ('psvpath', 2), ('populating', 1), ('wits', 1), ('horison', 1), ('dxshort', 2), ('dxnext', 3), ('fcastmean', 2), ('conjuction', 1), ('affymetrix', 2), ('debetable', 1), ('adress', 5), ('expressionset', 1), ('gn', 3), ('recapture', 4), ('detectability', 4), ('yfit', 3), ('yimp', 3), ('yimpm', 1), ('accelerated', 3), ('uncovered', 2), ('likliehood', 1), ('papke', 1), ('rprof', 8), ('summaryrprof', 2), ('adverse', 10), ('clots', 1), ('preventable', 1), ('observance', 1), ('preventative', 1), ('prophylactic', 3), ('thinning', 2), ('insurers', 1), ('withhold', 2), ('withheld', 1), ('underling', 1), ('psycholinguistics', 1), ('hummm', 1), ('verbo', 2), ('sg', 9), ('sujeitos', 2), ('jaeger', 1), ('howell', 2), ('varmax', 9), ('synthetically', 2), ('varx', 8), ('varma', 1), ('vmax', 1), ('varmasim', 1), ('arlags', 1), ('malags', 1), ('exoge', 2), ('cstorm', 1), ('mlib', 1), ('totalstate', 3), ('lengthofsequence', 1), ('totalpossiblelinput', 1), ('hmmtrain', 1), ('observationa', 2), ('observationb', 6), ('hurting', 1), ('mefm', 1), ('separte', 1), ('ddemand', 1), ('dtemp', 1), ('lastmin', 1), ('prevtemp', 4), ('immunosorbent', 1), ('assay', 1), ('elisa', 1), ('bradford', 1), ('undertake', 5), ('sampleselection', 2), ('detrened', 2), ('dfa', 13), ('enviroment', 1), ('hansekbrand', 1), ('deprived', 2), ('religion', 2), ('religionchristianity', 2), ('religionhinduism', 2), ('religionislam', 2), ('religionnonreligious', 2), ('religionbuddhism', 1), ('christianity', 1), ('islam', 1), ('stupidity', 4), ('unawareness', 1), ('extractaic', 5), ('fgv', 5), ('ele', 3), ('nat', 6), ('waterfg', 3), ('waterml', 3), ('ctableb', 4), ('cib', 2), ('xbars', 2), ('ybars', 2), ('gregsnow', 2), ('contiguous', 4), ('highs', 2), ('lows', 1), ('varibles', 1), ('vaibles', 1), ('theset', 1), ('futher', 1), ('realtionship', 1), ('populationand', 1), ('legit', 5), ('specifcition', 1), ('witha', 1), ('synthesis', 1), ('estimable', 3), ('pieced', 1), ('idempotence', 1), ('tinny', 1), ('rlr', 4), ('meinshausen', 1), ('lloyd', 1), ('creatively', 1), ('hangup', 1), ('spews', 1), ('ned', 1), ('sage', 1), ('dixon', 2), ('troupe', 1), ('leendert', 1), ('shatter', 3), ('nmpscfam', 1), ('ordinarly', 1), ('conglomerate', 1), ('burstiness', 4), ('invole', 1), ('proposals', 1), ('appending', 2), ('hormone', 1), ('gh', 3), ('recombinant', 1), ('mineral', 2), ('metabolism', 1), ('ionized', 3), ('pretherapy', 1), ('lineary', 1), ('wo', 2), ('steepest', 2), ('mistaking', 1), ('comprehension', 2), ('visreg', 3), ('mileages', 1), ('elminate', 1), ('predictedprice', 1), ('eamonn', 1), ('magenta', 6), ('factorizes', 2), ('kxt', 2), ('ayt', 2), ('procss', 1), ('kxk', 1), ('undertand', 1), ('outlace', 1), ('xor', 15), ('dvector', 1), ('dscalar', 1), ('config', 3), ('floatx', 3), ('hid', 2), ('discriminatory', 1), ('crusial', 1), ('probesets', 2), ('closures', 1), ('closure', 3), ('femlogit', 1), ('nin', 4), ('hstack', 1), ('grads', 3), ('groupby', 1), ('overthinking', 1), ('pctrans', 9), ('modelnull', 2), ('treebc', 2), ('treed', 6), ('treeellis', 2), ('treeqing', 2), ('notapplicable', 2), ('recommenderlab', 2), ('ibcf', 1), ('jenson', 1), ('lowercase', 1), ('capitalized', 1), ('capitalizes', 1), ('normalizatiom', 1), ('gtemp', 5), ('rendering', 2), ('opaque', 3), ('emailed', 1), ('trapezoid', 1), ('quadrilateral', 1), ('horizontally', 1), ('dealership', 1), ('nop', 2), ('parms', 8), ('dbm', 1), ('imputets', 1), ('hpfilter', 2), ('usefullness', 1), ('reasonableness', 1), ('divisor', 3), ('cpc', 3), ('unite', 3), ('buysocks', 3), ('redsocknow', 1), ('migrate', 2), ('outsourced', 1), ('ocring', 1), ('scraped', 1), ('yearplayed', 1), ('mike', 2), ('chael', 2), ('cha', 2), ('tomothy', 1), ('peyton', 1), ('manning', 4), ('smith', 8), ('leagues', 1), ('forecests', 1), ('modificated', 1), ('seperated', 2), ('averagely', 1), ('crestfallen', 1), ('leackage', 1), ('navigator', 2), ('prediciton', 1), ('crutial', 1), ('filepath', 1), ('timesteps', 6), ('regulatory', 1), ('wa', 2), ('ju', 4), ('alternativ', 1), ('vee', 1), ('entrepreneurial', 2), ('dropobs', 1), ('ade', 4), ('innoc', 1), ('hprice', 1), ('farea', 1), ('bedr', 1), ('dichotonous', 1), ('foreseeability', 4), ('competence', 2), ('flowchart', 3), ('contant', 1), ('frustrated', 1), ('khmaladze', 1), ('debated', 1), ('bisgaard', 1), ('abscoefs', 2), ('nhalf', 1), ('mgp', 1), ('tck', 1), ('nproportion', 1), ('userchangecount', 15), ('statusg', 12), ('statusn', 12), ('statuss', 12), ('statusu', 12), ('collegea', 9), ('collegeb', 9), ('collegec', 9), ('colleged', 9), ('collegee', 9), ('collegef', 9), ('collegeg', 9), ('midp', 3), ('binomsamsize', 2), ('typei', 3), ('pvs', 2), ('fitx', 9), ('oral', 1), ('swapped', 1), ('habitats', 5), ('woodland', 1), ('chkcorr', 1), ('squote', 1), ('pfunction', 3), ('abseps', 3), ('covm', 2), ('eur', 2), ('msvar', 1), ('bolts', 1), ('colorization', 1), ('extinction', 2), ('schr', 3), ('dinger', 3), ('killing', 2), ('himalayan', 2), ('vial', 1), ('hammer', 3), ('kill', 6), ('trippy', 1), ('steers', 1), ('ethics', 1), ('pushes', 1), ('flap', 1), ('humane', 1), ('bolted', 1), ('detonates', 1), ('triggers', 1), ('poisoned', 3), ('sensid', 2), ('wavgt', 2), ('davgt', 2), ('hravgt', 2), ('aritw', 2), ('foretw', 1), ('arith', 2), ('foreth', 1), ('aritd', 2), ('foretd', 1), ('caclulate', 1), ('leftover', 1), ('apa', 2), ('schooling', 1), ('weed', 5), ('vectx', 4), ('vecty', 6), ('exponentiel', 1), ('expfct', 4), ('cheek', 1), ('factorise', 1), ('widetilde', 15), ('discretion', 1), ('randomglm', 3), ('genetics', 1), ('horvath', 1), ('htdocs', 1), ('rglm', 1), ('seeks', 1), ('attained', 2), ('competed', 2), ('sparseness', 3), ('mitche', 1), ('strick', 3), ('adressed', 4), ('characterictis', 1), ('poses', 3), ('adecuacy', 1), ('onlinelibrary', 1), ('hung', 2), ('caio', 1), ('precede', 1), ('vein', 2), ('explainability', 1), ('thenumberofdatapoints', 1), ('tiers', 1), ('defaulting', 3), ('motor', 9), ('grenoble', 9), ('turin', 8), ('chambery', 4), ('notalways', 1), ('highway', 1), ('traveler', 3), ('alps', 1), ('als', 2), ('harbouring', 1), ('residualize', 1), ('valable', 1), ('residualized', 8), ('followings', 1), ('lmlog', 1), ('ltsreglog', 1), ('lmroblog', 2), ('glmlog', 1), ('trusty', 1), ('corrupted', 4), ('editet', 1), ('equispaced', 1), ('ecg', 1), ('unrolled', 5), ('contrasted', 2), ('componentwise', 5), ('hlman', 1), ('yu', 1), ('cluded', 1), ('gradiend', 1), ('tutz', 2), ('binder', 2), ('multicategorial', 3), ('shrinked', 1), ('nightmare', 1), ('logarithmize', 1), ('logarithmized', 1), ('analogues', 2), ('advertiser', 1), ('textc', 14), ('texta', 14), ('textk', 14), ('irismissing', 1), ('stead', 1), ('catagories', 1), ('obsolete', 1), ('crafted', 1), ('convolutions', 5), ('convnets', 1), ('contractor', 7), ('theater', 4), ('mall', 3), ('ringgits', 1), ('reliabilities', 1), ('logiii', 1), ('induced', 3), ('cleanly', 2), ('panels', 2), ('tdczwi', 1), ('qwnjmzd', 1), ('zkdicw', 1), ('counterfactual', 1), ('minimun', 1), ('gs', 1), ('gramschmidt', 1), ('prey', 3), ('stderror', 1), ('sooo', 1), ('regulates', 1), ('regulated', 1), ('asum', 4), ('rainpd', 2), ('temppd', 2), ('distlon', 2), ('grace', 1), ('readthedocs', 1), ('src', 3), ('allowable', 2), ('jillion', 1), ('sometime', 4), ('img', 4), ('imageshack', 3), ('holtwintersloginmultipl', 1), ('tensor', 2), ('initialised', 1), ('symbolized', 4), ('logarithmically', 2), ('configure', 2), ('svmtrain', 2), ('goodies', 1), ('coherently', 1), ('citeseerx', 1), ('viewdoc', 1), ('varaibles', 3), ('suffix', 2), ('bern', 1), ('hws', 1), ('javamath', 1), ('ryan', 3), ('spiking', 1), ('reservoir', 7), ('packpropagation', 1), ('bptt', 9), ('sutskever', 1), ('opportunistically', 1), ('sweeps', 1), ('overweighting', 1), ('hipster', 2), ('dyanamical', 1), ('phin', 4), ('xphi', 4), ('xphit', 4), ('elasticitytoy', 1), ('register', 4), ('rnegbin', 3), ('extratrees', 2), ('mirrored', 1), ('dcl', 9), ('strongest', 2), ('dlc', 2), ('collapses', 2), ('deterministically', 2), ('superimpose', 2), ('unperfect', 1), ('neglected', 3), ('stochasticity', 1), ('loosing', 2), ('companyname', 1), ('timepointa', 3), ('timepointb', 2), ('genea', 1), ('geneb', 1), ('genec', 1), ('gened', 1), ('genee', 1), ('genef', 1), ('genei', 1), ('geneh', 1), ('wrst', 2), ('wg', 2), ('binnedplot', 8), ('infomation', 2), ('punt', 1), ('interpretive', 2), ('equivocal', 1), ('komogorov', 1), ('dani', 1), ('rrs', 1), ('intrinsic', 2), ('assumtions', 1), ('retirment', 1), ('cauchit', 1), ('quora', 1), ('aditionally', 1), ('obamacare', 1), ('mayer', 4), ('libration', 1), ('manilius', 8), ('sinang', 2), ('cosang', 2), ('virtue', 3), ('cooperative', 4), ('rsr', 1), ('nonlinearity', 1), ('wpf', 1), ('industrial', 3), ('urohet', 1), ('iqwturnshlccet', 1), ('ykk', 1), ('qgraph', 1), ('xptk', 3), ('duh', 2), ('differentiability', 1), ('nlambda', 10), ('betamat', 12), ('orthantwise', 4), ('invisible', 2), ('hxd', 1), ('outmat', 2), ('junction', 1), ('contrastive', 1), ('discriminants', 3), ('wandering', 1), ('fixture', 6), ('temparature', 2), ('pcl', 1), ('stumbledupon', 1), ('oft', 1), ('writeup', 1), ('ced', 4), ('logr', 2), ('catd', 1), ('catm', 1), ('catn', 1), ('catv', 1), ('followsp', 1), ('followsv', 1), ('crystal', 1), ('custcount', 4), ('staffed', 1), ('dfe', 1), ('waittime', 3), ('nba', 7), ('pointspredictions', 2), ('pointsreg', 1), ('probility', 1), ('stochastics', 1), ('deparment', 1), ('bishops', 2), ('nbr', 1), ('mpt', 1), ('stomach', 1), ('dissection', 3), ('recognising', 1), ('dropper', 1), ('grower', 1), ('stopper', 1), ('thtat', 1), ('urgent', 3), ('stern', 1), ('nyu', 1), ('dbackus', 1), ('cressieread', 1), ('jrssb', 1), ('symptom', 10), ('reformulated', 2), ('aitx', 2), ('rmysql', 1), ('memdata', 2), ('vsize', 2), ('gambled', 1), ('proxied', 2), ('abysmal', 3), ('fluctuates', 2), ('terabytes', 1), ('peanlty', 1), ('contextualize', 1), ('distributiopn', 1), ('syllogism', 1), ('varibales', 1), ('concatinate', 1), ('situated', 1), ('expectancy', 3), ('unclassified', 1), ('enet', 1), ('forge', 1), ('partitionings', 1), ('predecessor', 1), ('semivariogram', 5), ('varfunc', 2), ('nodesize', 3), ('flowcharts', 3), ('bettina', 1), ('kurt', 5), ('hornik', 1), ('gnp', 6), ('prewhite', 3), ('endo', 1), ('intonly', 1), ('vardef', 1), ('gabor', 2), ('szekely', 1), ('bclm', 1), ('disabilities', 1), ('thetapower', 1), ('independency', 3), ('subsequences', 1), ('ykang', 1), ('hostoi', 1), ('insofar', 2), ('monotonously', 1), ('hyperplanar', 1), ('bionomial', 1), ('indepvariable', 1), ('sigvars', 5), ('sortedcor', 5), ('regvar', 4), ('subnodes', 2), ('paradigm', 4), ('dept', 2), ('federally', 2), ('tht', 1), ('terrorist', 4), ('leadership', 4), ('cooperates', 1), ('factionalized', 1), ('leaders', 3), ('decentralized', 1), ('cooperation', 2), ('numerics', 1), ('cumnumbertakeoff', 1), ('cumnumbernotakeoff', 1), ('plantquality', 4), ('minlog', 4), ('temperaturetm', 2), ('expdatano', 1), ('plantqualityf', 4), ('nlsfit', 2), ('pseudor', 1), ('pseudorsquared', 1), ('ccopula', 1), ('pstatus', 3), ('alc', 1), ('famsize', 1), ('medu', 1), ('fedu', 1), ('studytime', 1), ('romantic', 1), ('famrel', 1), ('freetime', 1), ('goout', 1), ('pstatust', 1), ('dictates', 1), ('freaking', 1), ('wildlife', 1), ('preincubation', 2), ('exhibiting', 3), ('triumph', 1), ('wickens', 1), ('ghosh', 1), ('gilbert', 1), ('hallett', 1), ('greeting', 1), ('julius', 1), ('readmitted', 1), ('hhs', 4), ('readmit', 1), ('needier', 1), ('sicker', 1), ('reversing', 2), ('menard', 1), ('drawer', 3), ('recomendations', 1), ('heatplot', 2), ('corner', 3), ('canchild', 1), ('gmfm', 1), ('kingsley', 1), ('nakagami', 2), ('summands', 1), ('outlook', 21), ('ttm', 2), ('twelve', 4), ('bees', 1), ('differente', 1), ('andrea', 1), ('tg', 2), ('discretization', 3), ('tschuprow', 4), ('chitest', 1), ('interv', 3), ('tschup', 2), ('forestfloor', 5), ('meandecreaseaccuracy', 2), ('alliance', 1), ('ovb', 4), ('bvb', 2), ('earlystage', 1), ('avgvcsize', 1), ('numbervc', 1), ('hare', 7), ('survmod', 2), ('celltype', 1), ('cmethod', 2), ('interviewing', 1), ('familiarity', 1), ('fluidity', 1), ('trhough', 1), ('shuddenly', 1), ('psy', 2), ('plymouth', 1), ('wsimpson', 1), ('faint', 1), ('ncols', 1), ('compnents', 1), ('ems', 2), ('lpm', 2), ('vidhya', 1), ('casino', 5), ('tux', 2), ('vibrations', 1), ('dirichelet', 1), ('arff', 5), ('varables', 1), ('pepsi', 3), ('sprite', 3), ('nyc', 4), ('tasted', 1), ('frit', 2), ('utz', 2), ('weiss', 3), ('ordenades', 1), ('abscissas', 1), ('sensibility', 1), ('affirmation', 4), ('lear', 1), ('yvars', 1), ('anthony', 2), ('weigts', 1), ('calamities', 1), ('tornado', 2), ('cpgram', 1), ('horizental', 1), ('periodograms', 1), ('plum', 1), ('lifecycle', 2), ('dims', 1), ('twiecki', 1), ('normalizer', 1), ('canceled', 1), ('vlines', 1), ('linestyles', 1), ('wiecki', 1), ('kqtunj', 1), ('smym', 1), ('mcm', 1), ('typeerror', 1), ('tobacco', 1), ('misdescribed', 1), ('humongous', 1), ('quicken', 1), ('openclassroom', 1), ('mainfolder', 1), ('documentpage', 1), ('puriney', 1), ('numb', 1), ('specialization', 1), ('bidding', 2), ('badness', 1), ('sara', 1), ('martel', 1), ('aditya', 1), ('orienting', 1), ('grater', 1), ('bedly', 3), ('reffering', 1), ('ride', 1), ('timeliness', 1), ('rides', 1), ('rider', 1), ('wordings', 1), ('wording', 4), ('lecturers', 3), ('crowdsourced', 2), ('jobshop', 3), ('totalcost', 3), ('chisel', 5), ('rework', 4), ('alan', 3), ('devon', 1), ('beatrice', 1), ('ebrahim', 3), ('soul', 3), ('goalfact', 1), ('stampfact', 1), ('chiselfact', 1), ('detailfact', 1), ('rushfact', 1), ('mgrfact', 1), ('shiftfact', 1), ('plntfact', 1), ('detailyes', 1), ('rushyes', 1), ('managerbeatrice', 1), ('managercarl', 1), ('managerdevon', 1), ('managerebrahim', 1), ('musicpop', 1), ('musicrock', 1), ('musicsoul', 1), ('plantold', 1), ('indciators', 1), ('twang', 1), ('mnps', 1), ('proceded', 1), ('ers', 3), ('arising', 2), ('automatical', 1), ('stationnary', 1), ('rhadoop', 1), ('characterizes', 3), ('haproxy', 2), ('breakout', 3), ('intreg', 1), ('kardinal', 1), ('choosed', 1), ('axsis', 1), ('acutally', 1), ('planty', 1), ('ntrial', 8), ('nsuccess', 4), ('unrolling', 3), ('unroll', 1), ('nfail', 2), ('fight', 1), ('yann', 1), ('lecun', 1), ('exdb', 1), ('sender', 2), ('snows', 2), ('argumentation', 2), ('lmefit', 2), ('mathach', 2), ('mathscores', 2), ('abhi', 2), ('boat', 1), ('iceberg', 4), ('perish', 1), ('actualy', 1), ('interferes', 2), ('metcalfe', 1), ('residsacf', 4), ('meanacf', 6), ('landform', 2), ('strmord', 1), ('wcover', 1), ('underdispersed', 1), ('ctl', 11), ('ldl', 39), ('grouptrt', 4), ('discrepency', 2), ('multinorm', 1), ('gator', 2), ('overcast', 14), ('windy', 9), ('controllable', 1), ('nemenyi', 1), ('alg', 6), ('xc', 1), ('xd', 2), ('yd', 1), ('aestheticonly', 14), ('choiceva', 18), ('choicevav', 4), ('dmft', 1), ('dentistry', 1), ('teeth', 2), ('intact', 1), ('compromised', 1), ('glinternet', 1), ('fore', 6), ('tapped', 2), ('feeds', 3), ('chatfield', 1), ('irisbs', 2), ('funs', 3), ('rfpu', 5), ('rfu', 2), ('cpuiowait', 2), ('cpuuser', 5), ('cpusys', 2), ('xyplot', 6), ('posixlt', 1), ('bwplot', 1), ('hypertension', 8), ('nulliparity', 1), ('syst', 1), ('leves', 1), ('concyes', 1), ('gavin', 3), ('ditched', 1), ('disparity', 1), ('liberty', 1), ('peril', 1), ('integrates', 2), ('gologit', 2), ('margeff', 3), ('iprsv', 1), ('ipscl', 1), ('icountry', 1), ('inace', 1), ('iprsvinn', 3), ('nod', 1), ('wtp', 2), ('autocomplete', 3), ('keystrokes', 1), ('bubbles', 1), ('shrinks', 1), ('doers', 9), ('precludes', 2), ('memb', 6), ('permanent', 3), ('lire', 3), ('lnq', 7), ('lnk', 7), ('lnbonus', 3), ('inbonud', 1), ('inbonus', 1), ('correl', 2), ('corvif', 1), ('aed', 1), ('highstat', 1), ('zuur', 1), ('ieno', 1), ('walker', 2), ('saveliev', 1), ('hlplab', 1), ('axioms', 3), ('noisey', 1), ('cardiovascular', 4), ('alleles', 2), ('taked', 1), ('coariate', 1), ('zach', 1), ('insides', 1), ('wonders', 1), ('clutter', 1), ('athana', 1), ('sopou', 1), ('ausbeer', 2), ('adjr', 10), ('erlang', 1), ('scanty', 1), ('solvers', 1), ('poked', 1), ('zi', 5), ('symetrically', 1), ('somemu', 3), ('grossly', 1), ('oberved', 1), ('errorsbefore', 3), ('errorsafter', 2), ('typea', 1), ('typeb', 1), ('typec', 1), ('catagorical', 1), ('descrie', 1), ('inspections', 2), ('groupings', 3), ('proprietary', 2), ('centralized', 2), ('persusal', 1), ('mush', 1), ('wmw', 1), ('coders', 1), ('tolerating', 1), ('mismatching', 1), ('mismatches', 2), ('overtime', 1), ('unfruitful', 1), ('vectorise', 1), ('vaso', 4), ('glmrob', 1), ('whr', 1), ('favors', 2), ('reatil', 1), ('oos', 1), ('misinterpret', 2), ('regularities', 2), ('vigorously', 1), ('tossings', 1), ('postdoc', 1), ('lmjf', 14), ('trucate', 1), ('equvalent', 1), ('trucations', 1), ('dissapear', 1), ('eliot', 1), ('marijuana', 1), ('femaleparent', 1), ('quadrats', 1), ('engaged', 2), ('warton', 1), ('hui', 1), ('asinine', 1), ('capped', 2), ('capping', 1), ('supprised', 1), ('benefiting', 1), ('lprq', 2), ('refrigeration', 1), ('fridge', 3), ('automobile', 2), ('unsound', 1), ('lagging', 2), ('interim', 2), ('futility', 3), ('accrued', 1), ('gsdesign', 1), ('arbor', 2), ('bicycles', 1), ('sidewalks', 1), ('pedestrian', 1), ('administrator', 1), ('statsitical', 1), ('investigates', 1), ('formats', 3), ('caluculated', 1), ('expexted', 1), ('useual', 1), ('resut', 1), ('calucalte', 1), ('prais', 1), ('mastered', 2), ('appologies', 1), ('ofshares', 1), ('musclemass', 2), ('lenipos', 5), ('hip', 10), ('fem', 2), ('dvt', 2), ('femhip', 3), ('patents', 1), ('ridges', 1), ('kantorovich', 1), ('rubinstein', 1), ('lipschitz', 5), ('duality', 1), ('shoking', 1), ('aesthetic', 1), ('methodes', 1), ('evoke', 1), ('muticollinearity', 1), ('familier', 1), ('hanna', 1), ('goog', 34), ('rhythm', 1), ('timbre', 1), ('amazed', 1), ('angry', 1), ('relaxing', 1), ('directupload', 1), ('eellv', 1), ('matlines', 2), ('howdy', 1), ('strangers', 1), ('accidental', 1), ('larege', 1), ('coefficeints', 1), ('stadard', 1), ('tradeoffs', 1), ('relevanth', 1), ('rickert', 1), ('pricea', 1), ('priceb', 1), ('congruent', 1), ('fer', 1), ('unizg', 1), ('kdi', 1), ('djalto', 1), ('reselecting', 1), ('mads', 1), ('distribtion', 1), ('credited', 1), ('tinaw', 1), ('toying', 2), ('crowdfunding', 1), ('ventures', 1), ('venturecategory', 5), ('ivn', 1), ('balsa', 1), ('poznan', 1), ('indico', 1), ('getfile', 1), ('contribid', 1), ('materialid', 1), ('confid', 1), ('controled', 1), ('narx', 1), ('radii', 2), ('aus', 3), ('particularities', 1), ('objetive', 1), ('comparate', 1), ('bitscore', 1), ('prtcl', 6), ('worksheets', 1), ('protocol', 3), ('fixes', 1), ('fond', 1), ('viewers', 4), ('television', 3), ('nfactors', 1), ('uncovering', 2), ('treedata', 1), ('plotsize', 3), ('yval', 2), ('dieting', 6), ('stationarizing', 1), ('slimmer', 1), ('rocks', 1), ('practicable', 1), ('memorize', 1), ('memorized', 1), ('memorization', 1), ('fir', 3), ('gates', 1), ('cumseg', 3), ('novo', 1), ('stepfunction', 1), ('stepfunctions', 2), ('stepfunc', 1), ('urbanization', 1), ('mic', 1), ('fulfills', 1), ('hellinger', 1), ('iiuc', 1), ('correlatedvalue', 2), ('ugrad', 5), ('adnd', 1), ('hacve', 1), ('perdict', 1), ('suck', 1), ('metropolitan', 1), ('heterosexual', 1), ('qualifications', 1), ('iles', 1), ('ile', 2), ('urgently', 2), ('modelc', 4), ('cvar', 1), ('soda', 1), ('ounces', 1), ('conflict', 3), ('degradation', 2), ('livelihood', 1), ('ndvi', 11), ('multicolliniarity', 1), ('ported', 1), ('regresssion', 1), ('lmstage', 4), ('lmall', 2), ('intuitions', 3), ('mformula', 1), ('rcurl', 2), ('rcurloptions', 1), ('cainfo', 1), ('curlssl', 1), ('cacert', 1), ('pem', 1), ('geturl', 1), ('isof', 1), ('mathjax', 1), ('corny', 1), ('hacking', 1), ('emption', 1), ('erased', 1), ('glamorous', 1), ('mazda', 3), ('rx', 3), ('kidding', 1), ('uncountably', 1), ('rediscovered', 1), ('guzzliness', 1), ('buffered', 1), ('powered', 1), ('hyperboloid', 1), ('objections', 1), ('clases', 1), ('heighest', 1), ('ppcor', 2), ('pcor', 3), ('navigli', 1), ('thougth', 1), ('josefina', 3), ('porosity', 4), ('fidelity', 1), ('signicance', 2), ('initialcd', 2), ('newborn', 1), ('immortal', 1), ('parameteric', 1), ('simultaneity', 2), ('pratice', 1), ('payed', 1), ('signficantly', 1), ('mathematicalmonk', 1), ('viceversa', 1), ('inadmissible', 1), ('lightbulb', 1), ('besim', 1), ('komunikim', 1), ('kooperim', 1), ('angazhim', 1), ('kontroll', 1), ('burime', 1), ('kompetenca', 1), ('kosto', 1), ('agjenci', 1), ('dije', 1), ('squ', 1), ('currentbreak', 1), ('numactivecategories', 1), ('catigorical', 1), ('powerset', 1), ('interfere', 1), ('predication', 1), ('immensely', 6), ('explorer', 1), ('markovchain', 1), ('markovchainfit', 1), ('markovchian', 1), ('barnett', 1), ('hires', 1), ('comparibly', 1), ('somethin', 1), ('signifikant', 1), ('fnn', 4), ('poster', 1), ('adl', 1), ('photographs', 2), ('observers', 2), ('anaylze', 1), ('shutter', 7), ('centerline', 5), ('wen', 1), ('repositions', 1), ('diagnotics', 1), ('qi', 1), ('dummyservicea', 2), ('dummyserviceb', 2), ('dummyservicec', 2), ('servicea', 3), ('serviceb', 3), ('servicec', 3), ('brant', 3), ('packs', 1), ('father', 4), ('ghyp', 2), ('banging', 2), ('tscount', 1), ('acp', 1), ('isup', 2), ('dq', 2), ('multinomials', 1), ('elsewise', 1), ('hcr', 2), ('decentralization', 2), ('simpleerror', 1), ('christian', 2), ('trainingmodel', 2), ('airtime', 4), ('parses', 1), ('rerl', 1), ('pipes', 2), ('renovations', 1), ('crucially', 2), ('unopened', 1), ('renovation', 1), ('verifiably', 1), ('likelier', 1), ('disentangle', 1), ('wary', 1), ('generalizable', 2), ('groupx', 7), ('groupy', 7), ('groupz', 9), ('nonsignificant', 3), ('groupw', 4), ('publishes', 1), ('wager', 7), ('wagers', 2), ('fees', 1), ('wagering', 1), ('dotsm', 5), ('chickadees', 1), ('yw', 1), ('sparks', 1), ('logisticregressionwithlbfgs', 1), ('unintuitive', 1), ('scissors', 3), ('countably', 2), ('testscore', 6), ('axt', 1), ('gu', 1), ('usertype', 7), ('usertypes', 1), ('homing', 1), ('engineers', 3), ('runger', 2), ('alessandro', 1), ('mitchell', 2), ('playtennis', 1), ('ash', 9), ('lmfin', 1), ('incompatible', 1), ('subquestions', 1), ('xmid', 4), ('scal', 4), ('ohlc', 3), ('polyfeatures', 1), ('rotate', 4), ('sgdclassfier', 1), ('beroullinb', 1), ('decisiontreeclassifier', 1), ('xgbclassifier', 1), ('rlda', 1), ('eric', 1), ('weeklydata', 1), ('byt', 1), ('forcast', 2), ('preis', 8), ('absatz', 7), ('preise', 6), ('absaetze', 6), ('plural', 1), ('jeansdata', 6), ('numberofhits', 7), ('preiscandidatetobechecked', 5), ('absatzcandidatetobechecked', 6), ('absatzwithoutcandidate', 4), ('preiswithoutcandidate', 4), ('allpredictions', 5), ('numberofhitsagain', 1), ('foul', 1), ('psm', 1), ('skeletal', 1), ('inival', 2), ('gmmres', 2), ('wmatrix', 1), ('ident', 2), ('authentication', 1), ('authenticated', 1), ('imposter', 1), ('meas', 6), ('varibale', 1), ('sellers', 3), ('alpaydin', 3), ('silhouette', 1), ('tdms', 1), ('newinput', 1), ('someclass', 1), ('tabular', 1), ('upvote', 1), ('downvote', 1), ('anonymized', 1), ('upvoted', 1), ('drilled', 2), ('aids', 6), ('sal', 8), ('tuhin', 1), ('eagerly', 1), ('charm', 1), ('boosts', 4), ('booster', 1), ('gblinear', 1), ('pmc', 4), ('themselve', 1), ('lame', 1), ('overlay', 1), ('japanese', 1), ('signficant', 1), ('lreg', 3), ('mmetric', 2), ('eignenvalue', 1), ('esoteric', 1), ('misplaced', 1), ('worlds', 3), ('interdisciplinary', 1), ('flies', 4), ('glass', 2), ('vinegar', 2), ('detergent', 2), ('fluids', 4), ('glasses', 2), ('hang', 2), ('extermination', 2), ('fallen', 1), ('abort', 1), ('wake', 1), ('overnight', 1), ('invaded', 1), ('plague', 1), ('twist', 6), ('fate', 1), ('acuteness', 1), ('invasion', 1), ('repelling', 2), ('laughing', 1), ('murder', 5), ('soundness', 1), ('reassurance', 1), ('rigours', 1), ('mates', 1), ('predicate', 1), ('alleviated', 1), ('efa', 1), ('cfa', 1), ('rigor', 1), ('aspiring', 1), ('contraindications', 1), ('jpillow', 1), ('vito', 1), ('ricci', 2), ('kerdiest', 2), ('dayid', 1), ('isomap', 1), ('segregation', 2), ('noncentral', 1), ('mixdist', 1), ('accessable', 1), ('nonambiguous', 1), ('convergenve', 1), ('geyser', 3), ('gamlssmx', 2), ('nus', 2), ('mixsim', 4), ('rtf', 1), ('mcsim', 3), ('overallrespmodel', 1), ('periodrespmodel', 1), ('customize', 2), ('discribed', 3), ('desires', 1), ('shattering', 1), ('propositionalization', 1), ('crossposted', 1), ('rdta', 6), ('ylinp', 2), ('tutor', 1), ('mailed', 2), ('veriable', 1), ('collomn', 1), ('arcs', 1), ('enclose', 1), ('orde', 2), ('levarage', 1), ('statting', 1), ('connections', 7), ('dissimilarities', 1), ('circuit', 1), ('applet', 4), ('nulls', 4), ('relocalization', 1), ('hj', 6), ('vulnerable', 1), ('erroneous', 1), ('glmdata', 1), ('reconciled', 1), ('grappling', 1), ('anz', 2), ('leg', 8), ('errorbar', 1), ('residualization', 1), ('residmod', 2), ('rlogis', 1), ('ydichot', 3), ('ycount', 3), ('hyperbaric', 1), ('repartition', 1), ('reprodicible', 1), ('sqaures', 1), ('crimes', 3), ('organizes', 1), ('obatin', 1), ('worksheet', 1), ('rcauchy', 1), ('exc', 2), ('kuba', 1), ('necessitating', 1), ('abilityl', 1), ('benjamini', 3), ('hochberg', 2), ('goto', 1), ('massively', 4), ('financially', 1), ('affirmative', 2), ('totalvisits', 3), ('memberid', 2), ('inpatientdays', 2), ('ervisits', 2), ('officevisits', 2), ('narcotics', 2), ('dayssincelastervisit', 2), ('providercount', 2), ('medicalclaims', 2), ('claimlines', 2), ('startedoncombination', 1), ('logi', 1), ('acutedruggapsmall', 2), ('poorcare', 4), ('splitratio', 1), ('startedoncombinationtrue', 1), ('holistically', 1), ('instruct', 1), ('whichi', 1), ('missings', 1), ('landsat', 2), ('tassle', 1), ('tiff', 1), ('philipphunziker', 1), ('saga', 2), ('rossmann', 2), ('integrity', 1), ('errorbarh', 1), ('pid', 3), ('laced', 6), ('gm', 6), ('cushioned', 4), ('ankle', 4), ('tongue', 3), ('textured', 7), ('footbed', 7), ('shodr', 3), ('zrhrd', 2), ('rxv', 2), ('sneakers', 6), ('outsole', 1), ('shodq', 1), ('kmyxrb', 1), ('shodsm', 1), ('zhccmt', 1), ('sqefpf', 1), ('fte', 1), ('shods', 1), ('vdwmjfk', 1), ('shoduhjahqtre', 1), ('logtotal', 2), ('logarea', 3), ('servs', 5), ('continentasia', 1), ('continentaustralasia', 1), ('continenteurope', 1), ('continentglobal', 1), ('continentnorth', 1), ('continentsouth', 1), ('methodcvm', 1), ('methodother', 1), ('methodvalue', 1), ('oversimplified', 1), ('phdot', 2), ('sdot', 2), ('fullerr', 5), ('concurring', 1), ('propagates', 1), ('demands', 5), ('symbollicaly', 1), ('deactivated', 1), ('optimizations', 2), ('stabilizations', 1), ('compiler', 2), ('corrective', 8), ('preventive', 9), ('resets', 3), ('fcn', 2), ('noacprev', 1), ('ologit', 1), ('suitability', 2), ('semantics', 1), ('crossroad', 2), ('nnnnnyn', 1), ('nnnynyn', 1), ('ynnyynn', 1), ('nnyynyn', 1), ('nynn', 1), ('pastie', 2), ('gbms', 2), ('overcounting', 1), ('retraces', 1), ('fkf', 6), ('rescp', 7), ('indexclass', 1), ('indextz', 1), ('tclass', 2), ('zt', 16), ('mut', 1), ('hht', 5), ('ggt', 11), ('kaf', 4), ('scorecard', 2), ('opted', 2), ('perdiction', 1), ('transmitted', 1), ('acfunequal', 1), ('maxlags', 2), ('calcs', 1), ('reqcols', 3), ('exy', 4), ('exx', 4), ('eyy', 3), ('diffcurr', 5), ('ey', 3), ('residentials', 1), ('seismic', 3), ('sqd', 1), ('mylist', 4), ('rsqd', 1), ('assignmet', 1), ('categoricalvariable', 7), ('thyroid', 2), ('selenium', 1), ('iodine', 1), ('supplements', 1), ('berlin', 2), ('zbar', 2), ('zu', 2), ('dishonest', 1), ('honor', 1), ('font', 4), ('safer', 1), ('conservativeness', 1), ('inar', 2), ('caliper', 1), ('randdata', 4), ('miami', 3), ('datnew', 2), ('tod', 5), ('unphysical', 1), ('diffts', 2), ('actionable', 2), ('dob', 1), ('debtor', 2), ('insuarance', 1), ('collectability', 1), ('dotso', 2), ('conda', 5), ('condb', 4), ('abilitya', 3), ('abilityb', 3), ('caracal', 1), ('illus', 1), ('abilem', 1), ('obli', 2), ('valueem', 1), ('elliptical', 1), ('minuscule', 2), ('pant', 8), ('blouse', 2), ('dress', 1), ('fiddling', 2), ('fiddle', 1), ('sanction', 3), ('sanctions', 1), ('laura', 1), ('norsys', 1), ('netica', 1), ('derek', 1), ('gurus', 2), ('fudged', 1), ('sprinter', 1), ('christophe', 1), ('lemaitre', 1), ('sprinting', 4), ('whites', 3), ('blacks', 2), ('sprint', 2), ('rambling', 1), ('untrained', 1), ('laser', 1), ('supervision', 1), ('invresplot', 1), ('mirx', 1), ('bellman', 4), ('sate', 1), ('plsr', 2), ('solubility', 3), ('trainingdata', 5), ('soltrainxtrans', 1), ('soltrainy', 1), ('plsfit', 2), ('ncomp', 6), ('mvr', 1), ('yscores', 1), ('yloadings', 1), ('xmeans', 1), ('ymeans', 1), ('xtotvar', 1), ('supervized', 1), ('yohann', 1), ('didactic', 1), ('genlin', 1), ('prepost', 3), ('cumlogit', 1), ('covb', 1), ('maxiterations', 1), ('maxstephalving', 1), ('analysistype', 1), ('cilevel', 1), ('citype', 1), ('classmissing', 1), ('descriptives', 1), ('modelinfo', 1), ('speify', 1), ('svp', 18), ('alphaindex', 3), ('kernelf', 5), ('rbfkernel', 3), ('vanilladot', 4), ('hiding', 1), ('conditinional', 1), ('superset', 1), ('nonidentifiability', 1), ('multicolliniearity', 1), ('avgerage', 1), ('bucketise', 1), ('twoways', 2), ('headers', 1), ('bouncerate', 1), ('avgserverresponsetime', 1), ('avgserverconnectiontime', 1), ('avgredirectiontime', 1), ('avgpagedownloadtime', 1), ('avgdomainlookuptime', 1), ('avgpageloadtime', 1), ('hep', 1), ('suppressor', 1), ('tipping', 2), ('matlabcentral', 2), ('fileexchange', 2), ('ppca', 2), ('demos', 1), ('orth', 1), ('repmat', 2), ('xprobe', 1), ('ppcaem', 1), ('mylesoneill', 1), ('unis', 2), ('nked', 1), ('traint', 1), ('predt', 1), ('testt', 1), ('atrocious', 1), ('dfm', 1), ('yyyy', 1), ('proceduer', 1), ('redifine', 1), ('prewhithen', 1), ('econometricians', 1), ('roger', 2), ('bivand', 1), ('lagsarlm', 2), ('listw', 3), ('prizes', 2), ('forestfires', 8), ('testfire', 1), ('trainfire', 2), ('vmod', 1), ('ffmc', 1), ('dmc', 1), ('isi', 1), ('manski', 4), ('makers', 3), ('maker', 3), ('donates', 1), ('hptslag', 20), ('mylog', 2), ('nothw', 2), ('salesperson', 2), ('manufactured', 1), ('fij', 2), ('bij', 3), ('rowmeds', 2), ('colmeds', 2), ('xmatr', 7), ('esitmate', 1), ('wls', 3), ('polycoef', 2), ('indiviuals', 1), ('parallele', 1), ('overplotting', 1), ('analize', 1), ('inital', 1), ('vcol', 2), ('royalblue', 1), ('multidemensional', 1), ('blunt', 2), ('premises', 1), ('criticize', 1), ('decompressor', 2), ('bzip', 2), ('cilibrasi', 1), ('pragmatic', 1), ('comparabe', 1), ('entropym', 1), ('ukrates', 2), ('dfuk', 4), ('zoouk', 4), ('zooukaug', 3), ('drs', 2), ('ldr', 2), ('lmuk', 4), ('zooukbg', 2), ('lmbg', 4), ('dname', 2), ('inherits', 2), ('auxfit', 7), ('uresi', 3), ('rval', 3), ('htest', 1), ('bayestree', 2), ('invariate', 1), ('tsrdiff', 1), ('tsr', 1), ('mvspec', 1), ('straightest', 1), ('sinuosity', 1), ('usualy', 1), ('discriminatively', 1), ('robots', 1), ('vgg', 1), ('cimpoi', 2), ('brdf', 1), ('annotators', 2), ('meandiff', 1), ('vta', 3), ('centile', 1), ('vtas', 3), ('pops', 2), ('lognormally', 1), ('rdg', 2), ('nondev', 2), ('nullexception', 1), ('guests', 3), ('megawatts', 1), ('coeffs', 1), ('usagedataframe', 2), ('tawny', 1), ('stripped', 2), ('comms', 3), ('gba', 1), ('runtimes', 1), ('cokriging', 1), ('flycatchers', 1), ('tit', 1), ('waited', 1), ('yours', 3), ('factorials', 1), ('stirling', 2), ('trustful', 1), ('netlab', 2), ('mackay', 1), ('metrop', 1), ('hmc', 2), ('acceptably', 1), ('metrpolois', 1), ('samplers', 1), ('establishes', 1), ('debtors', 2), ('vlr', 1), ('vhr', 5), ('proprietors', 1), ('cleanup', 1), ('ips', 1), ('argmin', 1), ('rademacher', 4), ('complexities', 1), ('boundedness', 2), ('erm', 1), ('ledoux', 1), ('talagrand', 1), ('contraction', 1), ('monitors', 1), ('ctable', 1), ('extractable', 1), ('fstatistic', 7), ('choreographies', 1), ('dancer', 4), ('drunken', 3), ('drunkard', 3), ('danced', 1), ('dflat', 6), ('whales', 5), ('transmit', 1), ('whale', 4), ('tracked', 2), ('foraging', 1), ('transiting', 4), ('diel', 2), ('forage', 1), ('transmissions', 1), ('foraged', 1), ('trainees', 1), ('waaaaay', 1), ('bernoullis', 1), ('bigdelay', 6), ('arrdelay', 6), ('bidder', 2), ('chiefly', 2), ('predetermine', 1), ('pointless', 2), ('acustic', 1), ('wells', 4), ('ensembling', 1), ('spammy', 2), ('registering', 1), ('rfb', 1), ('denial', 2), ('ydperi', 1), ('counterexamplesquasi', 1), ('insane', 1), ('prmodcomp', 1), ('pkrtest', 1), ('classifiying', 1), ('probabiliies', 1), ('cholesterol', 9), ('comorbid', 1), ('straighten', 1), ('seb', 2), ('tress', 1), ('navie', 1), ('binseg', 4), ('cpts', 4), ('poselets', 1), ('scholkopf', 1), ('transparent', 1), ('govern', 1), ('unvetted', 1), ('vcovhacis', 1), ('matric', 1), ('pivots', 2), ('grup', 1), ('sgn', 1), ('palettes', 1), ('tripping', 1), ('orm', 6), ('pdm', 4), ('misuse', 1), ('synonym', 1), ('explicity', 1), ('accelerations', 1), ('ema', 1), ('suf', 1), ('simeq', 1), ('borderline', 3), ('adhesion', 6), ('silicon', 2), ('supa', 4), ('infa', 4), ('porter', 2), ('allscore', 20), ('bluescore', 6), ('redscore', 6), ('greenscore', 6), ('randtable', 36), ('finaltable', 17), ('sav', 1), ('dummyred', 7), ('dummygreen', 7), ('dummyblue', 6), ('mosel', 2), ('ttt', 2), ('levenetest', 2), ('fligner', 10), ('killeen', 6), ('greendummy', 1), ('insignificance', 1), ('damodar', 1), ('dawn', 2), ('mcgraw', 2), ('irwin', 1), ('denominators', 1), ('priceforecast', 1), ('lakers', 3), ('ymd', 1), ('apropriate', 1), ('percetage', 1), ('pittman', 3), ('alternately', 1), ('implausibly', 1), ('airlines', 1), ('maddy', 1), ('jelly', 3), ('jellybeans', 2), ('jeopardise', 1), ('rbm', 5), ('powerpoint', 3), ('newest', 4), ('halfbakedmaker', 1), ('clamps', 1), ('clamping', 2), ('hedging', 3), ('statug', 2), ('chdage', 6), ('extrovert', 1), ('introvert', 1), ('sumcallin', 2), ('caountcallin', 2), ('sumcallout', 2), ('countcallout', 2), ('sumreceived', 2), ('countreceived', 2), ('sumsent', 2), ('countsent', 2), ('extro', 1), ('kreps', 1), ('hwt', 2), ('bwt', 1), ('lam', 2), ('cement', 4), ('refitting', 4), ('hocly', 1), ('multitaper', 1), ('mtm', 2), ('resspec', 1), ('willamette', 1), ('centrewithslepians', 1), ('ftest', 6), ('maxadaptiveiterations', 1), ('conditionals', 2), ('javlacalle', 1), ('renamed', 1), ('impr', 1), ('mpkitas', 1), ('nexty', 2), ('missclassify', 1), ('djuser', 1), ('msci', 1), ('spgsci', 1), ('standardising', 1), ('kingw', 1), ('simplenonlinear', 1), ('dlen', 3), ('linearfit', 2), ('seasonaldummy', 8), ('dropouts', 1), ('snm', 2), ('intellectually', 1), ('stalled', 1), ('hierarchically', 1), ('politics', 1), ('rugby', 1), ('discon', 1), ('unnecessarily', 1), ('competency', 1), ('affection', 1), ('talent', 8), ('drought', 1), ('spei', 6), ('gdd', 1), ('hiking', 1), ('rested', 1), ('hike', 1), ('refactor', 2), ('glmpql', 1), ('characteristica', 1), ('backtests', 1), ('plausibility', 2), ('ssereduced', 2), ('partialr', 1), ('unbalancedness', 1), ('pcap', 4), ('bingo', 17), ('assimilated', 1), ('pwon', 3), ('bingos', 3), ('correaltion', 2), ('significane', 1), ('fruits', 3), ('eap', 1), ('confined', 1), ('containg', 1), ('vevm', 1), ('uniqueness', 1), ('bertsekas', 1), ('tsitsiklis', 1), ('notknow', 3), ('scriptstyle', 2), ('ftse', 4), ('msusaml', 4), ('msexuk', 4), ('daxindx', 4), ('bmuk', 4), ('bmus', 4), ('bmbd', 4), ('lhustry', 4), ('datasetrow', 1), ('datarow', 1), ('ecdfs', 1), ('retire', 11), ('retiree', 1), ('pension', 1), ('exempt', 2), ('crplots', 1), ('overlearning', 1), ('dolcan', 2), ('valdata', 1), ('maxout', 2), ('nnetfit', 2), ('panic', 1), ('geodesic', 1), ('dome', 1), ('rationals', 1), ('incarnation', 1), ('ity', 1), ('maelstrom', 1), ('constructivist', 1), ('sequel', 1), ('sdobj', 2), ('svdat', 1), ('fpc', 4), ('brightest', 1), ('clinicians', 1), ('explainable', 1), ('itunes', 1), ('centrality', 3), ('rivet', 1), ('correspondent', 1), ('princomp', 2), ('scomp', 2), ('rightly', 2), ('pierce', 1), ('leipzig', 1), ('strimmer', 1), ('seminar', 1), ('coefplot', 1), ('impressionsm', 2), ('allmodelsetdaily', 1), ('dispatch', 2), ('generators', 1), ('tomsym', 2), ('prodofelectricity', 1), ('fitinfo', 1), ('ky', 2), ('leatherman', 1), ('marginsplot', 3), ('bells', 1), ('drugpairs', 2), ('adverseevent', 2), ('rebetol', 3), ('pegintron', 9), ('nausea', 4), ('anaemia', 3), ('vomiting', 3), ('ribavirin', 6), ('pegasys', 6), ('medically', 1), ('glmhepa', 1), ('hepatitis', 1), ('drugpairsribavirin', 6), ('adverseeventnausea', 3), ('adverseeventvomiting', 3), ('adverseeventanaemea', 1), ('anaemea', 1), ('usinga', 1), ('fetch', 4), ('tmpdata', 16), ('encourages', 1), ('absolve', 1), ('subhabrata', 2), ('banerjee', 2), ('magical', 1), ('hull', 3), ('ian', 1), ('eibe', 1), ('oa', 6), ('bmva', 1), ('bmvc', 1), ('intercourse', 1), ('injected', 4), ('mssql', 1), ('coefficiants', 1), ('ttl', 1), ('inject', 1), ('usersource', 5), ('isnewindividual', 4), ('iscross', 4), ('injectionamount', 1), ('iaf', 2), ('iif', 1), ('labdates', 3), ('killen', 1), ('subdivide', 2), ('fk', 1), ('photoshop', 1), ('echo', 2), ('decompositions', 1), ('keith', 1), ('assimilate', 1), ('gratitude', 1), ('sbi', 8), ('electr', 6), ('demography', 1), ('paus', 1), ('heavenly', 1), ('believing', 1), ('utilizes', 2), ('sans', 1), ('occluded', 1), ('denormalize', 1), ('exactness', 1), ('signi', 2), ('cantly', 1), ('handouts', 1), ('befuddling', 1), ('rtfm', 1), ('leavepout', 3), ('indicies', 3), ('lpo', 4), ('valueerror', 1), ('bootmean', 2), ('booter', 2), ('tval', 2), ('implore', 1), ('sinh', 3), ('refund', 1), ('coop', 12), ('va', 2), ('cooperatives', 1), ('pk', 4), ('ffe', 4), ('llply', 3), ('laply', 1), ('attendant', 1), ('parenting', 1), ('parental', 1), ('accoridng', 1), ('traded', 1), ('roussas', 1), ('esimated', 1), ('theorically', 2), ('droplevels', 1), ('ih', 1), ('boring', 1), ('sizing', 1), ('killick', 2), ('eckley', 1), ('broke', 1), ('theorized', 1), ('lest', 1), ('funderbird', 1), ('cannon', 1), ('fighting', 1), ('resemblance', 1), ('footnote', 2), ('rescue', 1), ('rmki', 1), ('kfki', 1), ('hu', 2), ('banmi', 1), ('elte', 1), ('invariance', 1), ('slackness', 2), ('ehserlpjwuu', 1), ('pld', 1), ('stubbornly', 1), ('refuses', 1), ('oscar', 1), ('bondell', 1), ('reich', 1), ('quess', 1), ('beginnes', 1), ('roulette', 2), ('statistica', 1), ('problam', 1), ('arraylist', 7), ('lisayl', 1), ('repeatcount', 8), ('void', 1), ('println', 4), ('libreoffice', 1), ('fwer', 7), ('compactly', 1), ('multifaceted', 1), ('parsimoniously', 1), ('secret', 1), ('exceedingly', 1), ('imparts', 2), ('inefficiency', 1), ('inelegance', 1), ('somwhere', 1), ('spouting', 1), ('raped', 1), ('cdc', 1), ('violence', 1), ('rapists', 1), ('rape', 4), ('rapist', 1), ('rephrase', 1), ('ispresent', 4), ('nextx', 8), ('workload', 9), ('desending', 1), ('invoked', 1), ('workloads', 1), ('interleaved', 1), ('residues', 1), ('acos', 4), ('bsin', 3), ('erence', 1), ('morbidity', 2), ('possum', 1), ('roccomp', 1), ('aurocs', 1), ('elisabeth', 1), ('clarke', 1), ('biometrics', 1), ('shore', 1), ('habitattype', 1), ('quizes', 1), ('hypotethis', 1), ('enought', 1), ('alternatibe', 1), ('lau', 2), ('sampleno', 4), ('mage', 2), ('heterogenity', 1), ('lump', 1), ('deadlock', 1), ('duly', 1), ('hfoddwtf', 1), ('gujerati', 1), ('chatterjee', 1), ('assertion', 4), ('investigator', 1), ('bearings', 1), ('sourced', 3), ('misremembering', 1), ('distros', 1), ('inclining', 1), ('ranksum', 1), ('snag', 1), ('gy', 1), ('lkulq', 1), ('beeing', 1), ('wqbsydu', 1), ('rbfs', 1), ('asymmetrically', 2), ('excpect', 1), ('commonality', 2), ('physicians', 1), ('specialty', 2), ('gyn', 2), ('cardiology', 1), ('specialties', 2), ('endocrinology', 1), ('infertility', 1), ('rei', 13), ('credentials', 1), ('obgyn', 7), ('postives', 1), ('unefficient', 1), ('studentize', 1), ('tremendously', 2), ('buisness', 1), ('optimises', 1), ('longdata', 10), ('subjdata', 8), ('nsubjs', 4), ('nprobs', 3), ('stumble', 1), ('abdominal', 1), ('biceps', 6), ('prophesy', 1), ('abdomen', 6), ('liear', 2), ('biceos', 1), ('subway', 2), ('acceleration', 7), ('planing', 1), ('pocket', 2), ('italic', 1), ('unhealthy', 1), ('phoneid', 1), ('phonetype', 1), ('nokia', 2), ('samsung', 3), ('nnls', 6), ('vsurf', 1), ('ndiff', 1), ('funitroots', 2), ('ruthygarcia', 1), ('viewst', 1), ('integraate', 2), ('fcst', 4), ('enf', 1), ('od', 2), ('redefined', 1), ('borrowing', 1), ('statlearning', 1), ('shapely', 1), ('detectchangpointbatch', 1), ('differest', 1), ('sparce', 1), ('timeshifts', 1), ('kills', 4), ('cnx', 1), ('wolfweb', 1), ('unr', 1), ('zal', 1), ('analitical', 1), ('drr', 3), ('sdr', 3), ('hauck', 1), ('donner', 3), ('genlogit', 1), ('dimens', 6), ('motions', 1), ('kpi', 1), ('coarser', 1), ('frm', 3), ('qausi', 1), ('redevelop', 1), ('mydataframe', 3), ('honored', 1), ('uncorrelatedness', 5), ('supplemented', 1), ('psychologically', 1), ('soothing', 1), ('bermoulli', 1), ('triangulars', 1), ('merrier', 1), ('ufl', 1), ('cda', 1), ('papaer', 1), ('gatedsoftmax', 1), ('hiddens', 1), ('proability', 1), ('wasted', 2), ('lacked', 1), ('speedup', 1), ('chemists', 1), ('purposed', 1), ('oblique', 1), ('usesrp', 5), ('simpsons', 6), ('xxxxxx', 1), ('xxxxxxx', 1), ('nasdaq', 1), ('transpired', 1), ('stipulate', 1), ('partners', 2), ('vecis', 1), ('inquire', 1), ('tact', 11), ('jobless', 12), ('idnat', 9), ('nationality', 4), ('workforce', 1), ('inat', 1), ('nationalty', 1), ('obsmargins', 4), ('ilink', 5), ('recens', 13), ('activite', 1), ('franck', 1), ('harrel', 1), ('obsmargin', 1), ('binh', 1), ('millionaire', 1), ('biostat', 1), ('jhsph', 1), ('iruczins', 1), ('theft', 1), ('involact', 1), ('rigorious', 1), ('counterexample', 3), ('aspirational', 2), ('reacts', 2), ('compass', 1), ('subsecond', 1), ('shedload', 1), ('jog', 1), ('jogger', 1), ('countinuous', 1), ('pharmacy', 2), ('permissible', 3), ('forbidden', 1), ('pde', 1), ('semblance', 1), ('fitctree', 1), ('cellfun', 1), ('rtree', 3), ('fitrtree', 1), ('wiener', 1), ('sixty', 1), ('plugs', 2), ('substantive', 2), ('formulations', 3), ('obeys', 1), ('mmin', 9), ('prcp', 5), ('wraps', 1), ('ands', 1), ('mdi', 1), ('slovakia', 1), ('brains', 1), ('natalia', 1), ('nonpurchasing', 1), ('empathize', 1), ('braces', 1), ('nullset', 2), ('subaddivitiy', 1), ('overestimated', 1), ('lagc', 14), ('rept', 3), ('distractorc', 16), ('repok', 2), ('fctr', 1), ('dbl', 1), ('oddslag', 6), ('oddslagc', 2), ('biometric', 1), ('econometrician', 1), ('wineindt', 6), ('moda', 5), ('modb', 4), ('diffinv', 2), ('undifferencing', 1), ('cowell', 1), ('costumer', 1), ('costumers', 1), ('renewals', 2), ('auth', 2), ('sumx', 3), ('generazlied', 1), ('empfit', 4), ('gevfit', 1), ('ests', 1), ('sstdfit', 1), ('vpars', 1), ('rsstd', 1), ('vparas', 4), ('nortest', 1), ('fln', 3), ('emperical', 4), ('theoritical', 1), ('antecedents', 1), ('waveforms', 1), ('arduino', 1), ('restroom', 2), ('uninterrupted', 1), ('calves', 1), ('predation', 1), ('wolf', 7), ('senescence', 1), ('moose', 1), ('ladies', 1), ('modata', 15), ('walds', 2), ('lemshow', 1), ('statics', 1), ('cgarchspec', 1), ('cgarchfit', 1), ('producer', 6), ('organisations', 2), ('struture', 1), ('annee', 1), ('answerd', 1), ('obseration', 1), ('organising', 1), ('bridged', 1), ('recast', 1), ('exaclty', 1), ('mutiple', 1), ('lenghts', 1), ('measuresments', 1), ('temperarute', 1), ('nanometers', 1), ('quantifies', 1), ('grain', 1), ('pork', 3), ('invalidates', 1), ('logspline', 4), ('adgoftest', 1), ('zoolist', 1), ('ksstats', 2), ('ksfit', 2), ('kspval', 2), ('plogspline', 2), ('adstats', 2), ('adfit', 2), ('adpval', 2), ('cas', 2), ('usf', 1), ('cconnor', 1), ('colima', 1), ('cithep', 1), ('fcp', 1), ('hypothesistest', 1), ('poissonconsistency', 1), ('andersondarling', 1), ('analyisis', 2), ('evnew', 1), ('trillions', 1), ('comibinations', 1), ('tis', 1), ('detremining', 1), ('removeing', 1), ('deduction', 1), ('classed', 1), ('coeficicent', 1), ('portable', 1), ('dumvar', 1), ('inputmatrix', 5), ('cvmethod', 2), ('trainperc', 2), ('defaultsummary', 1), ('tunegrids', 3), ('trainclasses', 3), ('testclasses', 1), ('enterprise', 1), ('santiago', 1), ('pbkrtest', 2), ('matrixmodels', 2), ('stringi', 2), ('sparsem', 2), ('hurried', 1), ('andres', 1), ('unmodeled', 1), ('sutse', 2), ('orx', 2), ('rankdata', 2), ('kurtotic', 1), ('payouts', 5), ('bugging', 2), ('rafting', 1), ('engin', 1), ('umich', 1), ('sorely', 1), ('statusd', 2), ('statusr', 2), ('statsd', 1), ('foggy', 1), ('captains', 2), ('groundfish', 1), ('fishery', 2), ('captain', 3), ('fisheries', 1), ('multinational', 1), ('iia', 4), ('quota', 2), ('teppei', 1), ('dchoice', 1), ('pointrange', 1), ('mirman', 1), ('hubbert', 1), ('grofit', 1), ('centereddata', 2), ('betweencov', 1), ('withincov', 1), ('projectedpoints', 1), ('projectedpointsclass', 4), ('densityclass', 6), ('bagofwords', 1), ('analyzer', 3), ('responces', 1), ('recognizable', 1), ('amazonaws', 1), ('datacamp', 1), ('yprob', 1), ('minimax', 1), ('baraud', 2), ('girard', 1), ('truncating', 1), ('dervations', 1), ('derviations', 1), ('inser', 1), ('dsgh', 4), ('sghfit', 1), ('diethelm', 1), ('wuertz', 1), ('sgh', 1), ('paramgh', 2), ('dgh', 3), ('puplished', 1), ('untuned', 2), ('usekernal', 3), ('kernal', 1), ('disabled', 1), ('usekernel', 1), ('combinat', 1), ('posibilities', 1), ('densitiy', 2), ('gdata', 1), ('numberofdays', 1), ('myers', 1), ('premultiply', 1), ('pink', 1), ('homogene', 1), ('multistart', 2), ('turbid', 5), ('ntu', 5), ('nwind', 5), ('ewind', 5), ('standarderror', 2), ('longtermrange', 6), ('telemetry', 2), ('vocv', 1), ('covest', 1), ('lclm', 2), ('uclm', 2), ('referrals', 1), ('multinomal', 1), ('mathsf', 2), ('monomvn', 1), ('blas', 1), ('blasso', 1), ('equaltions', 1), ('versatile', 1), ('intereste', 1), ('phenological', 1), ('sos', 14), ('obviousely', 1), ('tlst', 1), ('smells', 1), ('easyer', 1), ('basil', 1), ('greenness', 1), ('satellites', 1), ('airplanes', 1), ('infrared', 1), ('stucking', 1), ('steinbach', 1), ('hpi', 1), ('adviced', 1), ('georg', 1), ('baskets', 3), ('bade', 1), ('sporting', 1), ('mov', 3), ('yds', 2), ('dgpd', 1), ('qweibull', 2), ('qgpd', 2), ('libs', 2), ('evmix', 1), ('czy', 1), ('predmat', 1), ('nlami', 1), ('jd', 12), ('vocation', 3), ('employments', 3), ('sequitor', 1), ('survdiff', 1), ('acquaint', 1), ('leftovers', 1), ('darn', 1), ('mosteller', 1), ('sock', 1), ('noble', 1), ('biotechnology', 1), ('semptom', 1), ('dissek', 1), ('lokal', 1), ('evregrup', 1), ('kt', 2), ('solvet', 1), ('esque', 1), ('lousy', 1), ('currents', 4), ('recruits', 2), ('audiences', 1), ('cmp', 5), ('targs', 11), ('kay', 1), ('brodersen', 2), ('eth', 1), ('zurich', 1), ('bkay', 3), ('isnan', 3), ('normcdf', 1), ('neuroimageclinical', 1), ('ismll', 1), ('hildesheim', 1), ('lehre', 1), ('skript', 1), ('zuev', 1), ('calhousing', 4), ('medianvalue', 2), ('medianincome', 1), ('ipdb', 2), ('gbrt', 1), ('axs', 1), ('suptitle', 2), ('nonlocation', 1), ('multiprocessing', 1), ('fiend', 1), ('skeweness', 1), ('nirmality', 1), ('shortened', 3), ('postcode', 3), ('fitlogit', 1), ('postcodes', 1), ('jctgxwyrvp', 1), ('dkj', 1), ('ngvnaws', 1), ('dayinmonth', 1), ('deduped', 1), ('auditor', 1), ('mull', 1), ('optimality', 1), ('parson', 1), ('infogainattributeeval', 1), ('pab', 10), ('pbd', 8), ('pcd', 6), ('inbetween', 2), ('sideways', 1), ('charting', 1), ('periodicty', 1), ('fwun', 1), ('resolutely', 1), ('qg', 1), ('diferent', 1), ('kriging', 7), ('topographic', 1), ('handily', 1), ('lined', 2), ('fundraising', 1), ('diego', 2), ('brokerid', 3), ('broker', 2), ('closingprice', 1), ('openingprice', 1), ('highprice', 1), ('lowprice', 1), ('cors', 5), ('pearsons', 2), ('amoeba', 2), ('pofr', 2), ('lee', 3), ('lemieux', 2), ('tted', 1), ('quartic', 1), ('precursors', 1), ('burst', 1), ('causals', 1), ('underspecified', 2), ('exploding', 1), ('timeseriesobj', 11), ('devi', 1), ('testimonies', 1), ('webs', 2), ('weba', 3), ('webb', 2), ('unitprice', 1), ('selllers', 1), ('deletes', 1), ('harassment', 1), ('contacting', 1), ('diagnosie', 1), ('intractability', 1), ('debating', 1), ('distrib', 1), ('equi', 1), ('densityplot', 2), ('awaiting', 1), ('slusky', 1), ('arms', 2), ('efficacy', 1), ('abl', 28), ('addon', 1), ('extras', 3), ('af', 2), ('antiarrhythmics', 2), ('pvi', 12), ('cryo', 2), ('cfea', 2), ('blanking', 2), ('holter', 5), ('transtelephonic', 1), ('plo', 1), ('efficacious', 1), ('prognostically', 1), ('analysies', 1), ('appliances', 2), ('costraints', 1), ('symmetrised', 1), ('flexmix', 2), ('ssas', 1), ('slider', 1), ('holistic', 1), ('chge', 6), ('tpower', 2), ('observered', 1), ('countings', 1), ('flesh', 2), ('oter', 1), ('zlfps', 3), ('qpzl', 2), ('zldbfsao', 2), ('fps', 4), ('microscope', 2), ('dirt', 1), ('ldeaths', 4), ('bandwidths', 1), ('binaryshelter', 4), ('shelter', 1), ('kscat', 4), ('wscat', 3), ('planhome', 4), ('planwork', 4), ('klnkvulcat', 4), ('kscatb', 1), ('kscatc', 1), ('kscatd', 1), ('kscate', 2), ('kscatf', 1), ('kscatg', 1), ('kscath', 1), ('kscati', 1), ('kscatj', 1), ('wscatb', 1), ('wscatc', 1), ('wscatd', 1), ('wscate', 1), ('wscatf', 1), ('wscatg', 1), ('wscath', 1), ('wscati', 1), ('wscatj', 1), ('klnkvulcatb', 1), ('klnkvulcatc', 1), ('shelteryorn', 1), ('kscata', 1), ('wscata', 1), ('klnkvulcata', 1), ('succeeds', 1), ('submits', 1), ('termlength', 1), ('kludgey', 1), ('simplicialcubature', 1), ('cracking', 1), ('dupe', 3), ('temrinology', 1), ('roblm', 2), ('grs', 2), ('gibbons', 1), ('importer', 1), ('distributors', 1), ('adaptations', 1), ('disconfirming', 1), ('disconfirms', 1), ('expend', 1), ('overweight', 1), ('niched', 1), ('expensepermember', 1), ('incomepermember', 4), ('branchcluster', 1), ('totalmember', 2), ('rentcluster', 1), ('foodcluster', 1), ('amp', 2), ('roundlam', 1), ('bdt', 1), ('xavier', 1), ('rmsprop', 1), ('univerity', 1), ('inquired', 1), ('mahalonobis', 1), ('creared', 1), ('obnoxious', 1), ('bottai', 1), ('mckeown', 1), ('inconvenient', 2), ('bootcov', 4), ('bbbbff', 3), ('disturbing', 2), ('nonunique', 1), ('antilogit', 5), ('antiy', 3), ('compareplot', 4), ('trellis', 4), ('toplevel', 2), ('unfocus', 2), ('sl', 23), ('superlearner', 1), ('dem', 7), ('compp', 3), ('beanplots', 2), ('imagery', 1), ('bv', 3), ('ambaro', 1), ('ambanja', 1), ('cdm', 1), ('runnning', 1), ('adaption', 1), ('leah', 2), ('aab', 2), ('spat', 1), ('deforested', 2), ('hased', 1), ('meanfit', 1), ('sk', 6), ('dfit', 3), ('ufit', 4), ('sdfit', 3), ('skfit', 3), ('kurtfit', 3), ('opp', 1), ('fifo', 1), ('joceratops', 1), ('suitably', 1), ('tangentially', 1), ('venables', 1), ('discloseddriver', 1), ('vehdrvr', 2), ('prmtotal', 2), ('drvr', 5), ('pledge', 5), ('flgy', 1), ('umm', 1), ('petri', 2), ('fungi', 2), ('dishes', 1), ('virulence', 1), ('meanvirulence', 1), ('meangrowth', 1), ('virulencevargrowthvar', 1), ('gendata', 2), ('modelobject', 2), ('rescor', 2), ('resvar', 2), ('numsig', 3), ('numnotsig', 3), ('apnea', 1), ('breaths', 1), ('amazingly', 1), ('exhausted', 1), ('breath', 1), ('snore', 5), ('crisper', 1), ('clockwork', 1), ('intervaldata', 4), ('holm', 1), ('epica', 1), ('metastasis', 4), ('metastatic', 1), ('reclass', 1), ('directional', 3), ('genital', 1), ('arousal', 9), ('arousability', 1), ('distrbution', 1), ('trucated', 1), ('paramet', 1), ('reform', 8), ('cumortg', 2), ('cumdrtg', 2), ('offensive', 1), ('defensive', 1), ('epicalc', 1), ('dunno', 1), ('univate', 1), ('ethic', 1), ('commettee', 1), ('wheras', 1), ('oxmetrics', 4), ('installing', 1), ('fitarma', 4), ('maxlikelyhood', 1), ('constantterm', 2), ('likelyhood', 2), ('brts', 1), ('intrees', 1), ('upa', 1), ('pdx', 2), ('ioa', 1), ('newsom', 1), ('mlrclass', 1), ('mlm', 1), ('analyzes', 3), ('gmlnet', 1), ('changepointanalysis', 1), ('cpa', 1), ('autocorrletion', 1), ('overtly', 1), ('subtraction', 2), ('plough', 3), ('undone', 1), ('distriubtion', 1), ('mygarch', 1), ('garchmodel', 1), ('objectn', 1), ('resumes', 1), ('goodman', 1), ('millisecond', 1), ('fax', 3), ('pqr', 4), ('revegetating', 1), ('feral', 2), ('pigeon', 4), ('migratory', 1), ('specs', 3), ('garchsim', 1), ('unrealistically', 1), ('barriers', 1), ('aset', 1), ('boxers', 11), ('astrologer', 1), ('taurus', 2), ('capricorn', 2), ('virgo', 2), ('stamina', 2), ('earthiness', 1), ('tenacity', 1), ('ethereal', 1), ('pisces', 3), ('aquarius', 3), ('libra', 3), ('peaceful', 1), ('minded', 1), ('fairer', 1), ('brutal', 1), ('earthy', 1), ('boxer', 1), ('endurance', 1), ('lighter', 1), ('heavyweights', 1), ('ali', 1), ('killers', 2), ('astrologers', 1), ('capricorns', 1), ('accountants', 2), ('astrology', 1), ('moan', 1), ('flyweights', 1), ('middleweight', 1), ('fighters', 1), ('realresults', 8), ('prf', 4), ('rocs', 1), ('porch', 1), ('underfit', 1), ('windowed', 1), ('usarrests', 8), ('sdev', 8), ('assault', 2), ('urbanpop', 2), ('roration', 1), ('demoregression', 1), ('hov', 1), ('commuting', 1), ('jounrey', 1), ('posttestscore', 1), ('pretestscore', 1), ('probcategorysame', 1), ('probdatarelated', 1), ('practiceaccuracy', 1), ('practicenumtrials', 1), ('expose', 1), ('fluid', 1), ('shear', 4), ('detachment', 1), ('adherent', 1), ('gigantic', 2), ('thusly', 1), ('typeset', 1), ('notorious', 1), ('dydx', 1), ('latency', 4), ('whizes', 1), ('hopeful', 1), ('dread', 1), ('showthread', 1), ('gspc', 6), ('getyahoodata', 1), ('logret', 1), ('yearfactor', 5), ('agegroupfactor', 4), ('trenddummies', 4), ('glsestimate', 2), ('ruins', 1), ('tandem', 1), ('rekomst', 1), ('areal', 3), ('foresight', 1), ('kj', 1), ('sweave', 1), ('rnw', 1), ('multiseaonal', 1), ('transformaiton', 1), ('pvar', 5), ('possitive', 1), ('weakness', 2), ('vaccine', 1), ('vacnum', 5), ('sexno', 4), ('fitreduced', 2), ('naval', 1), ('battle', 1), ('pstar', 2), ('nolimits', 1), ('klog', 4), ('winecomplete', 1), ('wineincomplete', 1), ('neir', 1), ('gtest', 2), ('datainc', 2), ('dioxide', 6), ('neirest', 1), ('bcp', 1), ('inpatient', 1), ('sacrificing', 1), ('irony', 1), ('nerds', 1), ('escaping', 1), ('interchangeability', 1), ('withi', 1), ('verboseiter', 2), ('rpartcv', 1), ('rpartfull', 1), ('hospitality', 1), ('bending', 1), ('reservations', 2), ('cy', 1), ('unkown', 2), ('categ', 4), ('patx', 2), ('integvals', 3), ('integi', 2), ('staw', 2), ('parsw', 4), ('wmaeopt', 2), ('arimaw', 2), ('errar', 2), ('wmae', 2), ('optwmae', 2), ('fnscale', 1), ('elephants', 1), ('iqrs', 1), ('normalish', 1), ('anw', 4), ('usr', 5), ('hadoop', 6), ('mahoutdriver', 1), ('mathworld', 1), ('uniformratiodistribution', 1), ('gypsy', 1), ('gamblers', 1), ('costsensitiveclassifier', 1), ('nfc', 4), ('cognition', 1), ('byn', 1), ('ezfkbz', 1), ('ppajjzrkjfyxm', 1), ('listen', 2), ('engage', 1), ('eager', 1), ('yeast', 1), ('clusterings', 1), ('rowsds', 1), ('mapalette', 1), ('pointsize', 1), ('colv', 1), ('cexrow', 1), ('cexcol', 1), ('labcol', 1), ('labrow', 1), ('lmat', 1), ('lhei', 1), ('hopach', 1), ('csgillespie', 1), ('singe', 1), ('targetvariable', 1), ('thew', 1), ('crossovers', 1), ('crossover', 1), ('tennis', 4), ('endeavor', 1), ('opposition', 1), ('aiken', 1), ('micheal', 2), ('manor', 1), ('fetishists', 1), ('rigged', 1), ('insiders', 2), ('insider', 1), ('slln', 1), ('eflglobal', 1), ('sbbns', 1), ('decontaminate', 1), ('organised', 1), ('gts', 1), ('sofia', 6), ('tsbugs', 1), ('svpdx', 1), ('bettermodel', 11), ('evens', 1), ('arguable', 1), ('wavelengths', 1), ('jap', 1), ('accelerating', 1), ('wonderfully', 2), ('misalignment', 1), ('revving', 1), ('superstore', 1), ('deseasonal', 1), ('lnspot', 2), ('mytsmain', 2), ('testseries', 2), ('logarima', 3), ('probabilitiess', 1), ('tsclean', 2), ('gaming', 2), ('underestimating', 1), ('overestimating', 1), ('terr', 5), ('predictionsd', 3), ('predictionsf', 3), ('lf', 3), ('flowered', 1), ('avsb', 1), ('classifieds', 1), ('charter', 1), ('critera', 1), ('grilled', 1), ('amplification', 21), ('storagee', 11), ('daystwenty', 6), ('daysthirty', 4), ('cny', 2), ('yrd', 5), ('hrp', 2), ('deepa', 2), ('viewdata', 1), ('rrr', 1), ('chemokine', 1), ('neuroborelliosis', 1), ('pertinent', 3), ('competiton', 1), ('boilerplate', 1), ('loaddata', 1), ('genfromtxt', 1), ('delimiter', 1), ('tfv', 3), ('accents', 1), ('unicode', 1), ('ngram', 1), ('lentrain', 3), ('testfile', 2), ('pagerank', 2), ('glossed', 1), ('ngs', 1), ('csc', 1), ('forecasters', 1), ('judgmental', 4), ('spies', 2), ('stake', 2), ('holders', 1), ('statistcal', 1), ('statsitcal', 1), ('arithmetize', 1), ('clumns', 1), ('pointplots', 1), ('veering', 1), ('chucking', 1), ('cancellations', 1), ('unmanageable', 1), ('monthyear', 1), ('zebra', 2), ('testtwosamples', 2), ('counto', 4), ('defaultdict', 2), ('counte', 4), ('npoints', 2), ('keyso', 2), ('keyse', 2), ('countexpected', 6), ('countobserved', 4), ('timesbelowalpha', 3), ('randint', 2), ('paleoclimate', 1), ('spj', 3), ('regbsubsets', 1), ('possibel', 1), ('leapsmat', 2), ('ftfalse', 3), ('allmodelslist', 4), ('regmat', 2), ('namevar', 1), ('allmodelsresults', 10), ('dfcoefnum', 2), ('ldply', 4), ('dfstderrors', 4), ('dftvalues', 4), ('dfpvalues', 5), ('dfs', 1), ('calcpval', 2), ('fstat', 4), ('noofcoef', 3), ('fstats', 2), ('maxradj', 3), ('mdo', 8), ('mlo', 4), ('mintemp', 1), ('maxtemp', 1), ('sizeofdata', 1), ('histfit', 2), ('lascale', 2), ('popscale', 2), ('aproveeu', 1), ('approveeuw', 1), ('earners', 1), ('finland', 2), ('spca', 1), ('bair', 1), ('uniq', 2), ('augmenting', 2), ('sgdregressor', 1), ('sgdregrssor', 1), ('imperfections', 1), ('compensated', 1), ('grasses', 1), ('capillaris', 1), ('rubra', 1), ('perenne', 1), ('caco', 1), ('floors', 4), ('arrangements', 1), ('discharging', 1), ('cann', 1), ('repeatable', 1), ('fis', 1), ('definiton', 1), ('lays', 2), ('bannerjee', 1), ('carlin', 1), ('gelfand', 1), ('apportionment', 1), ('nbd', 1), ('ballpark', 2), ('logitdat', 1), ('abbreviated', 1), ('caic', 1), ('hqic', 1), ('handsome', 1), ('pastures', 3), ('overproportionally', 1), ('buffer', 1), ('weeds', 2), ('clicking', 1), ('crosscorrelation', 1), ('sphericity', 2), ('indirectly', 3), ('regressionbf', 2), ('bayesfactor', 1), ('fscr', 3), ('gpraphically', 1), ('testxle', 2), ('graduations', 5), ('metaphor', 1), ('nulhypothesis', 1), ('miraculously', 1), ('cht', 4), ('linfct', 3), ('ribbons', 2), ('virginca', 1), ('notx', 3), ('directionality', 1), ('hitching', 1), ('suppressed', 1), ('randomforestsrc', 2), ('rfdata', 3), ('agewitinmy', 1), ('exclusivity', 1), ('rfsrc', 1), ('nsplit', 1), ('replenish', 1), ('subjet', 1), ('quesion', 1), ('ipth', 1), ('concen', 1), ('trations', 1), ('discontinued', 1), ('corefficients', 1), ('cardiac', 8), ('therom', 1), ('masses', 3), ('rightmost', 1), ('intecept', 1), ('aplha', 1), ('ijk', 2), ('ijkt', 1), ('pinheiro', 3), ('corexp', 2), ('prudent', 1), ('deterrent', 1), ('homicide', 2), ('sociodemographic', 1), ('baily', 3), ('homocide', 1), ('bailey', 1), ('deterrence', 1), ('brutalization', 1), ('oklahoma', 1), ('punishment', 1), ('criminology', 1), ('positivepart', 2), ('regs', 3), ('smelling', 1), ('departmental', 1), ('decorrelated', 1), ('efluent', 1), ('ena', 2), ('hydrography', 1), ('regvars', 2), ('datafilehost', 3), ('dframe', 5), ('heteroschedastic', 1), ('asssumed', 1), ('solaraltitude', 1), ('directradiation', 1), ('drybulbtemperature', 1), ('relhum', 1), ('atmosphericpressure', 1), ('pharmaceutical', 1), ('autoimmune', 1), ('caselle', 1), ('nintegrate', 1), ('quicky', 1), ('unsolvable', 1), ('siglm', 2), ('symetrical', 1), ('obb', 1), ('rfs', 1), ('squarespace', 1), ('gbmtune', 1), ('performers', 1), ('discordancy', 1), ('warmly', 1), ('cerme', 1), ('grier', 1), ('subdata', 8), ('rtreefit', 2), ('fancyrpartplot', 1), ('cname', 1), ('rowindx', 2), ('jz', 1), ('prewhitened', 1), ('piping', 1), ('mackinnon', 2), ('ouliaris', 3), ('elliott', 1), ('rothenberg', 1), ('adftest', 2), ('treatmentt', 6), ('groupcontrol', 3), ('groupaffected', 5), ('subtractive', 1), ('forevermore', 1), ('nudge', 2), ('penelope', 1), ('zpois', 10), ('exppres', 3), ('instancem', 1), ('cryoprotectant', 7), ('uptake', 7), ('destructive', 1), ('regrowth', 1), ('ofc', 1), ('momo', 1), ('labells', 1), ('lesion', 1), ('compeletely', 1), ('singly', 1), ('npv', 2), ('aucroc', 1), ('subcategory', 1), ('bronx', 3), ('dagger', 2), ('resolves', 1), ('undesirably', 1), ('arulessequences', 3), ('uid', 4), ('cspades', 1), ('bollean', 1), ('playes', 1), ('loopy', 2), ('semantically', 1), ('breakpoins', 1), ('reparemetrized', 1), ('naivity', 1), ('confining', 1), ('substances', 1), ('xdx', 1), ('glens', 1), ('dowj', 14), ('demeaned', 4), ('errorest', 3), ('bostonhousing', 2), ('regroup', 1), ('widespread', 1), ('unorderly', 1), ('basilar', 1), ('fragmented', 1), ('bisquare', 1), ('pso', 1), ('hispa', 1), ('intelligenthedgefundinvesting', 1), ('drawdown', 2), ('unimodally', 2), ('multimodally', 2), ('silverman', 3), ('iir', 2), ('hskip', 3), ('sugi', 1), ('misclassificiation', 1), ('bonferonni', 1), ('warehouses', 1), ('attrs', 1), ('belle', 1), ('psychophysiological', 1), ('tonic', 5), ('electrodermal', 2), ('sunspots', 4), ('nickname', 1), ('frisbee', 1), ('sailing', 1), ('neophyte', 1), ('alia', 1), ('ominous', 1), ('offests', 1), ('annals', 1), ('multivariables', 1), ('mediators', 2), ('outcomevar', 1), ('medvar', 8), ('ide', 3), ('sumide', 1), ('ugent', 1), ('caluclate', 1), ('gifted', 12), ('notgifted', 7), ('frowned', 1), ('extraordinary', 1), ('hava', 1), ('shipment', 3), ('swamped', 1), ('sizea', 2), ('sizeb', 2), ('sizec', 2), ('observatios', 1), ('basicaly', 1), ('missouri', 1), ('raft', 1), ('plates', 1), ('nrm', 2), ('chemosens', 8), ('ldh', 8), ('eversmoke', 2), ('etoh', 2), ('glrt', 1), ('trinity', 1), ('italicized', 1), ('commissions', 6), ('parallelized', 1), ('popularized', 1), ('bjsales', 2), ('lexical', 1), ('warned', 1), ('classificator', 2), ('journalism', 1), ('objected', 1), ('qpois', 1), ('clears', 1), ('surveyselect', 1), ('djungle', 1), ('fascinating', 2), ('phenotypes', 2), ('biomarkers', 1), ('phenotype', 1), ('humbly', 1), ('copepod', 1), ('occupy', 2), ('massperarea', 3), ('splm', 1), ('millo', 1), ('piras', 1), ('spml', 1), ('leeyu', 1), ('adaptable', 1), ('inapplicable', 1), ('occurrance', 1), ('locked', 3), ('adwin', 1), ('hierarchial', 2), ('howcome', 1), ('timeperiods', 1), ('tsy', 15), ('tsse', 3), ('tsvar', 2), ('autocovvec', 4), ('sumofcolumns', 4), ('sumofcov', 3), ('sumofvar', 2), ('varofsum', 2), ('horror', 2), ('multicore', 1), ('gmulti', 3), ('spare', 2), ('lpsolveapi', 2), ('safebinaryregression', 1), ('dou', 2), ('newmod', 5), ('pgrp', 8), ('sline', 2), ('agit', 3), ('teat', 3), ('lesna', 1), ('graphviz', 1), ('thanos', 1), ('mcjames', 1), ('portland', 1), ('univ', 1), ('acvf', 1), ('downstream', 2), ('meanflow', 5), ('swimspeed', 1), ('swim', 1), ('originating', 1), ('acquires', 1), ('speculator', 3), ('invests', 1), ('ydoes', 1), ('scaler', 7), ('rsults', 1), ('detrimental', 2), ('velocities', 1), ('yule', 1), ('notf', 1), ('inn', 1), ('mantelhaen', 1), ('myrabbit', 1), ('alongwith', 1), ('tgp', 4), ('turbomachinery', 1), ('bgp', 4), ('meanfn', 3), ('btgp', 1), ('bprior', 2), ('bflat', 3), ('alternates', 3), ('bmle', 1), ('lmstyle', 1), ('chipman', 1), ('bmzt', 4), ('bmznot', 3), ('bte', 2), ('ymean', 5), ('xpred', 7), ('gpmodel', 4), ('monontone', 1), ('mysample', 1), ('parsimonous', 2), ('unknwon', 1), ('incoherence', 1), ('adequation', 1), ('sticking', 1), ('gradeful', 1), ('umpu', 1), ('vanishes', 1), ('nominator', 1), ('koef', 7), ('mychi', 1), ('rust', 1), ('leery', 1), ('interrogated', 1), ('refitted', 1), ('interrogate', 1), ('tagset', 2), ('bottle', 3), ('schoenfeld', 1), ('hinting', 2), ('steeply', 1), ('datsel', 3), ('oenb', 4), ('carreg', 5), ('primconsttot', 5), ('resprop', 5), ('cbre', 10), ('primeyield', 5), ('capitalvalue', 5), ('multipleregr', 1), ('partitional', 3), ('precompute', 2), ('mongodb', 1), ('rmongo', 1), ('mongodbconnect', 1), ('localhost', 1), ('dbgetquery', 1), ('hostid', 1), ('runtimemillis', 1), ('memoryutilization', 1), ('rnas', 1), ('biochemist', 1), ('siberia', 1), ('patented', 1), ('amalgamating', 1), ('genomes', 1), ('harmless', 1), ('unwanted', 1), ('mttf', 1), ('smoothering', 1), ('cutted', 2), ('loci', 1), ('mastersheet', 3), ('substract', 1), ('egrid', 2), ('netfit', 1), ('formality', 1), ('adjective', 1), ('pronoun', 1), ('adverb', 1), ('interjection', 1), ('skellam', 1), ('taht', 1), ('mitchel', 1), ('rsm', 1), ('bglrm', 1), ('nagelgerke', 1), ('organic', 1), ('spectroscopy', 1), ('absorbance', 5), ('myr', 2), ('bquote', 2), ('luger', 1), ('ostensible', 1), ('bumbling', 1), ('nxp', 1), ('multivar', 1), ('deathly', 1), ('diffierent', 1), ('recentered', 1), ('nbfeatures', 8), ('nbsamples', 4), ('nbrelevantindices', 3), ('nblambdas', 2), ('relevantindices', 2), ('simulatedsnr', 2), ('colars', 4), ('coglm', 4), ('wan', 2), ('jossie', 1), ('gey', 1), ('qj', 1), ('abalone', 7), ('rings', 4), ('aburl', 2), ('abnames', 2), ('exctract', 1), ('montly', 1), ('analisys', 1), ('disconnects', 1), ('historicals', 1), ('kdd', 1), ('nirf', 1), ('prognosis', 2), ('myocardial', 1), ('perfusion', 1), ('pharmacologic', 2), ('underwent', 1), ('spacings', 1), ('bigramassocmeasures', 1), ('kldiv', 4), ('sharpness', 1), ('depedence', 1), ('afaict', 1), ('taskid', 1), ('timeelapsed', 1), ('finsh', 1), ('hrv', 1), ('iws', 2), ('plor', 1), ('getoption', 1), ('dusk', 1), ('exemplified', 2), ('triggered', 2), ('perturbation', 2), ('falloff', 3), ('desmos', 1), ('forearm', 1), ('powertransformation', 1), ('stabilizing', 2), ('refita', 2), ('refitb', 2), ('refitc', 1), ('realtime', 1), ('merci', 1), ('beaucoup', 1), ('eurozone', 1), ('dinfl', 2), ('suggestment', 1), ('bfast', 1), ('undermine', 1), ('oof', 1), ('milton', 1), ('alexseev', 1), ('slvote', 10), ('xenovote', 2), ('slavicshare', 9), ('changenonslav', 18), ('eduhi', 1), ('vsall', 1), ('brdcont', 1), ('brambor', 2), ('substantively', 2), ('conveys', 1), ('estmean', 2), ('deltamethod', 1), ('payout', 1), ('initiative', 2), ('neighbourhoods', 2), ('consits', 1), ('partakers', 3), ('causational', 1), ('homemade', 1), ('tunnel', 2), ('donny', 1), ('grids', 1), ('specificly', 1), ('multimodelbyregression', 2), ('orthogonalise', 1), ('muntjac', 1), ('sika', 1), ('bushnellb', 1), ('reconyx', 1), ('inflating', 1), ('portuguese', 4), ('prototypical', 3), ('asis', 1), ('willett', 1), ('pubmedcentral', 1), ('findpeaks', 2), ('whiteblood', 1), ('poincar', 1), ('acosh', 1), ('cosh', 2), ('accuratelly', 1), ('demostrate', 1), ('pisa', 1), ('socioeconomic', 4), ('mistakenly', 1), ('msres', 1), ('blip', 1), ('annl', 1), ('begining', 1), ('leapt', 1), ('diploma', 2), ('reducable', 1), ('subpart', 1), ('ants', 2), ('peony', 1), ('retrace', 1), ('tillon', 1), ('balloon', 1), ('amusing', 1), ('ari', 2), ('cultures', 1), ('daughters', 2), ('subsidy', 1), ('transfers', 1), ('taxing', 1), ('domination', 1), ('icml', 1), ('caruana', 1), ('alexandru', 1), ('niculescu', 1), ('mizil', 1), ('attentionforwords', 3), ('newcondition', 3), ('phonemescorrect', 1), ('phonemesincorrect', 1), ('silentwithoutnoticing', 1), ('wnts', 3), ('simdata', 2), ('simdataaccuracy', 6), ('trainx', 3), ('accuracyarima', 4), ('denomintor', 1), ('forecastability', 1), ('meana', 1), ('multipoly', 1), ('fmm', 4), ('stabilized', 3), ('transient', 3), ('overshooting', 1), ('discounting', 1), ('flavored', 1), ('incapable', 2), ('fatma', 1), ('recruitment', 1), ('achievers', 1), ('elite', 1), ('flagships', 1), ('rodney', 1), ('imberman', 2), ('lovenheim', 1), ('msu', 1), ('particulars', 1), ('folderview', 1), ('veqk', 1), ('bvqxyvizotq', 1), ('inconvenience', 1), ('fixedreg', 1), ('laugh', 2), ('weatherman', 1), ('raining', 3), ('travelers', 1), ('notches', 1), ('uneven', 1), ('stlplot', 1), ('foolishly', 1), ('hypothessis', 1), ('aslo', 1), ('msbvar', 3), ('bse', 3), ('nse', 3), ('tstamp', 1), ('cooprrect', 1), ('inadmissable', 1), ('hellevik', 1), ('dichotomy', 1), ('configuring', 1), ('kobe', 2), ('bryant', 2), ('logitshots', 3), ('lol', 1), ('ethern', 1), ('micael', 1), ('collins', 1), ('juggle', 1), ('fluent', 1), ('bds', 4), ('brock', 1), ('dechert', 1), ('scheinkman', 1), ('lebaron', 1), ('causalities', 1), ('endowed', 1), ('statment', 1), ('progressive', 1), ('divergences', 1), ('sarimax', 2), ('shumwhay', 2), ('passfailflag', 1), ('tstrain', 4), ('dvar', 4), ('qvar', 4), ('ordergrid', 4), ('modfit', 2), ('unname', 2), ('difjs', 1), ('difcov', 1), ('waned', 1), ('unbeknownst', 1), ('flavor', 4), ('oc', 4), ('acceptancesampling', 1), ('aql', 5), ('ltpd', 5), ('hypergeom', 6), ('nhoods', 7), ('vns', 4), ('prose', 1), ('digestible', 1), ('fortnightly', 1), ('cursed', 6), ('ornate', 1), ('inaccuracy', 1), ('desks', 1), ('workplace', 1), ('deskhours', 2), ('temperaturesatisfaction', 2), ('perms', 3), ('difs', 2), ('repost', 3), ('rewards', 2), ('rewarding', 1), ('rewarded', 1), ('alternated', 1), ('discourage', 1), ('tuberculosis', 1), ('mists', 1), ('grue', 1), ('mbq', 1), ('wobble', 1), ('whew', 1), ('spl', 4), ('wkly', 1), ('executable', 1), ('rcond', 1), ('itr', 3), ('itakura', 1), ('parallelogram', 2), ('stool', 5), ('newvar', 2), ('datadf', 3), ('duck', 3), ('hawk', 3), ('tide', 4), ('bkrain', 1), ('tcb', 1), ('cfu', 1), ('thermo', 1), ('coliform', 1), ('enspace', 1), ('processors', 1), ('ropes', 1), ('spectacular', 1), ('mytime', 3), ('rissues', 1), ('kpc', 1), ('kpca', 1), ('uncleaned', 1), ('underneath', 1), ('francis', 1), ('bach', 1), ('reshaping', 1), ('polyr', 1), ('accomondate', 1), ('begginer', 1), ('hisp', 1), ('wealthy', 1), ('calories', 1), ('recieved', 1), ('dichotomization', 1), ('threashold', 1), ('favours', 1), ('predicament', 1), ('formulaically', 1), ('askings', 4), ('amenity', 1), ('fols', 1), ('roller', 2), ('blades', 2), ('makecontrasts', 1), ('perplexing', 1), ('regulared', 1), ('usesraw', 2), ('sme', 3), ('collaborating', 1), ('phds', 1), ('topped', 1), ('reinforced', 2), ('bur', 1), ('progressively', 1), ('intensve', 1), ('relabel', 1), ('completedhighschool', 1), ('sibling', 1), ('brfss', 4), ('hofroe', 1), ('diabete', 6), ('genhlth', 1), ('persdoc', 1), ('flushot', 1), ('pneuvac', 1), ('rfhype', 1), ('rfchol', 1), ('incomg', 1), ('rfdrhv', 2), ('nsamples', 3), ('passinggrade', 2), ('frist', 5), ('nmfik', 1), ('proglaraa', 1), ('prognastk', 1), ('prognbffk', 1), ('prognbibk', 1), ('progndatk', 1), ('prognfysk', 1), ('prognmatk', 1), ('prognmetk', 1), ('prognmfik', 1), ('prognsfyy', 1), ('progsmekk', 1), ('genderman', 1), ('insole', 1), ('pressurefromsensor', 4), ('lazio', 1), ('milan', 1), ('prospects', 1), ('ofu', 1), ('numsamples', 1), ('numclasses', 1), ('numsamplesclass', 2), ('shaking', 1), ('damaged', 3), ('tearing', 1), ('customary', 1), ('sabine', 1), ('myacf', 1), ('selector', 1), ('coeffic', 1), ('mislabel', 1), ('dependentvariable', 2), ('forcv', 1), ('regressiong', 1), ('notoriously', 1), ('plentitude', 1), ('excitation', 2), ('mnrfit', 3), ('dial', 1), ('consulting', 2), ('andulay', 1), ('antulang', 1), ('basak', 1), ('dauin', 1), ('poblacion', 1), ('guinsuan', 1), ('kookoo', 1), ('lutoban', 2), ('pier', 2), ('malatapay', 1), ('treands', 1), ('microsimulation', 1), ('chronic', 3), ('unlucky', 1), ('thold', 3), ('glmmodel', 3), ('myctrl', 7), ('createresample', 1), ('timingsamps', 1), ('rfmodel', 2), ('svmmodel', 2), ('knnmodel', 2), ('nnmodel', 2), ('resamps', 5), ('dotplot', 1), ('scree', 2), ('dicument', 1), ('lconsumption', 1), ('ldfi', 1), ('expcted', 1), ('cltv', 10), ('esr', 1), ('keytype', 1), ('ijkey', 1), ('rzo', 1), ('agva', 1), ('ekq', 1), ('cannectin', 1), ('workfiles', 1), ('oblivious', 1), ('helpeful', 1), ('oscillatory', 1), ('concocted', 1), ('answerable', 1), ('viol', 11), ('intecepts', 1), ('aps', 10), ('emot', 1), ('elope', 1), ('behav', 1), ('custd', 1), ('exponentiating', 1), ('exponentiation', 1), ('browse', 1), ('overdue', 12), ('bzdygyn', 1), ('vfqbeddkrdfpelfkbtg', 1), ('impago', 1), ('monto', 1), ('vencido', 1), ('impagos', 1), ('overduem', 2), ('widen', 1), ('mxreg', 1), ('dfd', 1), ('dfn', 1), ('sufficiency', 1), ('matrixes', 1), ('fot', 1), ('binr', 1), ('domc', 1), ('iu', 1), ('endeavoring', 2), ('nadal', 7), ('springs', 1), ('depdendent', 1), ('ethnicities', 1), ('minizing', 1), ('glmmml', 1), ('crossvalind', 1), ('fprintf', 1), ('tj', 1), ('scrap', 1), ('hairy', 1), ('sandbox', 1), ('supposition', 1), ('rali', 2), ('publis', 1), ('sokolovalapalme', 1), ('jipm', 1), ('wikipedias', 1), ('quail', 1), ('treatmentcontrol', 1), ('treatmentno', 1), ('treatmentquail', 1), ('hydrocarbon', 1), ('hydro', 5), ('ambulances', 2), ('ambulance', 3), ('singled', 2), ('vanishing', 1), ('quinlan', 1), ('makefile', 1), ('readme', 1), ('logtime', 5), ('ral', 3), ('covlag', 2), ('illumination', 1), ('bcoz', 1), ('asssume', 1), ('subtlety', 1), ('tmodel', 1), ('dispo', 6), ('medicare', 5), ('pci', 5), ('cabg', 5), ('dialysis', 5), ('ami', 5), ('pvd', 5), ('cvd', 5), ('cpd', 5), ('rhd', 5), ('pud', 5), ('dia', 5), ('hepa', 5), ('slvd', 5), ('alch', 5), ('sync', 5), ('anem', 5), ('malneo', 5), ('metcncr', 5), ('coag', 5), ('stk', 11), ('nutdef', 5), ('ysu', 1), ('sou', 7), ('vpn', 2), ('vps', 2), ('wardamun', 1), ('wardauna', 1), ('wardaunb', 1), ('wardcicu', 1), ('wardcpcu', 1), ('wardcsic', 1), ('wardcsoh', 1), ('wardcvou', 1), ('wardcvru', 1), ('wardgate', 1), ('wardldru', 1), ('wardmicu', 1), ('wardneph', 1), ('wardobrr', 1), ('wardobsb', 1), ('wardobsc', 1), ('wardrebi', 1), ('wardrgen', 1), ('wardsicu', 1), ('svccan', 1), ('svccar', 1), ('svccts', 1), ('svcden', 1), ('svcdet', 1), ('svcebs', 1), ('svcedc', 1), ('svcegn', 1), ('svcegs', 1), ('svcems', 1), ('svcent', 1), ('svcers', 1), ('svceys', 1), ('svcfam', 1), ('svcgas', 1), ('svcgyn', 1), ('svchem', 1), ('svcldo', 1), ('svcmed', 1), ('svcnep', 1), ('svcneu', 1), ('svcnrs', 1), ('svcoba', 1), ('svcobd', 1), ('svcobn', 1), ('svcobs', 1), ('svconc', 1), ('svcoph', 1), ('svcort', 1), ('svcped', 1), ('svcpls', 1), ('svcpod', 1), ('svcpul', 1), ('svcsur', 1), ('svcuro', 1), ('raceamerican', 1), ('indian', 2), ('raceasian', 1), ('racecaucasian', 1), ('sourceother', 1), ('sourcera', 1), ('typej', 1), ('typeq', 1), ('dispohome', 1), ('dispohospice', 1), ('dispoother', 1), ('disposnf', 1), ('statusmarried', 1), ('statusother', 1), ('statusseperated', 1), ('statussingle', 1), ('statuswidowed', 1), ('calib', 2), ('brave', 1), ('hcrf', 1), ('paedagogical', 1), ('demonstrations', 1), ('varh', 2), ('vari', 3), ('varg', 1), ('varj', 1), ('incl', 1), ('approximative', 1), ('evolutionary', 1), ('travelmode', 1), ('tarantino', 2), ('miramax', 2), ('bender', 2), ('starring', 2), ('dreyfus', 1), ('thurman', 2), ('travolta', 1), ('film', 1), ('robber', 2), ('vault', 2), ('hesitant', 1), ('additivity', 1), ('unknowingly', 1), ('serological', 1), ('disambiguate', 1), ('disentangled', 1), ('geared', 1), ('delineates', 1), ('glossary', 1), ('markovian', 1), ('instantiations', 1), ('rabbit', 1), ('summarising', 1), ('dbns', 1), ('interrelate', 1), ('generalizations', 1), ('rebecca', 1), ('hutchinson', 1), ('indrayana', 1), ('rustandi', 1), ('cmu', 1), ('cald', 1), ('carnegie', 1), ('mellon', 1), ('oliver', 2), ('giminez', 1), ('jean', 2), ('dominique', 1), ('lebreton', 1), ('michel', 1), ('gaillard', 1), ('remi', 1), ('choquet', 1), ('pradel', 1), ('barbara', 1), ('engelhardt', 2), ('scribe', 1), ('lec', 1), ('jeroen', 1), ('vermunt', 2), ('ambulatory', 1), ('tilburg', 1), ('specialeventsandconferences', 1), ('ken', 1), ('richardson', 1), ('harte', 1), ('kristie', 1), ('carter', 1), ('sofie', 1), ('ghahramani', 2), ('datea', 2), ('dateb', 1), ('datec', 1), ('uwyo', 1), ('instructure', 1), ('verifier', 1), ('hourfit', 2), ('bchourfit', 1), ('concneg', 4), ('conczero', 2), ('concplus', 4), ('concfitneg', 4), ('concfitzero', 3), ('concfitplus', 4), ('boxcoxfr', 2), ('concopti', 2), ('concoptifit', 2), ('subtracts', 1), ('standardizes', 1), ('prods', 1), ('skews', 2), ('clump', 1), ('timets', 3), ('hwout', 1), ('termination', 2), ('lnsrch', 2), ('linmod', 3), ('internatinal', 1), ('glmstepaic', 1), ('dvb', 1), ('instrumentation', 1), ('gstat', 3), ('variograms', 2), ('anisotropy', 2), ('variogram', 11), ('aisotropy', 1), ('phisiological', 1), ('relavant', 1), ('webster', 1), ('geostatistics', 1), ('stimulating', 1), ('wolberg', 1), ('rminer', 2), ('lforecast', 1), ('survnnet', 2), ('predictsurvprob', 3), ('pec', 1), ('survnet', 2), ('llog', 1), ('simsurv', 1), ('multilayerperceptron', 1), ('gum', 1), ('worser', 1), ('stdin', 1), ('incurring', 1), ('cvtools', 1), ('validiation', 1), ('labmda', 1), ('lassocv', 1), ('drx', 3), ('errmin', 4), ('gmer', 2), ('yxer', 2), ('newr', 3), ('elevated', 2), ('mmol', 1), ('triglyceride', 2), ('atomicobject', 1), ('interperable', 1), ('preceq', 1), ('narrowly', 1), ('farfetched', 1), ('hunderd', 1), ('usefull', 1), ('simmilar', 1), ('acs', 2), ('enumerations', 1), ('shedding', 1), ('subroutine', 1), ('lucid', 1), ('resilience', 2), ('partsa', 4), ('partsb', 4), ('ignorant', 2), ('ventricle', 1), ('emptying', 3), ('markedly', 1), ('organise', 1), ('tac', 24), ('unpredictability', 1), ('voila', 1), ('interactively', 2), ('somelike', 1), ('overcomes', 1), ('acfs', 1), ('pacfs', 1), ('usconsumption', 13), ('separatedly', 1), ('approproate', 1), ('onsite', 1), ('picbucket', 5), ('mcuserid', 1), ('mediacostcpm', 7), ('serving', 5), ('surprises', 1), ('insecure', 2), ('cen', 6), ('tipped', 1), ('distractor', 1), ('traumatic', 3), ('chased', 1), ('existance', 1), ('minkowski', 1), ('asigned', 1), ('comparisions', 1), ('variuos', 1), ('hictorical', 1), ('powerfull', 1), ('roboust', 1), ('erp', 4), ('nonstationarity', 1), ('riskfree', 1), ('pondering', 1), ('frontiers', 1), ('zarembka', 1), ('axiome', 2), ('reprinted', 1), ('dover', 1), ('positivity', 1), ('possbile', 1), ('effekt', 1), ('exsists', 1), ('universial', 2), ('palm', 3), ('haze', 1), ('burnings', 1), ('plantations', 1), ('discomfort', 1), ('dag', 1), ('debatable', 1), ('exaggerating', 1), ('erfc', 1), ('knowndata', 1), ('newmodel', 2), ('additionaldata', 2), ('newforecast', 1), ('improperly', 1), ('anaesthesia', 1), ('anaesthetic', 7), ('morphine', 2), ('diamorphine', 2), ('slick', 1), ('chest', 6), ('synchronise', 1), ('resolutions', 1), ('oztkp', 1), ('rz', 1), ('dfrkaktywehzlxlfbfvknmllbgvxnhc', 1), ('numer', 1), ('crowd', 1), ('hedge', 1), ('reddit', 1), ('propriety', 1), ('encrypt', 1), ('unsorted', 1), ('diversifying', 1), ('bitcoins', 1), ('ponzi', 1), ('skflow', 4), ('tensorflowdnnregressor', 1), ('tensorflowdnnclassifier', 1), ('lowerlimit', 2), ('higherlimit', 2), ('currentweek', 1), ('levine', 1), ('nagging', 1), ('disaggregate', 1), ('reconstructing', 1), ('arbirtary', 1), ('distinict', 1), ('propbably', 1), ('empiricaldistribution', 3), ('countsall', 2), ('countsselected', 2), ('testutils', 1), ('chisquaretestdatasetscomparison', 1), ('allnumeric', 2), ('selectednumeric', 2), ('dateset', 2), ('apriory', 1), ('separetely', 1), ('tfromx', 1), ('randi', 1), ('ipds', 8), ('ipd', 6), ('rejoining', 1), ('invokes', 1), ('repression', 2), ('assc', 1), ('asst', 1), ('statacumen', 2), ('trunk', 1), ('appl', 1), ('dqrls', 1), ('orderly', 1), ('continuums', 1), ('vowels', 1), ('continua', 1), ('lsvrc', 1), ('wordnet', 1), ('utmost', 1), ('pamk', 1), ('eulidean', 1), ('onevsall', 6), ('stopifnot', 1), ('mymodels', 4), ('newsreader', 1), ('dvd', 7), ('myfavoritegenes', 1), ('honduran', 1), ('peurto', 1), ('rican', 1), ('lil', 1), ('fist', 1), ('myfavoritegene', 2), ('clinicaldata', 1), ('african', 1), ('interviewer', 2), ('bizarre', 1), ('magician', 1), ('headed', 1), ('lindley', 1), ('bouncing', 2), ('preceeding', 1), ('rle', 1), ('ka', 1), ('jjjkk', 1), ('sabbe', 1), ('corcar', 1), ('glmms', 1), ('consumable', 1), ('supplies', 1), ('initally', 1), ('announces', 1), ('tesla', 1), ('goings', 1), ('sally', 3), ('angela', 3), ('rebuilding', 1), ('amassed', 1), ('droughts', 1), ('persion', 1), ('vomitting', 1), ('severities', 1), ('randomamtofcredit', 1), ('clickstream', 1), ('numvisitors', 2), ('trusting', 1), ('hyptheses', 1), ('asnwered', 1), ('fitw', 1), ('fitg', 1), ('fitln', 1), ('loglogis', 1), ('fendo', 1), ('atv', 1), ('llogis', 1), ('delignette', 1), ('polled', 2), ('pantera', 1), ('qchisq', 1), ('rhythmic', 1), ('lazily', 2), ('matlabs', 1), ('fitnet', 6), ('oss', 1), ('fann', 1), ('informatio', 1), ('levenberg', 1), ('marquardt', 1), ('smartpls', 1), ('sempls', 1), ('backcalculating', 1), ('speakerid', 1), ('wtsfoo', 2), ('talklab', 1), ('gla', 1), ('tvw', 1), ('elogit', 1), ('chops', 1), ('statlog', 1), ('installment', 2), ('liable', 1), ('feedforwardnet', 1), ('trainparam', 1), ('divideparam', 3), ('trainratio', 1), ('valratio', 1), ('testratio', 1), ('welddb', 1), ('minibatches', 4), ('unavailable', 1), ('vely', 1), ('aapl', 5), ('matplot', 1), ('insigificant', 1), ('denmark', 1), ('theorizing', 1), ('heuristically', 1), ('meanoutdoortemp', 3), ('controlmpc', 2), ('lynx', 3), ('impossibility', 1), ('clamp', 1), ('clamped', 1), ('inappropriately', 1), ('rgl', 1), ('akima', 1), ('graham', 6), ('umt', 3), ('rotateaxis', 2), ('pimult', 5), ('critgam', 4), ('numcases', 2), ('numdirec', 3), ('hor', 6), ('azi', 14), ('dscale', 4), ('srt', 2), ('crt', 2), ('panelgamma', 2), ('lofit', 6), ('nump', 3), ('xout', 1), ('parusr', 1), ('easting', 25), ('northing', 25), ('ammonia', 4), ('nitroxides', 9), ('vario', 22), ('adjustcolor', 1), ('coords', 12), ('aniso', 2), ('anix', 4), ('aniy', 4), ('vgm', 1), ('sph', 4), ('anis', 1), ('chull', 1), ('polygrid', 1), ('krige', 4), ('northpred', 4), ('eastpred', 4), ('interp', 3), ('xo', 3), ('zmin', 3), ('zmax', 3), ('zlim', 2), ('likehood', 1), ('mlog', 3), ('axample', 1), ('encog', 2), ('workbench', 1), ('shade', 1), ('presuming', 1), ('guyon', 1), ('isabelle', 1), ('andr', 1), ('elisseeff', 1), ('heidelberg', 1), ('affiliated', 1), ('vphantom', 2), ('uxdu', 1), ('jeffreys', 1), ('hoff', 1), ('csscp', 2), ('rwish', 1), ('revolving', 11), ('creditcard', 1), ('transtats', 1), ('bts', 1), ('iap', 4), ('kolmogorv', 1), ('clauset', 1), ('ksp', 1), ('collagen', 1), ('clodds', 1), ('sixteen', 1), ('pugh', 3), ('cirrhosis', 2), ('bye', 1), ('prorated', 1), ('lebesgue', 4), ('euler', 1), ('euqations', 1), ('langrange', 1), ('aika', 1), ('vrk', 1), ('kulutus', 1), ('eugene', 1), ('feinberg', 1), ('almozg', 1), ('narod', 1), ('bible', 1), ('decl', 2), ('stucked', 1), ('esteem', 6), ('rcts', 2), ('themes', 1), ('workshops', 1), ('cbt', 1), ('enduring', 1), ('resist', 1), ('mindful', 1), ('acknowledgment', 1), ('jos', 1), ('ecologists', 1), ('misspecified', 1), ('negated', 1), ('punctuation', 1), ('stem', 1), ('whitespace', 1), ('lpl', 4), ('aquaculture', 1), ('xiao', 1), ('esajournals', 1), ('propscore', 1), ('brierscore', 1), ('xtr', 1), ('xte', 1), ('modem', 1), ('xxxxxxxxxxxx', 1), ('semanticscholar', 1), ('fdcf', 1), ('haym', 1), ('hirsh', 1), ('tremendous', 1), ('oops', 1), ('unlabled', 1), ('sameple', 1), ('manpage', 1), ('promocode', 1), ('platforms', 1), ('pax', 1), ('signin', 2), ('gnbu', 1), ('shadow', 1), ('reallocated', 1), ('sampl', 9), ('bootstraps', 1), ('warriors', 1), ('mnrval', 1), ('sins', 3), ('inbox', 2), ('unread', 6), ('qrqi', 1), ('prenum', 1), ('prednum', 1), ('predcat', 2), ('responsevar', 1), ('bilirubin', 1), ('margenalization', 1), ('equivelant', 1), ('excersies', 1), ('surfaced', 1), ('inp', 1), ('tcyc', 2), ('tinst', 4), ('tmem', 4), ('tcom', 4), ('multithreaded', 1), ('contnention', 1), ('executiong', 1), ('lsqnonneg', 1), ('tactics', 1), ('yekutieli', 1), ('reiner', 1), ('fanchart', 1), ('rlmm', 1), ('lgco', 5), ('asr', 5), ('profound', 1), ('lgsqrtco', 2), ('stouffers', 1), ('nomination', 1), ('memm', 1), ('regularizing', 1), ('drasticly', 1), ('suppossed', 1), ('classpredict', 4), ('ypredict', 1), ('validy', 1), ('classvalid', 4), ('classvalidpredict', 4), ('validpredicty', 1), ('costclasstrain', 2), ('costclassvalid', 2), ('lmod', 5), ('smod', 6), ('sequencesize', 3), ('bio', 1), ('penultimate', 1), ('avellaneda', 1), ('arbitrage', 1), ('mizera', 1), ('ofthe', 1), ('docentes', 1), ('pinclusru', 1), ('inclusionprobabilities', 1), ('totaldocentes', 1), ('indmuestraurbano', 1), ('upsystematic', 1), ('pinclusur', 1), ('nodules', 2), ('nodule', 1), ('gerlach', 1), ('kinematics', 1), ('mchange', 1), ('detectors', 1), ('calculuate', 1), ('canned', 1), ('abhishek', 1), ('absorbed', 1), ('cfs', 3), ('bruxism', 8), ('grinding', 1), ('nph', 3), ('nightly', 1), ('buffet', 1), ('griffiths', 1), ('backcasted', 1), ('mspe', 2), ('ijpam', 1), ('beifly', 1), ('soe', 1), ('ucsc', 1), ('leslie', 1), ('wis', 1), ('campbelllopuhaarousseeuw', 1), ('calculationsestimatorscat', 1), ('resubmission', 1), ('traceability', 1), ('mtrl', 1), ('smashed', 1), ('smash', 1), ('intradayvary', 5), ('varvolume', 1), ('reimplement', 1), ('standalones', 1), ('bacco', 1), ('impetus', 1), ('agostino', 1), ('sway', 1), ('nuanced', 1), ('risible', 1), ('subpopulations', 1), ('inorder', 1), ('indiscriminately', 1), ('guarantied', 1), ('conforming', 1), ('lagpad', 2), ('usconsumpdf', 5), ('consumptionlag', 4), ('coincident', 1), ('wagg', 2), ('nixon', 1), ('gait', 2), ('ieee', 1), ('afgr', 1), ('possibile', 1), ('dew', 1), ('intervalizing', 1), ('lpu', 1), ('tas', 2), ('grading', 2), ('conscientiously', 1), ('aforge', 1), ('aforgenet', 1), ('collsnp', 3), ('repaired', 1), ('oai', 2), ('ven', 1), ('pav', 1), ('outlets', 1), ('kml', 2), ('smacof', 1), ('obligatory', 1), ('password', 2), ('polisci', 1), ('cfariss', 1), ('simlogit', 1), ('spreads', 2), ('erasing', 1), ('scepticism', 1), ('sceptism', 2), ('skepticism', 1), ('mla', 1), ('hanley', 2), ('flu', 3), ('cdcfluview', 1), ('usflu', 6), ('ilinet', 1), ('ili', 1), ('phis', 16), ('fromt', 1), ('ignorable', 1), ('scipi', 1), ('wrzlprmft', 1), ('awebb', 1), ('netflix', 1), ('fooled', 1), ('sugested', 1), ('cplm', 1), ('cpglmm', 1), ('abclass', 1), ('validmu', 1), ('valideta', 1), ('varselrf', 2), ('penalizedsvm', 1), ('coefficientes', 1), ('finnaly', 1), ('sspace', 1), ('troubleshooting', 1), ('representability', 1), ('transcriptional', 1), ('epcp', 1), ('oomisc', 1), ('modelgood', 1), ('recalled', 1), ('mountain', 1), ('qpe', 2), ('joy', 1), ('headway', 1), ('infotheo', 4), ('interinformation', 5), ('condinformation', 2), ('mutinformation', 2), ('creat', 1), ('exacly', 1), ('missunderstand', 1), ('simplelogistic', 1), ('pecially', 1), ('xxt', 1), ('turbulent', 2), ('rousseeuw', 1), ('croux', 1), ('qn', 3), ('offhand', 1), ('enjoy', 2), ('kwak', 1), ('preferreably', 1), ('reparametrizing', 1), ('reparametrized', 1), ('mislead', 1), ('enterprises', 1), ('porfolio', 1), ('schwarz', 1), ('maj', 7), ('okt', 7), ('reportedprobability', 2), ('emancipated', 1), ('baxter', 1), ('determinisitc', 1), ('sinosiod', 1), ('plaqued', 1), ('cyclyical', 1), ('individualsxweek', 1), ('refrained', 1), ('enviromental', 1), ('sediments', 1), ('compounda', 2), ('betamix', 1), ('juho', 1), ('kokkala', 1)])"
            ]
          },
          "metadata": {
            "tags": []
          },
          "execution_count": 71
        }
      ]
    },
    {
      "cell_type": "code",
      "metadata": {
        "id": "x7QZqXtBHFD4",
        "colab_type": "code",
        "colab": {}
      },
      "source": [
        "# prepare tokenizer again where tokens appear more than 3 times are considered\n",
        "\n",
        "x_tokenizer = Tokenizer(num_words=count, oov_token='unk')\n",
        "\n",
        "#prepare vocabulary\n",
        "x_tokenizer.fit_on_texts(x_train)"
      ],
      "execution_count": 73,
      "outputs": []
    },
    {
      "cell_type": "markdown",
      "metadata": {
        "id": "qDPwrwjvIHZo",
        "colab_type": "text"
      },
      "source": [
        "Now that we have encoded every token to an integer, let's convert the text sequences to integer sequences. After that we will pad the integer sequences to the maximum sequence length, i.e., 100."
      ]
    },
    {
      "cell_type": "code",
      "metadata": {
        "id": "iaWHjxy1Hr7r",
        "colab_type": "code",
        "colab": {}
      },
      "source": [
        "# maximum sequence length allowed\n",
        "max_len = 100\n",
        "\n",
        "# convert text sequence into integer sequences\n",
        "x_train_seq = x_tokenizer.texts_to_sequences(x_train)\n",
        "x_valid_seq = x_tokenizer.texts_to_sequences(x_valid)\n",
        "\n",
        "#padding up with zero\n",
        "\n",
        "x_train_seq = pad_sequences(x_train_seq, padding='post', maxlen=max_len)\n",
        "x_valid_seq = pad_sequences(x_valid_seq, padding='post', maxlen=max_len)"
      ],
      "execution_count": 74,
      "outputs": []
    },
    {
      "cell_type": "code",
      "metadata": {
        "id": "sSfMaAOSJ2lD",
        "colab_type": "code",
        "colab": {
          "base_uri": "https://localhost:8080/",
          "height": 34
        },
        "outputId": "34993c01-2703-4e96-f5de-7b775b2556e1"
      },
      "source": [
        "# Since we are padding the sequences with zeros, we must increment the vocabulary size by one.\n",
        "x_voc_size = x_tokenizer.num_words + 1\n",
        "x_voc_size"
      ],
      "execution_count": 75,
      "outputs": [
        {
          "output_type": "execute_result",
          "data": {
            "text/plain": [
              "12575"
            ]
          },
          "metadata": {
            "tags": []
          },
          "execution_count": 75
        }
      ]
    },
    {
      "cell_type": "code",
      "metadata": {
        "id": "zaRcyoHsKGVy",
        "colab_type": "code",
        "colab": {
          "base_uri": "https://localhost:8080/",
          "height": 187
        },
        "outputId": "1befdd05-18c0-4bf9-d9be-db578273079b"
      },
      "source": [
        "x_train_seq[0]"
      ],
      "execution_count": 76,
      "outputs": [
        {
          "output_type": "execute_result",
          "data": {
            "text/plain": [
              "array([1953, 5711,  416, 2023,    1,  226, 1747, 3740,  609,   43,  181,\n",
              "       1953,  372,   19,  100,  416,    9, 1747, 3839,  238,   27,   27,\n",
              "         27,   27,   27,   70,    6, 6919,    8, 1163,   70,    6,   43,\n",
              "         43, 1802, 1802, 1802,   36,   36,   36,   36, 4308, 5410,    4,\n",
              "        124,  592,  107,   22,    2, 1747, 4065,   27,   10, 1309,   10,\n",
              "       6414,   10,  190,   10,  416,   10,   27,   10, 1309,   10, 6414,\n",
              "         10,  190,   10,  416,   10,  456,  139,   15,    7,    2, 4610,\n",
              "        164,   27,   10, 1309,   10, 6414,   10,  190,   10,  416,   10,\n",
              "         27,   76,   27, 1309,   76,   27, 6414,   76,   27,  190,   76,\n",
              "         27], dtype=int32)"
            ]
          },
          "metadata": {
            "tags": []
          },
          "execution_count": 76
        }
      ]
    },
    {
      "cell_type": "markdown",
      "metadata": {
        "id": "1raLzBFaKVug",
        "colab_type": "text"
      },
      "source": [
        "# Model Building"
      ]
    },
    {
      "cell_type": "code",
      "metadata": {
        "id": "_41DwYoCKP6B",
        "colab_type": "code",
        "colab": {}
      },
      "source": [
        "from keras.models import *\n",
        "from keras.layers import *\n",
        "from keras.callbacks import *"
      ],
      "execution_count": 77,
      "outputs": []
    },
    {
      "cell_type": "markdown",
      "metadata": {
        "id": "8w1naYdCKjBj",
        "colab_type": "text"
      },
      "source": [
        "##### Define Model Architecture"
      ]
    },
    {
      "cell_type": "code",
      "metadata": {
        "id": "ZO-L0ZYrKhYD",
        "colab_type": "code",
        "colab": {}
      },
      "source": [
        "# sequential model\n",
        "model = Sequential()\n",
        "\n",
        "# embedding layer\n",
        "model.add(Embedding(x_voc_size, 50, input_length=max_len, mask_zero=True))\n",
        "\n",
        "# RNN layer\n",
        "model.add(SimpleRNN(128,activation='relu'))\n",
        "\n",
        "# dense layer\n",
        "model.add(Dense(128, activation='relu'))\n",
        "\n",
        "#output layer\n",
        "model.add(Dense(10,activation='sigmoid'))"
      ],
      "execution_count": 78,
      "outputs": []
    },
    {
      "cell_type": "code",
      "metadata": {
        "id": "sIXt-5ydTTBU",
        "colab_type": "code",
        "colab": {
          "base_uri": "https://localhost:8080/",
          "height": 289
        },
        "outputId": "e41a9912-9400-4fac-addc-d359bfbd0faf"
      },
      "source": [
        "model.summary()"
      ],
      "execution_count": 79,
      "outputs": [
        {
          "output_type": "stream",
          "text": [
            "Model: \"sequential_1\"\n",
            "_________________________________________________________________\n",
            "Layer (type)                 Output Shape              Param #   \n",
            "=================================================================\n",
            "embedding_1 (Embedding)      (None, 100, 50)           628750    \n",
            "_________________________________________________________________\n",
            "simple_rnn_1 (SimpleRNN)     (None, 128)               22912     \n",
            "_________________________________________________________________\n",
            "dense_1 (Dense)              (None, 128)               16512     \n",
            "_________________________________________________________________\n",
            "dense_2 (Dense)              (None, 10)                1290      \n",
            "=================================================================\n",
            "Total params: 669,464\n",
            "Trainable params: 669,464\n",
            "Non-trainable params: 0\n",
            "_________________________________________________________________\n"
          ],
          "name": "stdout"
        }
      ]
    },
    {
      "cell_type": "code",
      "metadata": {
        "id": "csynx7NPTVNt",
        "colab_type": "code",
        "colab": {}
      },
      "source": [
        "#define optimizer and loss\n",
        "model.compile(optimizer='adam',loss='binary_crossentropy')"
      ],
      "execution_count": 80,
      "outputs": []
    },
    {
      "cell_type": "code",
      "metadata": {
        "id": "6yv3V_yuTftj",
        "colab_type": "code",
        "colab": {}
      },
      "source": [
        "mc = ModelCheckpoint(\"weights_best.hdf5\", monitor='val_loss', verbose=1, save_best_only=True, mode='min')"
      ],
      "execution_count": 81,
      "outputs": []
    },
    {
      "cell_type": "markdown",
      "metadata": {
        "id": "DCZRPt0NTzGY",
        "colab_type": "text"
      },
      "source": [
        "## Train Model"
      ]
    },
    {
      "cell_type": "code",
      "metadata": {
        "id": "Z4foTQUlTvOO",
        "colab_type": "code",
        "colab": {
          "base_uri": "https://localhost:8080/",
          "height": 1000
        },
        "outputId": "b6ae57b6-8b33-4c80-f1e5-95a89dca21dd"
      },
      "source": [
        "history = model.fit(x_train_seq, y_train, batch_size=128, epochs=15, verbose=1, validation_data=(x_valid_seq,y_valid),callbacks=[mc])"
      ],
      "execution_count": 83,
      "outputs": [
        {
          "output_type": "stream",
          "text": [
            "Train on 8884 samples, validate on 2222 samples\n",
            "Epoch 1/15\n",
            "8884/8884 [==============================] - 10s 1ms/step - loss: 0.5871 - val_loss: 0.4836\n",
            "\n",
            "Epoch 00001: val_loss improved from inf to 0.48365, saving model to weights_best.hdf5\n",
            "Epoch 2/15\n",
            "8884/8884 [==============================] - 9s 980us/step - loss: 0.4773 - val_loss: 0.4738\n",
            "\n",
            "Epoch 00002: val_loss improved from 0.48365 to 0.47379, saving model to weights_best.hdf5\n",
            "Epoch 3/15\n",
            "8884/8884 [==============================] - 9s 965us/step - loss: 0.4485 - val_loss: 0.4378\n",
            "\n",
            "Epoch 00003: val_loss improved from 0.47379 to 0.43780, saving model to weights_best.hdf5\n",
            "Epoch 4/15\n",
            "8884/8884 [==============================] - 9s 980us/step - loss: 0.4105 - val_loss: 0.4276\n",
            "\n",
            "Epoch 00004: val_loss improved from 0.43780 to 0.42756, saving model to weights_best.hdf5\n",
            "Epoch 5/15\n",
            "8884/8884 [==============================] - 8s 951us/step - loss: 0.3927 - val_loss: 0.4302\n",
            "\n",
            "Epoch 00005: val_loss did not improve from 0.42756\n",
            "Epoch 6/15\n",
            "8884/8884 [==============================] - 9s 973us/step - loss: 0.3728 - val_loss: 0.4274\n",
            "\n",
            "Epoch 00006: val_loss improved from 0.42756 to 0.42739, saving model to weights_best.hdf5\n",
            "Epoch 7/15\n",
            "8884/8884 [==============================] - 8s 956us/step - loss: 0.3513 - val_loss: 0.4348\n",
            "\n",
            "Epoch 00007: val_loss did not improve from 0.42739\n",
            "Epoch 8/15\n",
            "8884/8884 [==============================] - 9s 975us/step - loss: 0.3274 - val_loss: 0.4033\n",
            "\n",
            "Epoch 00008: val_loss improved from 0.42739 to 0.40329, saving model to weights_best.hdf5\n",
            "Epoch 9/15\n",
            "8884/8884 [==============================] - 9s 966us/step - loss: 0.3050 - val_loss: 0.4396\n",
            "\n",
            "Epoch 00009: val_loss did not improve from 0.40329\n",
            "Epoch 10/15\n",
            "8884/8884 [==============================] - 9s 977us/step - loss: 0.2915 - val_loss: 0.4236\n",
            "\n",
            "Epoch 00010: val_loss did not improve from 0.40329\n",
            "Epoch 11/15\n",
            "8884/8884 [==============================] - 8s 946us/step - loss: 0.2578 - val_loss: 0.4417\n",
            "\n",
            "Epoch 00011: val_loss did not improve from 0.40329\n",
            "Epoch 12/15\n",
            "8884/8884 [==============================] - 9s 975us/step - loss: 0.2354 - val_loss: 0.4462\n",
            "\n",
            "Epoch 00012: val_loss did not improve from 0.40329\n",
            "Epoch 13/15\n",
            "8884/8884 [==============================] - 8s 943us/step - loss: 0.2138 - val_loss: 0.4676\n",
            "\n",
            "Epoch 00013: val_loss did not improve from 0.40329\n",
            "Epoch 14/15\n",
            "8884/8884 [==============================] - 8s 951us/step - loss: 0.1939 - val_loss: 0.5553\n",
            "\n",
            "Epoch 00014: val_loss did not improve from 0.40329\n",
            "Epoch 15/15\n",
            "8884/8884 [==============================] - 9s 970us/step - loss: 0.1724 - val_loss: 0.5279\n",
            "\n",
            "Epoch 00015: val_loss did not improve from 0.40329\n"
          ],
          "name": "stdout"
        }
      ]
    },
    {
      "cell_type": "markdown",
      "metadata": {
        "id": "fqi06knQcmnU",
        "colab_type": "text"
      },
      "source": [
        "# Model Predictions"
      ]
    },
    {
      "cell_type": "code",
      "metadata": {
        "id": "OvIebcd1chAe",
        "colab_type": "code",
        "colab": {}
      },
      "source": [
        "# load weights into new model\n",
        "model.load_weights(\"weights_best.hdf5\")\n",
        "\n",
        "#predict probabilities\n",
        "pred_prob = model.predict(x_valid_seq)"
      ],
      "execution_count": 85,
      "outputs": []
    },
    {
      "cell_type": "code",
      "metadata": {
        "id": "iSdJ0HJjeFCu",
        "colab_type": "code",
        "colab": {
          "base_uri": "https://localhost:8080/",
          "height": 68
        },
        "outputId": "be7d43cb-b55a-4f49-a71e-e6c710722d50"
      },
      "source": [
        "pred_prob[0]"
      ],
      "execution_count": 86,
      "outputs": [
        {
          "output_type": "execute_result",
          "data": {
            "text/plain": [
              "array([0.03611231, 0.01988664, 0.0798845 , 0.26136142, 0.20482484,\n",
              "       0.00886136, 0.5898737 , 0.53161955, 0.05482775, 0.25114483],\n",
              "      dtype=float32)"
            ]
          },
          "metadata": {
            "tags": []
          },
          "execution_count": 86
        }
      ]
    },
    {
      "cell_type": "markdown",
      "metadata": {
        "id": "HMa3Y3jkghjL",
        "colab_type": "text"
      },
      "source": [
        "The predictions are in terms of probabilities for each of the 10 tags. Hence we need to have a threshold value to convert these probabilities to 0 or 1.\n",
        "\n",
        "Let's specify a set of candidate threshold values. We will select the threshold value that performs the best for the validation set."
      ]
    },
    {
      "cell_type": "code",
      "metadata": {
        "id": "ll2olGQsfdlE",
        "colab_type": "code",
        "colab": {
          "base_uri": "https://localhost:8080/",
          "height": 102
        },
        "outputId": "d8281ce7-f93a-4bc2-8d73-63f16f73df5d"
      },
      "source": [
        "#define candidate threshold values\n",
        "import numpy as np\n",
        "threshold  = np.arange(0,0.5,0.01)\n",
        "threshold"
      ],
      "execution_count": 92,
      "outputs": [
        {
          "output_type": "execute_result",
          "data": {
            "text/plain": [
              "array([0.  , 0.01, 0.02, 0.03, 0.04, 0.05, 0.06, 0.07, 0.08, 0.09, 0.1 ,\n",
              "       0.11, 0.12, 0.13, 0.14, 0.15, 0.16, 0.17, 0.18, 0.19, 0.2 , 0.21,\n",
              "       0.22, 0.23, 0.24, 0.25, 0.26, 0.27, 0.28, 0.29, 0.3 , 0.31, 0.32,\n",
              "       0.33, 0.34, 0.35, 0.36, 0.37, 0.38, 0.39, 0.4 , 0.41, 0.42, 0.43,\n",
              "       0.44, 0.45, 0.46, 0.47, 0.48, 0.49])"
            ]
          },
          "metadata": {
            "tags": []
          },
          "execution_count": 92
        }
      ]
    },
    {
      "cell_type": "code",
      "metadata": {
        "id": "KgeE__fggk5W",
        "colab_type": "code",
        "colab": {}
      },
      "source": [
        "# Let's define a function that takes a threshold value and uses it to convert probabilities into 1 or 0.\n",
        "# convert probabilities into classes or tags based on a threshold value\n",
        "\n",
        "def classify(pred_prob,thresh):\n",
        "  y_pred_seq = []\n",
        "\n",
        "  for i in pred_prob:\n",
        "    temp=[]\n",
        "    for j in i:\n",
        "      if j>=thresh:\n",
        "        temp.append(1)\n",
        "      else:\n",
        "        temp.append(0)\n",
        "    y_pred_seq.append(temp)\n",
        "\n",
        "  return y_pred_seq"
      ],
      "execution_count": 98,
      "outputs": []
    },
    {
      "cell_type": "code",
      "metadata": {
        "id": "GlGvqmgHh3Q4",
        "colab_type": "code",
        "colab": {}
      },
      "source": [
        "from sklearn import metrics\n",
        "score=[]\n",
        "\n",
        "#convert to 1 array\n",
        "y_true = np.array(y_valid).ravel() \n",
        "\n",
        "for thresh in threshold:\n",
        "    \n",
        "    #classes for each threshold\n",
        "    y_pred_seq = classify(pred_prob,thresh) \n",
        "\n",
        "    #convert to 1d array\n",
        "    y_pred = np.array(y_pred_seq).ravel()\n",
        "\n",
        "    score.append(metrics.f1_score(y_true,y_pred))"
      ],
      "execution_count": 100,
      "outputs": []
    },
    {
      "cell_type": "code",
      "metadata": {
        "id": "32TQ4B1ii4aA",
        "colab_type": "code",
        "colab": {
          "base_uri": "https://localhost:8080/",
          "height": 34
        },
        "outputId": "c196fe21-9c6d-4969-b3dc-ebead4664e84"
      },
      "source": [
        "#find the optimal threshold\n",
        "opt = threshold[score.index(max(score))]\n",
        "opt"
      ],
      "execution_count": 101,
      "outputs": [
        {
          "output_type": "execute_result",
          "data": {
            "text/plain": [
              "0.31"
            ]
          },
          "metadata": {
            "tags": []
          },
          "execution_count": 101
        }
      ]
    },
    {
      "cell_type": "markdown",
      "metadata": {
        "id": "-RSOkOpYj6sb",
        "colab_type": "text"
      },
      "source": [
        "#Model Evaluation"
      ]
    },
    {
      "cell_type": "code",
      "metadata": {
        "id": "oMEF--qWjJsv",
        "colab_type": "code",
        "colab": {}
      },
      "source": [
        "#predictions for optimal threshold\n",
        "y_pred_seq = classify(pred_prob,opt)\n",
        "y_pred = np.array(y_pred_seq).ravel()"
      ],
      "execution_count": 102,
      "outputs": []
    },
    {
      "cell_type": "code",
      "metadata": {
        "id": "gVLH9Or_kJWV",
        "colab_type": "code",
        "colab": {
          "base_uri": "https://localhost:8080/",
          "height": 170
        },
        "outputId": "0530882f-5068-4241-c523-29c96edc12b6"
      },
      "source": [
        "print(metrics.classification_report(y_true,y_pred))"
      ],
      "execution_count": 103,
      "outputs": [
        {
          "output_type": "stream",
          "text": [
            "              precision    recall  f1-score   support\n",
            "\n",
            "           0       0.89      0.85      0.87     17520\n",
            "           1       0.52      0.61      0.56      4700\n",
            "\n",
            "    accuracy                           0.80     22220\n",
            "   macro avg       0.71      0.73      0.72     22220\n",
            "weighted avg       0.81      0.80      0.81     22220\n",
            "\n"
          ],
          "name": "stdout"
        }
      ]
    },
    {
      "cell_type": "code",
      "metadata": {
        "id": "zVrkgeG9kSg8",
        "colab_type": "code",
        "colab": {}
      },
      "source": [
        "y_pred = mlb.inverse_transform(np.array(y_pred_seq))\n",
        "y_true = mlb.inverse_transform(np.array(y_valid))\n",
        "\n",
        "df = pd.DataFrame({'comment':x_valid,'actual':y_true,'predictions':y_pred})"
      ],
      "execution_count": 104,
      "outputs": []
    },
    {
      "cell_type": "code",
      "metadata": {
        "id": "DWN7NpX6k2oE",
        "colab_type": "code",
        "colab": {
          "base_uri": "https://localhost:8080/",
          "height": 614
        },
        "outputId": "731962f5-58fb-408e-b3f7-a13a04989603"
      },
      "source": [
        "df.sample(10)"
      ],
      "execution_count": 105,
      "outputs": [
        {
          "output_type": "execute_result",
          "data": {
            "text/html": [
              "<div>\n",
              "<style scoped>\n",
              "    .dataframe tbody tr th:only-of-type {\n",
              "        vertical-align: middle;\n",
              "    }\n",
              "\n",
              "    .dataframe tbody tr th {\n",
              "        vertical-align: top;\n",
              "    }\n",
              "\n",
              "    .dataframe thead th {\n",
              "        text-align: right;\n",
              "    }\n",
              "</style>\n",
              "<table border=\"1\" class=\"dataframe\">\n",
              "  <thead>\n",
              "    <tr style=\"text-align: right;\">\n",
              "      <th></th>\n",
              "      <th>comment</th>\n",
              "      <th>actual</th>\n",
              "      <th>predictions</th>\n",
              "    </tr>\n",
              "  </thead>\n",
              "  <tbody>\n",
              "    <tr>\n",
              "      <th>1814</th>\n",
              "      <td>is there any way to test whether a series should be logged or transformed in another way i have a code of which i use to run lots of different data through to forecast some of the data definitely ...</td>\n",
              "      <td>(r, time series)</td>\n",
              "      <td>(classification, machine learning, r)</td>\n",
              "    </tr>\n",
              "    <tr>\n",
              "      <th>1083</th>\n",
              "      <td>i d like to perform a test for homogeneity of variance in r but i don t have samples available to test i have the sample mean of each group the sample deviation of each group and the sample size o...</td>\n",
              "      <td>(hypothesis testing, r)</td>\n",
              "      <td>(r, regression)</td>\n",
              "    </tr>\n",
              "    <tr>\n",
              "      <th>221</th>\n",
              "      <td>i am currently reading my econometrics notes and there is an example that has really stumped me the example has an answer with it but i do not understand a few things now what i do not understand ...</td>\n",
              "      <td>(hypothesis testing, self study)</td>\n",
              "      <td>(distributions, probability, self study)</td>\n",
              "    </tr>\n",
              "    <tr>\n",
              "      <th>1495</th>\n",
              "      <td>i have days of daily attendance data and need to use the first days data to predict the next days and match it with my actual values how do i decide which is the best model to use for forecasting ...</td>\n",
              "      <td>(r, time series)</td>\n",
              "      <td>(r, regression)</td>\n",
              "    </tr>\n",
              "    <tr>\n",
              "      <th>1327</th>\n",
              "      <td>que consider a normal population with unknown mean mu and variance sigma to test h mu against h mu ne a random sample of size is taken based on this sample the test of the form bar x n k rejects t...</td>\n",
              "      <td>(hypothesis testing, self study)</td>\n",
              "      <td>(distributions, probability, self study)</td>\n",
              "    </tr>\n",
              "    <tr>\n",
              "      <th>2213</th>\n",
              "      <td>for supervised machine learning for prediction if i had some feature variables that are real and also some features that are categorical which have been coded using dummy variables etc i have norm...</td>\n",
              "      <td>(machine learning, regression)</td>\n",
              "      <td>(logistic, r, regression)</td>\n",
              "    </tr>\n",
              "    <tr>\n",
              "      <th>437</th>\n",
              "      <td>i ve been revising the concepts of logistic regression and suddenly realized that the probability function of the logistic model in the book isl looks absolutely different from other sources for i...</td>\n",
              "      <td>(logistic, machine learning, probability)</td>\n",
              "      <td>(r, regression)</td>\n",
              "    </tr>\n",
              "    <tr>\n",
              "      <th>1538</th>\n",
              "      <td>i effectively want to model the probability of a player winning his service point a point in which he is the server based on the values of explanatory variables namely court surface and opponent w...</td>\n",
              "      <td>(logistic, machine learning, r, regression)</td>\n",
              "      <td>(r, regression)</td>\n",
              "    </tr>\n",
              "    <tr>\n",
              "      <th>101</th>\n",
              "      <td>i understand the concept of scaling the data matrix to use in a linear regression model for example in r you could use scaled data scale data scale true my only question is for new observations fo...</td>\n",
              "      <td>(r, regression)</td>\n",
              "      <td>(r, regression)</td>\n",
              "    </tr>\n",
              "    <tr>\n",
              "      <th>195</th>\n",
              "      <td>say i have a multivariate gaussian mixture model p x sum k pi in mu i sigma i of which the boldsymbol mu and boldsymbol sigma are known so the likelihood function of the coefficients boldsymbol pi...</td>\n",
              "      <td>(distributions, self study)</td>\n",
              "      <td>(logistic, r, regression)</td>\n",
              "    </tr>\n",
              "  </tbody>\n",
              "</table>\n",
              "</div>"
            ],
            "text/plain": [
              "                                                                                                                                                                                                      comment  ...                               predictions\n",
              "1814  is there any way to test whether a series should be logged or transformed in another way i have a code of which i use to run lots of different data through to forecast some of the data definitely ...  ...     (classification, machine learning, r)\n",
              "1083  i d like to perform a test for homogeneity of variance in r but i don t have samples available to test i have the sample mean of each group the sample deviation of each group and the sample size o...  ...                           (r, regression)\n",
              "221   i am currently reading my econometrics notes and there is an example that has really stumped me the example has an answer with it but i do not understand a few things now what i do not understand ...  ...  (distributions, probability, self study)\n",
              "1495  i have days of daily attendance data and need to use the first days data to predict the next days and match it with my actual values how do i decide which is the best model to use for forecasting ...  ...                           (r, regression)\n",
              "1327  que consider a normal population with unknown mean mu and variance sigma to test h mu against h mu ne a random sample of size is taken based on this sample the test of the form bar x n k rejects t...  ...  (distributions, probability, self study)\n",
              "2213  for supervised machine learning for prediction if i had some feature variables that are real and also some features that are categorical which have been coded using dummy variables etc i have norm...  ...                 (logistic, r, regression)\n",
              "437   i ve been revising the concepts of logistic regression and suddenly realized that the probability function of the logistic model in the book isl looks absolutely different from other sources for i...  ...                           (r, regression)\n",
              "1538  i effectively want to model the probability of a player winning his service point a point in which he is the server based on the values of explanatory variables namely court surface and opponent w...  ...                           (r, regression)\n",
              "101   i understand the concept of scaling the data matrix to use in a linear regression model for example in r you could use scaled data scale data scale true my only question is for new observations fo...  ...                           (r, regression)\n",
              "195   say i have a multivariate gaussian mixture model p x sum k pi in mu i sigma i of which the boldsymbol mu and boldsymbol sigma are known so the likelihood function of the coefficients boldsymbol pi...  ...                 (logistic, r, regression)\n",
              "\n",
              "[10 rows x 3 columns]"
            ]
          },
          "metadata": {
            "tags": []
          },
          "execution_count": 105
        }
      ]
    },
    {
      "cell_type": "markdown",
      "metadata": {
        "id": "izUt7sANnCM_",
        "colab_type": "text"
      },
      "source": [
        "# Using LSTM"
      ]
    },
    {
      "cell_type": "code",
      "metadata": {
        "id": "1ZQELpsZlY4P",
        "colab_type": "code",
        "colab": {}
      },
      "source": [
        "import keras.backend as k"
      ],
      "execution_count": 112,
      "outputs": []
    },
    {
      "cell_type": "code",
      "metadata": {
        "id": "u3GFSsUsnI-i",
        "colab_type": "code",
        "colab": {}
      },
      "source": [
        "k.clear_session()\n",
        "\n",
        "# sequential model\n",
        "model = Sequential()\n",
        "\n",
        "# embedding layer\n",
        "model.add(Embedding(x_voc_size, 50, input_length=max_len, mask_zero=True))\n",
        "\n",
        "#lstm \n",
        "model.add(LSTM(128))\n",
        "\n",
        "# dense layer\n",
        "model.add(Dense(128, activation='relu'))\n",
        "\n",
        "#output layer\n",
        "model.add(Dense(10,activation='sigmoid'))"
      ],
      "execution_count": 113,
      "outputs": []
    },
    {
      "cell_type": "code",
      "metadata": {
        "id": "SoUiYomLn_EE",
        "colab_type": "code",
        "colab": {
          "base_uri": "https://localhost:8080/",
          "height": 289
        },
        "outputId": "fa63bc19-68b7-43d5-d893-ee9ced25a3ac"
      },
      "source": [
        "model.summary()"
      ],
      "execution_count": 114,
      "outputs": [
        {
          "output_type": "stream",
          "text": [
            "Model: \"sequential_1\"\n",
            "_________________________________________________________________\n",
            "Layer (type)                 Output Shape              Param #   \n",
            "=================================================================\n",
            "embedding_1 (Embedding)      (None, 100, 50)           628750    \n",
            "_________________________________________________________________\n",
            "lstm_1 (LSTM)                (None, 128)               91648     \n",
            "_________________________________________________________________\n",
            "dense_1 (Dense)              (None, 128)               16512     \n",
            "_________________________________________________________________\n",
            "dense_2 (Dense)              (None, 10)                1290      \n",
            "=================================================================\n",
            "Total params: 738,200\n",
            "Trainable params: 738,200\n",
            "Non-trainable params: 0\n",
            "_________________________________________________________________\n"
          ],
          "name": "stdout"
        }
      ]
    },
    {
      "cell_type": "code",
      "metadata": {
        "id": "Yskd5uUQoByp",
        "colab_type": "code",
        "colab": {}
      },
      "source": [
        "#define optimizer and loss\n",
        "model.compile(optimizer='adam',loss='binary_crossentropy')\n",
        "\n",
        "#checkpoint to save best model during training\n",
        "mc = ModelCheckpoint(\"weights.best.hdf5\", monitor='val_loss', verbose=1, save_best_only=True, mode='min')"
      ],
      "execution_count": 115,
      "outputs": []
    },
    {
      "cell_type": "code",
      "metadata": {
        "id": "RVnuM7KPoF--",
        "colab_type": "code",
        "colab": {
          "base_uri": "https://localhost:8080/",
          "height": 1000
        },
        "outputId": "b25ebe76-bb40-4808-97bd-1589bef2aa38"
      },
      "source": [
        "history = model.fit(x_train_seq, y_train, batch_size=128, epochs=15, verbose=1, validation_data=(x_valid_seq,y_valid),callbacks=[mc])"
      ],
      "execution_count": 116,
      "outputs": [
        {
          "output_type": "stream",
          "text": [
            "/usr/local/lib/python3.6/dist-packages/tensorflow/python/framework/indexed_slices.py:434: UserWarning: Converting sparse IndexedSlices to a dense Tensor of unknown shape. This may consume a large amount of memory.\n",
            "  \"Converting sparse IndexedSlices to a dense Tensor of unknown shape. \"\n"
          ],
          "name": "stderr"
        },
        {
          "output_type": "stream",
          "text": [
            "Train on 8884 samples, validate on 2222 samples\n",
            "Epoch 1/15\n",
            "8884/8884 [==============================] - 35s 4ms/step - loss: 0.5127 - val_loss: 0.4829\n",
            "\n",
            "Epoch 00001: val_loss improved from inf to 0.48295, saving model to weights.best.hdf5\n",
            "Epoch 2/15\n",
            "8884/8884 [==============================] - 34s 4ms/step - loss: 0.4815 - val_loss: 0.4776\n",
            "\n",
            "Epoch 00002: val_loss improved from 0.48295 to 0.47757, saving model to weights.best.hdf5\n",
            "Epoch 3/15\n",
            "8884/8884 [==============================] - 33s 4ms/step - loss: 0.4377 - val_loss: 0.4202\n",
            "\n",
            "Epoch 00003: val_loss improved from 0.47757 to 0.42016, saving model to weights.best.hdf5\n",
            "Epoch 4/15\n",
            "8884/8884 [==============================] - 35s 4ms/step - loss: 0.3987 - val_loss: 0.4031\n",
            "\n",
            "Epoch 00004: val_loss improved from 0.42016 to 0.40306, saving model to weights.best.hdf5\n",
            "Epoch 5/15\n",
            "8884/8884 [==============================] - 33s 4ms/step - loss: 0.3570 - val_loss: 0.4288\n",
            "\n",
            "Epoch 00005: val_loss did not improve from 0.40306\n",
            "Epoch 6/15\n",
            "8884/8884 [==============================] - 34s 4ms/step - loss: 0.3239 - val_loss: 0.3466\n",
            "\n",
            "Epoch 00006: val_loss improved from 0.40306 to 0.34659, saving model to weights.best.hdf5\n",
            "Epoch 7/15\n",
            "8884/8884 [==============================] - 34s 4ms/step - loss: 0.2866 - val_loss: 0.3413\n",
            "\n",
            "Epoch 00007: val_loss improved from 0.34659 to 0.34125, saving model to weights.best.hdf5\n",
            "Epoch 8/15\n",
            "8884/8884 [==============================] - 34s 4ms/step - loss: 0.2573 - val_loss: 0.3336\n",
            "\n",
            "Epoch 00008: val_loss improved from 0.34125 to 0.33361, saving model to weights.best.hdf5\n",
            "Epoch 9/15\n",
            "8884/8884 [==============================] - 33s 4ms/step - loss: 0.2310 - val_loss: 0.3406\n",
            "\n",
            "Epoch 00009: val_loss did not improve from 0.33361\n",
            "Epoch 10/15\n",
            "8884/8884 [==============================] - 33s 4ms/step - loss: 0.2103 - val_loss: 0.3456\n",
            "\n",
            "Epoch 00010: val_loss did not improve from 0.33361\n",
            "Epoch 11/15\n",
            "8884/8884 [==============================] - 33s 4ms/step - loss: 0.1951 - val_loss: 0.3555\n",
            "\n",
            "Epoch 00011: val_loss did not improve from 0.33361\n",
            "Epoch 12/15\n",
            "8884/8884 [==============================] - 33s 4ms/step - loss: 0.1770 - val_loss: 0.3681\n",
            "\n",
            "Epoch 00012: val_loss did not improve from 0.33361\n",
            "Epoch 13/15\n",
            "8884/8884 [==============================] - 34s 4ms/step - loss: 0.1644 - val_loss: 0.3877\n",
            "\n",
            "Epoch 00013: val_loss did not improve from 0.33361\n",
            "Epoch 14/15\n",
            "8884/8884 [==============================] - 33s 4ms/step - loss: 0.1493 - val_loss: 0.4049\n",
            "\n",
            "Epoch 00014: val_loss did not improve from 0.33361\n",
            "Epoch 15/15\n",
            "8884/8884 [==============================] - 34s 4ms/step - loss: 0.1357 - val_loss: 0.4317\n",
            "\n",
            "Epoch 00015: val_loss did not improve from 0.33361\n"
          ],
          "name": "stdout"
        }
      ]
    },
    {
      "cell_type": "code",
      "metadata": {
        "id": "xTaazo0toNEq",
        "colab_type": "code",
        "colab": {}
      },
      "source": [
        "# load weights into new model \n",
        "model.load_weights(\"weights.best.hdf5\")\n",
        "\n",
        "#predict probabilities\n",
        "pred_prob = model.predict(x_valid_seq)"
      ],
      "execution_count": 118,
      "outputs": []
    },
    {
      "cell_type": "code",
      "metadata": {
        "id": "aqARtaj5obqG",
        "colab_type": "code",
        "colab": {}
      },
      "source": [
        "score=[]\n",
        "\n",
        "#convert to 1 array\n",
        "y_true = np.array(y_valid).ravel() \n",
        "\n",
        "for thresh in threshold:\n",
        "    \n",
        "    #classes for each threshold\n",
        "    y_pred_seq = classify(pred_prob,thresh) \n",
        "\n",
        "    #convert to 1d array\n",
        "    y_pred = np.array(y_pred_seq).ravel()\n",
        "\n",
        "    score.append(metrics.f1_score(y_true,y_pred))"
      ],
      "execution_count": 120,
      "outputs": []
    },
    {
      "cell_type": "code",
      "metadata": {
        "id": "5XMXpi5coftt",
        "colab_type": "code",
        "colab": {}
      },
      "source": [
        "#predictions for optimal threshold\n",
        "y_pred_seq = classify(pred_prob,opt)\n",
        "y_pred = np.array(y_pred_seq).ravel()"
      ],
      "execution_count": 121,
      "outputs": []
    },
    {
      "cell_type": "code",
      "metadata": {
        "id": "igaQiBzVooCk",
        "colab_type": "code",
        "colab": {
          "base_uri": "https://localhost:8080/",
          "height": 682
        },
        "outputId": "cf4525f2-c4d3-442e-8d08-ca4c89026078"
      },
      "source": [
        "y_pred = mlb.inverse_transform(np.array(y_pred_seq))\n",
        "y_true = mlb.inverse_transform(np.array(y_valid))\n",
        "\n",
        "df = pd.DataFrame({'comment':x_valid,'actual':y_true,'predictions':y_pred})\n",
        "df.sample(10)"
      ],
      "execution_count": 123,
      "outputs": [
        {
          "output_type": "execute_result",
          "data": {
            "text/html": [
              "<div>\n",
              "<style scoped>\n",
              "    .dataframe tbody tr th:only-of-type {\n",
              "        vertical-align: middle;\n",
              "    }\n",
              "\n",
              "    .dataframe tbody tr th {\n",
              "        vertical-align: top;\n",
              "    }\n",
              "\n",
              "    .dataframe thead th {\n",
              "        text-align: right;\n",
              "    }\n",
              "</style>\n",
              "<table border=\"1\" class=\"dataframe\">\n",
              "  <thead>\n",
              "    <tr style=\"text-align: right;\">\n",
              "      <th></th>\n",
              "      <th>comment</th>\n",
              "      <th>actual</th>\n",
              "      <th>predictions</th>\n",
              "    </tr>\n",
              "  </thead>\n",
              "  <tbody>\n",
              "    <tr>\n",
              "      <th>780</th>\n",
              "      <td>is there any function for m estimation in multivariate linear regression model in r i can estimate the beta s in my model by using the rlm by rewriting the y variables into one column but i would ...</td>\n",
              "      <td>(r, regression)</td>\n",
              "      <td>(r, regression)</td>\n",
              "    </tr>\n",
              "    <tr>\n",
              "      <th>1905</th>\n",
              "      <td>i have one exam question anyone can answer and explain the reason for me you are studying the following y beta beta x x u you know that the two variables x and x are positively correlated to avoid...</td>\n",
              "      <td>(regression, self study)</td>\n",
              "      <td>(regression, self study)</td>\n",
              "    </tr>\n",
              "    <tr>\n",
              "      <th>1579</th>\n",
              "      <td>i m exploring some stack overflow data amongst other variables i have variables for the time questions were asked and the time they were answered i m interested in predicting how long a questioner...</td>\n",
              "      <td>(machine learning, time series)</td>\n",
              "      <td>(r, regression)</td>\n",
              "    </tr>\n",
              "    <tr>\n",
              "      <th>1643</th>\n",
              "      <td>in ecology we often use the logistic growth equation n t frac k n e rt k n e rt or n t frac k n n k n e rt where k is the carrying capacity maximum density reached n is the initial density r is th...</td>\n",
              "      <td>(distributions, r)</td>\n",
              "      <td>(distributions, hypothesis testing, probability, self study)</td>\n",
              "    </tr>\n",
              "    <tr>\n",
              "      <th>1928</th>\n",
              "      <td>if i have to build a time series prediction model and all i have is a sequence of timestamps of a user when he logs in to a site how do you model that here is the first few rows of the data i have...</td>\n",
              "      <td>(regression, time series)</td>\n",
              "      <td>(r, time series)</td>\n",
              "    </tr>\n",
              "    <tr>\n",
              "      <th>395</th>\n",
              "      <td>i am constructing a class classifier and using cross validation to tune certain parameters in my model the predictor variables are both continuous and one is ordinal based on looking at the respon...</td>\n",
              "      <td>(classification, machine learning)</td>\n",
              "      <td>(logistic, r, regression)</td>\n",
              "    </tr>\n",
              "    <tr>\n",
              "      <th>1594</th>\n",
              "      <td>i once heard that log transformation is the most popular one for right skewed distributions in linear regression or quantile regression i would like to know is there any reason underlying this sta...</td>\n",
              "      <td>(distributions, regression)</td>\n",
              "      <td>(distributions, probability, self study)</td>\n",
              "    </tr>\n",
              "    <tr>\n",
              "      <th>1582</th>\n",
              "      <td>i have an outcome which is truncated from both left and right sides i would like to know which regression method may account this kind of analysis here is an example set seed z rnorm y z z z trunc...</td>\n",
              "      <td>(r, regression)</td>\n",
              "      <td>(r, regression)</td>\n",
              "    </tr>\n",
              "    <tr>\n",
              "      <th>2119</th>\n",
              "      <td>assume i have a time series x t that i want to fit using an arima model of the form delta x t alpha delta x t w t this could be rewritten as x t x t alpha x t x t w t x t alpha x t alpha x t w t t...</td>\n",
              "      <td>(r, time series)</td>\n",
              "      <td>(r, time series)</td>\n",
              "    </tr>\n",
              "    <tr>\n",
              "      <th>1344</th>\n",
              "      <td>i am using both r and sas for the time series modeling there is an option in sas that i could not find so far in any packages developed in r for the time series modeling such as tsa or forecast pa...</td>\n",
              "      <td>(r, time series)</td>\n",
              "      <td>(r, time series)</td>\n",
              "    </tr>\n",
              "  </tbody>\n",
              "</table>\n",
              "</div>"
            ],
            "text/plain": [
              "                                                                                                                                                                                                      comment  ...                                                   predictions\n",
              "780   is there any function for m estimation in multivariate linear regression model in r i can estimate the beta s in my model by using the rlm by rewriting the y variables into one column but i would ...  ...                                               (r, regression)\n",
              "1905  i have one exam question anyone can answer and explain the reason for me you are studying the following y beta beta x x u you know that the two variables x and x are positively correlated to avoid...  ...                                      (regression, self study)\n",
              "1579  i m exploring some stack overflow data amongst other variables i have variables for the time questions were asked and the time they were answered i m interested in predicting how long a questioner...  ...                                               (r, regression)\n",
              "1643  in ecology we often use the logistic growth equation n t frac k n e rt k n e rt or n t frac k n n k n e rt where k is the carrying capacity maximum density reached n is the initial density r is th...  ...  (distributions, hypothesis testing, probability, self study)\n",
              "1928  if i have to build a time series prediction model and all i have is a sequence of timestamps of a user when he logs in to a site how do you model that here is the first few rows of the data i have...  ...                                              (r, time series)\n",
              "395   i am constructing a class classifier and using cross validation to tune certain parameters in my model the predictor variables are both continuous and one is ordinal based on looking at the respon...  ...                                     (logistic, r, regression)\n",
              "1594  i once heard that log transformation is the most popular one for right skewed distributions in linear regression or quantile regression i would like to know is there any reason underlying this sta...  ...                      (distributions, probability, self study)\n",
              "1582  i have an outcome which is truncated from both left and right sides i would like to know which regression method may account this kind of analysis here is an example set seed z rnorm y z z z trunc...  ...                                               (r, regression)\n",
              "2119  assume i have a time series x t that i want to fit using an arima model of the form delta x t alpha delta x t w t this could be rewritten as x t x t alpha x t x t w t x t alpha x t alpha x t w t t...  ...                                              (r, time series)\n",
              "1344  i am using both r and sas for the time series modeling there is an option in sas that i could not find so far in any packages developed in r for the time series modeling such as tsa or forecast pa...  ...                                              (r, time series)\n",
              "\n",
              "[10 rows x 3 columns]"
            ]
          },
          "metadata": {
            "tags": []
          },
          "execution_count": 123
        }
      ]
    },
    {
      "cell_type": "markdown",
      "metadata": {
        "id": "jwiPh5OTordQ",
        "colab_type": "text"
      },
      "source": [
        "# Using GRU"
      ]
    },
    {
      "cell_type": "code",
      "metadata": {
        "id": "Y8pd_hz3otEV",
        "colab_type": "code",
        "colab": {}
      },
      "source": [
        "k.clear_session()\n",
        "\n",
        "# sequential model\n",
        "model = Sequential()\n",
        "\n",
        "# embedding layer\n",
        "model.add(Embedding(x_voc_size, 50, input_length=max_len, mask_zero=True))\n",
        "\n",
        "#lstm \n",
        "model.add(GRU(128))\n",
        "\n",
        "# dense layer\n",
        "model.add(Dense(128, activation='relu'))\n",
        "\n",
        "#output layer\n",
        "model.add(Dense(10,activation='sigmoid'))"
      ],
      "execution_count": 124,
      "outputs": []
    },
    {
      "cell_type": "code",
      "metadata": {
        "id": "rr6-Ylg2pIXC",
        "colab_type": "code",
        "colab": {
          "base_uri": "https://localhost:8080/",
          "height": 768
        },
        "outputId": "cfde5ce6-8246-4380-ec02-c5dadb8a28f6"
      },
      "source": [
        "#define optimizer and loss\n",
        "model.compile(optimizer='adam',loss='binary_crossentropy')\n",
        "\n",
        "#checkpoint to save best model during training\n",
        "mc = ModelCheckpoint(\"weights.best.hdf5\", monitor='val_loss', verbose=1, save_best_only=True, mode='min')\n",
        "\n",
        "#train the model\n",
        "history = model.fit(x_train_seq, y_train, batch_size=128, epochs=10, verbose=1, validation_data=(x_valid_seq,y_valid),callbacks=[mc])"
      ],
      "execution_count": 125,
      "outputs": [
        {
          "output_type": "stream",
          "text": [
            "/usr/local/lib/python3.6/dist-packages/tensorflow/python/framework/indexed_slices.py:434: UserWarning: Converting sparse IndexedSlices to a dense Tensor of unknown shape. This may consume a large amount of memory.\n",
            "  \"Converting sparse IndexedSlices to a dense Tensor of unknown shape. \"\n"
          ],
          "name": "stderr"
        },
        {
          "output_type": "stream",
          "text": [
            "Train on 8884 samples, validate on 2222 samples\n",
            "Epoch 1/10\n",
            "8884/8884 [==============================] - 31s 4ms/step - loss: 0.5271 - val_loss: 0.4800\n",
            "\n",
            "Epoch 00001: val_loss improved from inf to 0.48004, saving model to weights.best.hdf5\n",
            "Epoch 2/10\n",
            "8884/8884 [==============================] - 30s 3ms/step - loss: 0.4744 - val_loss: 0.4717\n",
            "\n",
            "Epoch 00002: val_loss improved from 0.48004 to 0.47172, saving model to weights.best.hdf5\n",
            "Epoch 3/10\n",
            "8884/8884 [==============================] - 30s 3ms/step - loss: 0.4400 - val_loss: 0.4294\n",
            "\n",
            "Epoch 00003: val_loss improved from 0.47172 to 0.42937, saving model to weights.best.hdf5\n",
            "Epoch 4/10\n",
            "8884/8884 [==============================] - 30s 3ms/step - loss: 0.3970 - val_loss: 0.4079\n",
            "\n",
            "Epoch 00004: val_loss improved from 0.42937 to 0.40792, saving model to weights.best.hdf5\n",
            "Epoch 5/10\n",
            "8884/8884 [==============================] - 30s 3ms/step - loss: 0.3729 - val_loss: 0.4013\n",
            "\n",
            "Epoch 00005: val_loss improved from 0.40792 to 0.40129, saving model to weights.best.hdf5\n",
            "Epoch 6/10\n",
            "8884/8884 [==============================] - 30s 3ms/step - loss: 0.3409 - val_loss: 0.3707\n",
            "\n",
            "Epoch 00006: val_loss improved from 0.40129 to 0.37073, saving model to weights.best.hdf5\n",
            "Epoch 7/10\n",
            "8884/8884 [==============================] - 30s 3ms/step - loss: 0.2978 - val_loss: 0.3566\n",
            "\n",
            "Epoch 00007: val_loss improved from 0.37073 to 0.35664, saving model to weights.best.hdf5\n",
            "Epoch 8/10\n",
            "8884/8884 [==============================] - 30s 3ms/step - loss: 0.2631 - val_loss: 0.3596\n",
            "\n",
            "Epoch 00008: val_loss did not improve from 0.35664\n",
            "Epoch 9/10\n",
            "8884/8884 [==============================] - 30s 3ms/step - loss: 0.2370 - val_loss: 0.3607\n",
            "\n",
            "Epoch 00009: val_loss did not improve from 0.35664\n",
            "Epoch 10/10\n",
            "8884/8884 [==============================] - 31s 4ms/step - loss: 0.2117 - val_loss: 0.3749\n",
            "\n",
            "Epoch 00010: val_loss did not improve from 0.35664\n"
          ],
          "name": "stdout"
        }
      ]
    },
    {
      "cell_type": "code",
      "metadata": {
        "id": "4473Ac9jpRue",
        "colab_type": "code",
        "colab": {}
      },
      "source": [
        "# load weights into new model\n",
        "model.load_weights(\"weights.best.hdf5\")\n",
        "\n",
        "#predict probabilities\n",
        "pred_prob = model.predict(x_valid_seq)"
      ],
      "execution_count": 127,
      "outputs": []
    },
    {
      "cell_type": "code",
      "metadata": {
        "id": "Q6_xLLzxpW7B",
        "colab_type": "code",
        "colab": {}
      },
      "source": [
        "score=[]\n",
        "\n",
        "#convert to 1 array\n",
        "y_true = np.array(y_valid).ravel() \n",
        "\n",
        "for thresh in threshold:\n",
        "    \n",
        "    #classes for each threshold\n",
        "    y_pred_seq = classify(pred_prob,thresh) \n",
        "\n",
        "    #convert to 1d array\n",
        "    y_pred = np.array(y_pred_seq).ravel()\n",
        "\n",
        "    score.append(metrics.f1_score(y_true,y_pred))"
      ],
      "execution_count": 128,
      "outputs": []
    },
    {
      "cell_type": "code",
      "metadata": {
        "id": "kUKIoPPPpaB6",
        "colab_type": "code",
        "colab": {}
      },
      "source": [
        "#predictions for optimal threshold\n",
        "y_pred_seq = classify(pred_prob,opt)\n",
        "y_pred = np.array(y_pred_seq).ravel()"
      ],
      "execution_count": 129,
      "outputs": []
    },
    {
      "cell_type": "code",
      "metadata": {
        "id": "2rZo4EAascEy",
        "colab_type": "code",
        "colab": {
          "base_uri": "https://localhost:8080/",
          "height": 170
        },
        "outputId": "f222d059-a678-4a75-88ae-73dcf17c18f2"
      },
      "source": [
        "print(metrics.classification_report(y_true,y_pred))"
      ],
      "execution_count": 130,
      "outputs": [
        {
          "output_type": "stream",
          "text": [
            "              precision    recall  f1-score   support\n",
            "\n",
            "           0       0.91      0.86      0.88     17520\n",
            "           1       0.56      0.69      0.62      4700\n",
            "\n",
            "    accuracy                           0.82     22220\n",
            "   macro avg       0.74      0.78      0.75     22220\n",
            "weighted avg       0.84      0.82      0.83     22220\n",
            "\n"
          ],
          "name": "stdout"
        }
      ]
    },
    {
      "cell_type": "code",
      "metadata": {
        "id": "jnkeL_F9peQC",
        "colab_type": "code",
        "colab": {
          "base_uri": "https://localhost:8080/",
          "height": 699
        },
        "outputId": "94082072-59e8-44d3-bcf6-b25cfa7c3cd9"
      },
      "source": [
        "y_pred = mlb.inverse_transform(np.array(y_pred_seq))\n",
        "y_true = mlb.inverse_transform(np.array(y_valid))\n",
        "\n",
        "df = pd.DataFrame({'comment':x_valid,'actual':y_true,'predictions':y_pred})\n",
        "df.sample(10)"
      ],
      "execution_count": 131,
      "outputs": [
        {
          "output_type": "execute_result",
          "data": {
            "text/html": [
              "<div>\n",
              "<style scoped>\n",
              "    .dataframe tbody tr th:only-of-type {\n",
              "        vertical-align: middle;\n",
              "    }\n",
              "\n",
              "    .dataframe tbody tr th {\n",
              "        vertical-align: top;\n",
              "    }\n",
              "\n",
              "    .dataframe thead th {\n",
              "        text-align: right;\n",
              "    }\n",
              "</style>\n",
              "<table border=\"1\" class=\"dataframe\">\n",
              "  <thead>\n",
              "    <tr style=\"text-align: right;\">\n",
              "      <th></th>\n",
              "      <th>comment</th>\n",
              "      <th>actual</th>\n",
              "      <th>predictions</th>\n",
              "    </tr>\n",
              "  </thead>\n",
              "  <tbody>\n",
              "    <tr>\n",
              "      <th>313</th>\n",
              "      <td>when using the step plr function in the stepplr package if my predictors are factors do i need to encode my predictors as dummy variables manually before passing it to the function i do know that ...</td>\n",
              "      <td>(logistic, r, regression)</td>\n",
              "      <td>(r, regression)</td>\n",
              "    </tr>\n",
              "    <tr>\n",
              "      <th>2182</th>\n",
              "      <td>i m diving into arima models and was trying to repreduce the results of auto regression here is a reproducable example set seed z arima sim n list ar c when running ar without an intercept ceof ar...</td>\n",
              "      <td>(r, time series)</td>\n",
              "      <td>(r, regression, time series)</td>\n",
              "    </tr>\n",
              "    <tr>\n",
              "      <th>239</th>\n",
              "      <td>my binary logistic regression analysis method enter model has all beta values are statistically non significant should i include these predictors in the final binary logistic regression equation</td>\n",
              "      <td>(logistic, regression)</td>\n",
              "      <td>(logistic, r, regression)</td>\n",
              "    </tr>\n",
              "    <tr>\n",
              "      <th>1998</th>\n",
              "      <td>my rudimentary workings so far is that log y i x i log y i log x i factorise so log y i x i log y i upsilon i log gamma i thus elasticity of y to x is always however i m not sure if i m correct wh...</td>\n",
              "      <td>(regression, self study)</td>\n",
              "      <td>(hypothesis testing, machine learning, regression, self study)</td>\n",
              "    </tr>\n",
              "    <tr>\n",
              "      <th>60</th>\n",
              "      <td>i recently had a quiz where i had to find out whether two variables were dependent or independent i know that given f x y if h x g y f x y then they are independent else dependent i am confused ab...</td>\n",
              "      <td>(probability, self study)</td>\n",
              "      <td>(distributions, probability, self study)</td>\n",
              "    </tr>\n",
              "    <tr>\n",
              "      <th>1882</th>\n",
              "      <td>suppose there is a vector v that contains the body height of every person over years old on earth it looks something like this and is normally distributed also suppose there is simple function f t...</td>\n",
              "      <td>(distributions, hypothesis testing)</td>\n",
              "      <td>(distributions, probability)</td>\n",
              "    </tr>\n",
              "    <tr>\n",
              "      <th>529</th>\n",
              "      <td>i m looking to create a model that takes into account multiple logistic variables in an ordered process to illustrate what i m trying to do is similar to the following profit option profit option ...</td>\n",
              "      <td>(logistic, regression)</td>\n",
              "      <td>(regression,)</td>\n",
              "    </tr>\n",
              "    <tr>\n",
              "      <th>561</th>\n",
              "      <td>i was studying on this subject and i got some questions lets take the test h theta in theta space vs space h theta in theta c where theta is the parametric space and lambda x frac sup theta l thet...</td>\n",
              "      <td>(hypothesis testing, self study)</td>\n",
              "      <td>(distributions, probability, self study)</td>\n",
              "    </tr>\n",
              "    <tr>\n",
              "      <th>1873</th>\n",
              "      <td>in a supervised learning problem i have a training dataset d comprised of samples x and their corresponding labels omega from this data i attempt to learn the true distributions p x omega with som...</td>\n",
              "      <td>(classification, machine learning)</td>\n",
              "      <td>(classification, machine learning)</td>\n",
              "    </tr>\n",
              "    <tr>\n",
              "      <th>1290</th>\n",
              "      <td>good day i believe this issue is more of a lack of understand of r as i have never used it till recently than anything else what i am looking for is references or documents to help me solve my pro...</td>\n",
              "      <td>(hypothesis testing, machine learning, r)</td>\n",
              "      <td>(r, regression)</td>\n",
              "    </tr>\n",
              "  </tbody>\n",
              "</table>\n",
              "</div>"
            ],
            "text/plain": [
              "                                                                                                                                                                                                      comment  ...                                                     predictions\n",
              "313   when using the step plr function in the stepplr package if my predictors are factors do i need to encode my predictors as dummy variables manually before passing it to the function i do know that ...  ...                                                 (r, regression)\n",
              "2182  i m diving into arima models and was trying to repreduce the results of auto regression here is a reproducable example set seed z arima sim n list ar c when running ar without an intercept ceof ar...  ...                                    (r, regression, time series)\n",
              "239        my binary logistic regression analysis method enter model has all beta values are statistically non significant should i include these predictors in the final binary logistic regression equation  ...                                       (logistic, r, regression)\n",
              "1998  my rudimentary workings so far is that log y i x i log y i log x i factorise so log y i x i log y i upsilon i log gamma i thus elasticity of y to x is always however i m not sure if i m correct wh...  ...  (hypothesis testing, machine learning, regression, self study)\n",
              "60    i recently had a quiz where i had to find out whether two variables were dependent or independent i know that given f x y if h x g y f x y then they are independent else dependent i am confused ab...  ...                        (distributions, probability, self study)\n",
              "1882  suppose there is a vector v that contains the body height of every person over years old on earth it looks something like this and is normally distributed also suppose there is simple function f t...  ...                                    (distributions, probability)\n",
              "529   i m looking to create a model that takes into account multiple logistic variables in an ordered process to illustrate what i m trying to do is similar to the following profit option profit option ...  ...                                                   (regression,)\n",
              "561   i was studying on this subject and i got some questions lets take the test h theta in theta space vs space h theta in theta c where theta is the parametric space and lambda x frac sup theta l thet...  ...                        (distributions, probability, self study)\n",
              "1873  in a supervised learning problem i have a training dataset d comprised of samples x and their corresponding labels omega from this data i attempt to learn the true distributions p x omega with som...  ...                              (classification, machine learning)\n",
              "1290  good day i believe this issue is more of a lack of understand of r as i have never used it till recently than anything else what i am looking for is references or documents to help me solve my pro...  ...                                                 (r, regression)\n",
              "\n",
              "[10 rows x 3 columns]"
            ]
          },
          "metadata": {
            "tags": []
          },
          "execution_count": 131
        }
      ]
    },
    {
      "cell_type": "markdown",
      "metadata": {
        "id": "HlvOpCuys-X6",
        "colab_type": "text"
      },
      "source": [
        "# USing CNN"
      ]
    },
    {
      "cell_type": "code",
      "metadata": {
        "id": "H2JHv0VbtA8Z",
        "colab_type": "code",
        "colab": {
          "base_uri": "https://localhost:8080/",
          "height": 357
        },
        "outputId": "2e9814db-411a-4de8-8f45-8f96487bc402"
      },
      "source": [
        "# define model architecture\n",
        "K.clear_session()\n",
        "model =  Sequential()\n",
        "model.add(Embedding(x_voc_size, 50, trainable=True, input_shape=(max_len,)))  #embedding layer\n",
        "  \n",
        "model.add(Conv1D(64,3,padding='same'))  #conv1d layer\n",
        "model.add(Dropout(0.1))\n",
        "\n",
        "model.add(GlobalMaxPooling1D()) \n",
        "  \n",
        "model.add(Dense(128,activation='relu'))  #dense layer\n",
        "\n",
        "model.add(Dense(10,activation='sigmoid')) #output layer\n",
        "\n",
        "#summary) of model\n",
        "model.summary() "
      ],
      "execution_count": 132,
      "outputs": [
        {
          "output_type": "stream",
          "text": [
            "Model: \"sequential_1\"\n",
            "_________________________________________________________________\n",
            "Layer (type)                 Output Shape              Param #   \n",
            "=================================================================\n",
            "embedding_1 (Embedding)      (None, 100, 50)           628750    \n",
            "_________________________________________________________________\n",
            "conv1d_1 (Conv1D)            (None, 100, 64)           9664      \n",
            "_________________________________________________________________\n",
            "dropout_1 (Dropout)          (None, 100, 64)           0         \n",
            "_________________________________________________________________\n",
            "global_max_pooling1d_1 (Glob (None, 64)                0         \n",
            "_________________________________________________________________\n",
            "dense_1 (Dense)              (None, 128)               8320      \n",
            "_________________________________________________________________\n",
            "dense_2 (Dense)              (None, 10)                1290      \n",
            "=================================================================\n",
            "Total params: 648,024\n",
            "Trainable params: 648,024\n",
            "Non-trainable params: 0\n",
            "_________________________________________________________________\n"
          ],
          "name": "stdout"
        }
      ]
    },
    {
      "cell_type": "code",
      "metadata": {
        "id": "VnTBYL2RtGhf",
        "colab_type": "code",
        "colab": {}
      },
      "source": [
        "#define optimizer and loss\n",
        "model.compile(optimizer='adam',loss='binary_crossentropy')\n",
        "\n",
        "#checkpoint to save best model during training\n",
        "mc = ModelCheckpoint(\"weights.best.hdf5\", monitor='val_loss', verbose=1, save_best_only=True, mode='min')"
      ],
      "execution_count": 133,
      "outputs": []
    },
    {
      "cell_type": "code",
      "metadata": {
        "id": "bCVx6hUPtNak",
        "colab_type": "code",
        "colab": {
          "base_uri": "https://localhost:8080/",
          "height": 768
        },
        "outputId": "acf7dcd2-a741-419d-88c2-4b4bc1d6eb0c"
      },
      "source": [
        "history = model.fit(x_train_seq, y_train, batch_size=128, epochs=10, verbose=1, validation_data=(x_valid_seq,y_valid),callbacks=[mc])"
      ],
      "execution_count": 134,
      "outputs": [
        {
          "output_type": "stream",
          "text": [
            "/usr/local/lib/python3.6/dist-packages/tensorflow/python/framework/indexed_slices.py:434: UserWarning: Converting sparse IndexedSlices to a dense Tensor of unknown shape. This may consume a large amount of memory.\n",
            "  \"Converting sparse IndexedSlices to a dense Tensor of unknown shape. \"\n"
          ],
          "name": "stderr"
        },
        {
          "output_type": "stream",
          "text": [
            "Train on 8884 samples, validate on 2222 samples\n",
            "Epoch 1/10\n",
            "8884/8884 [==============================] - 4s 401us/step - loss: 0.5299 - val_loss: 0.4758\n",
            "\n",
            "Epoch 00001: val_loss improved from inf to 0.47575, saving model to weights.best.hdf5\n",
            "Epoch 2/10\n",
            "8884/8884 [==============================] - 3s 353us/step - loss: 0.4293 - val_loss: 0.3650\n",
            "\n",
            "Epoch 00002: val_loss improved from 0.47575 to 0.36504, saving model to weights.best.hdf5\n",
            "Epoch 3/10\n",
            "8884/8884 [==============================] - 3s 382us/step - loss: 0.3264 - val_loss: 0.2997\n",
            "\n",
            "Epoch 00003: val_loss improved from 0.36504 to 0.29967, saving model to weights.best.hdf5\n",
            "Epoch 4/10\n",
            "8884/8884 [==============================] - 3s 375us/step - loss: 0.2772 - val_loss: 0.2774\n",
            "\n",
            "Epoch 00004: val_loss improved from 0.29967 to 0.27736, saving model to weights.best.hdf5\n",
            "Epoch 5/10\n",
            "8884/8884 [==============================] - 4s 396us/step - loss: 0.2499 - val_loss: 0.2715\n",
            "\n",
            "Epoch 00005: val_loss improved from 0.27736 to 0.27152, saving model to weights.best.hdf5\n",
            "Epoch 6/10\n",
            "8884/8884 [==============================] - 3s 367us/step - loss: 0.2279 - val_loss: 0.2666\n",
            "\n",
            "Epoch 00006: val_loss improved from 0.27152 to 0.26657, saving model to weights.best.hdf5\n",
            "Epoch 7/10\n",
            "8884/8884 [==============================] - 3s 375us/step - loss: 0.2067 - val_loss: 0.2665\n",
            "\n",
            "Epoch 00007: val_loss improved from 0.26657 to 0.26647, saving model to weights.best.hdf5\n",
            "Epoch 8/10\n",
            "8884/8884 [==============================] - 3s 390us/step - loss: 0.1848 - val_loss: 0.2677\n",
            "\n",
            "Epoch 00008: val_loss did not improve from 0.26647\n",
            "Epoch 9/10\n",
            "8884/8884 [==============================] - 3s 390us/step - loss: 0.1643 - val_loss: 0.2714\n",
            "\n",
            "Epoch 00009: val_loss did not improve from 0.26647\n",
            "Epoch 10/10\n",
            "8884/8884 [==============================] - 3s 381us/step - loss: 0.1441 - val_loss: 0.2775\n",
            "\n",
            "Epoch 00010: val_loss did not improve from 0.26647\n"
          ],
          "name": "stdout"
        }
      ]
    },
    {
      "cell_type": "code",
      "metadata": {
        "id": "BMIEUgNTtTLI",
        "colab_type": "code",
        "colab": {}
      },
      "source": [
        "# load weights into new model\n",
        "model.load_weights(\"weights.best.hdf5\")\n",
        "\n",
        "#predict probabilities\n",
        "pred_prob = model.predict(x_valid_seq)"
      ],
      "execution_count": 135,
      "outputs": []
    },
    {
      "cell_type": "code",
      "metadata": {
        "id": "tdEqGmUztgEW",
        "colab_type": "code",
        "colab": {}
      },
      "source": [
        "score=[]\n",
        "\n",
        "#convert to 1 array\n",
        "y_true = np.array(y_valid).ravel() \n",
        "\n",
        "for thresh in threshold:\n",
        "    \n",
        "    #classes for each threshold\n",
        "    y_pred_seq = classify(pred_prob,thresh) \n",
        "\n",
        "    #convert to 1d array\n",
        "    y_pred = np.array(y_pred_seq).ravel()\n",
        "\n",
        "    score.append(metrics.f1_score(y_true,y_pred))"
      ],
      "execution_count": 136,
      "outputs": []
    },
    {
      "cell_type": "code",
      "metadata": {
        "id": "BT4satLwthC-",
        "colab_type": "code",
        "colab": {}
      },
      "source": [
        "#predictions for optimal threshold\n",
        "y_pred_seq = classify(pred_prob,opt)\n",
        "y_pred = np.array(y_pred_seq).ravel()"
      ],
      "execution_count": 137,
      "outputs": []
    },
    {
      "cell_type": "code",
      "metadata": {
        "id": "ciMUvIx6tlKY",
        "colab_type": "code",
        "colab": {
          "base_uri": "https://localhost:8080/",
          "height": 170
        },
        "outputId": "d68410f5-75dc-437b-bc9c-5d4074659801"
      },
      "source": [
        "print(metrics.classification_report(y_true,y_pred))"
      ],
      "execution_count": 138,
      "outputs": [
        {
          "output_type": "stream",
          "text": [
            "              precision    recall  f1-score   support\n",
            "\n",
            "           0       0.94      0.90      0.92     17520\n",
            "           1       0.69      0.79      0.74      4700\n",
            "\n",
            "    accuracy                           0.88     22220\n",
            "   macro avg       0.82      0.85      0.83     22220\n",
            "weighted avg       0.89      0.88      0.88     22220\n",
            "\n"
          ],
          "name": "stdout"
        }
      ]
    },
    {
      "cell_type": "code",
      "metadata": {
        "id": "HVseHHqHtobq",
        "colab_type": "code",
        "colab": {
          "base_uri": "https://localhost:8080/",
          "height": 580
        },
        "outputId": "5851502d-6ce3-4903-e500-4892307e24c6"
      },
      "source": [
        "y_pred = mlb.inverse_transform(np.array(y_pred_seq))\n",
        "y_true = mlb.inverse_transform(np.array(y_valid))\n",
        "\n",
        "df = pd.DataFrame({'comment':x_valid,'actual':y_true,'predictions':y_pred})\n",
        "df.sample(10)"
      ],
      "execution_count": 139,
      "outputs": [
        {
          "output_type": "execute_result",
          "data": {
            "text/html": [
              "<div>\n",
              "<style scoped>\n",
              "    .dataframe tbody tr th:only-of-type {\n",
              "        vertical-align: middle;\n",
              "    }\n",
              "\n",
              "    .dataframe tbody tr th {\n",
              "        vertical-align: top;\n",
              "    }\n",
              "\n",
              "    .dataframe thead th {\n",
              "        text-align: right;\n",
              "    }\n",
              "</style>\n",
              "<table border=\"1\" class=\"dataframe\">\n",
              "  <thead>\n",
              "    <tr style=\"text-align: right;\">\n",
              "      <th></th>\n",
              "      <th>comment</th>\n",
              "      <th>actual</th>\n",
              "      <th>predictions</th>\n",
              "    </tr>\n",
              "  </thead>\n",
              "  <tbody>\n",
              "    <tr>\n",
              "      <th>1850</th>\n",
              "      <td>i am looking for the equation for the se fit values when using logistic regression in r i have seen this answer how are the standard errors computed for the fitted values from a logistic regressio...</td>\n",
              "      <td>(r, regression)</td>\n",
              "      <td>(logistic, r, regression)</td>\n",
              "    </tr>\n",
              "    <tr>\n",
              "      <th>1808</th>\n",
              "      <td>imagine i have the following data set a b how can i test if a and b have the same trend is the jonckheere s trend test really the test i am looking for i have found this documentation but how woul...</td>\n",
              "      <td>(hypothesis testing, r)</td>\n",
              "      <td>(hypothesis testing, r, time series)</td>\n",
              "    </tr>\n",
              "    <tr>\n",
              "      <th>223</th>\n",
              "      <td>i am having trouble interpreting the z values for categorical variables in logistic regression in the example below i have a categorical variable with classes and according to the z value class mi...</td>\n",
              "      <td>(logistic, r)</td>\n",
              "      <td>(logistic, regression)</td>\n",
              "    </tr>\n",
              "    <tr>\n",
              "      <th>626</th>\n",
              "      <td>i an trying to perform a multivariate linear regression in r i have two dependent variables outcomes and one independent variable predictor the model would be something like y y x i did not find a...</td>\n",
              "      <td>(r, regression)</td>\n",
              "      <td>(r, regression)</td>\n",
              "    </tr>\n",
              "    <tr>\n",
              "      <th>1343</th>\n",
              "      <td>i am writing a program to predict the click through rates of online ads two important notes about this problem click through rates are very small like click through rates depend on several paramet...</td>\n",
              "      <td>(logistic, machine learning)</td>\n",
              "      <td>(classification, machine learning)</td>\n",
              "    </tr>\n",
              "    <tr>\n",
              "      <th>546</th>\n",
              "      <td>i conducted an experiment with three treatments a b control measuring for each subject a response variable that varies between and a continuous proportion the resulting distributions of the respon...</td>\n",
              "      <td>(distributions, hypothesis testing)</td>\n",
              "      <td>(distributions, hypothesis testing, r)</td>\n",
              "    </tr>\n",
              "    <tr>\n",
              "      <th>735</th>\n",
              "      <td>i ve done a cross correlation but i m not sure if what i m doing is correct here are the command lines i ve used so far this one is for the first time series it represents the numbers of subscript...</td>\n",
              "      <td>(r, time series)</td>\n",
              "      <td>(r, time series)</td>\n",
              "    </tr>\n",
              "    <tr>\n",
              "      <th>833</th>\n",
              "      <td>how to prove that distribution function of kolmogorov distribution is a distribution function in particular that it is in infinity and is increasing function f x begin cases sum limits k infty inf...</td>\n",
              "      <td>(distributions, probability)</td>\n",
              "      <td>(distributions, probability)</td>\n",
              "    </tr>\n",
              "    <tr>\n",
              "      <th>32</th>\n",
              "      <td>i would like to monitor customer satisfaction over time and would ideally like to use nps for that specifically i would like to see if there s an overall trend over time could i regress net promot...</td>\n",
              "      <td>(regression, time series)</td>\n",
              "      <td>(hypothesis testing, r)</td>\n",
              "    </tr>\n",
              "    <tr>\n",
              "      <th>1371</th>\n",
              "      <td>i am a non student working through the first edition of yates and goodman s text probability and stochastic processes on page question goes like this suppose you arrive at a bus stop at time and t...</td>\n",
              "      <td>(distributions, self study)</td>\n",
              "      <td>(distributions, probability)</td>\n",
              "    </tr>\n",
              "  </tbody>\n",
              "</table>\n",
              "</div>"
            ],
            "text/plain": [
              "                                                                                                                                                                                                      comment  ...                             predictions\n",
              "1850  i am looking for the equation for the se fit values when using logistic regression in r i have seen this answer how are the standard errors computed for the fitted values from a logistic regressio...  ...               (logistic, r, regression)\n",
              "1808  imagine i have the following data set a b how can i test if a and b have the same trend is the jonckheere s trend test really the test i am looking for i have found this documentation but how woul...  ...    (hypothesis testing, r, time series)\n",
              "223   i am having trouble interpreting the z values for categorical variables in logistic regression in the example below i have a categorical variable with classes and according to the z value class mi...  ...                  (logistic, regression)\n",
              "626   i an trying to perform a multivariate linear regression in r i have two dependent variables outcomes and one independent variable predictor the model would be something like y y x i did not find a...  ...                         (r, regression)\n",
              "1343  i am writing a program to predict the click through rates of online ads two important notes about this problem click through rates are very small like click through rates depend on several paramet...  ...      (classification, machine learning)\n",
              "546   i conducted an experiment with three treatments a b control measuring for each subject a response variable that varies between and a continuous proportion the resulting distributions of the respon...  ...  (distributions, hypothesis testing, r)\n",
              "735   i ve done a cross correlation but i m not sure if what i m doing is correct here are the command lines i ve used so far this one is for the first time series it represents the numbers of subscript...  ...                        (r, time series)\n",
              "833   how to prove that distribution function of kolmogorov distribution is a distribution function in particular that it is in infinity and is increasing function f x begin cases sum limits k infty inf...  ...            (distributions, probability)\n",
              "32    i would like to monitor customer satisfaction over time and would ideally like to use nps for that specifically i would like to see if there s an overall trend over time could i regress net promot...  ...                 (hypothesis testing, r)\n",
              "1371  i am a non student working through the first edition of yates and goodman s text probability and stochastic processes on page question goes like this suppose you arrive at a bus stop at time and t...  ...            (distributions, probability)\n",
              "\n",
              "[10 rows x 3 columns]"
            ]
          },
          "metadata": {
            "tags": []
          },
          "execution_count": 139
        }
      ]
    },
    {
      "cell_type": "code",
      "metadata": {
        "id": "h-xv6Dqftw0K",
        "colab_type": "code",
        "colab": {}
      },
      "source": [
        ""
      ],
      "execution_count": null,
      "outputs": []
    }
  ]
}